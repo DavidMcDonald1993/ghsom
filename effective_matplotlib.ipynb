{
 "cells": [
  {
   "cell_type": "code",
   "execution_count": 56,
   "metadata": {
    "collapsed": false
   },
   "outputs": [
    {
     "data": {
      "text/html": [
       "<div>\n",
       "<table border=\"1\" class=\"dataframe\">\n",
       "  <thead>\n",
       "    <tr style=\"text-align: right;\">\n",
       "      <th></th>\n",
       "      <th>account number</th>\n",
       "      <th>name</th>\n",
       "      <th>sku</th>\n",
       "      <th>quantity</th>\n",
       "      <th>unit price</th>\n",
       "      <th>ext price</th>\n",
       "      <th>date</th>\n",
       "    </tr>\n",
       "  </thead>\n",
       "  <tbody>\n",
       "    <tr>\n",
       "      <th>0</th>\n",
       "      <td>740150</td>\n",
       "      <td>Barton LLC</td>\n",
       "      <td>B1-20000</td>\n",
       "      <td>39</td>\n",
       "      <td>86.69</td>\n",
       "      <td>3380.91</td>\n",
       "      <td>2014-01-01 07:21:51</td>\n",
       "    </tr>\n",
       "    <tr>\n",
       "      <th>1</th>\n",
       "      <td>714466</td>\n",
       "      <td>Trantow-Barrows</td>\n",
       "      <td>S2-77896</td>\n",
       "      <td>-1</td>\n",
       "      <td>63.16</td>\n",
       "      <td>-63.16</td>\n",
       "      <td>2014-01-01 10:00:47</td>\n",
       "    </tr>\n",
       "    <tr>\n",
       "      <th>2</th>\n",
       "      <td>218895</td>\n",
       "      <td>Kulas Inc</td>\n",
       "      <td>B1-69924</td>\n",
       "      <td>23</td>\n",
       "      <td>90.70</td>\n",
       "      <td>2086.10</td>\n",
       "      <td>2014-01-01 13:24:58</td>\n",
       "    </tr>\n",
       "    <tr>\n",
       "      <th>3</th>\n",
       "      <td>307599</td>\n",
       "      <td>Kassulke, Ondricka and Metz</td>\n",
       "      <td>S1-65481</td>\n",
       "      <td>41</td>\n",
       "      <td>21.05</td>\n",
       "      <td>863.05</td>\n",
       "      <td>2014-01-01 15:05:22</td>\n",
       "    </tr>\n",
       "    <tr>\n",
       "      <th>4</th>\n",
       "      <td>412290</td>\n",
       "      <td>Jerde-Hilpert</td>\n",
       "      <td>S2-34077</td>\n",
       "      <td>6</td>\n",
       "      <td>83.21</td>\n",
       "      <td>499.26</td>\n",
       "      <td>2014-01-01 23:26:55</td>\n",
       "    </tr>\n",
       "    <tr>\n",
       "      <th>5</th>\n",
       "      <td>714466</td>\n",
       "      <td>Trantow-Barrows</td>\n",
       "      <td>S2-77896</td>\n",
       "      <td>17</td>\n",
       "      <td>87.63</td>\n",
       "      <td>1489.71</td>\n",
       "      <td>2014-01-02 10:07:15</td>\n",
       "    </tr>\n",
       "    <tr>\n",
       "      <th>6</th>\n",
       "      <td>218895</td>\n",
       "      <td>Kulas Inc</td>\n",
       "      <td>B1-65551</td>\n",
       "      <td>2</td>\n",
       "      <td>31.10</td>\n",
       "      <td>62.20</td>\n",
       "      <td>2014-01-02 10:57:23</td>\n",
       "    </tr>\n",
       "    <tr>\n",
       "      <th>7</th>\n",
       "      <td>729833</td>\n",
       "      <td>Koepp Ltd</td>\n",
       "      <td>S1-30248</td>\n",
       "      <td>8</td>\n",
       "      <td>33.25</td>\n",
       "      <td>266.00</td>\n",
       "      <td>2014-01-03 06:32:11</td>\n",
       "    </tr>\n",
       "    <tr>\n",
       "      <th>8</th>\n",
       "      <td>714466</td>\n",
       "      <td>Trantow-Barrows</td>\n",
       "      <td>S1-50961</td>\n",
       "      <td>22</td>\n",
       "      <td>84.09</td>\n",
       "      <td>1849.98</td>\n",
       "      <td>2014-01-03 11:29:02</td>\n",
       "    </tr>\n",
       "    <tr>\n",
       "      <th>9</th>\n",
       "      <td>737550</td>\n",
       "      <td>Fritsch, Russel and Anderson</td>\n",
       "      <td>S2-82423</td>\n",
       "      <td>14</td>\n",
       "      <td>81.92</td>\n",
       "      <td>1146.88</td>\n",
       "      <td>2014-01-03 19:07:37</td>\n",
       "    </tr>\n",
       "  </tbody>\n",
       "</table>\n",
       "</div>"
      ],
      "text/plain": [
       "   account number                          name       sku  quantity  \\\n",
       "0          740150                    Barton LLC  B1-20000        39   \n",
       "1          714466               Trantow-Barrows  S2-77896        -1   \n",
       "2          218895                     Kulas Inc  B1-69924        23   \n",
       "3          307599   Kassulke, Ondricka and Metz  S1-65481        41   \n",
       "4          412290                 Jerde-Hilpert  S2-34077         6   \n",
       "5          714466               Trantow-Barrows  S2-77896        17   \n",
       "6          218895                     Kulas Inc  B1-65551         2   \n",
       "7          729833                     Koepp Ltd  S1-30248         8   \n",
       "8          714466               Trantow-Barrows  S1-50961        22   \n",
       "9          737550  Fritsch, Russel and Anderson  S2-82423        14   \n",
       "\n",
       "   unit price  ext price                 date  \n",
       "0       86.69    3380.91  2014-01-01 07:21:51  \n",
       "1       63.16     -63.16  2014-01-01 10:00:47  \n",
       "2       90.70    2086.10  2014-01-01 13:24:58  \n",
       "3       21.05     863.05  2014-01-01 15:05:22  \n",
       "4       83.21     499.26  2014-01-01 23:26:55  \n",
       "5       87.63    1489.71  2014-01-02 10:07:15  \n",
       "6       31.10      62.20  2014-01-02 10:57:23  \n",
       "7       33.25     266.00  2014-01-03 06:32:11  \n",
       "8       84.09    1849.98  2014-01-03 11:29:02  \n",
       "9       81.92    1146.88  2014-01-03 19:07:37  "
      ]
     },
     "execution_count": 56,
     "metadata": {},
     "output_type": "execute_result"
    }
   ],
   "source": [
    "%matplotlib inline\n",
    "\n",
    "import numpy as np\n",
    "import pandas as pd\n",
    "import matplotlib.pyplot as plt\n",
    "from matplotlib.ticker import FuncFormatter\n",
    "\n",
    "df = pd.read_excel(\"https://github.com/chris1610/pbpython/blob/master/data/sample-salesv3.xlsx?raw=true\")\n",
    "df.head(n=10)"
   ]
  },
  {
   "cell_type": "code",
   "execution_count": 57,
   "metadata": {
    "collapsed": true
   },
   "outputs": [],
   "source": [
    "top_10 = (df.groupby('name')['ext price', 'quantity'].agg({'ext price': 'sum', 'quantity': 'count'})\n",
    "          .sort_values(by='ext price', ascending=False))[:10].reset_index()\n",
    "top_10.rename(columns={'name': 'Name', 'ext price': 'Sales', 'quantity': 'Purchases'}, inplace=True)"
   ]
  },
  {
   "cell_type": "code",
   "execution_count": 58,
   "metadata": {
    "collapsed": false
   },
   "outputs": [
    {
     "data": {
      "text/html": [
       "<div>\n",
       "<table border=\"1\" class=\"dataframe\">\n",
       "  <thead>\n",
       "    <tr style=\"text-align: right;\">\n",
       "      <th></th>\n",
       "      <th>Name</th>\n",
       "      <th>Sales</th>\n",
       "      <th>Purchases</th>\n",
       "    </tr>\n",
       "  </thead>\n",
       "  <tbody>\n",
       "    <tr>\n",
       "      <th>0</th>\n",
       "      <td>Kulas Inc</td>\n",
       "      <td>137351.96</td>\n",
       "      <td>94</td>\n",
       "    </tr>\n",
       "    <tr>\n",
       "      <th>1</th>\n",
       "      <td>White-Trantow</td>\n",
       "      <td>135841.99</td>\n",
       "      <td>86</td>\n",
       "    </tr>\n",
       "    <tr>\n",
       "      <th>2</th>\n",
       "      <td>Trantow-Barrows</td>\n",
       "      <td>123381.38</td>\n",
       "      <td>94</td>\n",
       "    </tr>\n",
       "    <tr>\n",
       "      <th>3</th>\n",
       "      <td>Jerde-Hilpert</td>\n",
       "      <td>112591.43</td>\n",
       "      <td>89</td>\n",
       "    </tr>\n",
       "    <tr>\n",
       "      <th>4</th>\n",
       "      <td>Fritsch, Russel and Anderson</td>\n",
       "      <td>112214.71</td>\n",
       "      <td>81</td>\n",
       "    </tr>\n",
       "    <tr>\n",
       "      <th>5</th>\n",
       "      <td>Barton LLC</td>\n",
       "      <td>109438.50</td>\n",
       "      <td>82</td>\n",
       "    </tr>\n",
       "    <tr>\n",
       "      <th>6</th>\n",
       "      <td>Will LLC</td>\n",
       "      <td>104437.60</td>\n",
       "      <td>74</td>\n",
       "    </tr>\n",
       "    <tr>\n",
       "      <th>7</th>\n",
       "      <td>Koepp Ltd</td>\n",
       "      <td>103660.54</td>\n",
       "      <td>82</td>\n",
       "    </tr>\n",
       "    <tr>\n",
       "      <th>8</th>\n",
       "      <td>Frami, Hills and Schmidt</td>\n",
       "      <td>103569.59</td>\n",
       "      <td>72</td>\n",
       "    </tr>\n",
       "    <tr>\n",
       "      <th>9</th>\n",
       "      <td>Keeling LLC</td>\n",
       "      <td>100934.30</td>\n",
       "      <td>74</td>\n",
       "    </tr>\n",
       "  </tbody>\n",
       "</table>\n",
       "</div>"
      ],
      "text/plain": [
       "                           Name      Sales  Purchases\n",
       "0                     Kulas Inc  137351.96         94\n",
       "1                 White-Trantow  135841.99         86\n",
       "2               Trantow-Barrows  123381.38         94\n",
       "3                 Jerde-Hilpert  112591.43         89\n",
       "4  Fritsch, Russel and Anderson  112214.71         81\n",
       "5                    Barton LLC  109438.50         82\n",
       "6                      Will LLC  104437.60         74\n",
       "7                     Koepp Ltd  103660.54         82\n",
       "8      Frami, Hills and Schmidt  103569.59         72\n",
       "9                   Keeling LLC  100934.30         74"
      ]
     },
     "execution_count": 58,
     "metadata": {},
     "output_type": "execute_result"
    }
   ],
   "source": [
    "top_10"
   ]
  },
  {
   "cell_type": "code",
   "execution_count": 59,
   "metadata": {
    "collapsed": false
   },
   "outputs": [
    {
     "data": {
      "text/plain": [
       "[u'seaborn-darkgrid',\n",
       " u'seaborn-notebook',\n",
       " u'classic',\n",
       " u'seaborn-ticks',\n",
       " u'grayscale',\n",
       " u'bmh',\n",
       " u'seaborn-talk',\n",
       " u'dark_background',\n",
       " u'ggplot',\n",
       " u'fivethirtyeight',\n",
       " u'seaborn-bright',\n",
       " u'seaborn-colorblind',\n",
       " u'seaborn-deep',\n",
       " u'seaborn-whitegrid',\n",
       " u'seaborn',\n",
       " u'seaborn-poster',\n",
       " u'seaborn-muted',\n",
       " u'seaborn-paper',\n",
       " u'seaborn-white',\n",
       " u'seaborn-pastel',\n",
       " u'seaborn-dark',\n",
       " u'seaborn-dark-palette']"
      ]
     },
     "execution_count": 59,
     "metadata": {},
     "output_type": "execute_result"
    }
   ],
   "source": [
    "plt.style.available"
   ]
  },
  {
   "cell_type": "code",
   "execution_count": 73,
   "metadata": {
    "collapsed": true
   },
   "outputs": [],
   "source": [
    "plt.style.use(\"ggplot\")"
   ]
  },
  {
   "cell_type": "code",
   "execution_count": 74,
   "metadata": {
    "collapsed": true
   },
   "outputs": [],
   "source": [
    "def currency(x, pos):\n",
    "    'The two args are the value and tick position'\n",
    "    if x >= 1000000:\n",
    "        return '${:1.1f}M'.format(x*1e-6)\n",
    "    return '${:1.0f}K'.format(x*1e-3)"
   ]
  },
  {
   "cell_type": "code",
   "execution_count": 75,
   "metadata": {
    "collapsed": false
   },
   "outputs": [
    {
     "data": {
      "text/plain": [
       "<matplotlib.axes._subplots.AxesSubplot at 0x7f33e97b2c50>"
      ]
     },
     "execution_count": 75,
     "metadata": {},
     "output_type": "execute_result"
    },
    {
     "data": {
      "text/plain": [
       "(-10000, 140000)"
      ]
     },
     "execution_count": 75,
     "metadata": {},
     "output_type": "execute_result"
    },
    {
     "data": {
      "text/plain": [
       "[<matplotlib.text.Text at 0x7f33e93ad490>,\n",
       " <matplotlib.text.Text at 0x7f33e9d46450>,\n",
       " <matplotlib.text.Text at 0x7f33e9193750>]"
      ]
     },
     "execution_count": 75,
     "metadata": {},
     "output_type": "execute_result"
    },
    {
     "data": {
      "image/png": "[encoded data removed]",
      "text/plain": [
       "<matplotlib.figure.Figure at 0x7f33e9832d10>"
      ]
     },
     "metadata": {},
     "output_type": "display_data"
    }
   ],
   "source": [
    "fig, ax = plt.subplots(figsize=(5, 6))\n",
    "top_10.plot(kind='barh', y=\"Sales\", x=\"Name\", ax=ax)\n",
    "ax.set_xlim([-10000, 140000])\n",
    "ax.set(title=\"2014 Revenue\", xlabel=\"Total Revenue\", ylabel=\"Customer\")\n",
    "formatter = FuncFormatter(currency)\n",
    "ax.xaxis.set_major_formatter(formatter)\n",
    "ax.legend().set_visible(False)\n",
    "# plt.show()"
   ]
  },
  {
   "cell_type": "code",
   "execution_count": 76,
   "metadata": {
    "collapsed": false
   },
   "outputs": [
    {
     "data": {
      "text/plain": [
       "<matplotlib.axes._subplots.AxesSubplot at 0x7f33e9236710>"
      ]
     },
     "execution_count": 76,
     "metadata": {},
     "output_type": "execute_result"
    },
    {
     "data": {
      "text/plain": [
       "(-10000, 140000)"
      ]
     },
     "execution_count": 76,
     "metadata": {},
     "output_type": "execute_result"
    },
    {
     "data": {
      "text/plain": [
       "[<matplotlib.text.Text at 0x7f33e907ded0>,\n",
       " <matplotlib.text.Text at 0x7f33e9071510>,\n",
       " <matplotlib.text.Text at 0x7f33e9030090>]"
      ]
     },
     "execution_count": 76,
     "metadata": {},
     "output_type": "execute_result"
    },
    {
     "data": {
      "text/plain": [
       "<matplotlib.lines.Line2D at 0x7f33e901ced0>"
      ]
     },
     "execution_count": 76,
     "metadata": {},
     "output_type": "execute_result"
    },
    {
     "data": {
      "text/plain": [
       "<matplotlib.text.Text at 0x7f33e8fd8810>"
      ]
     },
     "execution_count": 76,
     "metadata": {},
     "output_type": "execute_result"
    },
    {
     "data": {
      "text/plain": [
       "<matplotlib.text.Text at 0x7f33e8fd8950>"
      ]
     },
     "execution_count": 76,
     "metadata": {},
     "output_type": "execute_result"
    },
    {
     "data": {
      "text/plain": [
       "<matplotlib.text.Text at 0x7f33e8fd8e10>"
      ]
     },
     "execution_count": 76,
     "metadata": {},
     "output_type": "execute_result"
    },
    {
     "data": {
      "image/png": "[encoded data removed]",
      "text/plain": [
       "<matplotlib.figure.Figure at 0x7f33e90d2c10>"
      ]
     },
     "metadata": {},
     "output_type": "display_data"
    }
   ],
   "source": [
    "# Create the figure and the axes\n",
    "fig, ax = plt.subplots()\n",
    "\n",
    "# Plot the data and get the averaged\n",
    "top_10.plot(kind='barh', y=\"Sales\", x=\"Name\", ax=ax)\n",
    "avg = top_10['Sales'].mean()\n",
    "\n",
    "# Set limits and labels\n",
    "ax.set_xlim([-10000, 140000])\n",
    "ax.set(title='2014 Revenue', xlabel='Total Revenue', ylabel='Customer')\n",
    "\n",
    "# Add a line for the average\n",
    "ax.axvline(x=avg, color='b', label='Average', linestyle='--', linewidth=1)\n",
    "\n",
    "# Annotate the new customers\n",
    "for cust in [3, 5, 8]:\n",
    "    ax.text(115000, cust, \"New Customer\")\n",
    "\n",
    "# Format the currency\n",
    "formatter = FuncFormatter(currency)\n",
    "ax.xaxis.set_major_formatter(formatter)\n",
    "\n",
    "# Hide the legend\n",
    "ax.legend().set_visible(False)\n",
    "# plt.show()"
   ]
  },
  {
   "cell_type": "code",
   "execution_count": 77,
   "metadata": {
    "collapsed": false
   },
   "outputs": [
    {
     "data": {
      "text/plain": [
       "<matplotlib.axes._subplots.AxesSubplot at 0x7f33e8f9de10>"
      ]
     },
     "execution_count": 77,
     "metadata": {},
     "output_type": "execute_result"
    },
    {
     "data": {
      "text/plain": [
       "(0, 140000)"
      ]
     },
     "execution_count": 77,
     "metadata": {},
     "output_type": "execute_result"
    },
    {
     "data": {
      "text/plain": [
       "[<matplotlib.axis.XTick at 0x7f33e8fa1b50>,\n",
       " <matplotlib.axis.XTick at 0x7f33e8f9d850>,\n",
       " <matplotlib.axis.XTick at 0x7f33e8cb3610>]"
      ]
     },
     "execution_count": 77,
     "metadata": {},
     "output_type": "execute_result"
    },
    {
     "data": {
      "text/plain": [
       "[<matplotlib.text.Text at 0x7f33e8df71d0>,\n",
       " <matplotlib.text.Text at 0x7f33e8fa1750>,\n",
       " <matplotlib.text.Text at 0x7f33e8e019d0>]"
      ]
     },
     "execution_count": 77,
     "metadata": {},
     "output_type": "execute_result"
    },
    {
     "data": {
      "text/plain": [
       "<matplotlib.lines.Line2D at 0x7f33e8e10710>"
      ]
     },
     "execution_count": 77,
     "metadata": {},
     "output_type": "execute_result"
    },
    {
     "data": {
      "text/plain": [
       "<matplotlib.axes._subplots.AxesSubplot at 0x7f33e8dda950>"
      ]
     },
     "execution_count": 77,
     "metadata": {},
     "output_type": "execute_result"
    },
    {
     "data": {
      "text/plain": [
       "[<matplotlib.text.Text at 0x7f33e8de7910>,\n",
       " <matplotlib.text.Text at 0x7f33e8d29ed0>]"
      ]
     },
     "execution_count": 77,
     "metadata": {},
     "output_type": "execute_result"
    },
    {
     "data": {
      "text/plain": [
       "<matplotlib.lines.Line2D at 0x7f33e8f9d710>"
      ]
     },
     "execution_count": 77,
     "metadata": {},
     "output_type": "execute_result"
    },
    {
     "data": {
      "text/plain": [
       "<matplotlib.text.Text at 0x7f33e8c983d0>"
      ]
     },
     "execution_count": 77,
     "metadata": {},
     "output_type": "execute_result"
    },
    {
     "data": {
      "image/png": "[encoded data removed]",
      "text/plain": [
       "<matplotlib.figure.Figure at 0x7f33e8f9d750>"
      ]
     },
     "metadata": {},
     "output_type": "display_data"
    }
   ],
   "source": [
    "# Get the figure and the axes\n",
    "fig, (ax0, ax1) = plt.subplots(nrows=1,ncols=2, sharey=True, figsize=(7, 4))\n",
    "top_10.plot(kind='barh', y=\"Sales\", x=\"Name\", ax=ax0)\n",
    "ax0.set_xlim([0, 140000])\n",
    "ax0.set_xticks(np.arange(0, 150000, 50000))\n",
    "formatter = FuncFormatter(currency)\n",
    "ax0.xaxis.set_major_formatter(formatter)\n",
    "ax0.set(title='Revenue', xlabel='Total Revenue', ylabel='Customers')\n",
    "\n",
    "# Plot the average as a vertical line\n",
    "avg = top_10['Sales'].mean()\n",
    "ax0.axvline(x=avg, color='b', label='Average', linestyle='--', linewidth=1)\n",
    "\n",
    "# Repeat for the unit plot\n",
    "top_10.plot(kind='barh', y=\"Purchases\", x=\"Name\", ax=ax1)\n",
    "avg = top_10['Purchases'].mean()\n",
    "ax1.set(title='Units', xlabel='Total Units')\n",
    "ax1.axvline(x=avg, color='b', label='Average', linestyle='--', linewidth=1)\n",
    "\n",
    "# Title the figure\n",
    "fig.suptitle('2014 Sales Analysis', fontsize=14, fontweight='bold');\n",
    "\n",
    "# Hide the legends\n",
    "ax1.legend().set_visible(False)\n",
    "ax0.legend().set_visible(False)"
   ]
  },
  {
   "cell_type": "code",
   "execution_count": 45,
   "metadata": {
    "collapsed": false
   },
   "outputs": [
    {
     "data": {
      "text/plain": [
       "{u'eps': u'Encapsulated Postscript',\n",
       " u'jpeg': u'Joint Photographic Experts Group',\n",
       " u'jpg': u'Joint Photographic Experts Group',\n",
       " u'pdf': u'Portable Document Format',\n",
       " u'pgf': u'PGF code for LaTeX',\n",
       " u'png': u'Portable Network Graphics',\n",
       " u'ps': u'Postscript',\n",
       " u'raw': u'Raw RGBA bitmap',\n",
       " u'rgba': u'Raw RGBA bitmap',\n",
       " u'svg': u'Scalable Vector Graphics',\n",
       " u'svgz': u'Scalable Vector Graphics',\n",
       " u'tif': u'Tagged Image File Format',\n",
       " u'tiff': u'Tagged Image File Format'}"
      ]
     },
     "execution_count": 45,
     "metadata": {},
     "output_type": "execute_result"
    }
   ],
   "source": [
    "fig.canvas.get_supported_filetypes()"
   ]
  }
 ],
 "metadata": {
  "kernelspec": {
   "display_name": "Python [default]",
   "language": "python",
   "name": "python2"
  },
  "language_info": {
   "codemirror_mode": {
    "name": "ipython",
    "version": 2
   },
   "file_extension": ".py",
   "mimetype": "text/x-python",
   "name": "python",
   "nbconvert_exporter": "python",
   "pygments_lexer": "ipython2",
   "version": "2.7.13"
  }
 },
 "nbformat": 4,
 "nbformat_minor": 2
}
