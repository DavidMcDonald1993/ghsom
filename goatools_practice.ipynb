{
 "cells": [
  {
   "cell_type": "code",
   "execution_count": 1,
   "metadata": {
    "collapsed": false
   },
   "outputs": [
    {
     "name": "stdout",
     "output_type": "stream",
     "text": [
      "load obo file ./db/go-basic.obo\n",
      "./db/go-basic.obo: fmt(1.2) rel(2017-02-27) 48,410 GO Terms\n"
     ]
    }
   ],
   "source": [
    "from goatools import obo_parser\n",
    "\n",
    "go = obo_parser.GODag(\"./db/go-basic.obo\")"
   ]
  },
  {
   "cell_type": "code",
   "execution_count": 7,
   "metadata": {
    "collapsed": false
   },
   "outputs": [
    {
     "name": "stdout",
     "output_type": "stream",
     "text": [
      "GO:0048584\tlevel-04\tdepth-04\tpositive regulation of response to stimulus [biological_process] \n",
      "GO:0040008\tlevel-03\tdepth-03\tregulation of growth [biological_process] \n"
     ]
    }
   ],
   "source": [
    "go_id3 = 'GO:0048584'\n",
    "go_id4 = 'GO:0040008'\n",
    "print(go[go_id3])\n",
    "print(go[go_id4])"
   ]
  },
  {
   "cell_type": "code",
   "execution_count": 5,
   "metadata": {
    "collapsed": false
   },
   "outputs": [
    {
     "name": "stdout",
     "output_type": "stream",
     "text": [
      "  READ 111,356 associations: http://geneontology.org/gene-associations/gene_association.sgd.gz\n"
     ]
    }
   ],
   "source": [
    "from goatools.associations import read_gaf\n",
    "\n",
    "associations = read_gaf(\"http://geneontology.org/gene-associations/gene_association.sgd.gz\")"
   ]
  },
  {
   "cell_type": "code",
   "execution_count": 8,
   "metadata": {
    "collapsed": false
   },
   "outputs": [
    {
     "name": "stdout",
     "output_type": "stream",
     "text": [
      "The semantic similarity between terms GO:0048584 and GO:0040008 is 0.333333333333.\n"
     ]
    }
   ],
   "source": [
    "from goatools.semantic import semantic_similarity\n",
    "\n",
    "sim = semantic_similarity(go_id3, go_id4, go)\n",
    "print('The semantic similarity between terms {} and {} is {}.'.format(go_id3, go_id4, sim))"
   ]
  },
  {
   "cell_type": "code",
   "execution_count": 10,
   "metadata": {
    "collapsed": false
   },
   "outputs": [
    {
     "name": "stdout",
     "output_type": "stream",
     "text": [
      "<type 'instance'>\n",
      "Information content (GO:0048584) = 8.38415963403\n"
     ]
    }
   ],
   "source": [
    "from goatools.semantic import TermCounts, ic\n",
    "\n",
    "# First get the counts of each GO term.\n",
    "termcounts = TermCounts(go, associations)\n",
    "\n",
    "# Calculate the information content\n",
    "go_id = \"GO:0048584\"\n",
    "infocontent = ic(go_id, termcounts)\n",
    "print('Information content ({}) = {}'.format(go_id, infocontent))"
   ]
  },
  {
   "cell_type": "code",
   "execution_count": 11,
   "metadata": {
    "collapsed": false
   },
   "outputs": [
    {
     "name": "stdout",
     "output_type": "stream",
     "text": [
      "Resnik similarity score (GO:0048584, GO:0040008) = 4.95017242955\n"
     ]
    }
   ],
   "source": [
    "from goatools.semantic import resnik_sim\n",
    "\n",
    "sim_r = resnik_sim(go_id3, go_id4, go, termcounts)\n",
    "print('Resnik similarity score ({}, {}) = {}'.format(go_id3, go_id4, sim_r))"
   ]
  },
  {
   "cell_type": "code",
   "execution_count": 12,
   "metadata": {
    "collapsed": false
   },
   "outputs": [
    {
     "name": "stdout",
     "output_type": "stream",
     "text": [
      "Lin similarity score (GO:0048584, GO:0040008) = -0.591657801454\n"
     ]
    }
   ],
   "source": [
    "from goatools.semantic import lin_sim\n",
    "\n",
    "sim_l = lin_sim(go_id3, go_id4, go, termcounts)\n",
    "print('Lin similarity score ({}, {}) = {}'.format(go_id3, go_id4, sim_l))"
   ]
  },
  {
   "cell_type": "code",
   "execution_count": 17,
   "metadata": {
    "collapsed": false
   },
   "outputs": [
    {
     "name": "stdout",
     "output_type": "stream",
     "text": [
      "['YGR046W', 'YFL061W', 'YBR221C', 'YLR303W', 'YOL020W', 'YDR503C', 'YGR136W', 'YPL070W', 'YKR037C', 'YLR113W', 'YJL184W', 'YLR322W', 'YDR439W', 'YGL175C', 'YAL032C', 'YDL154W', 'YJR091C', 'YDL246C', 'YNL244C', 'YER179W', 'YIL105C', 'YGL221C', 'YOR372C', 'YOR284W', 'YOL058W', 'YGL170C', 'YDR201W', 'YKL090W', 'YFR052W', 'YPL111W', 'YPR062W', 'YML028W', 'YNL189W', 'YMR068W', 'YLR433C', 'YJR133W', 'YBR252W', 'YHL009C', 'YPL260W', 'YDL111C', 'YDR273W', 'YPL151C', 'YPL128C', 'YLR392C', 'YDR326C', 'YJL048C', 'YGR058W', 'YMR224C', 'YIL144W', 'YGL024W', 'YDR061W', 'YOL130W', 'YMR314W', 'YNL047C', 'YPL214C', 'YER007CA', 'YIL132C', 'YGL025C', 'YGR158C', 'YDL203C', 'YPL110C', 'YPL174C', 'YKL130C', 'YPL059W', 'YIL082W', 'YGL158W', 'YNL023C', 'YMR226C', 'YLR321C', 'YCR086W', 'YGR155W', 'YER065C', 'YGR024C', 'YJR159W', 'YDL236W', 'YBR133C', 'YMR309C', 'YDR106W', 'YIL065C', 'YOR264W', 'YOR036W', 'YHR057C', 'YPR020W', 'YLR345W', 'YHR129C', 'YLR376C', 'YLR291C']\n"
     ]
    }
   ],
   "source": [
    "l = []\n",
    "for line in open('gene_list.txt','r'):\n",
    "    l.append(line.rstrip())\n",
    "print l"
   ]
  },
  {
   "cell_type": "code",
   "execution_count": 19,
   "metadata": {
    "collapsed": false
   },
   "outputs": [
    {
     "name": "stdout",
     "output_type": "stream",
     "text": [
      "fisher module not installed.  Falling back on scipy.stats.fisher_exact\n",
      "     0 out of     87 population items found in association\n"
     ]
    }
   ],
   "source": [
    "from goatools.go_enrichment import GOEnrichmentStudy\n",
    "\n",
    "goeaobj = GOEnrichmentStudy(\n",
    "        l, # List of mouse protein-coding genes\n",
    "        associations, # geneid/GO associations\n",
    "        go, # Ontologies\n",
    "        propagate_counts = False,\n",
    "        alpha = 0.05, # default significance cut-off\n",
    "        methods = ['fdr_bh']) # default multipletest correction method"
   ]
  },
  {
   "cell_type": "code",
   "execution_count": null,
   "metadata": {
    "collapsed": true
   },
   "outputs": [],
   "source": []
  }
 ],
 "metadata": {
  "kernelspec": {
   "display_name": "Python [conda env:py27]",
   "language": "python",
   "name": "conda-env-py27-py"
  },
  "language_info": {
   "codemirror_mode": {
    "name": "ipython",
    "version": 2
   },
   "file_extension": ".py",
   "mimetype": "text/x-python",
   "name": "python",
   "nbconvert_exporter": "python",
   "pygments_lexer": "ipython2",
   "version": "2.7.13"
  }
 },
 "nbformat": 4,
 "nbformat_minor": 2
}
