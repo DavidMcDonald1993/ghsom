{
 "cells": [
  {
   "cell_type": "code",
   "execution_count": 1,
   "metadata": {
    "collapsed": false,
    "scrolled": true
   },
   "outputs": [
    {
     "name": "stderr",
     "output_type": "stream",
     "text": [
      "Loading required package: AnnotationDbi\n",
      "Loading required package: stats4\n",
      "Loading required package: BiocGenerics\n",
      "Loading required package: parallel\n",
      "\n",
      "Attaching package: ‘BiocGenerics’\n",
      "\n",
      "The following objects are masked from ‘package:parallel’:\n",
      "\n",
      "    clusterApply, clusterApplyLB, clusterCall, clusterEvalQ,\n",
      "    clusterExport, clusterMap, parApply, parCapply, parLapply,\n",
      "    parLapplyLB, parRapply, parSapply, parSapplyLB\n",
      "\n",
      "The following objects are masked from ‘package:stats’:\n",
      "\n",
      "    IQR, mad, xtabs\n",
      "\n",
      "The following objects are masked from ‘package:base’:\n",
      "\n",
      "    anyDuplicated, append, as.data.frame, cbind, colnames, do.call,\n",
      "    duplicated, eval, evalq, Filter, Find, get, grep, grepl, intersect,\n",
      "    is.unsorted, lapply, lengths, Map, mapply, match, mget, order,\n",
      "    paste, pmax, pmax.int, pmin, pmin.int, Position, rank, rbind,\n",
      "    Reduce, rownames, sapply, setdiff, sort, table, tapply, union,\n",
      "    unique, unsplit, which, which.max, which.min\n",
      "\n",
      "Loading required package: Biobase\n",
      "Welcome to Bioconductor\n",
      "\n",
      "    Vignettes contain introductory material; view with\n",
      "    'browseVignettes()'. To cite Bioconductor, see\n",
      "    'citation(\"Biobase\")', and for packages 'citation(\"pkgname\")'.\n",
      "\n",
      "Loading required package: IRanges\n",
      "Loading required package: S4Vectors\n",
      "\n",
      "Attaching package: ‘S4Vectors’\n",
      "\n",
      "The following objects are masked from ‘package:base’:\n",
      "\n",
      "    colMeans, colSums, expand.grid, rowMeans, rowSums\n",
      "\n",
      "\n",
      "Loading required package: graph\n",
      "Loading required package: SparseM\n",
      "\n",
      "Attaching package: ‘SparseM’\n",
      "\n",
      "The following object is masked from ‘package:base’:\n",
      "\n",
      "    backsolve\n",
      "\n",
      "\n",
      "groupGOTerms: \tGOBPTerm, GOMFTerm, GOCCTerm environments built.\n",
      "\n",
      "Attaching package: ‘topGO’\n",
      "\n",
      "The following object is masked from ‘package:IRanges’:\n",
      "\n",
      "    members\n",
      "\n",
      "\n",
      "GOSemSim v2.0.4  For help: https://guangchuangyu.github.io/GOSemSim\n",
      "\n",
      "If you use GOSemSim in published research, please cite:\n",
      "Guangchuang Yu, Fei Li, Yide Qin, Xiaochen Bo, Yibo Wu, Shengqi Wang. GOSemSim: an R package for measuring semantic similarity among GO terms and gene products Bioinformatics 2010, 26(7):976-978\n",
      "\n",
      "Attaching package: ‘gridExtra’\n",
      "\n",
      "The following object is masked from ‘package:Biobase’:\n",
      "\n",
      "    combine\n",
      "\n",
      "The following object is masked from ‘package:BiocGenerics’:\n",
      "\n",
      "    combine\n",
      "\n"
     ]
    }
   ],
   "source": [
    "#libraries\n",
    "library(GO.db)\n",
    "library(topGO)\n",
    "library(org.Sc.sgd.db)\n",
    "library(GOSemSim)\n",
    "library(gridExtra)"
   ]
  },
  {
   "cell_type": "code",
   "execution_count": 44,
   "metadata": {
    "collapsed": false
   },
   "outputs": [
    {
     "name": "stdout",
     "output_type": "stream",
     "text": [
      "[1] \"preparing gene to GO mapping data...\"\n",
      "[1] \"preparing IC data...\"\n"
     ]
    }
   ],
   "source": [
    "file <- \"yeast_uetz\"\n",
    "\n",
    "ont <- \"BP\"\n",
    "p <- 0.4\n",
    "init <- 1\n",
    "\n",
    "db <- org.Sc.sgd.db\n",
    "mapping <- \"org.Sc.sgd.db\"\n",
    "ID <- \"ENSEMBL\"\n",
    "\n",
    "##load all community gene lists\n",
    "setwd(sprintf(\"/home/david/Documents/ghsom/%s_hierarchy_communities_%s_%s\", file, p, init))\n",
    "\n",
    "scGO <- godata(OrgDb = mapping, keytype = ID, ont = ont)"
   ]
  },
  {
   "cell_type": "code",
   "execution_count": 19,
   "metadata": {
    "collapsed": true
   },
   "outputs": [],
   "source": [
    "generateMap <- function(filename){\n",
    "    map <- as.matrix(read.csv(filename, sep=\",\", header = F))\n",
    "    communities <- map[,1]\n",
    "    map <- map[,2:ncol(map)]\n",
    "    rownames(map) <- communities\n",
    "    colnames(map) <- communities\n",
    "    return (map)\n",
    "}"
   ]
  },
  {
   "cell_type": "code",
   "execution_count": 39,
   "metadata": {
    "collapsed": false
   },
   "outputs": [],
   "source": [
    "#background gene list\n",
    "backgroundFilename <- \"all_genes.txt\"\n",
    "allGenes <- scan(backgroundFilename, character())\n",
    "\n",
    "#shortest path files\n",
    "shortestPathFiles  <- list.files(pattern=\"*shortest_path*\")\n",
    "\n",
    "#shortest paths list\n",
    "shortestPaths <- sapply(shortestPathFiles, generateMap)\n",
    "names(shortestPaths) <- sapply(names(shortestPaths), function(name) strsplit(name, \"_\")[[1]][[1]])\n",
    "\n",
    "#communitiy assignemtns\n",
    "assignments <- as.matrix(read.csv(\"assignment_matrix.txt\", sep=\",\", header=F))\n",
    "rownames(assignments) <- allGenes\n",
    "colnames <- sapply(1:ncol(assignments), function(i) as.character(i-1))\n",
    "colnames(assignments) <- colnames"
   ]
  },
  {
   "cell_type": "code",
   "execution_count": 21,
   "metadata": {
    "collapsed": true
   },
   "outputs": [],
   "source": [
    "getDepth <- function(com) {\n",
    "    return(which(apply(assignments, 2, function(i) any(i == com))))\n",
    "}\n",
    "\n",
    "getGenes <- function(com){\n",
    "    return(names(which(assignments[,getDepth(com)] == com)))\n",
    "}\n",
    "\n",
    "getSubCommunities <- function(com){\n",
    "    return(try(as.character(unique(assignments[getGenes(com), getDepth(com) + 1]))))\n",
    "}\n",
    "\n",
    "getSuperCommunity <- function(com){\n",
    "    return(try(as.character(unique(assignments[getGenes(com), getDepth(com) - 1]))))\n",
    "}\n",
    "\n",
    "getShortestPath <- function(com){\n",
    "    return (try(shortestPaths[[com]]))\n",
    "}"
   ]
  },
  {
   "cell_type": "code",
   "execution_count": 22,
   "metadata": {
    "collapsed": false
   },
   "outputs": [],
   "source": [
    "getDistance <- function(c1, c2) {\n",
    "    \n",
    "    m1 <- getSuperCommunity(c1)\n",
    "    m2 <- getSuperCommunity(c2)\n",
    "    \n",
    "    if (m1 == m2) return(getShortestPath(m1)[c1, c2])\n",
    "        \n",
    "    d1 <- getDepth(c1)\n",
    "    d2 <- getDepth(c2)\n",
    "        \n",
    "    if (d1 == d2) return (2 + getDistance(m1, m2))\n",
    "        \n",
    "    if (d1 > d2) return (1 + getDistance(m1, c2))\n",
    "        \n",
    "    if (d2 > d1) return (1 + getDistance(c1, m2))\n",
    "    \n",
    "}"
   ]
  },
  {
   "cell_type": "code",
   "execution_count": 23,
   "metadata": {
    "collapsed": false
   },
   "outputs": [
    {
     "data": {
      "text/html": [
       "4"
      ],
      "text/latex": [
       "4"
      ],
      "text/markdown": [
       "4"
      ],
      "text/plain": [
       "[1] 4"
      ]
     },
     "metadata": {},
     "output_type": "display_data"
    }
   ],
   "source": [
    "getDistance(\"46\", \"10\")"
   ]
  },
  {
   "cell_type": "code",
   "execution_count": 24,
   "metadata": {
    "collapsed": false
   },
   "outputs": [
    {
     "data": {
      "text/html": [
       "<table>\n",
       "<thead><tr><th></th><th scope=col>0</th><th scope=col>1</th><th scope=col>2</th><th scope=col>3</th><th scope=col>4</th></tr></thead>\n",
       "<tbody>\n",
       "\t<tr><th scope=row>YGR046W</th><td>1 </td><td>4 </td><td>-1</td><td>-1</td><td>-1</td></tr>\n",
       "\t<tr><th scope=row>YCL046W</th><td>1 </td><td>5 </td><td>20</td><td>36</td><td>-1</td></tr>\n",
       "\t<tr><th scope=row>YJL030W</th><td>1 </td><td>6 </td><td>24</td><td>-1</td><td>-1</td></tr>\n",
       "\t<tr><th scope=row>YBR057C</th><td>1 </td><td>5 </td><td>20</td><td>37</td><td>-1</td></tr>\n",
       "\t<tr><th scope=row>YKR026C</th><td>1 </td><td>2 </td><td>17</td><td>33</td><td>-1</td></tr>\n",
       "\t<tr><th scope=row>YFL056C</th><td>1 </td><td>4 </td><td>-1</td><td>-1</td><td>-1</td></tr>\n",
       "\t<tr><th scope=row>YFL061W</th><td>1 </td><td>7 </td><td>28</td><td>-1</td><td>-1</td></tr>\n",
       "\t<tr><th scope=row>YDR174W</th><td>1 </td><td>2 </td><td>13</td><td>-1</td><td>-1</td></tr>\n",
       "\t<tr><th scope=row>YLR303W</th><td>1 </td><td>7 </td><td>28</td><td>-1</td><td>-1</td></tr>\n",
       "\t<tr><th scope=row>YPL211W</th><td>1 </td><td>6 </td><td>24</td><td>-1</td><td>-1</td></tr>\n",
       "\t<tr><th scope=row>YOL020W</th><td>1 </td><td>7 </td><td>27</td><td>51</td><td>-1</td></tr>\n",
       "\t<tr><th scope=row>YLR432W</th><td>1 </td><td>2 </td><td>16</td><td>-1</td><td>-1</td></tr>\n",
       "\t<tr><th scope=row>YPL229W</th><td>1 </td><td>4 </td><td>-1</td><td>-1</td><td>-1</td></tr>\n",
       "\t<tr><th scope=row>YMR236W</th><td>1 </td><td>2 </td><td>13</td><td>-1</td><td>-1</td></tr>\n",
       "\t<tr><th scope=row>YLR015W</th><td>1 </td><td>2 </td><td>16</td><td>-1</td><td>-1</td></tr>\n",
       "\t<tr><th scope=row>YCR050C</th><td>1 </td><td>5 </td><td>21</td><td>-1</td><td>-1</td></tr>\n",
       "\t<tr><th scope=row>YOR372C</th><td>1 </td><td>7 </td><td>27</td><td>52</td><td>-1</td></tr>\n",
       "\t<tr><th scope=row>YLR046C</th><td>1 </td><td>4 </td><td>-1</td><td>-1</td><td>-1</td></tr>\n",
       "\t<tr><th scope=row>YGR136W</th><td>1 </td><td>7 </td><td>27</td><td>53</td><td>-1</td></tr>\n",
       "\t<tr><th scope=row>YJR072C</th><td>1 </td><td>2 </td><td>14</td><td>-1</td><td>-1</td></tr>\n",
       "\t<tr><th scope=row>YDR469W</th><td>1 </td><td>2 </td><td>16</td><td>-1</td><td>-1</td></tr>\n",
       "\t<tr><th scope=row>YBR196C</th><td>1 </td><td>6 </td><td>25</td><td>45</td><td>-1</td></tr>\n",
       "\t<tr><th scope=row>YHR140W</th><td>1 </td><td>4 </td><td>-1</td><td>-1</td><td>-1</td></tr>\n",
       "\t<tr><th scope=row>YDL088C</th><td>1 </td><td>9 </td><td>-1</td><td>-1</td><td>-1</td></tr>\n",
       "\t<tr><th scope=row>YEL062W</th><td>1 </td><td>2 </td><td>14</td><td>-1</td><td>-1</td></tr>\n",
       "\t<tr><th scope=row>YJL178C</th><td>1 </td><td>6 </td><td>25</td><td>45</td><td>-1</td></tr>\n",
       "\t<tr><th scope=row>YKR037C</th><td>1 </td><td>8 </td><td>32</td><td>-1</td><td>-1</td></tr>\n",
       "\t<tr><th scope=row>YNL047C</th><td>1 </td><td>7 </td><td>29</td><td>-1</td><td>-1</td></tr>\n",
       "\t<tr><th scope=row>YLR113W</th><td>1 </td><td>7 </td><td>27</td><td>53</td><td>-1</td></tr>\n",
       "\t<tr><th scope=row>YGR268C</th><td>1 </td><td>2 </td><td>14</td><td>-1</td><td>-1</td></tr>\n",
       "\t<tr><th scope=row>⋮</th><td>⋮</td><td>⋮</td><td>⋮</td><td>⋮</td><td>⋮</td></tr>\n",
       "\t<tr><th scope=row>YOR264W</th><td>1 </td><td> 7</td><td>27</td><td>53</td><td>-1</td></tr>\n",
       "\t<tr><th scope=row>YER116C</th><td>1 </td><td> 4</td><td>-1</td><td>-1</td><td>-1</td></tr>\n",
       "\t<tr><th scope=row>YPL151C</th><td>1 </td><td> 8</td><td>30</td><td>-1</td><td>-1</td></tr>\n",
       "\t<tr><th scope=row>YNL164C</th><td>1 </td><td> 4</td><td>-1</td><td>-1</td><td>-1</td></tr>\n",
       "\t<tr><th scope=row>YER027C</th><td>1 </td><td> 5</td><td>20</td><td>37</td><td>-1</td></tr>\n",
       "\t<tr><th scope=row>YOR006C</th><td>1 </td><td> 5</td><td>21</td><td>-1</td><td>-1</td></tr>\n",
       "\t<tr><th scope=row>YDL013W</th><td>1 </td><td> 4</td><td>-1</td><td>-1</td><td>-1</td></tr>\n",
       "\t<tr><th scope=row>YDR167W</th><td>1 </td><td> 2</td><td>17</td><td>34</td><td>-1</td></tr>\n",
       "\t<tr><th scope=row>YNL023C</th><td>1 </td><td> 7</td><td>28</td><td>-1</td><td>-1</td></tr>\n",
       "\t<tr><th scope=row>YMR180C</th><td>1 </td><td> 4</td><td>-1</td><td>-1</td><td>-1</td></tr>\n",
       "\t<tr><th scope=row>YJL110C</th><td>1 </td><td> 4</td><td>-1</td><td>-1</td><td>-1</td></tr>\n",
       "\t<tr><th scope=row>YNL199C</th><td>1 </td><td> 4</td><td>-1</td><td>-1</td><td>-1</td></tr>\n",
       "\t<tr><th scope=row>YHR057C</th><td>1 </td><td> 8</td><td>32</td><td>-1</td><td>-1</td></tr>\n",
       "\t<tr><th scope=row>YFR002W</th><td>1 </td><td> 9</td><td>-1</td><td>-1</td><td>-1</td></tr>\n",
       "\t<tr><th scope=row>YOR164C</th><td>1 </td><td>11</td><td>-1</td><td>-1</td><td>-1</td></tr>\n",
       "\t<tr><th scope=row>YLR291C</th><td>1 </td><td>12</td><td>-1</td><td>-1</td><td>-1</td></tr>\n",
       "\t<tr><th scope=row>YNR025C</th><td>1 </td><td>10</td><td>-1</td><td>-1</td><td>-1</td></tr>\n",
       "\t<tr><th scope=row>YGL025C</th><td>1 </td><td>12</td><td>-1</td><td>-1</td><td>-1</td></tr>\n",
       "\t<tr><th scope=row>YML114C</th><td>1 </td><td> 2</td><td>17</td><td>34</td><td>-1</td></tr>\n",
       "\t<tr><th scope=row>YHR129C</th><td>1 </td><td> 6</td><td>26</td><td>48</td><td>56</td></tr>\n",
       "\t<tr><th scope=row>YLR376C</th><td>1 </td><td> 8</td><td>30</td><td>-1</td><td>-1</td></tr>\n",
       "\t<tr><th scope=row>YDR311W</th><td>1 </td><td>10</td><td>-1</td><td>-1</td><td>-1</td></tr>\n",
       "\t<tr><th scope=row>YDR206W</th><td>1 </td><td> 6</td><td>25</td><td>43</td><td>-1</td></tr>\n",
       "\t<tr><th scope=row>YOL149W</th><td>1 </td><td> 5</td><td>20</td><td>37</td><td>-1</td></tr>\n",
       "\t<tr><th scope=row>YER065C</th><td>1 </td><td> 7</td><td>28</td><td>-1</td><td>-1</td></tr>\n",
       "\t<tr><th scope=row>YNL218W</th><td>1 </td><td> 6</td><td>25</td><td>46</td><td>-1</td></tr>\n",
       "\t<tr><th scope=row>YOR078W</th><td>1 </td><td> 5</td><td>23</td><td>41</td><td>-1</td></tr>\n",
       "\t<tr><th scope=row>YPL019C</th><td>1 </td><td>11</td><td>-1</td><td>-1</td><td>-1</td></tr>\n",
       "\t<tr><th scope=row>YGL153W</th><td>1 </td><td>11</td><td>-1</td><td>-1</td><td>-1</td></tr>\n",
       "\t<tr><th scope=row>YDL002C</th><td>1 </td><td> 4</td><td>-1</td><td>-1</td><td>-1</td></tr>\n",
       "</tbody>\n",
       "</table>\n"
      ],
      "text/latex": [
       "\\begin{tabular}{r|lllll}\n",
       "  & 0 & 1 & 2 & 3 & 4\\\\\n",
       "\\hline\n",
       "\tYGR046W & 1  & 4  & -1 & -1 & -1\\\\\n",
       "\tYCL046W & 1  & 5  & 20 & 36 & -1\\\\\n",
       "\tYJL030W & 1  & 6  & 24 & -1 & -1\\\\\n",
       "\tYBR057C & 1  & 5  & 20 & 37 & -1\\\\\n",
       "\tYKR026C & 1  & 2  & 17 & 33 & -1\\\\\n",
       "\tYFL056C & 1  & 4  & -1 & -1 & -1\\\\\n",
       "\tYFL061W & 1  & 7  & 28 & -1 & -1\\\\\n",
       "\tYDR174W & 1  & 2  & 13 & -1 & -1\\\\\n",
       "\tYLR303W & 1  & 7  & 28 & -1 & -1\\\\\n",
       "\tYPL211W & 1  & 6  & 24 & -1 & -1\\\\\n",
       "\tYOL020W & 1  & 7  & 27 & 51 & -1\\\\\n",
       "\tYLR432W & 1  & 2  & 16 & -1 & -1\\\\\n",
       "\tYPL229W & 1  & 4  & -1 & -1 & -1\\\\\n",
       "\tYMR236W & 1  & 2  & 13 & -1 & -1\\\\\n",
       "\tYLR015W & 1  & 2  & 16 & -1 & -1\\\\\n",
       "\tYCR050C & 1  & 5  & 21 & -1 & -1\\\\\n",
       "\tYOR372C & 1  & 7  & 27 & 52 & -1\\\\\n",
       "\tYLR046C & 1  & 4  & -1 & -1 & -1\\\\\n",
       "\tYGR136W & 1  & 7  & 27 & 53 & -1\\\\\n",
       "\tYJR072C & 1  & 2  & 14 & -1 & -1\\\\\n",
       "\tYDR469W & 1  & 2  & 16 & -1 & -1\\\\\n",
       "\tYBR196C & 1  & 6  & 25 & 45 & -1\\\\\n",
       "\tYHR140W & 1  & 4  & -1 & -1 & -1\\\\\n",
       "\tYDL088C & 1  & 9  & -1 & -1 & -1\\\\\n",
       "\tYEL062W & 1  & 2  & 14 & -1 & -1\\\\\n",
       "\tYJL178C & 1  & 6  & 25 & 45 & -1\\\\\n",
       "\tYKR037C & 1  & 8  & 32 & -1 & -1\\\\\n",
       "\tYNL047C & 1  & 7  & 29 & -1 & -1\\\\\n",
       "\tYLR113W & 1  & 7  & 27 & 53 & -1\\\\\n",
       "\tYGR268C & 1  & 2  & 14 & -1 & -1\\\\\n",
       "\t⋮ & ⋮ & ⋮ & ⋮ & ⋮ & ⋮\\\\\n",
       "\tYOR264W & 1  &  7 & 27 & 53 & -1\\\\\n",
       "\tYER116C & 1  &  4 & -1 & -1 & -1\\\\\n",
       "\tYPL151C & 1  &  8 & 30 & -1 & -1\\\\\n",
       "\tYNL164C & 1  &  4 & -1 & -1 & -1\\\\\n",
       "\tYER027C & 1  &  5 & 20 & 37 & -1\\\\\n",
       "\tYOR006C & 1  &  5 & 21 & -1 & -1\\\\\n",
       "\tYDL013W & 1  &  4 & -1 & -1 & -1\\\\\n",
       "\tYDR167W & 1  &  2 & 17 & 34 & -1\\\\\n",
       "\tYNL023C & 1  &  7 & 28 & -1 & -1\\\\\n",
       "\tYMR180C & 1  &  4 & -1 & -1 & -1\\\\\n",
       "\tYJL110C & 1  &  4 & -1 & -1 & -1\\\\\n",
       "\tYNL199C & 1  &  4 & -1 & -1 & -1\\\\\n",
       "\tYHR057C & 1  &  8 & 32 & -1 & -1\\\\\n",
       "\tYFR002W & 1  &  9 & -1 & -1 & -1\\\\\n",
       "\tYOR164C & 1  & 11 & -1 & -1 & -1\\\\\n",
       "\tYLR291C & 1  & 12 & -1 & -1 & -1\\\\\n",
       "\tYNR025C & 1  & 10 & -1 & -1 & -1\\\\\n",
       "\tYGL025C & 1  & 12 & -1 & -1 & -1\\\\\n",
       "\tYML114C & 1  &  2 & 17 & 34 & -1\\\\\n",
       "\tYHR129C & 1  &  6 & 26 & 48 & 56\\\\\n",
       "\tYLR376C & 1  &  8 & 30 & -1 & -1\\\\\n",
       "\tYDR311W & 1  & 10 & -1 & -1 & -1\\\\\n",
       "\tYDR206W & 1  &  6 & 25 & 43 & -1\\\\\n",
       "\tYOL149W & 1  &  5 & 20 & 37 & -1\\\\\n",
       "\tYER065C & 1  &  7 & 28 & -1 & -1\\\\\n",
       "\tYNL218W & 1  &  6 & 25 & 46 & -1\\\\\n",
       "\tYOR078W & 1  &  5 & 23 & 41 & -1\\\\\n",
       "\tYPL019C & 1  & 11 & -1 & -1 & -1\\\\\n",
       "\tYGL153W & 1  & 11 & -1 & -1 & -1\\\\\n",
       "\tYDL002C & 1  &  4 & -1 & -1 & -1\\\\\n",
       "\\end{tabular}\n"
      ],
      "text/markdown": [
       "\n",
       "| <!--/--> | 0 | 1 | 2 | 3 | 4 | \n",
       "|---|---|---|---|---|---|---|---|---|---|---|---|---|---|---|---|---|---|---|---|---|---|---|---|---|---|---|---|---|---|---|---|---|---|---|---|---|---|---|---|---|---|---|---|---|---|---|---|---|---|---|---|---|---|---|---|---|---|---|---|---|\n",
       "| YGR046W | 1  | 4  | -1 | -1 | -1 | \n",
       "| YCL046W | 1  | 5  | 20 | 36 | -1 | \n",
       "| YJL030W | 1  | 6  | 24 | -1 | -1 | \n",
       "| YBR057C | 1  | 5  | 20 | 37 | -1 | \n",
       "| YKR026C | 1  | 2  | 17 | 33 | -1 | \n",
       "| YFL056C | 1  | 4  | -1 | -1 | -1 | \n",
       "| YFL061W | 1  | 7  | 28 | -1 | -1 | \n",
       "| YDR174W | 1  | 2  | 13 | -1 | -1 | \n",
       "| YLR303W | 1  | 7  | 28 | -1 | -1 | \n",
       "| YPL211W | 1  | 6  | 24 | -1 | -1 | \n",
       "| YOL020W | 1  | 7  | 27 | 51 | -1 | \n",
       "| YLR432W | 1  | 2  | 16 | -1 | -1 | \n",
       "| YPL229W | 1  | 4  | -1 | -1 | -1 | \n",
       "| YMR236W | 1  | 2  | 13 | -1 | -1 | \n",
       "| YLR015W | 1  | 2  | 16 | -1 | -1 | \n",
       "| YCR050C | 1  | 5  | 21 | -1 | -1 | \n",
       "| YOR372C | 1  | 7  | 27 | 52 | -1 | \n",
       "| YLR046C | 1  | 4  | -1 | -1 | -1 | \n",
       "| YGR136W | 1  | 7  | 27 | 53 | -1 | \n",
       "| YJR072C | 1  | 2  | 14 | -1 | -1 | \n",
       "| YDR469W | 1  | 2  | 16 | -1 | -1 | \n",
       "| YBR196C | 1  | 6  | 25 | 45 | -1 | \n",
       "| YHR140W | 1  | 4  | -1 | -1 | -1 | \n",
       "| YDL088C | 1  | 9  | -1 | -1 | -1 | \n",
       "| YEL062W | 1  | 2  | 14 | -1 | -1 | \n",
       "| YJL178C | 1  | 6  | 25 | 45 | -1 | \n",
       "| YKR037C | 1  | 8  | 32 | -1 | -1 | \n",
       "| YNL047C | 1  | 7  | 29 | -1 | -1 | \n",
       "| YLR113W | 1  | 7  | 27 | 53 | -1 | \n",
       "| YGR268C | 1  | 2  | 14 | -1 | -1 | \n",
       "| ⋮ | ⋮ | ⋮ | ⋮ | ⋮ | ⋮ | \n",
       "| YOR264W | 1  |  7 | 27 | 53 | -1 | \n",
       "| YER116C | 1  |  4 | -1 | -1 | -1 | \n",
       "| YPL151C | 1  |  8 | 30 | -1 | -1 | \n",
       "| YNL164C | 1  |  4 | -1 | -1 | -1 | \n",
       "| YER027C | 1  |  5 | 20 | 37 | -1 | \n",
       "| YOR006C | 1  |  5 | 21 | -1 | -1 | \n",
       "| YDL013W | 1  |  4 | -1 | -1 | -1 | \n",
       "| YDR167W | 1  |  2 | 17 | 34 | -1 | \n",
       "| YNL023C | 1  |  7 | 28 | -1 | -1 | \n",
       "| YMR180C | 1  |  4 | -1 | -1 | -1 | \n",
       "| YJL110C | 1  |  4 | -1 | -1 | -1 | \n",
       "| YNL199C | 1  |  4 | -1 | -1 | -1 | \n",
       "| YHR057C | 1  |  8 | 32 | -1 | -1 | \n",
       "| YFR002W | 1  |  9 | -1 | -1 | -1 | \n",
       "| YOR164C | 1  | 11 | -1 | -1 | -1 | \n",
       "| YLR291C | 1  | 12 | -1 | -1 | -1 | \n",
       "| YNR025C | 1  | 10 | -1 | -1 | -1 | \n",
       "| YGL025C | 1  | 12 | -1 | -1 | -1 | \n",
       "| YML114C | 1  |  2 | 17 | 34 | -1 | \n",
       "| YHR129C | 1  |  6 | 26 | 48 | 56 | \n",
       "| YLR376C | 1  |  8 | 30 | -1 | -1 | \n",
       "| YDR311W | 1  | 10 | -1 | -1 | -1 | \n",
       "| YDR206W | 1  |  6 | 25 | 43 | -1 | \n",
       "| YOL149W | 1  |  5 | 20 | 37 | -1 | \n",
       "| YER065C | 1  |  7 | 28 | -1 | -1 | \n",
       "| YNL218W | 1  |  6 | 25 | 46 | -1 | \n",
       "| YOR078W | 1  |  5 | 23 | 41 | -1 | \n",
       "| YPL019C | 1  | 11 | -1 | -1 | -1 | \n",
       "| YGL153W | 1  | 11 | -1 | -1 | -1 | \n",
       "| YDL002C | 1  |  4 | -1 | -1 | -1 | \n",
       "\n",
       "\n"
      ],
      "text/plain": [
       "        0 1  2  3  4 \n",
       "YGR046W 1 4  -1 -1 -1\n",
       "YCL046W 1 5  20 36 -1\n",
       "YJL030W 1 6  24 -1 -1\n",
       "YBR057C 1 5  20 37 -1\n",
       "YKR026C 1 2  17 33 -1\n",
       "YFL056C 1 4  -1 -1 -1\n",
       "YFL061W 1 7  28 -1 -1\n",
       "YDR174W 1 2  13 -1 -1\n",
       "YLR303W 1 7  28 -1 -1\n",
       "YPL211W 1 6  24 -1 -1\n",
       "YOL020W 1 7  27 51 -1\n",
       "YLR432W 1 2  16 -1 -1\n",
       "YPL229W 1 4  -1 -1 -1\n",
       "YMR236W 1 2  13 -1 -1\n",
       "YLR015W 1 2  16 -1 -1\n",
       "YCR050C 1 5  21 -1 -1\n",
       "YOR372C 1 7  27 52 -1\n",
       "YLR046C 1 4  -1 -1 -1\n",
       "YGR136W 1 7  27 53 -1\n",
       "YJR072C 1 2  14 -1 -1\n",
       "YDR469W 1 2  16 -1 -1\n",
       "YBR196C 1 6  25 45 -1\n",
       "YHR140W 1 4  -1 -1 -1\n",
       "YDL088C 1 9  -1 -1 -1\n",
       "YEL062W 1 2  14 -1 -1\n",
       "YJL178C 1 6  25 45 -1\n",
       "YKR037C 1 8  32 -1 -1\n",
       "YNL047C 1 7  29 -1 -1\n",
       "YLR113W 1 7  27 53 -1\n",
       "YGR268C 1 2  14 -1 -1\n",
       "⋮       ⋮ ⋮  ⋮  ⋮  ⋮ \n",
       "YOR264W 1  7 27 53 -1\n",
       "YER116C 1  4 -1 -1 -1\n",
       "YPL151C 1  8 30 -1 -1\n",
       "YNL164C 1  4 -1 -1 -1\n",
       "YER027C 1  5 20 37 -1\n",
       "YOR006C 1  5 21 -1 -1\n",
       "YDL013W 1  4 -1 -1 -1\n",
       "YDR167W 1  2 17 34 -1\n",
       "YNL023C 1  7 28 -1 -1\n",
       "YMR180C 1  4 -1 -1 -1\n",
       "YJL110C 1  4 -1 -1 -1\n",
       "YNL199C 1  4 -1 -1 -1\n",
       "YHR057C 1  8 32 -1 -1\n",
       "YFR002W 1  9 -1 -1 -1\n",
       "YOR164C 1 11 -1 -1 -1\n",
       "YLR291C 1 12 -1 -1 -1\n",
       "YNR025C 1 10 -1 -1 -1\n",
       "YGL025C 1 12 -1 -1 -1\n",
       "YML114C 1  2 17 34 -1\n",
       "YHR129C 1  6 26 48 56\n",
       "YLR376C 1  8 30 -1 -1\n",
       "YDR311W 1 10 -1 -1 -1\n",
       "YDR206W 1  6 25 43 -1\n",
       "YOL149W 1  5 20 37 -1\n",
       "YER065C 1  7 28 -1 -1\n",
       "YNL218W 1  6 25 46 -1\n",
       "YOR078W 1  5 23 41 -1\n",
       "YPL019C 1 11 -1 -1 -1\n",
       "YGL153W 1 11 -1 -1 -1\n",
       "YDL002C 1  4 -1 -1 -1"
      ]
     },
     "metadata": {},
     "output_type": "display_data"
    }
   ],
   "source": [
    "assignments"
   ]
  },
  {
   "cell_type": "code",
   "execution_count": 25,
   "metadata": {
    "collapsed": false
   },
   "outputs": [
    {
     "data": {
      "text/html": [
       "<table>\n",
       "<thead><tr><th></th><th scope=col>36</th><th scope=col>37</th><th scope=col>38</th><th scope=col>39</th></tr></thead>\n",
       "<tbody>\n",
       "\t<tr><th scope=row>36</th><td>0</td><td>1</td><td>1</td><td>2</td></tr>\n",
       "\t<tr><th scope=row>37</th><td>1</td><td>0</td><td>2</td><td>3</td></tr>\n",
       "\t<tr><th scope=row>38</th><td>1</td><td>2</td><td>0</td><td>1</td></tr>\n",
       "\t<tr><th scope=row>39</th><td>2</td><td>3</td><td>1</td><td>0</td></tr>\n",
       "</tbody>\n",
       "</table>\n"
      ],
      "text/latex": [
       "\\begin{tabular}{r|llll}\n",
       "  & 36 & 37 & 38 & 39\\\\\n",
       "\\hline\n",
       "\t36 & 0 & 1 & 1 & 2\\\\\n",
       "\t37 & 1 & 0 & 2 & 3\\\\\n",
       "\t38 & 1 & 2 & 0 & 1\\\\\n",
       "\t39 & 2 & 3 & 1 & 0\\\\\n",
       "\\end{tabular}\n"
      ],
      "text/markdown": [
       "\n",
       "| <!--/--> | 36 | 37 | 38 | 39 | \n",
       "|---|---|---|---|\n",
       "| 36 | 0 | 1 | 1 | 2 | \n",
       "| 37 | 1 | 0 | 2 | 3 | \n",
       "| 38 | 1 | 2 | 0 | 1 | \n",
       "| 39 | 2 | 3 | 1 | 0 | \n",
       "\n",
       "\n"
      ],
      "text/plain": [
       "   36 37 38 39\n",
       "36 0  1  1  2 \n",
       "37 1  0  2  3 \n",
       "38 1  2  0  1 \n",
       "39 2  3  1  0 "
      ]
     },
     "metadata": {},
     "output_type": "display_data"
    }
   ],
   "source": [
    "getShortestPath(\"20\")"
   ]
  },
  {
   "cell_type": "code",
   "execution_count": 28,
   "metadata": {
    "collapsed": false
   },
   "outputs": [
    {
     "data": {
      "text/html": [
       "<ol class=list-inline>\n",
       "\t<li>'YCL046W'</li>\n",
       "\t<li>'YGL208W'</li>\n",
       "\t<li>'YLR264W'</li>\n",
       "</ol>\n"
      ],
      "text/latex": [
       "\\begin{enumerate*}\n",
       "\\item 'YCL046W'\n",
       "\\item 'YGL208W'\n",
       "\\item 'YLR264W'\n",
       "\\end{enumerate*}\n"
      ],
      "text/markdown": [
       "1. 'YCL046W'\n",
       "2. 'YGL208W'\n",
       "3. 'YLR264W'\n",
       "\n",
       "\n"
      ],
      "text/plain": [
       "[1] \"YCL046W\" \"YGL208W\" \"YLR264W\""
      ]
     },
     "metadata": {},
     "output_type": "display_data"
    }
   ],
   "source": [
    "getGenes(\"36\")"
   ]
  },
  {
   "cell_type": "code",
   "execution_count": 26,
   "metadata": {
    "collapsed": false
   },
   "outputs": [
    {
     "data": {
      "text/html": [
       "<ol class=list-inline>\n",
       "\t<li>'YBR057C'</li>\n",
       "\t<li>'YGL192W'</li>\n",
       "\t<li>'YCL055W'</li>\n",
       "\t<li>'YDR477W'</li>\n",
       "\t<li>'YGL115W'</li>\n",
       "\t<li>'YER027C'</li>\n",
       "\t<li>'YOL149W'</li>\n",
       "</ol>\n"
      ],
      "text/latex": [
       "\\begin{enumerate*}\n",
       "\\item 'YBR057C'\n",
       "\\item 'YGL192W'\n",
       "\\item 'YCL055W'\n",
       "\\item 'YDR477W'\n",
       "\\item 'YGL115W'\n",
       "\\item 'YER027C'\n",
       "\\item 'YOL149W'\n",
       "\\end{enumerate*}\n"
      ],
      "text/markdown": [
       "1. 'YBR057C'\n",
       "2. 'YGL192W'\n",
       "3. 'YCL055W'\n",
       "4. 'YDR477W'\n",
       "5. 'YGL115W'\n",
       "6. 'YER027C'\n",
       "7. 'YOL149W'\n",
       "\n",
       "\n"
      ],
      "text/plain": [
       "[1] \"YBR057C\" \"YGL192W\" \"YCL055W\" \"YDR477W\" \"YGL115W\" \"YER027C\" \"YOL149W\""
      ]
     },
     "metadata": {},
     "output_type": "display_data"
    }
   ],
   "source": [
    "getGenes(\"37\")"
   ]
  },
  {
   "cell_type": "code",
   "execution_count": 29,
   "metadata": {
    "collapsed": false
   },
   "outputs": [
    {
     "data": {
      "text/html": [
       "'YEL015W'"
      ],
      "text/latex": [
       "'YEL015W'"
      ],
      "text/markdown": [
       "'YEL015W'"
      ],
      "text/plain": [
       "[1] \"YEL015W\""
      ]
     },
     "metadata": {},
     "output_type": "display_data"
    }
   ],
   "source": [
    "getGenes(\"38\")"
   ]
  },
  {
   "cell_type": "code",
   "execution_count": 30,
   "metadata": {
    "collapsed": false
   },
   "outputs": [
    {
     "data": {
      "text/html": [
       "'YNL118C'"
      ],
      "text/latex": [
       "'YNL118C'"
      ],
      "text/markdown": [
       "'YNL118C'"
      ],
      "text/plain": [
       "[1] \"YNL118C\""
      ]
     },
     "metadata": {},
     "output_type": "display_data"
    }
   ],
   "source": [
    "getGenes(\"39\")"
   ]
  },
  {
   "cell_type": "code",
   "execution_count": 34,
   "metadata": {
    "collapsed": false
   },
   "outputs": [
    {
     "ename": "ERROR",
     "evalue": "Error in eval(expr, envir, enclos): object 'communities' not found\n",
     "output_type": "error",
     "traceback": [
      "Error in eval(expr, envir, enclos): object 'communities' not found\nTraceback:\n"
     ]
    }
   ],
   "source": [
    "communities"
   ]
  },
  {
   "cell_type": "code",
   "execution_count": 31,
   "metadata": {
    "collapsed": false
   },
   "outputs": [
    {
     "data": {
      "text/html": [
       "<ol class=list-inline>\n",
       "\t<li>'YCL046W'</li>\n",
       "\t<li>'YBR057C'</li>\n",
       "\t<li>'YCR050C'</li>\n",
       "\t<li>'YGL208W'</li>\n",
       "\t<li>'YNR048W'</li>\n",
       "\t<li>'YKL015W'</li>\n",
       "\t<li>'YGL192W'</li>\n",
       "\t<li>'YEL023C'</li>\n",
       "\t<li>'YEL015W'</li>\n",
       "\t<li>'YDL110C'</li>\n",
       "\t<li>'YCL055W'</li>\n",
       "\t<li>'YLR323C'</li>\n",
       "\t<li>'YDL011C'</li>\n",
       "\t<li>'YCR022C'</li>\n",
       "\t<li>'YFR057W'</li>\n",
       "\t<li>'YDL160C'</li>\n",
       "\t<li>'YGR099W'</li>\n",
       "\t<li>'YGR057C'</li>\n",
       "\t<li>'YBR094W'</li>\n",
       "\t<li>'YLR264W'</li>\n",
       "\t<li>'YDR315C'</li>\n",
       "\t<li>'YJL088W'</li>\n",
       "\t<li>'YNL118C'</li>\n",
       "\t<li>'YJR117W'</li>\n",
       "\t<li>'YKL039W'</li>\n",
       "\t<li>'YDL017W'</li>\n",
       "\t<li>'YDR477W'</li>\n",
       "\t<li>'YGL115W'</li>\n",
       "\t<li>'YER027C'</li>\n",
       "\t<li>'YOR006C'</li>\n",
       "\t<li>'YOL149W'</li>\n",
       "\t<li>'YOR078W'</li>\n",
       "</ol>\n"
      ],
      "text/latex": [
       "\\begin{enumerate*}\n",
       "\\item 'YCL046W'\n",
       "\\item 'YBR057C'\n",
       "\\item 'YCR050C'\n",
       "\\item 'YGL208W'\n",
       "\\item 'YNR048W'\n",
       "\\item 'YKL015W'\n",
       "\\item 'YGL192W'\n",
       "\\item 'YEL023C'\n",
       "\\item 'YEL015W'\n",
       "\\item 'YDL110C'\n",
       "\\item 'YCL055W'\n",
       "\\item 'YLR323C'\n",
       "\\item 'YDL011C'\n",
       "\\item 'YCR022C'\n",
       "\\item 'YFR057W'\n",
       "\\item 'YDL160C'\n",
       "\\item 'YGR099W'\n",
       "\\item 'YGR057C'\n",
       "\\item 'YBR094W'\n",
       "\\item 'YLR264W'\n",
       "\\item 'YDR315C'\n",
       "\\item 'YJL088W'\n",
       "\\item 'YNL118C'\n",
       "\\item 'YJR117W'\n",
       "\\item 'YKL039W'\n",
       "\\item 'YDL017W'\n",
       "\\item 'YDR477W'\n",
       "\\item 'YGL115W'\n",
       "\\item 'YER027C'\n",
       "\\item 'YOR006C'\n",
       "\\item 'YOL149W'\n",
       "\\item 'YOR078W'\n",
       "\\end{enumerate*}\n"
      ],
      "text/markdown": [
       "1. 'YCL046W'\n",
       "2. 'YBR057C'\n",
       "3. 'YCR050C'\n",
       "4. 'YGL208W'\n",
       "5. 'YNR048W'\n",
       "6. 'YKL015W'\n",
       "7. 'YGL192W'\n",
       "8. 'YEL023C'\n",
       "9. 'YEL015W'\n",
       "10. 'YDL110C'\n",
       "11. 'YCL055W'\n",
       "12. 'YLR323C'\n",
       "13. 'YDL011C'\n",
       "14. 'YCR022C'\n",
       "15. 'YFR057W'\n",
       "16. 'YDL160C'\n",
       "17. 'YGR099W'\n",
       "18. 'YGR057C'\n",
       "19. 'YBR094W'\n",
       "20. 'YLR264W'\n",
       "21. 'YDR315C'\n",
       "22. 'YJL088W'\n",
       "23. 'YNL118C'\n",
       "24. 'YJR117W'\n",
       "25. 'YKL039W'\n",
       "26. 'YDL017W'\n",
       "27. 'YDR477W'\n",
       "28. 'YGL115W'\n",
       "29. 'YER027C'\n",
       "30. 'YOR006C'\n",
       "31. 'YOL149W'\n",
       "32. 'YOR078W'\n",
       "\n",
       "\n"
      ],
      "text/plain": [
       " [1] \"YCL046W\" \"YBR057C\" \"YCR050C\" \"YGL208W\" \"YNR048W\" \"YKL015W\" \"YGL192W\"\n",
       " [8] \"YEL023C\" \"YEL015W\" \"YDL110C\" \"YCL055W\" \"YLR323C\" \"YDL011C\" \"YCR022C\"\n",
       "[15] \"YFR057W\" \"YDL160C\" \"YGR099W\" \"YGR057C\" \"YBR094W\" \"YLR264W\" \"YDR315C\"\n",
       "[22] \"YJL088W\" \"YNL118C\" \"YJR117W\" \"YKL039W\" \"YDL017W\" \"YDR477W\" \"YGL115W\"\n",
       "[29] \"YER027C\" \"YOR006C\" \"YOL149W\" \"YOR078W\""
      ]
     },
     "metadata": {},
     "output_type": "display_data"
    }
   ],
   "source": [
    "getGenes(getSuperCommunity(\"20\"))"
   ]
  },
  {
   "cell_type": "code",
   "execution_count": 32,
   "metadata": {
    "collapsed": false
   },
   "outputs": [
    {
     "data": {
      "text/html": [
       "'5'"
      ],
      "text/latex": [
       "'5'"
      ],
      "text/markdown": [
       "'5'"
      ],
      "text/plain": [
       "[1] \"5\""
      ]
     },
     "metadata": {},
     "output_type": "display_data"
    }
   ],
   "source": [
    "getSuperCommunity(\"20\")"
   ]
  },
  {
   "cell_type": "code",
   "execution_count": 33,
   "metadata": {
    "collapsed": false
   },
   "outputs": [
    {
     "data": {
      "text/html": [
       "<table>\n",
       "<thead><tr><th></th><th scope=col>2</th><th scope=col>3</th><th scope=col>4</th><th scope=col>5</th><th scope=col>6</th><th scope=col>7</th><th scope=col>8</th><th scope=col>9</th><th scope=col>10</th><th scope=col>11</th><th scope=col>12</th></tr></thead>\n",
       "<tbody>\n",
       "\t<tr><th scope=row>2</th><td>0</td><td>1</td><td>1</td><td>2</td><td>2</td><td>1</td><td>3</td><td>2</td><td>2</td><td>3</td><td>3</td></tr>\n",
       "\t<tr><th scope=row>3</th><td>1</td><td>0</td><td>1</td><td>1</td><td>1</td><td>1</td><td>2</td><td>1</td><td>1</td><td>2</td><td>2</td></tr>\n",
       "\t<tr><th scope=row>4</th><td>1</td><td>1</td><td>0</td><td>1</td><td>2</td><td>2</td><td>2</td><td>2</td><td>2</td><td>3</td><td>3</td></tr>\n",
       "\t<tr><th scope=row>5</th><td>2</td><td>1</td><td>1</td><td>0</td><td>1</td><td>2</td><td>1</td><td>2</td><td>2</td><td>3</td><td>3</td></tr>\n",
       "\t<tr><th scope=row>6</th><td>2</td><td>1</td><td>2</td><td>1</td><td>0</td><td>2</td><td>1</td><td>1</td><td>2</td><td>2</td><td>2</td></tr>\n",
       "\t<tr><th scope=row>7</th><td>1</td><td>1</td><td>2</td><td>2</td><td>2</td><td>0</td><td>3</td><td>2</td><td>2</td><td>3</td><td>3</td></tr>\n",
       "\t<tr><th scope=row>8</th><td>3</td><td>2</td><td>2</td><td>1</td><td>1</td><td>3</td><td>0</td><td>2</td><td>3</td><td>3</td><td>3</td></tr>\n",
       "\t<tr><th scope=row>9</th><td>2</td><td>1</td><td>2</td><td>2</td><td>1</td><td>2</td><td>2</td><td>0</td><td>1</td><td>1</td><td>1</td></tr>\n",
       "\t<tr><th scope=row>10</th><td>2</td><td>1</td><td>2</td><td>2</td><td>2</td><td>2</td><td>3</td><td>1</td><td>0</td><td>1</td><td>1</td></tr>\n",
       "\t<tr><th scope=row>11</th><td>3</td><td>2</td><td>3</td><td>3</td><td>2</td><td>3</td><td>3</td><td>1</td><td>1</td><td>0</td><td>2</td></tr>\n",
       "\t<tr><th scope=row>12</th><td>3</td><td>2</td><td>3</td><td>3</td><td>2</td><td>3</td><td>3</td><td>1</td><td>1</td><td>2</td><td>0</td></tr>\n",
       "</tbody>\n",
       "</table>\n"
      ],
      "text/latex": [
       "\\begin{tabular}{r|lllllllllll}\n",
       "  & 2 & 3 & 4 & 5 & 6 & 7 & 8 & 9 & 10 & 11 & 12\\\\\n",
       "\\hline\n",
       "\t2 & 0 & 1 & 1 & 2 & 2 & 1 & 3 & 2 & 2 & 3 & 3\\\\\n",
       "\t3 & 1 & 0 & 1 & 1 & 1 & 1 & 2 & 1 & 1 & 2 & 2\\\\\n",
       "\t4 & 1 & 1 & 0 & 1 & 2 & 2 & 2 & 2 & 2 & 3 & 3\\\\\n",
       "\t5 & 2 & 1 & 1 & 0 & 1 & 2 & 1 & 2 & 2 & 3 & 3\\\\\n",
       "\t6 & 2 & 1 & 2 & 1 & 0 & 2 & 1 & 1 & 2 & 2 & 2\\\\\n",
       "\t7 & 1 & 1 & 2 & 2 & 2 & 0 & 3 & 2 & 2 & 3 & 3\\\\\n",
       "\t8 & 3 & 2 & 2 & 1 & 1 & 3 & 0 & 2 & 3 & 3 & 3\\\\\n",
       "\t9 & 2 & 1 & 2 & 2 & 1 & 2 & 2 & 0 & 1 & 1 & 1\\\\\n",
       "\t10 & 2 & 1 & 2 & 2 & 2 & 2 & 3 & 1 & 0 & 1 & 1\\\\\n",
       "\t11 & 3 & 2 & 3 & 3 & 2 & 3 & 3 & 1 & 1 & 0 & 2\\\\\n",
       "\t12 & 3 & 2 & 3 & 3 & 2 & 3 & 3 & 1 & 1 & 2 & 0\\\\\n",
       "\\end{tabular}\n"
      ],
      "text/markdown": [
       "\n",
       "| <!--/--> | 2 | 3 | 4 | 5 | 6 | 7 | 8 | 9 | 10 | 11 | 12 | \n",
       "|---|---|---|---|---|---|---|---|---|---|---|\n",
       "| 2 | 0 | 1 | 1 | 2 | 2 | 1 | 3 | 2 | 2 | 3 | 3 | \n",
       "| 3 | 1 | 0 | 1 | 1 | 1 | 1 | 2 | 1 | 1 | 2 | 2 | \n",
       "| 4 | 1 | 1 | 0 | 1 | 2 | 2 | 2 | 2 | 2 | 3 | 3 | \n",
       "| 5 | 2 | 1 | 1 | 0 | 1 | 2 | 1 | 2 | 2 | 3 | 3 | \n",
       "| 6 | 2 | 1 | 2 | 1 | 0 | 2 | 1 | 1 | 2 | 2 | 2 | \n",
       "| 7 | 1 | 1 | 2 | 2 | 2 | 0 | 3 | 2 | 2 | 3 | 3 | \n",
       "| 8 | 3 | 2 | 2 | 1 | 1 | 3 | 0 | 2 | 3 | 3 | 3 | \n",
       "| 9 | 2 | 1 | 2 | 2 | 1 | 2 | 2 | 0 | 1 | 1 | 1 | \n",
       "| 10 | 2 | 1 | 2 | 2 | 2 | 2 | 3 | 1 | 0 | 1 | 1 | \n",
       "| 11 | 3 | 2 | 3 | 3 | 2 | 3 | 3 | 1 | 1 | 0 | 2 | \n",
       "| 12 | 3 | 2 | 3 | 3 | 2 | 3 | 3 | 1 | 1 | 2 | 0 | \n",
       "\n",
       "\n"
      ],
      "text/plain": [
       "   2 3 4 5 6 7 8 9 10 11 12\n",
       "2  0 1 1 2 2 1 3 2 2  3  3 \n",
       "3  1 0 1 1 1 1 2 1 1  2  2 \n",
       "4  1 1 0 1 2 2 2 2 2  3  3 \n",
       "5  2 1 1 0 1 2 1 2 2  3  3 \n",
       "6  2 1 2 1 0 2 1 1 2  2  2 \n",
       "7  1 1 2 2 2 0 3 2 2  3  3 \n",
       "8  3 2 2 1 1 3 0 2 3  3  3 \n",
       "9  2 1 2 2 1 2 2 0 1  1  1 \n",
       "10 2 1 2 2 2 2 3 1 0  1  1 \n",
       "11 3 2 3 3 2 3 3 1 1  0  2 \n",
       "12 3 2 3 3 2 3 3 1 1  2  0 "
      ]
     },
     "metadata": {},
     "output_type": "display_data"
    }
   ],
   "source": [
    "getShortestPath(\"1\")"
   ]
  },
  {
   "cell_type": "code",
   "execution_count": 47,
   "metadata": {
    "collapsed": false
   },
   "outputs": [],
   "source": [
    "comms <- unique(assignments[,colnames[2]])"
   ]
  },
  {
   "cell_type": "code",
   "execution_count": 53,
   "metadata": {
    "collapsed": false
   },
   "outputs": [],
   "source": [
    "layerMeanSimilarities <- sapply(colnames, function(colname)\n",
    "    mean(sapply(unique(assignments[,colname][assignments[,colname] != -1]), function(com) \n",
    "    mean(mgeneSim(genes = getGenes(com), semData = scGO, measure = \"Wang\", combine = \"BMA\", verbose=F)))))"
   ]
  },
  {
   "cell_type": "code",
   "execution_count": 54,
   "metadata": {
    "collapsed": false
   },
   "outputs": [
    {
     "data": {
      "text/html": [
       "<dl class=dl-horizontal>\n",
       "\t<dt>0</dt>\n",
       "\t\t<dd>0.237310272</dd>\n",
       "\t<dt>1</dt>\n",
       "\t\t<dd>0.332971775624777</dd>\n",
       "\t<dt>2</dt>\n",
       "\t\t<dd>0.496934841339825</dd>\n",
       "\t<dt>3</dt>\n",
       "\t\t<dd>0.652101172729962</dd>\n",
       "\t<dt>4</dt>\n",
       "\t\t<dd>0.7992</dd>\n",
       "</dl>\n"
      ],
      "text/latex": [
       "\\begin{description*}\n",
       "\\item[0] 0.237310272\n",
       "\\item[1] 0.332971775624777\n",
       "\\item[2] 0.496934841339825\n",
       "\\item[3] 0.652101172729962\n",
       "\\item[4] 0.7992\n",
       "\\end{description*}\n"
      ],
      "text/markdown": [
       "0\n",
       ":   0.2373102721\n",
       ":   0.3329717756247772\n",
       ":   0.4969348413398253\n",
       ":   0.6521011727299624\n",
       ":   0.7992\n",
       "\n"
      ],
      "text/plain": [
       "        0         1         2         3         4 \n",
       "0.2373103 0.3329718 0.4969348 0.6521012 0.7992000 "
      ]
     },
     "metadata": {},
     "output_type": "display_data"
    }
   ],
   "source": [
    "layerMeanSimilarities"
   ]
  },
  {
   "cell_type": "code",
   "execution_count": 57,
   "metadata": {
    "collapsed": false
   },
   "outputs": [
    {
     "data": {
      "image/png": "[encoded data removed]",
      "text/plain": [
       "plot without title"
      ]
     },
     "metadata": {},
     "output_type": "display_data"
    }
   ],
   "source": [
    "plot(0:4, layerMeanSimilarities, xlab=\"Layer\", ylab=\"Mean Similarity\", type = \"l\")"
   ]
  },
  {
   "cell_type": "code",
   "execution_count": null,
   "metadata": {
    "collapsed": true
   },
   "outputs": [],
   "source": []
  }
 ],
 "metadata": {
  "anaconda-cloud": {},
  "kernelspec": {
   "display_name": "R",
   "language": "R",
   "name": "ir"
  },
  "language_info": {
   "codemirror_mode": "r",
   "file_extension": ".r",
   "mimetype": "text/x-r-source",
   "name": "R",
   "pygments_lexer": "r",
   "version": "3.3.2"
  }
 },
 "nbformat": 4,
 "nbformat_minor": 2
}
