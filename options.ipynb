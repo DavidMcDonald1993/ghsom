{
 "cells": [
  {
   "cell_type": "code",
   "execution_count": 5,
   "metadata": {
    "collapsed": false
   },
   "outputs": [
    {
     "name": "stdout",
     "output_type": "stream",
     "text": [
      "0.9\n",
      "0.8\n",
      "0.7\n",
      "0.6\n",
      "0.5\n"
     ]
    }
   ],
   "source": [
    "import numpy as np\n",
    "\n",
    "for i in np.arange(0.5, 1, 0.1)[::-1]:\n",
    "    print i"
   ]
  },
  {
   "cell_type": "code",
   "execution_count": 4,
   "metadata": {
    "collapsed": false
   },
   "outputs": [
    {
     "name": "stderr",
     "output_type": "stream",
     "text": [
      "Usage: __main__.py [options]\n",
      "\n",
      "__main__.py: error: no such option: -f\n"
     ]
    },
    {
     "ename": "SystemExit",
     "evalue": "2",
     "output_type": "error",
     "traceback": [
      "An exception has occurred, use %tb to see the full traceback.\n",
      "\u001b[0;31mSystemExit\u001b[0m\u001b[0;31m:\u001b[0m 2\n"
     ]
    },
    {
     "name": "stderr",
     "output_type": "stream",
     "text": [
      "C:\\Miniconda3\\envs\\py27\\lib\\site-packages\\IPython\\core\\interactiveshell.py:2889: UserWarning: To exit: use 'exit', 'quit', or Ctrl-D.\n",
      "  warn(\"To exit: use 'exit', 'quit', or Ctrl-D.\", stacklevel=1)\n"
     ]
    }
   ],
   "source": [
    "import os\n",
    "import sys\n",
    "import time\n",
    "import optparse\n",
    "import subprocess\n",
    "import numpy as np\n",
    "\n",
    "def main():\n",
    "    parser = optparse.OptionParser(usage=\"usage: %prog [options]\")\n",
    "    parser.add_option(\"--experiment-name\", \"-e\", dest=\"experiment_name\",\n",
    "                      help=\"The name of the experiment in the database.\",\n",
    "                      type=\"string\")\n",
    "    \n",
    "    \n",
    "    kargs, args = parser.parse_args()\n",
    "    \n",
    "    print kargs\n",
    "    \n",
    "if __name__ == '__main__':\n",
    "    main()"
   ]
  },
  {
   "cell_type": "code",
   "execution_count": 10,
   "metadata": {
    "collapsed": false
   },
   "outputs": [],
   "source": [
    "import json\n",
    "\n",
    "def write_config_file(exp_name):\n",
    "\n",
    "    data = {\"language\": \"PYTHON\",\n",
    "            \"main-file\": \"speamrin_ghsom.py\",\n",
    "            \"experiment-name\": \"{}_exp\".format(exp_name),\n",
    "            \"likelihood\": \"GAUSSIAN\",\n",
    "            \"variables\": {\n",
    "            \"w\": {\"type\": \"FLOAT\",\"size\": 1,\"min\": 0.0001,\"max\": 1},\n",
    "            \"eta\": {\"type\": \"FLOAT\",\"size\": 1,\"min\": 0.0001,\"max\": 1},\n",
    "            \"sigma\": {\"type\": \"FLOAT\",\"size\": 1,\"min\": 0.001,\"max\": 1},\n",
    "            \"e_sg\": {\"type\": \"FLOAT\",\"size\": 1,\"min\": 0.3,\"max\": 1},\n",
    "            \"e_en\": {\"type\": \"FLOAT\",\"size\": 1,\"min\": 0.3,\"max\": 1}}}\n",
    "\n",
    "    with open('test_config.json', 'w') as outfile:\n",
    "        json.dump(data, outfile)"
   ]
  },
  {
   "cell_type": "code",
   "execution_count": 19,
   "metadata": {
    "collapsed": false
   },
   "outputs": [
    {
     "name": "stdout",
     "output_type": "stream",
     "text": [
      "13\n"
     ]
    }
   ],
   "source": [
    "def double(x = 2, y = 3):\n",
    "    return 2 * x + y\n",
    "\n",
    "print double(y=9)"
   ]
  },
  {
   "cell_type": "code",
   "execution_count": 20,
   "metadata": {
    "collapsed": false
   },
   "outputs": [
    {
     "name": "stdout",
     "output_type": "stream",
     "text": [
      "1\n"
     ]
    }
   ],
   "source": [
    "print str(len('value'.split(',')))"
   ]
  },
  {
   "cell_type": "code",
   "execution_count": 9,
   "metadata": {
    "collapsed": false
   },
   "outputs": [
    {
     "name": "stdout",
     "output_type": "stream",
     "text": [
      "0.666666666667\n"
     ]
    }
   ],
   "source": [
    "import networkx as nx\n",
    "import sklearn.metrics as met\n",
    "\n",
    "G = nx.Graph()\n",
    "G.add_edges_from([(1,2),(2,3)])\n",
    "\n",
    "G.node[1]['act'] = 'a'\n",
    "G.node[2]['act'] = 'a'\n",
    "G.node[3]['act'] = 'b'\n",
    "\n",
    "G.node[1]['pred'] = 'a'\n",
    "G.node[3]['pred'] = 'b'\n",
    "\n",
    "num_nodes = nx.number_of_nodes(G)\n",
    "\n",
    "actual_community = nx.get_node_attributes(G, 'act')\n",
    "predicted_community = nx.get_node_attributes(G, 'pred')\n",
    "\n",
    "# assigned_nodes = \n",
    "\n",
    "labels_true = [v for k,v in actual_community.items() if k in predicted_community]\n",
    "labels_pred = [v for k,v in predicted_community.items()]\n",
    "\n",
    "\n",
    "score = met.normalized_mutual_info_score(labels_true, labels_pred) * len(labels_pred) / num_nodes\n",
    "print score"
   ]
  }
 ],
 "metadata": {
  "kernelspec": {
   "display_name": "Python 2",
   "language": "python",
   "name": "python2"
  },
  "language_info": {
   "codemirror_mode": {
    "name": "ipython",
    "version": 2
   },
   "file_extension": ".py",
   "mimetype": "text/x-python",
   "name": "python",
   "nbconvert_exporter": "python",
   "pygments_lexer": "ipython2",
   "version": "2.7.13"
  }
 },
 "nbformat": 4,
 "nbformat_minor": 1
}
