{
 "cells": [
  {
   "cell_type": "code",
   "execution_count": 17,
   "metadata": {
    "collapsed": false
   },
   "outputs": [
    {
     "name": "stderr",
     "output_type": "stream",
     "text": [
      "Bioconductor version 3.4 (BiocInstaller 1.24.0), ?biocLite for help\n",
      "BioC_mirror: https://bioconductor.org\n",
      "Using Bioconductor 3.4 (BiocInstaller 1.24.0), R 3.3.2 (2016-10-31).\n",
      "Installing package(s) ‘org.Hs.eg.db’\n",
      "Updating HTML index of packages in '.Library'\n",
      "Making 'packages.html' ... done\n",
      "Old packages: 'backports', 'broom', 'colorspace', 'data.table', 'DBI',\n",
      "  'digest', 'forcats', 'ggplot2', 'jsonlite', 'Matrix', 'mgcv', 'nlme',\n",
      "  'openssl', 'pbdZMQ', 'pbkrtest', 'psych', 'Rcpp', 'RcppEigen', 'rprojroot',\n",
      "  'selectr', 'shiny', 'SparseM', 'stringr', 'tidyr', 'tidyverse', 'xml2', 'zoo'\n"
     ]
    }
   ],
   "source": [
    "source(\"https://bioconductor.org/biocLite.R\")\n",
    "biocLite(\"org.Hs.eg.db\")"
   ]
  },
  {
   "cell_type": "code",
   "execution_count": 1,
   "metadata": {
    "collapsed": false,
    "scrolled": true
   },
   "outputs": [
    {
     "name": "stderr",
     "output_type": "stream",
     "text": [
      "Loading required package: AnnotationDbi\n",
      "Loading required package: stats4\n",
      "Loading required package: BiocGenerics\n",
      "Loading required package: parallel\n",
      "\n",
      "Attaching package: ‘BiocGenerics’\n",
      "\n",
      "The following objects are masked from ‘package:parallel’:\n",
      "\n",
      "    clusterApply, clusterApplyLB, clusterCall, clusterEvalQ,\n",
      "    clusterExport, clusterMap, parApply, parCapply, parLapply,\n",
      "    parLapplyLB, parRapply, parSapply, parSapplyLB\n",
      "\n",
      "The following objects are masked from ‘package:stats’:\n",
      "\n",
      "    IQR, mad, xtabs\n",
      "\n",
      "The following objects are masked from ‘package:base’:\n",
      "\n",
      "    anyDuplicated, append, as.data.frame, cbind, colnames, do.call,\n",
      "    duplicated, eval, evalq, Filter, Find, get, grep, grepl, intersect,\n",
      "    is.unsorted, lapply, lengths, Map, mapply, match, mget, order,\n",
      "    paste, pmax, pmax.int, pmin, pmin.int, Position, rank, rbind,\n",
      "    Reduce, rownames, sapply, setdiff, sort, table, tapply, union,\n",
      "    unique, unsplit, which, which.max, which.min\n",
      "\n",
      "Loading required package: Biobase\n",
      "Welcome to Bioconductor\n",
      "\n",
      "    Vignettes contain introductory material; view with\n",
      "    'browseVignettes()'. To cite Bioconductor, see\n",
      "    'citation(\"Biobase\")', and for packages 'citation(\"pkgname\")'.\n",
      "\n",
      "Loading required package: IRanges\n",
      "Loading required package: S4Vectors\n",
      "\n",
      "Attaching package: ‘S4Vectors’\n",
      "\n",
      "The following objects are masked from ‘package:base’:\n",
      "\n",
      "    colMeans, colSums, expand.grid, rowMeans, rowSums\n",
      "\n",
      "\n",
      "Loading required package: graph\n",
      "Loading required package: SparseM\n",
      "\n",
      "Attaching package: ‘SparseM’\n",
      "\n",
      "The following object is masked from ‘package:base’:\n",
      "\n",
      "    backsolve\n",
      "\n",
      "\n",
      "groupGOTerms: \tGOBPTerm, GOMFTerm, GOCCTerm environments built.\n",
      "\n",
      "Attaching package: ‘topGO’\n",
      "\n",
      "The following object is masked from ‘package:IRanges’:\n",
      "\n",
      "    members\n",
      "\n",
      "\n",
      "\n",
      "GOSemSim v2.0.4  For help: https://guangchuangyu.github.io/GOSemSim\n",
      "\n",
      "If you use GOSemSim in published research, please cite:\n",
      "Guangchuang Yu, Fei Li, Yide Qin, Xiaochen Bo, Yibo Wu, Shengqi Wang. GOSemSim: an R package for measuring semantic similarity among GO terms and gene products Bioinformatics 2010, 26(7):976-978\n"
     ]
    }
   ],
   "source": [
    "#libraries\n",
    "library(GO.db)\n",
    "library(topGO)\n",
    "library(org.Hs.eg.db)\n",
    "library(org.Sc.sgd.db)\n",
    "library(GOSemSim)"
   ]
  },
  {
   "cell_type": "code",
   "execution_count": 2,
   "metadata": {
    "collapsed": true
   },
   "outputs": [],
   "source": [
    "# db <- org.Sc.sgd.db\n",
    "# mapping <- \"org.Sc.sgd.db\"\n",
    "# ID <- \"ENSEMBL\"\n",
    "db <- org.Hs.eg.db\n",
    "mapping <- \"org.Hs.eg.db\"\n",
    "ID <- \"ENTREZ\""
   ]
  },
  {
   "cell_type": "code",
   "execution_count": 3,
   "metadata": {
    "collapsed": false
   },
   "outputs": [],
   "source": [
    "#background gene list\n",
    "setwd('/home/david/Documents/ghsom')\n",
    "# allGenes <- scan(\"Y2H_union.txt\", character())\n",
    "allGenes <- scan(\"HI-II-14.txt\", character())\n",
    "allGenes <- unique(allGenes) "
   ]
  },
  {
   "cell_type": "code",
   "execution_count": 4,
   "metadata": {
    "collapsed": false
   },
   "outputs": [
    {
     "data": {
      "text/html": [
       "4303"
      ],
      "text/latex": [
       "4303"
      ],
      "text/markdown": [
       "4303"
      ],
      "text/plain": [
       "[1] 4303"
      ]
     },
     "metadata": {},
     "output_type": "display_data"
    }
   ],
   "source": [
    "length(allGenes)"
   ]
  },
  {
   "cell_type": "code",
   "execution_count": 5,
   "metadata": {
    "collapsed": false
   },
   "outputs": [
    {
     "data": {
      "text/html": [
       "27"
      ],
      "text/latex": [
       "27"
      ],
      "text/markdown": [
       "27"
      ],
      "text/plain": [
       "[1] 27"
      ]
     },
     "metadata": {},
     "output_type": "display_data"
    }
   ],
   "source": [
    "##load all community gene lists\n",
    "# setwd(\"/home/david/Documents/ghsom/union_communities_09\")\n",
    "setwd(\"/home/david/Documents/ghsom/hi_communities_08\")\n",
    "\n",
    "g <- list()\n",
    "numCom <- 0\n",
    "filename <- sprintf(\"community_%s.txt\", numCom)\n",
    "while (file.exists(filename)) {\n",
    "    numCom <- numCom + 1\n",
    "    g[[numCom]] <- scan(filename, character())\n",
    "    filename <- sprintf(\"community_%s.txt\", numCom)\n",
    "}\n",
    "numCom"
   ]
  },
  {
   "cell_type": "code",
   "execution_count": 6,
   "metadata": {
    "collapsed": false
   },
   "outputs": [],
   "source": [
    "#distances between neurons\n",
    "shortest.path <- read.csv(\"shortest_path.csv\", sep=\",\", header=FALSE)"
   ]
  },
  {
   "cell_type": "code",
   "execution_count": 7,
   "metadata": {
    "collapsed": false
   },
   "outputs": [],
   "source": [
    "find_representative_term <- function(terms){\n",
    "    \n",
    "    counts <- numeric(length(terms))\n",
    "    names(counts) <- terms\n",
    "\n",
    "    for (term in terms) {\n",
    "        \n",
    "        ancestors <- as.list(GOBPANCESTOR[term])\n",
    "        for (ancestor in ancestors) {\n",
    "            counts[ancestor] <- counts[ancestor] + 1\n",
    "        }\n",
    "#         result <- tryCatch({\n",
    "#             ancestors <- get_term_property(go, \"ancestors\", term, as_names = FALSE)\n",
    "#             for (ancestor in ancestors) {\n",
    "#                 counts[ancestor] <- counts[ancestor] + 1\n",
    "#             }\n",
    "#         }, warning <- function(w) {\n",
    "#             print(\"warning\")\n",
    "#         }, error <- function(e) {\n",
    "#             print(\"error\")\n",
    "#         }, finally <- {})\n",
    "\n",
    "    }\n",
    "    return (sort(names(counts), decreasing=TRUE)[1])\n",
    "}"
   ]
  },
  {
   "cell_type": "code",
   "execution_count": null,
   "metadata": {
    "collapsed": false,
    "scrolled": true
   },
   "outputs": [
    {
     "name": "stderr",
     "output_type": "stream",
     "text": [
      "\n",
      "Building most specific GOs .....\n",
      "\t( 6179 GO terms found. )\n",
      "\n",
      "Build GO DAG topology ..........\n",
      "\t( 10201 GO terms and 24102 relations. )\n",
      "\n",
      "Annotating nodes ...............\n",
      "\t( 3674 genes annotated to the GO terms. )\n",
      "\n",
      "\t\t\t -- Classic Algorithm -- \n",
      "\n",
      "\t\t the algorithm is scoring 1109 nontrivial nodes\n",
      "\t\t parameters: \n",
      "\t\t\t test statistic: fisher\n",
      "\n",
      "\t\t\t -- Elim Algorithm -- \n",
      "\n",
      "\t\t the algorithm is scoring 1109 nontrivial nodes\n",
      "\t\t parameters: \n",
      "\t\t\t test statistic: fisher\n",
      "\t\t\t cutOff: 0.01\n",
      "\n",
      "\t Level 14:\t2 nodes to be scored\t(0 eliminated genes)\n",
      "\n",
      "\t Level 13:\t16 nodes to be scored\t(0 eliminated genes)\n",
      "\n",
      "\t Level 12:\t29 nodes to be scored\t(0 eliminated genes)\n",
      "\n",
      "\t Level 11:\t39 nodes to be scored\t(0 eliminated genes)\n",
      "\n",
      "\t Level 10:\t67 nodes to be scored\t(0 eliminated genes)\n",
      "\n",
      "\t Level 9:\t100 nodes to be scored\t(0 eliminated genes)\n",
      "\n",
      "\t Level 8:\t134 nodes to be scored\t(30 eliminated genes)\n",
      "\n",
      "\t Level 7:\t175 nodes to be scored\t(354 eliminated genes)\n",
      "\n",
      "\t Level 6:\t194 nodes to be scored\t(354 eliminated genes)\n",
      "\n",
      "\t Level 5:\t180 nodes to be scored\t(1449 eliminated genes)\n",
      "\n",
      "\t Level 4:\t110 nodes to be scored\t(1449 eliminated genes)\n",
      "\n",
      "\t Level 3:\t45 nodes to be scored\t(1449 eliminated genes)\n",
      "\n",
      "\t Level 2:\t17 nodes to be scored\t(1449 eliminated genes)\n",
      "\n",
      "\t Level 1:\t1 nodes to be scored\t(1449 eliminated genes)\n"
     ]
    },
    {
     "name": "stdout",
     "output_type": "stream",
     "text": [
      "[1] \"community 1 complete\"\n"
     ]
    },
    {
     "name": "stderr",
     "output_type": "stream",
     "text": [
      "\n",
      "Building most specific GOs .....\n",
      "\t( 6179 GO terms found. )\n",
      "\n",
      "Build GO DAG topology ..........\n",
      "\t( 10201 GO terms and 24102 relations. )\n",
      "\n",
      "Annotating nodes ...............\n",
      "\t( 3674 genes annotated to the GO terms. )\n",
      "\n",
      "\t\t\t -- Classic Algorithm -- \n",
      "\n",
      "\t\t the algorithm is scoring 1580 nontrivial nodes\n",
      "\t\t parameters: \n",
      "\t\t\t test statistic: fisher\n",
      "\n",
      "\t\t\t -- Elim Algorithm -- \n",
      "\n",
      "\t\t the algorithm is scoring 1580 nontrivial nodes\n",
      "\t\t parameters: \n",
      "\t\t\t test statistic: fisher\n",
      "\t\t\t cutOff: 0.01\n",
      "\n",
      "\t Level 15:\t4 nodes to be scored\t(0 eliminated genes)\n",
      "\n",
      "\t Level 14:\t7 nodes to be scored\t(0 eliminated genes)\n",
      "\n",
      "\t Level 13:\t18 nodes to be scored\t(0 eliminated genes)\n",
      "\n",
      "\t Level 12:\t32 nodes to be scored\t(0 eliminated genes)\n",
      "\n",
      "\t Level 11:\t68 nodes to be scored\t(320 eliminated genes)\n",
      "\n",
      "\t Level 10:\t117 nodes to be scored\t(977 eliminated genes)\n",
      "\n",
      "\t Level 9:\t158 nodes to be scored\t(980 eliminated genes)\n",
      "\n",
      "\t Level 8:\t188 nodes to be scored\t(980 eliminated genes)\n",
      "\n",
      "\t Level 7:\t252 nodes to be scored\t(980 eliminated genes)\n",
      "\n",
      "\t Level 6:\t280 nodes to be scored\t(997 eliminated genes)\n",
      "\n",
      "\t Level 5:\t237 nodes to be scored\t(997 eliminated genes)\n",
      "\n",
      "\t Level 4:\t147 nodes to be scored\t(1034 eliminated genes)\n",
      "\n",
      "\t Level 3:\t53 nodes to be scored\t(1038 eliminated genes)\n",
      "\n",
      "\t Level 2:\t18 nodes to be scored\t(1038 eliminated genes)\n",
      "\n",
      "\t Level 1:\t1 nodes to be scored\t(1082 eliminated genes)\n"
     ]
    },
    {
     "name": "stdout",
     "output_type": "stream",
     "text": [
      "[1] \"community 2 complete\"\n"
     ]
    },
    {
     "name": "stderr",
     "output_type": "stream",
     "text": [
      "\n",
      "Building most specific GOs .....\n",
      "\t( 6179 GO terms found. )\n",
      "\n",
      "Build GO DAG topology ..........\n",
      "\t( 10201 GO terms and 24102 relations. )\n",
      "\n",
      "Annotating nodes ...............\n",
      "\t( 3674 genes annotated to the GO terms. )\n",
      "\n",
      "\t\t\t -- Classic Algorithm -- \n",
      "\n",
      "\t\t the algorithm is scoring 2568 nontrivial nodes\n",
      "\t\t parameters: \n",
      "\t\t\t test statistic: fisher\n",
      "\n",
      "\t\t\t -- Elim Algorithm -- \n",
      "\n",
      "\t\t the algorithm is scoring 2568 nontrivial nodes\n",
      "\t\t parameters: \n",
      "\t\t\t test statistic: fisher\n",
      "\t\t\t cutOff: 0.01\n",
      "\n",
      "\t Level 18:\t1 nodes to be scored\t(0 eliminated genes)\n",
      "\n",
      "\t Level 17:\t1 nodes to be scored\t(0 eliminated genes)\n",
      "\n",
      "\t Level 16:\t1 nodes to be scored\t(0 eliminated genes)\n",
      "\n",
      "\t Level 15:\t7 nodes to be scored\t(0 eliminated genes)\n",
      "\n",
      "\t Level 14:\t22 nodes to be scored\t(0 eliminated genes)\n",
      "\n",
      "\t Level 13:\t58 nodes to be scored\t(0 eliminated genes)\n",
      "\n",
      "\t Level 12:\t99 nodes to be scored\t(0 eliminated genes)\n",
      "\n",
      "\t Level 11:\t139 nodes to be scored\t(21 eliminated genes)\n",
      "\n",
      "\t Level 10:\t209 nodes to be scored\t(21 eliminated genes)\n",
      "\n",
      "\t Level 9:\t303 nodes to be scored\t(21 eliminated genes)\n",
      "\n",
      "\t Level 8:\t347 nodes to be scored\t(71 eliminated genes)\n",
      "\n",
      "\t Level 7:\t420 nodes to be scored\t(146 eliminated genes)\n",
      "\n",
      "\t Level 6:\t397 nodes to be scored\t(176 eliminated genes)\n",
      "\n",
      "\t Level 5:\t306 nodes to be scored\t(216 eliminated genes)\n",
      "\n",
      "\t Level 4:\t182 nodes to be scored\t(349 eliminated genes)\n",
      "\n",
      "\t Level 3:\t56 nodes to be scored\t(376 eliminated genes)\n",
      "\n",
      "\t Level 2:\t19 nodes to be scored\t(376 eliminated genes)\n",
      "\n",
      "\t Level 1:\t1 nodes to be scored\t(376 eliminated genes)\n"
     ]
    },
    {
     "name": "stdout",
     "output_type": "stream",
     "text": [
      "[1] \"community 3 complete\"\n"
     ]
    },
    {
     "name": "stderr",
     "output_type": "stream",
     "text": [
      "\n",
      "Building most specific GOs .....\n",
      "\t( 6179 GO terms found. )\n",
      "\n",
      "Build GO DAG topology ..........\n",
      "\t( 10201 GO terms and 24102 relations. )\n",
      "\n",
      "Annotating nodes ...............\n",
      "\t( 3674 genes annotated to the GO terms. )\n",
      "\n",
      "\t\t\t -- Classic Algorithm -- \n",
      "\n",
      "\t\t the algorithm is scoring 2256 nontrivial nodes\n",
      "\t\t parameters: \n",
      "\t\t\t test statistic: fisher\n",
      "\n",
      "\t\t\t -- Elim Algorithm -- \n",
      "\n",
      "\t\t the algorithm is scoring 2256 nontrivial nodes\n",
      "\t\t parameters: \n",
      "\t\t\t test statistic: fisher\n",
      "\t\t\t cutOff: 0.01\n",
      "\n",
      "\t Level 17:\t1 nodes to be scored\t(0 eliminated genes)\n",
      "\n",
      "\t Level 16:\t1 nodes to be scored\t(0 eliminated genes)\n",
      "\n",
      "\t Level 15:\t6 nodes to be scored\t(0 eliminated genes)\n",
      "\n",
      "\t Level 14:\t19 nodes to be scored\t(0 eliminated genes)\n",
      "\n",
      "\t Level 13:\t53 nodes to be scored\t(0 eliminated genes)\n",
      "\n",
      "\t Level 12:\t83 nodes to be scored\t(0 eliminated genes)\n",
      "\n",
      "\t Level 11:\t113 nodes to be scored\t(70 eliminated genes)\n",
      "\n",
      "\t Level 10:\t175 nodes to be scored\t(78 eliminated genes)\n",
      "\n",
      "\t Level 9:\t270 nodes to be scored\t(99 eliminated genes)\n",
      "\n",
      "\t Level 8:\t297 nodes to be scored\t(140 eliminated genes)\n",
      "\n",
      "\t Level 7:\t373 nodes to be scored\t(154 eliminated genes)\n",
      "\n",
      "\t Level 6:\t348 nodes to be scored\t(276 eliminated genes)\n",
      "\n",
      "\t Level 5:\t283 nodes to be scored\t(856 eliminated genes)\n",
      "\n",
      "\t Level 4:\t163 nodes to be scored\t(1010 eliminated genes)\n",
      "\n",
      "\t Level 3:\t51 nodes to be scored\t(1231 eliminated genes)\n",
      "\n",
      "\t Level 2:\t19 nodes to be scored\t(1231 eliminated genes)\n",
      "\n",
      "\t Level 1:\t1 nodes to be scored\t(1231 eliminated genes)\n"
     ]
    },
    {
     "name": "stdout",
     "output_type": "stream",
     "text": [
      "[1] \"community 4 complete\"\n"
     ]
    },
    {
     "name": "stderr",
     "output_type": "stream",
     "text": [
      "\n",
      "Building most specific GOs .....\n",
      "\t( 6179 GO terms found. )\n",
      "\n",
      "Build GO DAG topology ..........\n",
      "\t( 10201 GO terms and 24102 relations. )\n",
      "\n",
      "Annotating nodes ...............\n",
      "\t( 3674 genes annotated to the GO terms. )\n",
      "\n",
      "\t\t\t -- Classic Algorithm -- \n",
      "\n",
      "\t\t the algorithm is scoring 1703 nontrivial nodes\n",
      "\t\t parameters: \n",
      "\t\t\t test statistic: fisher\n",
      "\n",
      "\t\t\t -- Elim Algorithm -- \n",
      "\n",
      "\t\t the algorithm is scoring 1703 nontrivial nodes\n",
      "\t\t parameters: \n",
      "\t\t\t test statistic: fisher\n",
      "\t\t\t cutOff: 0.01\n",
      "\n",
      "\t Level 18:\t1 nodes to be scored\t(0 eliminated genes)\n",
      "\n",
      "\t Level 17:\t2 nodes to be scored\t(0 eliminated genes)\n",
      "\n",
      "\t Level 16:\t1 nodes to be scored\t(0 eliminated genes)\n",
      "\n",
      "\t Level 15:\t5 nodes to be scored\t(0 eliminated genes)\n",
      "\n",
      "\t Level 14:\t15 nodes to be scored\t(0 eliminated genes)\n",
      "\n",
      "\t Level 13:\t31 nodes to be scored\t(0 eliminated genes)\n",
      "\n",
      "\t Level 12:\t56 nodes to be scored\t(0 eliminated genes)\n",
      "\n",
      "\t Level 11:\t82 nodes to be scored\t(0 eliminated genes)\n",
      "\n",
      "\t Level 10:\t127 nodes to be scored\t(84 eliminated genes)\n",
      "\n",
      "\t Level 9:\t181 nodes to be scored\t(182 eliminated genes)\n",
      "\n",
      "\t Level 8:\t226 nodes to be scored\t(205 eliminated genes)\n",
      "\n",
      "\t Level 7:\t271 nodes to be scored\t(227 eliminated genes)\n",
      "\n",
      "\t Level 6:\t271 nodes to be scored\t(452 eliminated genes)\n",
      "\n",
      "\t Level 5:\t228 nodes to be scored\t(1300 eliminated genes)\n",
      "\n",
      "\t Level 4:\t139 nodes to be scored\t(1510 eliminated genes)\n",
      "\n",
      "\t Level 3:\t48 nodes to be scored\t(1518 eliminated genes)\n",
      "\n",
      "\t Level 2:\t18 nodes to be scored\t(1518 eliminated genes)\n",
      "\n",
      "\t Level 1:\t1 nodes to be scored\t(1518 eliminated genes)\n"
     ]
    },
    {
     "name": "stdout",
     "output_type": "stream",
     "text": [
      "[1] \"community 5 complete\"\n"
     ]
    },
    {
     "name": "stderr",
     "output_type": "stream",
     "text": [
      "\n",
      "Building most specific GOs .....\n",
      "\t( 6179 GO terms found. )\n",
      "\n",
      "Build GO DAG topology ..........\n"
     ]
    }
   ],
   "source": [
    "cutOff <- 0.05\n",
    "\n",
    "geneLists <- vector(\"list\", numCom) \n",
    "GOdataObjects <- vector(\"list\", numCom) \n",
    "resultFishers <- vector(\"list\", numCom) \n",
    "resultFisher.elims <- vector(\"list\", numCom) \n",
    "results <- vector(\"list\", numCom) \n",
    "topResults <- vector(\"list\", numCom) \n",
    "gos <- vector(\"list\", numCom) \n",
    "representativeTerms <- character(length = numCom)\n",
    "\n",
    "#perform enrichment analyses\n",
    "for (c in 1:numCom){\n",
    "    \n",
    "    #factor of interesting genes\n",
    "    geneList <- factor(as.integer(allGenes %in% g[[c]]))\n",
    "    names(geneList) <- allGenes\n",
    "    geneLists[[c]] <- geneList\n",
    "    \n",
    "    #construct topGO object\n",
    "    #yeast\n",
    "#     GOdata <- new(\"topGOdata\", description=sprintf(\"topGO object for community %s\", c),\n",
    "#                   ontology = \"BP\", allGenes = geneList,\n",
    "#                   annotationFun = annFUN.org, mapping = \"org.Sc.sgd.db\", \n",
    "#                   ID = \"ENSEMBL\", nodeSize = 10)\n",
    "    ##human\n",
    "    GOdata <- new(\"topGOdata\", description=sprintf(\"topGO object for community %s\", c),\n",
    "                  ontology = \"BP\", allGenes = geneList,\n",
    "                  annotationFun = annFUN.org, mapping = mapping, \n",
    "                  ID = ID, nodeSize = 10)\n",
    "    GOdataObjects[[c]] <- GOdata\n",
    "    \n",
    "    #fishers exact test classic\n",
    "    resultFisher <- runTest(GOdata, algorithm = \"classic\", statistic = \"fisher\")\n",
    "    resultFishers[[c]] <- resultFisher\n",
    "    \n",
    "    #fishers exact test elimination\n",
    "    resultFisher.elim <- runTest(GOdata, algorithm = \"elim\", statistic = \"fisher\")\n",
    "    resultFisher.elims[[c]] <- resultFisher.elim\n",
    "    \n",
    "    #tabulate results\n",
    "    allRes <- GenTable(GOdata, classicFisher = resultFisher,\n",
    "                  elimFisher = resultFisher.elim,\n",
    "                  orderBy = \"classicFisher\", topNodes = 500)\n",
    "    results[[c]] <- allRes\n",
    "    \n",
    "    #go terms <0.01 on both tests\n",
    "    topResults[[c]] <- subset(allRes, classicFisher < cutOff & elimFisher < cutOff)\n",
    "    gos[[c]] <- subset(allRes, classicFisher < cutOff & elimFisher < cutOff)$GO.ID\n",
    "    \n",
    "    #term that is ancestor of most terms\n",
    "    representativeTerms[c] <- find_representative_term(gos[[c]])\n",
    "    \n",
    "    print(sprintf(\"community %s complete\", c))\n",
    "}"
   ]
  },
  {
   "cell_type": "code",
   "execution_count": 9,
   "metadata": {
    "collapsed": false
   },
   "outputs": [
    {
     "name": "stdout",
     "output_type": "stream",
     "text": [
      "[1] \"community 1 complete\"\n",
      "[1] \"community 2 complete\"\n",
      "[1] \"community 3 complete\"\n",
      "[1] \"community 4 complete\"\n",
      "[1] \"community 5 complete\"\n",
      "[1] \"community 6 complete\"\n",
      "[1] \"community 7 complete\"\n",
      "[1] \"community 8 complete\"\n",
      "[1] \"community 9 complete\"\n",
      "[1] \"community 10 complete\"\n",
      "[1] \"community 11 complete\"\n",
      "[1] \"community 12 complete\"\n",
      "[1] \"community 13 complete\"\n",
      "[1] \"community 14 complete\"\n",
      "[1] \"community 15 complete\"\n",
      "[1] \"community 16 complete\"\n",
      "[1] \"community 17 complete\"\n",
      "[1] \"community 18 complete\"\n",
      "[1] \"community 19 complete\"\n",
      "[1] \"community 20 complete\"\n",
      "[1] \"community 21 complete\"\n",
      "[1] \"community 22 complete\"\n",
      "[1] \"community 23 complete\"\n",
      "[1] \"community 24 complete\"\n",
      "[1] \"community 25 complete\"\n",
      "[1] \"community 26 complete\"\n",
      "[1] \"community 27 complete\"\n"
     ]
    }
   ],
   "source": [
    "##find representatiove terms\n",
    "\n",
    "for (c in 1:numCom){\n",
    "    representativeTerms[c] <- find_representative_term(gos[[c]])\n",
    "    print(sprintf(\"community %s complete\", c))\n",
    "}"
   ]
  },
  {
   "cell_type": "code",
   "execution_count": 13,
   "metadata": {
    "collapsed": false
   },
   "outputs": [
    {
     "data": {
      "text/html": [
       "<ol class=list-inline>\n",
       "\t<li>'GO:2001141'</li>\n",
       "\t<li>'GO:2001141'</li>\n",
       "\t<li>'GO:2000112'</li>\n",
       "\t<li>'GO:2001251'</li>\n",
       "\t<li>'GO:1903046'</li>\n",
       "</ol>\n"
      ],
      "text/latex": [
       "\\begin{enumerate*}\n",
       "\\item 'GO:2001141'\n",
       "\\item 'GO:2001141'\n",
       "\\item 'GO:2000112'\n",
       "\\item 'GO:2001251'\n",
       "\\item 'GO:1903046'\n",
       "\\end{enumerate*}\n"
      ],
      "text/markdown": [
       "1. 'GO:2001141'\n",
       "2. 'GO:2001141'\n",
       "3. 'GO:2000112'\n",
       "4. 'GO:2001251'\n",
       "5. 'GO:1903046'\n",
       "\n",
       "\n"
      ],
      "text/plain": [
       "[1] \"GO:2001141\" \"GO:2001141\" \"GO:2000112\" \"GO:2001251\" \"GO:1903046\""
      ]
     },
     "metadata": {},
     "output_type": "display_data"
    }
   ],
   "source": [
    "representativeTerms"
   ]
  },
  {
   "cell_type": "code",
   "execution_count": 8,
   "metadata": {
    "collapsed": false
   },
   "outputs": [
    {
     "name": "stdout",
     "output_type": "stream",
     "text": [
      "[1] \"saved terms 1\"\n",
      "[1] \"saved terms 2\"\n",
      "[1] \"saved terms 3\"\n",
      "[1] \"saved terms 4\"\n",
      "[1] \"saved terms 5\"\n",
      "[1] \"saved terms 6\"\n",
      "[1] \"saved terms 7\"\n",
      "[1] \"saved terms 8\"\n",
      "[1] \"saved terms 9\"\n"
     ]
    }
   ],
   "source": [
    "dir.create(\"/home/david/Documents/ghsom/uetz_go_terms\")\n",
    "setwd(\"/home/david/Documents/ghsom/uetz_go_terms\")\n",
    "for (c in 1:numCom){\n",
    "    write.csv(topResults[[c]], sprintf(\"go_terms_%s\", c))\n",
    "    print(sprintf(\"saved terms %s\", c))\n",
    "} "
   ]
  },
  {
   "cell_type": "code",
   "execution_count": null,
   "metadata": {
    "collapsed": false
   },
   "outputs": [],
   "source": [
    "##SEMATIC SIMILARITY\n",
    "#construct gosemsim object\n",
    "hsGO <- godata(mapping, ont=\"BP\")"
   ]
  },
  {
   "cell_type": "code",
   "execution_count": 11,
   "metadata": {
    "collapsed": false
   },
   "outputs": [],
   "source": [
    "semSimTable <- mgoSim(representativeTerms, representativeTerms, semData=hsGO, measure=\"Wang\", combine=NULL)"
   ]
  },
  {
   "cell_type": "code",
   "execution_count": 12,
   "metadata": {
    "collapsed": false
   },
   "outputs": [
    {
     "data": {
      "text/html": [
       "<table>\n",
       "<thead><tr><th></th><th scope=col>GO:2001141</th><th scope=col>GO:2001141</th><th scope=col>GO:2000026</th><th scope=col>GO:2001141</th><th scope=col>GO:2001141</th><th scope=col>GO:2000772</th><th scope=col>GO:2000134</th><th scope=col>GO:2001238</th><th scope=col>GO:1990542</th><th scope=col>GO:2001238</th><th scope=col>⋯</th><th scope=col>GO:2001141</th><th scope=col>GO:1903532</th><th scope=col>GO:1990778</th><th scope=col>GO:2001252</th><th scope=col>GO:2001259</th><th scope=col>GO:2001141</th><th scope=col>GO:2001235</th><th scope=col>GO:1903335</th><th scope=col>GO:2001251</th><th scope=col>GO:2001257</th></tr></thead>\n",
       "<tbody>\n",
       "\t<tr><th scope=row>GO:2001141</th><td>1.000</td><td>1.000</td><td>0.095</td><td>1.000</td><td>1.000</td><td>0.133</td><td>0.092</td><td>0.090</td><td>0.054</td><td>0.090</td><td>⋯    </td><td>1.000</td><td>0.128</td><td>0.025</td><td>0.121</td><td>0.091</td><td>1.000</td><td>0.098</td><td>0.124</td><td>0.121</td><td>0.108</td></tr>\n",
       "\t<tr><th scope=row>GO:2001141</th><td>1.000</td><td>1.000</td><td>0.095</td><td>1.000</td><td>1.000</td><td>0.133</td><td>0.092</td><td>0.090</td><td>0.054</td><td>0.090</td><td>⋯    </td><td>1.000</td><td>0.128</td><td>0.025</td><td>0.121</td><td>0.091</td><td>1.000</td><td>0.098</td><td>0.124</td><td>0.121</td><td>0.108</td></tr>\n",
       "\t<tr><th scope=row>GO:2000026</th><td>0.095</td><td>0.095</td><td>1.000</td><td>0.095</td><td>0.095</td><td>0.362</td><td>0.130</td><td>0.123</td><td>0.110</td><td>0.123</td><td>⋯    </td><td>0.095</td><td>0.173</td><td>0.062</td><td>0.149</td><td>0.126</td><td>0.095</td><td>0.131</td><td>0.186</td><td>0.149</td><td>0.161</td></tr>\n",
       "\t<tr><th scope=row>GO:2001141</th><td>1.000</td><td>1.000</td><td>0.095</td><td>1.000</td><td>1.000</td><td>0.133</td><td>0.092</td><td>0.090</td><td>0.054</td><td>0.090</td><td>⋯    </td><td>1.000</td><td>0.128</td><td>0.025</td><td>0.121</td><td>0.091</td><td>1.000</td><td>0.098</td><td>0.124</td><td>0.121</td><td>0.108</td></tr>\n",
       "\t<tr><th scope=row>GO:2001141</th><td>1.000</td><td>1.000</td><td>0.095</td><td>1.000</td><td>1.000</td><td>0.133</td><td>0.092</td><td>0.090</td><td>0.054</td><td>0.090</td><td>⋯    </td><td>1.000</td><td>0.128</td><td>0.025</td><td>0.121</td><td>0.091</td><td>1.000</td><td>0.098</td><td>0.124</td><td>0.121</td><td>0.108</td></tr>\n",
       "\t<tr><th scope=row>GO:2000772</th><td>0.133</td><td>0.133</td><td>0.362</td><td>0.133</td><td>0.133</td><td>1.000</td><td>0.182</td><td>0.251</td><td>0.177</td><td>0.251</td><td>⋯    </td><td>0.133</td><td>0.253</td><td>0.041</td><td>0.192</td><td>0.176</td><td>0.133</td><td>0.271</td><td>0.220</td><td>0.192</td><td>0.220</td></tr>\n",
       "</tbody>\n",
       "</table>\n"
      ],
      "text/latex": [
       "\\begin{tabular}{r|lllllllllllllllllllllllllll}\n",
       "  & GO:2001141 & GO:2001141 & GO:2000026 & GO:2001141 & GO:2001141 & GO:2000772 & GO:2000134 & GO:2001238 & GO:1990542 & GO:2001238 & ⋯ & GO:2001141 & GO:1903532 & GO:1990778 & GO:2001252 & GO:2001259 & GO:2001141 & GO:2001235 & GO:1903335 & GO:2001251 & GO:2001257\\\\\n",
       "\\hline\n",
       "\tGO:2001141 & 1.000 & 1.000 & 0.095 & 1.000 & 1.000 & 0.133 & 0.092 & 0.090 & 0.054 & 0.090 & ⋯     & 1.000 & 0.128 & 0.025 & 0.121 & 0.091 & 1.000 & 0.098 & 0.124 & 0.121 & 0.108\\\\\n",
       "\tGO:2001141 & 1.000 & 1.000 & 0.095 & 1.000 & 1.000 & 0.133 & 0.092 & 0.090 & 0.054 & 0.090 & ⋯     & 1.000 & 0.128 & 0.025 & 0.121 & 0.091 & 1.000 & 0.098 & 0.124 & 0.121 & 0.108\\\\\n",
       "\tGO:2000026 & 0.095 & 0.095 & 1.000 & 0.095 & 0.095 & 0.362 & 0.130 & 0.123 & 0.110 & 0.123 & ⋯     & 0.095 & 0.173 & 0.062 & 0.149 & 0.126 & 0.095 & 0.131 & 0.186 & 0.149 & 0.161\\\\\n",
       "\tGO:2001141 & 1.000 & 1.000 & 0.095 & 1.000 & 1.000 & 0.133 & 0.092 & 0.090 & 0.054 & 0.090 & ⋯     & 1.000 & 0.128 & 0.025 & 0.121 & 0.091 & 1.000 & 0.098 & 0.124 & 0.121 & 0.108\\\\\n",
       "\tGO:2001141 & 1.000 & 1.000 & 0.095 & 1.000 & 1.000 & 0.133 & 0.092 & 0.090 & 0.054 & 0.090 & ⋯     & 1.000 & 0.128 & 0.025 & 0.121 & 0.091 & 1.000 & 0.098 & 0.124 & 0.121 & 0.108\\\\\n",
       "\tGO:2000772 & 0.133 & 0.133 & 0.362 & 0.133 & 0.133 & 1.000 & 0.182 & 0.251 & 0.177 & 0.251 & ⋯     & 0.133 & 0.253 & 0.041 & 0.192 & 0.176 & 0.133 & 0.271 & 0.220 & 0.192 & 0.220\\\\\n",
       "\\end{tabular}\n"
      ],
      "text/markdown": [
       "\n",
       "| <!--/--> | GO:2001141 | GO:2001141 | GO:2000026 | GO:2001141 | GO:2001141 | GO:2000772 | GO:2000134 | GO:2001238 | GO:1990542 | GO:2001238 | ⋯ | GO:2001141 | GO:1903532 | GO:1990778 | GO:2001252 | GO:2001259 | GO:2001141 | GO:2001235 | GO:1903335 | GO:2001251 | GO:2001257 | \n",
       "|---|---|---|---|---|---|\n",
       "| GO:2001141 | 1.000 | 1.000 | 0.095 | 1.000 | 1.000 | 0.133 | 0.092 | 0.090 | 0.054 | 0.090 | ⋯     | 1.000 | 0.128 | 0.025 | 0.121 | 0.091 | 1.000 | 0.098 | 0.124 | 0.121 | 0.108 | \n",
       "| GO:2001141 | 1.000 | 1.000 | 0.095 | 1.000 | 1.000 | 0.133 | 0.092 | 0.090 | 0.054 | 0.090 | ⋯     | 1.000 | 0.128 | 0.025 | 0.121 | 0.091 | 1.000 | 0.098 | 0.124 | 0.121 | 0.108 | \n",
       "| GO:2000026 | 0.095 | 0.095 | 1.000 | 0.095 | 0.095 | 0.362 | 0.130 | 0.123 | 0.110 | 0.123 | ⋯     | 0.095 | 0.173 | 0.062 | 0.149 | 0.126 | 0.095 | 0.131 | 0.186 | 0.149 | 0.161 | \n",
       "| GO:2001141 | 1.000 | 1.000 | 0.095 | 1.000 | 1.000 | 0.133 | 0.092 | 0.090 | 0.054 | 0.090 | ⋯     | 1.000 | 0.128 | 0.025 | 0.121 | 0.091 | 1.000 | 0.098 | 0.124 | 0.121 | 0.108 | \n",
       "| GO:2001141 | 1.000 | 1.000 | 0.095 | 1.000 | 1.000 | 0.133 | 0.092 | 0.090 | 0.054 | 0.090 | ⋯     | 1.000 | 0.128 | 0.025 | 0.121 | 0.091 | 1.000 | 0.098 | 0.124 | 0.121 | 0.108 | \n",
       "| GO:2000772 | 0.133 | 0.133 | 0.362 | 0.133 | 0.133 | 1.000 | 0.182 | 0.251 | 0.177 | 0.251 | ⋯     | 0.133 | 0.253 | 0.041 | 0.192 | 0.176 | 0.133 | 0.271 | 0.220 | 0.192 | 0.220 | \n",
       "\n",
       "\n"
      ],
      "text/plain": [
       "           GO:2001141 GO:2001141 GO:2000026 GO:2001141 GO:2001141 GO:2000772\n",
       "GO:2001141 1.000      1.000      0.095      1.000      1.000      0.133     \n",
       "GO:2001141 1.000      1.000      0.095      1.000      1.000      0.133     \n",
       "GO:2000026 0.095      0.095      1.000      0.095      0.095      0.362     \n",
       "GO:2001141 1.000      1.000      0.095      1.000      1.000      0.133     \n",
       "GO:2001141 1.000      1.000      0.095      1.000      1.000      0.133     \n",
       "GO:2000772 0.133      0.133      0.362      0.133      0.133      1.000     \n",
       "           GO:2000134 GO:2001238 GO:1990542 GO:2001238 ⋯ GO:2001141 GO:1903532\n",
       "GO:2001141 0.092      0.090      0.054      0.090      ⋯ 1.000      0.128     \n",
       "GO:2001141 0.092      0.090      0.054      0.090      ⋯ 1.000      0.128     \n",
       "GO:2000026 0.130      0.123      0.110      0.123      ⋯ 0.095      0.173     \n",
       "GO:2001141 0.092      0.090      0.054      0.090      ⋯ 1.000      0.128     \n",
       "GO:2001141 0.092      0.090      0.054      0.090      ⋯ 1.000      0.128     \n",
       "GO:2000772 0.182      0.251      0.177      0.251      ⋯ 0.133      0.253     \n",
       "           GO:1990778 GO:2001252 GO:2001259 GO:2001141 GO:2001235 GO:1903335\n",
       "GO:2001141 0.025      0.121      0.091      1.000      0.098      0.124     \n",
       "GO:2001141 0.025      0.121      0.091      1.000      0.098      0.124     \n",
       "GO:2000026 0.062      0.149      0.126      0.095      0.131      0.186     \n",
       "GO:2001141 0.025      0.121      0.091      1.000      0.098      0.124     \n",
       "GO:2001141 0.025      0.121      0.091      1.000      0.098      0.124     \n",
       "GO:2000772 0.041      0.192      0.176      0.133      0.271      0.220     \n",
       "           GO:2001251 GO:2001257\n",
       "GO:2001141 0.121      0.108     \n",
       "GO:2001141 0.121      0.108     \n",
       "GO:2000026 0.149      0.161     \n",
       "GO:2001141 0.121      0.108     \n",
       "GO:2001141 0.121      0.108     \n",
       "GO:2000772 0.192      0.220     "
      ]
     },
     "metadata": {},
     "output_type": "display_data"
    }
   ],
   "source": [
    "t <- matrix(numeric(), nrow=numCom, ncol=numCom)\n",
    "for (t1 in 1:numCom) {\n",
    "    term1 <- representativeTerms[t1]\n",
    "    for (t2 in 1:numCom) {\n",
    "        term2 <- representativeTerms[t2]\n",
    "        t[[t1, t2]] <- semSimTable[term1, term2]\n",
    "    }\n",
    "}\n",
    "rownames(t) <- representativeTerms\n",
    "colnames(t) <- representativeTerms\n",
    "head(t)"
   ]
  },
  {
   "cell_type": "code",
   "execution_count": 17,
   "metadata": {
    "collapsed": false
   },
   "outputs": [
    {
     "data": {
      "text/html": [
       "<table>\n",
       "<thead><tr><th scope=col>V1</th></tr></thead>\n",
       "<tbody>\n",
       "\t<tr><td>0</td></tr>\n",
       "</tbody>\n",
       "</table>\n"
      ],
      "text/latex": [
       "\\begin{tabular}{r|l}\n",
       " V1\\\\\n",
       "\\hline\n",
       "\t 0\\\\\n",
       "\\end{tabular}\n"
      ],
      "text/markdown": [
       "\n",
       "V1 | \n",
       "|---|\n",
       "| 0 | \n",
       "\n",
       "\n"
      ],
      "text/plain": [
       "  V1\n",
       "1 0 "
      ]
     },
     "metadata": {},
     "output_type": "display_data"
    }
   ],
   "source": [
    "shortest.path"
   ]
  },
  {
   "cell_type": "code",
   "execution_count": 47,
   "metadata": {
    "collapsed": false
   },
   "outputs": [
    {
     "name": "stdout",
     "output_type": "stream",
     "text": [
      "[1] \"Completed: 1\"\n",
      "[1] \"Completed: 2\"\n",
      "[1] \"Completed: 3\"\n",
      "[1] \"Completed: 4\"\n",
      "[1] \"Completed: 5\"\n",
      "[1] \"Completed: 6\"\n",
      "[1] \"Completed: 7\"\n",
      "[1] \"Completed: 8\"\n",
      "[1] \"Completed: 9\"\n",
      "[1] \"Completed: 10\"\n",
      "[1] \"Completed: 11\"\n",
      "[1] \"Completed: 12\"\n",
      "[1] \"Completed: 13\"\n",
      "[1] \"Completed: 14\"\n",
      "[1] \"Completed: 15\"\n",
      "[1] \"Completed: 16\"\n",
      "[1] \"Completed: 17\"\n",
      "[1] \"Completed: 18\"\n",
      "[1] \"Completed: 19\"\n",
      "[1] \"Completed: 20\"\n",
      "[1] \"Completed: 21\"\n",
      "[1] \"Completed: 22\"\n",
      "[1] \"Completed: 23\"\n",
      "[1] \"Completed: 24\"\n",
      "[1] \"Completed: 25\"\n",
      "[1] \"Completed: 26\"\n",
      "[1] \"Completed: 27\"\n",
      "[1] \"Completed: 28\"\n",
      "[1] \"Completed: 29\"\n",
      "[1] \"Completed: 30\"\n",
      "[1] \"Completed: 31\"\n",
      "[1] \"Completed: 32\"\n",
      "[1] \"Completed: 33\"\n",
      "[1] \"Completed: 34\"\n",
      "[1] \"Completed: 35\"\n",
      "[1] \"Completed: 36\"\n",
      "[1] \"Completed: 37\"\n",
      "[1] \"Completed: 38\"\n",
      "[1] \"Completed: 39\"\n",
      "[1] \"Completed: 40\"\n",
      "[1] \"Completed: 41\"\n",
      "[1] \"Completed: 42\"\n",
      "[1] \"Completed: 43\"\n",
      "[1] \"Completed: 44\"\n",
      "[1] \"Completed: 45\"\n",
      "[1] \"Completed: 46\"\n",
      "[1] \"Completed: 47\"\n",
      "[1] \"Completed: 48\"\n",
      "[1] \"Completed: 49\"\n",
      "[1] \"Completed: 50\"\n",
      "[1] \"Completed: 51\"\n",
      "[1] \"Completed: 52\"\n",
      "[1] \"Completed: 53\"\n",
      "[1] \"Completed: 54\"\n",
      "[1] \"Completed: 55\"\n",
      "[1] \"Completed: 56\"\n",
      "[1] \"Completed: 57\"\n",
      "[1] \"Completed: 58\"\n",
      "[1] \"Completed: 59\"\n",
      "[1] \"Completed: 60\"\n",
      "[1] \"Completed: 61\"\n",
      "[1] \"Completed: 62\"\n",
      "[1] \"Completed: 63\"\n",
      "[1] \"Completed: 64\"\n",
      "[1] \"Completed: 65\"\n",
      "[1] \"Completed: 66\"\n",
      "[1] \"Completed: 67\"\n",
      "[1] \"Completed: 68\"\n",
      "[1] \"Completed: 69\"\n",
      "[1] \"Completed: 70\"\n",
      "[1] \"Completed: 71\"\n",
      "[1] \"Completed: 72\"\n",
      "[1] \"Completed: 73\"\n",
      "[1] \"Completed: 74\"\n",
      "[1] \"Completed: 75\"\n",
      "[1] \"Completed: 76\"\n",
      "[1] \"Completed: 77\"\n",
      "[1] \"Completed: 78\"\n",
      "[1] \"Completed: 79\"\n",
      "[1] \"Completed: 80\"\n",
      "[1] \"Completed: 81\"\n",
      "[1] \"Completed: 82\"\n",
      "[1] \"Completed: 83\"\n",
      "[1] \"Completed: 84\"\n",
      "[1] \"Completed: 85\"\n",
      "[1] \"Completed: 86\"\n",
      "[1] \"Completed: 87\"\n",
      "[1] \"Completed: 88\"\n",
      "[1] \"Completed: 89\"\n",
      "[1] \"Completed: 90\"\n",
      "[1] \"Completed: 91\"\n",
      "[1] \"Completed: 92\"\n",
      "[1] \"Completed: 93\"\n",
      "[1] \"Completed: 94\"\n",
      "[1] \"Completed: 95\"\n",
      "[1] \"Completed: 96\"\n",
      "[1] \"Completed: 97\"\n",
      "[1] \"Completed: 98\"\n",
      "[1] \"Completed: 99\"\n",
      "[1] \"Completed: 100\"\n",
      "[1] \"Completed: 101\"\n",
      "[1] \"Completed: 102\"\n",
      "[1] \"Completed: 103\"\n",
      "[1] \"Completed: 104\"\n",
      "[1] \"Completed: 105\"\n",
      "[1] \"Completed: 106\"\n",
      "[1] \"Completed: 107\"\n",
      "[1] \"Completed: 108\"\n",
      "[1] \"Completed: 109\"\n",
      "[1] \"Completed: 110\"\n",
      "[1] \"Completed: 111\"\n",
      "[1] \"Completed: 112\"\n",
      "[1] \"Completed: 113\"\n",
      "[1] \"Completed: 114\"\n",
      "[1] \"Completed: 115\"\n",
      "[1] \"Completed: 116\"\n",
      "[1] \"Completed: 117\"\n",
      "[1] \"Completed: 118\"\n",
      "[1] \"Completed: 119\"\n",
      "[1] \"Completed: 120\"\n",
      "[1] \"Completed: 121\"\n",
      "[1] \"Completed: 122\"\n",
      "[1] \"Completed: 123\"\n",
      "[1] \"Completed: 124\"\n",
      "[1] \"Completed: 125\"\n",
      "[1] \"Completed: 126\"\n",
      "[1] \"Completed: 127\"\n",
      "[1] \"Completed: 128\"\n",
      "[1] \"Completed: 129\"\n",
      "[1] \"Completed: 130\"\n",
      "[1] \"Completed: 131\"\n",
      "[1] \"Completed: 132\"\n",
      "[1] \"Completed: 133\"\n",
      "[1] \"Completed: 134\"\n",
      "[1] \"Completed: 135\"\n",
      "[1] \"Completed: 136\"\n",
      "[1] \"Completed: 137\"\n",
      "[1] \"Completed: 138\"\n",
      "[1] \"Completed: 139\"\n",
      "[1] \"Completed: 140\"\n",
      "[1] \"Completed: 141\"\n",
      "[1] \"Completed: 142\"\n",
      "[1] \"Completed: 143\"\n",
      "[1] \"Completed: 144\"\n",
      "[1] \"Completed: 145\"\n",
      "[1] \"Completed: 146\"\n",
      "[1] \"Completed: 147\"\n",
      "[1] \"Completed: 148\"\n",
      "[1] \"Completed: 149\"\n",
      "[1] \"Completed: 150\"\n",
      "[1] \"Completed: 151\"\n",
      "[1] \"Completed: 152\"\n",
      "[1] \"Completed: 153\"\n",
      "[1] \"Completed: 154\"\n",
      "[1] \"Completed: 155\"\n",
      "[1] \"Completed: 156\"\n",
      "[1] \"Completed: 157\"\n",
      "[1] \"Completed: 158\"\n",
      "[1] \"Completed: 159\"\n",
      "[1] \"Completed: 160\"\n",
      "[1] \"Completed: 161\"\n",
      "[1] \"Completed: 162\"\n",
      "[1] \"Completed: 163\"\n",
      "[1] \"Completed: 164\"\n",
      "[1] \"Completed: 165\"\n",
      "[1] \"Completed: 166\"\n",
      "[1] \"Completed: 167\"\n",
      "[1] \"Completed: 168\"\n",
      "[1] \"Completed: 169\"\n",
      "[1] \"Completed: 170\"\n",
      "[1] \"Completed: 171\"\n",
      "[1] \"Completed: 172\"\n",
      "[1] \"Completed: 173\"\n",
      "[1] \"Completed: 174\"\n",
      "[1] \"Completed: 175\"\n",
      "[1] \"Completed: 176\"\n",
      "[1] \"Completed: 177\"\n",
      "[1] \"Completed: 178\"\n",
      "[1] \"Completed: 179\"\n",
      "[1] \"Completed: 180\"\n",
      "[1] \"Completed: 181\"\n",
      "[1] \"Completed: 182\"\n",
      "[1] \"Completed: 183\"\n",
      "[1] \"Completed: 184\"\n",
      "[1] \"Completed: 185\"\n",
      "[1] \"Completed: 186\"\n",
      "[1] \"Completed: 187\"\n",
      "[1] \"Completed: 188\"\n",
      "[1] \"Completed: 189\"\n",
      "[1] \"Completed: 190\"\n",
      "[1] \"Completed: 191\"\n",
      "[1] \"Completed: 192\"\n",
      "[1] \"Completed: 193\"\n",
      "[1] \"Completed: 194\"\n",
      "[1] \"Completed: 195\"\n",
      "[1] \"Completed: 196\"\n",
      "[1] \"Completed: 197\"\n",
      "[1] \"Completed: 198\"\n",
      "[1] \"Completed: 199\"\n",
      "[1] \"Completed: 200\"\n",
      "[1] \"Completed: 201\"\n",
      "[1] \"Completed: 202\"\n",
      "[1] \"Completed: 203\"\n",
      "[1] \"Completed: 204\"\n",
      "[1] \"Completed: 205\"\n",
      "[1] \"Completed: 206\"\n",
      "[1] \"Completed: 207\"\n",
      "[1] \"Completed: 208\"\n",
      "[1] \"Completed: 209\"\n",
      "[1] \"Completed: 210\"\n",
      "[1] \"Completed: 211\"\n",
      "[1] \"Completed: 212\"\n",
      "[1] \"Completed: 213\"\n",
      "[1] \"Completed: 214\"\n",
      "[1] \"Completed: 215\"\n",
      "[1] \"Completed: 216\"\n",
      "[1] \"Completed: 217\"\n",
      "[1] \"Completed: 218\"\n",
      "[1] \"Completed: 219\"\n",
      "[1] \"Completed: 220\"\n",
      "[1] \"Completed: 221\"\n",
      "[1] \"Completed: 222\"\n",
      "[1] \"Completed: 223\"\n",
      "[1] \"Completed: 224\"\n",
      "[1] \"Completed: 225\"\n",
      "[1] \"Completed: 226\"\n",
      "[1] \"Completed: 227\"\n",
      "[1] \"Completed: 228\"\n",
      "[1] \"Completed: 229\"\n",
      "[1] \"Completed: 230\"\n",
      "[1] \"Completed: 231\"\n"
     ]
    }
   ],
   "source": [
    "distances <- numeric(length = (numCom * (numCom - 1)) / 2)\n",
    "semSims <- numeric(length = (numCom * (numCom - 1)) / 2)\n",
    "\n",
    "completed <- 0\n",
    "\n",
    "for (c1 in 1:numCom) {\n",
    "    \n",
    "    t1 <- representativeTerms[c1]\n",
    "#     gs1 <- g[[c1]]\n",
    "#     if (length(gos[[c1]]) == 0) next\n",
    "    \n",
    "    for (c2 in c1:numCom) {\n",
    "        \n",
    "        if (c1 == c2) next\n",
    "            \n",
    "            t2 <- representativeTerms[c2]\n",
    "            \n",
    "#         if (length(gos[[c2]]) == 0) next\n",
    "            \n",
    "#         gs2 <- g[[c2]]    \n",
    "        \n",
    "        completed <- completed + 1  \n",
    "        \n",
    "        #compute semantic similarity of two protein clusters\n",
    "#         semSims[completed] <- clusterSim(gs1, gs2, semData=scGO, measure=\"Wang\", combine=\"BMA\")\n",
    "#         semSims[completed] <- mgoSim(gos[[c1]], gos[[c2]], semData=scGO, measure=\"Wang\", combine=\"BMA\")\n",
    "        semSims[completed] <- semSimTable[t1, t2]\n",
    "            \n",
    "        distances[completed] <- shortest.path[c1, c2]\n",
    "        \n",
    "        print(sprintf(\"Completed: %s\", completed))\n",
    "    }\n",
    "}\n",
    "# distances <- distances[distances > 0]\n",
    "# semSims <- semSims[semSims > 0]"
   ]
  },
  {
   "cell_type": "code",
   "execution_count": 48,
   "metadata": {
    "collapsed": false
   },
   "outputs": [
    {
     "data": {
      "image/png": "[encoded data removed]",
      "text/plain": [
       "plot without title"
      ]
     },
     "metadata": {},
     "output_type": "display_data"
    }
   ],
   "source": [
    "plot(distances, semSims, xlab=\"Distance on Map\", ylab=\"Semantic Similarity\")"
   ]
  },
  {
   "cell_type": "code",
   "execution_count": 64,
   "metadata": {
    "collapsed": false
   },
   "outputs": [
    {
     "data": {
      "text/html": [
       "-0.0693808336430527"
      ],
      "text/latex": [
       "-0.0693808336430527"
      ],
      "text/markdown": [
       "-0.0693808336430527"
      ],
      "text/plain": [
       "[1] -0.06938083"
      ]
     },
     "metadata": {},
     "output_type": "display_data"
    }
   ],
   "source": [
    "cor(distances, semSims)"
   ]
  },
  {
   "cell_type": "code",
   "execution_count": null,
   "metadata": {
    "collapsed": true
   },
   "outputs": [],
   "source": []
  }
 ],
 "metadata": {
  "kernelspec": {
   "display_name": "R",
   "language": "R",
   "name": "ir"
  },
  "language_info": {
   "codemirror_mode": "r",
   "file_extension": ".r",
   "mimetype": "text/x-r-source",
   "name": "R",
   "pygments_lexer": "r",
   "version": "3.3.2"
  }
 },
 "nbformat": 4,
 "nbformat_minor": 2
}
