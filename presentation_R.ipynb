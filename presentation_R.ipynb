{
 "cells": [
  {
   "cell_type": "code",
   "execution_count": 1,
   "metadata": {
    "collapsed": false,
    "scrolled": true
   },
   "outputs": [
    {
     "name": "stderr",
     "output_type": "stream",
     "text": [
      "Loading required package: AnnotationDbi\n",
      "Loading required package: stats4\n",
      "Loading required package: BiocGenerics\n",
      "Loading required package: parallel\n",
      "\n",
      "Attaching package: ‘BiocGenerics’\n",
      "\n",
      "The following objects are masked from ‘package:parallel’:\n",
      "\n",
      "    clusterApply, clusterApplyLB, clusterCall, clusterEvalQ,\n",
      "    clusterExport, clusterMap, parApply, parCapply, parLapply,\n",
      "    parLapplyLB, parRapply, parSapply, parSapplyLB\n",
      "\n",
      "The following objects are masked from ‘package:stats’:\n",
      "\n",
      "    IQR, mad, xtabs\n",
      "\n",
      "The following objects are masked from ‘package:base’:\n",
      "\n",
      "    anyDuplicated, append, as.data.frame, cbind, colnames, do.call,\n",
      "    duplicated, eval, evalq, Filter, Find, get, grep, grepl, intersect,\n",
      "    is.unsorted, lapply, lengths, Map, mapply, match, mget, order,\n",
      "    paste, pmax, pmax.int, pmin, pmin.int, Position, rank, rbind,\n",
      "    Reduce, rownames, sapply, setdiff, sort, table, tapply, union,\n",
      "    unique, unsplit, which, which.max, which.min\n",
      "\n",
      "Loading required package: Biobase\n",
      "Welcome to Bioconductor\n",
      "\n",
      "    Vignettes contain introductory material; view with\n",
      "    'browseVignettes()'. To cite Bioconductor, see\n",
      "    'citation(\"Biobase\")', and for packages 'citation(\"pkgname\")'.\n",
      "\n",
      "Loading required package: IRanges\n",
      "Loading required package: S4Vectors\n",
      "\n",
      "Attaching package: ‘S4Vectors’\n",
      "\n",
      "The following objects are masked from ‘package:base’:\n",
      "\n",
      "    colMeans, colSums, expand.grid, rowMeans, rowSums\n",
      "\n",
      "\n",
      "Loading required package: graph\n",
      "Loading required package: SparseM\n",
      "\n",
      "Attaching package: ‘SparseM’\n",
      "\n",
      "The following object is masked from ‘package:base’:\n",
      "\n",
      "    backsolve\n",
      "\n",
      "\n",
      "groupGOTerms: \tGOBPTerm, GOMFTerm, GOCCTerm environments built.\n",
      "\n",
      "Attaching package: ‘topGO’\n",
      "\n",
      "The following object is masked from ‘package:IRanges’:\n",
      "\n",
      "    members\n",
      "\n",
      "\n",
      "GOSemSim v2.0.4  For help: https://guangchuangyu.github.io/GOSemSim\n",
      "\n",
      "If you use GOSemSim in published research, please cite:\n",
      "Guangchuang Yu, Fei Li, Yide Qin, Xiaochen Bo, Yibo Wu, Shengqi Wang. GOSemSim: an R package for measuring semantic similarity among GO terms and gene products Bioinformatics 2010, 26(7):976-978\n",
      "\n",
      "Attaching package: ‘gridExtra’\n",
      "\n",
      "The following object is masked from ‘package:Biobase’:\n",
      "\n",
      "    combine\n",
      "\n",
      "The following object is masked from ‘package:BiocGenerics’:\n",
      "\n",
      "    combine\n",
      "\n"
     ]
    }
   ],
   "source": [
    "#libraries\n",
    "library(GO.db)\n",
    "library(topGO)\n",
    "library(org.Sc.sgd.db)\n",
    "library(GOSemSim)\n",
    "library(gridExtra)"
   ]
  },
  {
   "cell_type": "code",
   "execution_count": 7,
   "metadata": {
    "collapsed": false
   },
   "outputs": [
    {
     "name": "stdout",
     "output_type": "stream",
     "text": [
      "[1] \"preparing gene to GO mapping data...\"\n",
      "[1] \"preparing IC data...\"\n"
     ]
    }
   ],
   "source": [
    "file <- \"yeast_uetz\"\n",
    "\n",
    "ont <- \"BP\"\n",
    "init <- 1\n",
    "\n",
    "db <- org.Sc.sgd.db\n",
    "mapping <- \"org.Sc.sgd.db\"\n",
    "ID <- \"ENSEMBL\"\n",
    "\n",
    "scGO <- godata(mapping, ont=ont, keytype=ID)"
   ]
  },
  {
   "cell_type": "code",
   "execution_count": 12,
   "metadata": {
    "collapsed": true
   },
   "outputs": [],
   "source": [
    "ps <- seq(from = 0.1, to = 0.9, by = 0.1)"
   ]
  },
  {
   "cell_type": "code",
   "execution_count": 13,
   "metadata": {
    "collapsed": false
   },
   "outputs": [
    {
     "data": {
      "text/html": [
       "<ol class=list-inline>\n",
       "\t<li>0.1</li>\n",
       "\t<li>0.2</li>\n",
       "\t<li>0.3</li>\n",
       "\t<li>0.4</li>\n",
       "\t<li>0.5</li>\n",
       "\t<li>0.6</li>\n",
       "\t<li>0.7</li>\n",
       "\t<li>0.8</li>\n",
       "\t<li>0.9</li>\n",
       "</ol>\n"
      ],
      "text/latex": [
       "\\begin{enumerate*}\n",
       "\\item 0.1\n",
       "\\item 0.2\n",
       "\\item 0.3\n",
       "\\item 0.4\n",
       "\\item 0.5\n",
       "\\item 0.6\n",
       "\\item 0.7\n",
       "\\item 0.8\n",
       "\\item 0.9\n",
       "\\end{enumerate*}\n"
      ],
      "text/markdown": [
       "1. 0.1\n",
       "2. 0.2\n",
       "3. 0.3\n",
       "4. 0.4\n",
       "5. 0.5\n",
       "6. 0.6\n",
       "7. 0.7\n",
       "8. 0.8\n",
       "9. 0.9\n",
       "\n",
       "\n"
      ],
      "text/plain": [
       "[1] 0.1 0.2 0.3 0.4 0.5 0.6 0.7 0.8 0.9"
      ]
     },
     "metadata": {},
     "output_type": "display_data"
    }
   ],
   "source": [
    "ps"
   ]
  },
  {
   "cell_type": "code",
   "execution_count": 14,
   "metadata": {
    "collapsed": true
   },
   "outputs": [],
   "source": [
    "getMeanSimilarity <- function(p) {\n",
    "    ##load all community gene lists\n",
    "    setwd(sprintf(\"/home/david/Documents/ghsom/%s_communities_%s_%s\", file, p, init))\n",
    "\n",
    "    #background gene list\n",
    "    backgroundFilename <- \"all_genes.txt\"\n",
    "    allGenes <- scan(backgroundFilename, character())\n",
    "\n",
    "    #load communities from file\n",
    "    g <- list()\n",
    "    numCom <- 0\n",
    "    filename <- sprintf(\"community_%s.txt\", numCom)\n",
    "    while (file.exists(filename)) {\n",
    "        numCom <- numCom + 1\n",
    "        g[[numCom]] <- scan(filename, character())\n",
    "        filename <- sprintf(\"community_%s.txt\", numCom)\n",
    "    }\n",
    "    \n",
    "    clusterSims <- sapply(g, function(i) \n",
    "        mean(mgeneSim(genes = i, semData = scGO, measure = \"Wang\", combine = \"BMA\", verbose = FALSE)))\n",
    "    \n",
    "    return(list(numCom, mean(clusterSims)))\n",
    "}"
   ]
  },
  {
   "cell_type": "code",
   "execution_count": 15,
   "metadata": {
    "collapsed": false
   },
   "outputs": [],
   "source": [
    "results <- sapply(ps, getMeanSimilarity)"
   ]
  },
  {
   "cell_type": "code",
   "execution_count": 16,
   "metadata": {
    "collapsed": false
   },
   "outputs": [
    {
     "data": {
      "text/html": [
       "<table>\n",
       "<tbody>\n",
       "\t<tr><td>51</td><td>21</td><td>13</td><td>8 </td><td>6 </td><td>6 </td><td>6 </td><td>6 </td><td>6 </td></tr>\n",
       "\t<tr><td>0.5742647</td><td>0.3804392</td><td>0.3142126</td><td>0.2838531</td><td>0.2688475</td><td>0.2688475</td><td>0.2688475</td><td>0.2688475</td><td>0.2688475</td></tr>\n",
       "</tbody>\n",
       "</table>\n"
      ],
      "text/latex": [
       "\\begin{tabular}{lllllllll}\n",
       "\t 51 & 21 & 13 & 8  & 6  & 6  & 6  & 6  & 6 \\\\\n",
       "\t 0.5742647 & 0.3804392 & 0.3142126 & 0.2838531 & 0.2688475 & 0.2688475 & 0.2688475 & 0.2688475 & 0.2688475\\\\\n",
       "\\end{tabular}\n"
      ],
      "text/markdown": [
       "\n",
       "| 51 | 21 | 13 | 8  | 6  | 6  | 6  | 6  | 6  | \n",
       "| 0.5742647 | 0.3804392 | 0.3142126 | 0.2838531 | 0.2688475 | 0.2688475 | 0.2688475 | 0.2688475 | 0.2688475 | \n",
       "\n",
       "\n"
      ],
      "text/plain": [
       "     [,1]      [,2]      [,3]      [,4]      [,5]      [,6]      [,7]     \n",
       "[1,] 51        21        13        8         6         6         6        \n",
       "[2,] 0.5742647 0.3804392 0.3142126 0.2838531 0.2688475 0.2688475 0.2688475\n",
       "     [,8]      [,9]     \n",
       "[1,] 6         6        \n",
       "[2,] 0.2688475 0.2688475"
      ]
     },
     "metadata": {},
     "output_type": "display_data"
    }
   ],
   "source": [
    "results"
   ]
  },
  {
   "cell_type": "code",
   "execution_count": 18,
   "metadata": {
    "collapsed": false
   },
   "outputs": [
    {
     "data": {
      "text/html": [
       "<ol>\n",
       "\t<li>51</li>\n",
       "\t<li>21</li>\n",
       "\t<li>13</li>\n",
       "\t<li>8</li>\n",
       "\t<li>6</li>\n",
       "\t<li>6</li>\n",
       "\t<li>6</li>\n",
       "\t<li>6</li>\n",
       "\t<li>6</li>\n",
       "</ol>\n"
      ],
      "text/latex": [
       "\\begin{enumerate}\n",
       "\\item 51\n",
       "\\item 21\n",
       "\\item 13\n",
       "\\item 8\n",
       "\\item 6\n",
       "\\item 6\n",
       "\\item 6\n",
       "\\item 6\n",
       "\\item 6\n",
       "\\end{enumerate}\n"
      ],
      "text/markdown": [
       "1. 51\n",
       "2. 21\n",
       "3. 13\n",
       "4. 8\n",
       "5. 6\n",
       "6. 6\n",
       "7. 6\n",
       "8. 6\n",
       "9. 6\n",
       "\n",
       "\n"
      ],
      "text/plain": [
       "[[1]]\n",
       "[1] 51\n",
       "\n",
       "[[2]]\n",
       "[1] 21\n",
       "\n",
       "[[3]]\n",
       "[1] 13\n",
       "\n",
       "[[4]]\n",
       "[1] 8\n",
       "\n",
       "[[5]]\n",
       "[1] 6\n",
       "\n",
       "[[6]]\n",
       "[1] 6\n",
       "\n",
       "[[7]]\n",
       "[1] 6\n",
       "\n",
       "[[8]]\n",
       "[1] 6\n",
       "\n",
       "[[9]]\n",
       "[1] 6\n"
      ]
     },
     "metadata": {},
     "output_type": "display_data"
    }
   ],
   "source": [
    "results[1,]"
   ]
  },
  {
   "cell_type": "code",
   "execution_count": 22,
   "metadata": {
    "collapsed": false
   },
   "outputs": [
    {
     "data": {
      "text/html": [
       "<ol>\n",
       "\t<li>0.574264669390298</li>\n",
       "\t<li>0.380439191058087</li>\n",
       "\t<li>0.314212595394822</li>\n",
       "\t<li>0.283853057080131</li>\n",
       "\t<li>0.268847496391923</li>\n",
       "\t<li>0.268847496391923</li>\n",
       "\t<li>0.268847496391923</li>\n",
       "\t<li>0.268847496391923</li>\n",
       "\t<li>0.268847496391923</li>\n",
       "</ol>\n"
      ],
      "text/latex": [
       "\\begin{enumerate}\n",
       "\\item 0.574264669390298\n",
       "\\item 0.380439191058087\n",
       "\\item 0.314212595394822\n",
       "\\item 0.283853057080131\n",
       "\\item 0.268847496391923\n",
       "\\item 0.268847496391923\n",
       "\\item 0.268847496391923\n",
       "\\item 0.268847496391923\n",
       "\\item 0.268847496391923\n",
       "\\end{enumerate}\n"
      ],
      "text/markdown": [
       "1. 0.574264669390298\n",
       "2. 0.380439191058087\n",
       "3. 0.314212595394822\n",
       "4. 0.283853057080131\n",
       "5. 0.268847496391923\n",
       "6. 0.268847496391923\n",
       "7. 0.268847496391923\n",
       "8. 0.268847496391923\n",
       "9. 0.268847496391923\n",
       "\n",
       "\n"
      ],
      "text/plain": [
       "[[1]]\n",
       "[1] 0.5742647\n",
       "\n",
       "[[2]]\n",
       "[1] 0.3804392\n",
       "\n",
       "[[3]]\n",
       "[1] 0.3142126\n",
       "\n",
       "[[4]]\n",
       "[1] 0.2838531\n",
       "\n",
       "[[5]]\n",
       "[1] 0.2688475\n",
       "\n",
       "[[6]]\n",
       "[1] 0.2688475\n",
       "\n",
       "[[7]]\n",
       "[1] 0.2688475\n",
       "\n",
       "[[8]]\n",
       "[1] 0.2688475\n",
       "\n",
       "[[9]]\n",
       "[1] 0.2688475\n"
      ]
     },
     "metadata": {},
     "output_type": "display_data"
    }
   ],
   "source": [
    "results[2,]"
   ]
  },
  {
   "cell_type": "code",
   "execution_count": 23,
   "metadata": {
    "collapsed": false
   },
   "outputs": [
    {
     "name": "stderr",
     "output_type": "stream",
     "text": [
      "Warning message in plot.window(...):\n",
      "“\"add\" is not a graphical parameter”Warning message in plot.xy(xy, type, ...):\n",
      "“\"add\" is not a graphical parameter”Warning message in axis(side = side, at = at, labels = labels, ...):\n",
      "“\"add\" is not a graphical parameter”Warning message in axis(side = side, at = at, labels = labels, ...):\n",
      "“\"add\" is not a graphical parameter”Warning message in box(...):\n",
      "“\"add\" is not a graphical parameter”Warning message in title(...):\n",
      "“\"add\" is not a graphical parameter”"
     ]
    },
    {
     "data": {
      "image/png": "[encoded data removed]",
      "text/plain": [
       "plot without title"
      ]
     },
     "metadata": {},
     "output_type": "display_data"
    },
    {
     "data": {
      "image/png": "[encoded data removed]",
      "text/plain": [
       "plot without title"
      ]
     },
     "metadata": {},
     "output_type": "display_data"
    }
   ],
   "source": [
    "plot(ps,results[1,],type=\"l\",col=\"red\")\n",
    "# par(new=TRUE)\n",
    "plot(ps,results[2,],col=\"green\", add=TRUE)"
   ]
  },
  {
   "cell_type": "code",
   "execution_count": 39,
   "metadata": {
    "collapsed": false
   },
   "outputs": [
    {
     "data": {
      "text/html": [
       "<ol>\n",
       "\t<li>51</li>\n",
       "\t<li>21</li>\n",
       "\t<li>13</li>\n",
       "\t<li>8</li>\n",
       "\t<li>6</li>\n",
       "\t<li>6</li>\n",
       "\t<li>6</li>\n",
       "\t<li>6</li>\n",
       "\t<li>6</li>\n",
       "</ol>\n"
      ],
      "text/latex": [
       "\\begin{enumerate}\n",
       "\\item 51\n",
       "\\item 21\n",
       "\\item 13\n",
       "\\item 8\n",
       "\\item 6\n",
       "\\item 6\n",
       "\\item 6\n",
       "\\item 6\n",
       "\\item 6\n",
       "\\end{enumerate}\n"
      ],
      "text/markdown": [
       "1. 51\n",
       "2. 21\n",
       "3. 13\n",
       "4. 8\n",
       "5. 6\n",
       "6. 6\n",
       "7. 6\n",
       "8. 6\n",
       "9. 6\n",
       "\n",
       "\n"
      ],
      "text/plain": [
       "[[1]]\n",
       "[1] 51\n",
       "\n",
       "[[2]]\n",
       "[1] 21\n",
       "\n",
       "[[3]]\n",
       "[1] 13\n",
       "\n",
       "[[4]]\n",
       "[1] 8\n",
       "\n",
       "[[5]]\n",
       "[1] 6\n",
       "\n",
       "[[6]]\n",
       "[1] 6\n",
       "\n",
       "[[7]]\n",
       "[1] 6\n",
       "\n",
       "[[8]]\n",
       "[1] 6\n",
       "\n",
       "[[9]]\n",
       "[1] 6\n"
      ]
     },
     "metadata": {},
     "output_type": "display_data"
    }
   ],
   "source": [
    "results[1,]"
   ]
  },
  {
   "cell_type": "code",
   "execution_count": 40,
   "metadata": {
    "collapsed": false
   },
   "outputs": [
    {
     "data": {
      "text/html": [
       "<ol>\n",
       "\t<li>0.574264669390298</li>\n",
       "\t<li>0.380439191058087</li>\n",
       "\t<li>0.314212595394822</li>\n",
       "\t<li>0.283853057080131</li>\n",
       "\t<li>0.268847496391923</li>\n",
       "\t<li>0.268847496391923</li>\n",
       "\t<li>0.268847496391923</li>\n",
       "\t<li>0.268847496391923</li>\n",
       "\t<li>0.268847496391923</li>\n",
       "</ol>\n"
      ],
      "text/latex": [
       "\\begin{enumerate}\n",
       "\\item 0.574264669390298\n",
       "\\item 0.380439191058087\n",
       "\\item 0.314212595394822\n",
       "\\item 0.283853057080131\n",
       "\\item 0.268847496391923\n",
       "\\item 0.268847496391923\n",
       "\\item 0.268847496391923\n",
       "\\item 0.268847496391923\n",
       "\\item 0.268847496391923\n",
       "\\end{enumerate}\n"
      ],
      "text/markdown": [
       "1. 0.574264669390298\n",
       "2. 0.380439191058087\n",
       "3. 0.314212595394822\n",
       "4. 0.283853057080131\n",
       "5. 0.268847496391923\n",
       "6. 0.268847496391923\n",
       "7. 0.268847496391923\n",
       "8. 0.268847496391923\n",
       "9. 0.268847496391923\n",
       "\n",
       "\n"
      ],
      "text/plain": [
       "[[1]]\n",
       "[1] 0.5742647\n",
       "\n",
       "[[2]]\n",
       "[1] 0.3804392\n",
       "\n",
       "[[3]]\n",
       "[1] 0.3142126\n",
       "\n",
       "[[4]]\n",
       "[1] 0.2838531\n",
       "\n",
       "[[5]]\n",
       "[1] 0.2688475\n",
       "\n",
       "[[6]]\n",
       "[1] 0.2688475\n",
       "\n",
       "[[7]]\n",
       "[1] 0.2688475\n",
       "\n",
       "[[8]]\n",
       "[1] 0.2688475\n",
       "\n",
       "[[9]]\n",
       "[1] 0.2688475\n"
      ]
     },
     "metadata": {},
     "output_type": "display_data"
    }
   ],
   "source": [
    "results[2,]"
   ]
  },
  {
   "cell_type": "code",
   "execution_count": 38,
   "metadata": {
    "collapsed": false
   },
   "outputs": [
    {
     "data": {
      "image/png": "[encoded data removed]",
      "text/plain": [
       "plot without title"
      ]
     },
     "metadata": {},
     "output_type": "display_data"
    }
   ],
   "source": [
    "par(mar = c(5,5,2,5))\n",
    "plot(ps, results[1,], type=\"l\", col=\"red3\", xlab=expression(e[sg]), xlim=c(0.9,0.1),\n",
    "     ylab = \"Number of Communities Detected\")\n",
    "\n",
    "par(new = TRUE)\n",
    "plot(ps, results[2,], pch=16, xlim=c(0.9,0.1), axes=FALSE, xlab=NA, ylab=NA, cex=1.2)\n",
    "axis(side = 4)\n",
    "mtext(side = 4, line = 3, 'Mean Semantic Similarity')\n",
    "legend(\"topleft\",\n",
    "       legend=c(\"Num Communities\", \"Semantic Similarity\"),\n",
    "       lty=c(1,0), pch=c(NA, 16), col=c(\"red3\", \"black\"))"
   ]
  },
  {
   "cell_type": "code",
   "execution_count": null,
   "metadata": {
    "collapsed": true
   },
   "outputs": [],
   "source": []
  }
 ],
 "metadata": {
  "anaconda-cloud": {},
  "kernelspec": {
   "display_name": "R",
   "language": "R",
   "name": "ir"
  },
  "language_info": {
   "codemirror_mode": "r",
   "file_extension": ".r",
   "mimetype": "text/x-r-source",
   "name": "R",
   "pygments_lexer": "r",
   "version": "3.3.2"
  }
 },
 "nbformat": 4,
 "nbformat_minor": 2
}
