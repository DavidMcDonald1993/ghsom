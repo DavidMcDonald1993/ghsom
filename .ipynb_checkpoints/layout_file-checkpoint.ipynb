{
 "cells": [
  {
   "cell_type": "code",
   "execution_count": 9,
   "metadata": {
    "collapsed": true
   },
   "outputs": [],
   "source": [
    "def write_layout_file(G, label, filename):\n",
    "    \n",
    "    with open(filename, 'w') as f:\n",
    "        \n",
    "        for e in G.edges_iter():\n",
    "            f.write('\\\"{}\\\"\\t\\\"{}\\\"'.format(e[0], e[1])) \n",
    "\n",
    "        for n in G.nodes():\n",
    "            f.write('//NODECLASS\\t\\\"{}\\\"\\t\\\"{}\\\"'.format(n, G.node[n][label]))"
   ]
  },
  {
   "cell_type": "code",
   "execution_count": null,
   "metadata": {
    "collapsed": true
   },
   "outputs": [],
   "source": []
  },
  {
   "cell_type": "code",
   "execution_count": 8,
   "metadata": {
    "collapsed": false
   },
   "outputs": [
    {
     "name": "stdout",
     "output_type": "stream",
     "text": [
      "\"0\"\t\"1\"\n",
      "\"0\"\t\"2\"\n",
      "\"0\"\t\"3\"\n",
      "\"0\"\t\"4\"\n",
      "\"0\"\t\"5\"\n",
      "\"0\"\t\"6\"\n",
      "\"0\"\t\"7\"\n",
      "\"0\"\t\"8\"\n",
      "\"0\"\t\"10\"\n",
      "\"0\"\t\"11\"\n",
      "\"0\"\t\"12\"\n",
      "\"0\"\t\"13\"\n",
      "\"0\"\t\"17\"\n",
      "\"0\"\t\"19\"\n",
      "\"0\"\t\"21\"\n",
      "\"0\"\t\"31\"\n",
      "\"1\"\t\"2\"\n",
      "\"1\"\t\"3\"\n",
      "\"1\"\t\"7\"\n",
      "\"1\"\t\"13\"\n",
      "\"1\"\t\"17\"\n",
      "\"1\"\t\"19\"\n",
      "\"1\"\t\"21\"\n",
      "\"1\"\t\"30\"\n",
      "\"2\"\t\"3\"\n",
      "\"2\"\t\"32\"\n",
      "\"2\"\t\"7\"\n",
      "\"2\"\t\"8\"\n",
      "\"2\"\t\"9\"\n",
      "\"2\"\t\"13\"\n",
      "\"2\"\t\"27\"\n",
      "\"2\"\t\"28\"\n",
      "\"3\"\t\"7\"\n",
      "\"3\"\t\"12\"\n",
      "\"3\"\t\"13\"\n",
      "\"4\"\t\"10\"\n",
      "\"4\"\t\"6\"\n",
      "\"5\"\t\"16\"\n",
      "\"5\"\t\"10\"\n",
      "\"5\"\t\"6\"\n",
      "\"6\"\t\"16\"\n",
      "\"8\"\t\"32\"\n",
      "\"8\"\t\"30\"\n",
      "\"8\"\t\"33\"\n",
      "\"9\"\t\"33\"\n",
      "\"13\"\t\"33\"\n",
      "\"14\"\t\"32\"\n",
      "\"14\"\t\"33\"\n",
      "\"15\"\t\"32\"\n",
      "\"15\"\t\"33\"\n",
      "\"18\"\t\"32\"\n",
      "\"18\"\t\"33\"\n",
      "\"19\"\t\"33\"\n",
      "\"20\"\t\"32\"\n",
      "\"20\"\t\"33\"\n",
      "\"22\"\t\"32\"\n",
      "\"22\"\t\"33\"\n",
      "\"23\"\t\"32\"\n",
      "\"23\"\t\"25\"\n",
      "\"23\"\t\"27\"\n",
      "\"23\"\t\"29\"\n",
      "\"23\"\t\"33\"\n",
      "\"24\"\t\"25\"\n",
      "\"24\"\t\"27\"\n",
      "\"24\"\t\"31\"\n",
      "\"25\"\t\"31\"\n",
      "\"26\"\t\"33\"\n",
      "\"26\"\t\"29\"\n",
      "\"27\"\t\"33\"\n",
      "\"28\"\t\"33\"\n",
      "\"28\"\t\"31\"\n",
      "\"29\"\t\"32\"\n",
      "\"29\"\t\"33\"\n",
      "\"30\"\t\"33\"\n",
      "\"30\"\t\"32\"\n",
      "\"31\"\t\"33\"\n",
      "\"31\"\t\"32\"\n",
      "\"32\"\t\"33\"\n",
      "//NODECLASS\t\"0\"\t\"Mr. Hi\"\n",
      "//NODECLASS\t\"1\"\t\"Mr. Hi\"\n",
      "//NODECLASS\t\"2\"\t\"Mr. Hi\"\n",
      "//NODECLASS\t\"3\"\t\"Mr. Hi\"\n",
      "//NODECLASS\t\"4\"\t\"Mr. Hi\"\n",
      "//NODECLASS\t\"5\"\t\"Mr. Hi\"\n",
      "//NODECLASS\t\"6\"\t\"Mr. Hi\"\n",
      "//NODECLASS\t\"7\"\t\"Mr. Hi\"\n",
      "//NODECLASS\t\"8\"\t\"Mr. Hi\"\n",
      "//NODECLASS\t\"9\"\t\"Officer\"\n",
      "//NODECLASS\t\"10\"\t\"Mr. Hi\"\n",
      "//NODECLASS\t\"11\"\t\"Mr. Hi\"\n",
      "//NODECLASS\t\"12\"\t\"Mr. Hi\"\n",
      "//NODECLASS\t\"13\"\t\"Mr. Hi\"\n",
      "//NODECLASS\t\"14\"\t\"Officer\"\n",
      "//NODECLASS\t\"15\"\t\"Officer\"\n",
      "//NODECLASS\t\"16\"\t\"Mr. Hi\"\n",
      "//NODECLASS\t\"17\"\t\"Mr. Hi\"\n",
      "//NODECLASS\t\"18\"\t\"Officer\"\n",
      "//NODECLASS\t\"19\"\t\"Mr. Hi\"\n",
      "//NODECLASS\t\"20\"\t\"Officer\"\n",
      "//NODECLASS\t\"21\"\t\"Mr. Hi\"\n",
      "//NODECLASS\t\"22\"\t\"Officer\"\n",
      "//NODECLASS\t\"23\"\t\"Officer\"\n",
      "//NODECLASS\t\"24\"\t\"Officer\"\n",
      "//NODECLASS\t\"25\"\t\"Officer\"\n",
      "//NODECLASS\t\"26\"\t\"Officer\"\n",
      "//NODECLASS\t\"27\"\t\"Officer\"\n",
      "//NODECLASS\t\"28\"\t\"Officer\"\n",
      "//NODECLASS\t\"29\"\t\"Officer\"\n",
      "//NODECLASS\t\"30\"\t\"Officer\"\n",
      "//NODECLASS\t\"31\"\t\"Officer\"\n",
      "//NODECLASS\t\"32\"\t\"Officer\"\n",
      "//NODECLASS\t\"33\"\t\"Officer\"\n"
     ]
    }
   ],
   "source": [
    "import networkx as nx\n",
    "\n",
    "G = nx.karate_club_graph()\n",
    "\n",
    "\n",
    "# print [e for e in G.edges_iter()]"
   ]
  },
  {
   "cell_type": "code",
   "execution_count": null,
   "metadata": {
    "collapsed": true
   },
   "outputs": [],
   "source": []
  }
 ],
 "metadata": {
  "kernelspec": {
   "display_name": "Python [conda env:py27]",
   "language": "python",
   "name": "conda-env-py27-py"
  },
  "language_info": {
   "codemirror_mode": {
    "name": "ipython",
    "version": 2
   },
   "file_extension": ".py",
   "mimetype": "text/x-python",
   "name": "python",
   "nbconvert_exporter": "python",
   "pygments_lexer": "ipython2",
   "version": "2.7.9"
  }
 },
 "nbformat": 4,
 "nbformat_minor": 1
}
