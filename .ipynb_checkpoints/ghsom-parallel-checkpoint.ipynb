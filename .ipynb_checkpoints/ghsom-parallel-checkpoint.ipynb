{
 "cells": [
  {
   "cell_type": "code",
   "execution_count": 16,
   "metadata": {
    "collapsed": false
   },
   "outputs": [],
   "source": [
    "from __future__ import division\n",
    "import sys\n",
    "\n",
    "import numpy as np\n",
    "import networkx as nx\n",
    "import sklearn.metrics as met\n",
    "from sklearn.metrics.pairwise import euclidean_distances\n",
    "\n",
    "import matplotlib.pyplot as plt\n",
    "\n",
    "from itertools import repeat\n",
    "\n",
    "from Queue import Queue\n",
    "from threading import Thread\n",
    "from threading import current_thread\n",
    "\n",
    "MIN_EXPANSION_SIZE = 10\n",
    "MAX_DELETED_NEURONS = 3\n",
    "\n",
    "##########################################################################################################################\n",
    "\n",
    "#function to generate real valued som for graph input\n",
    "def initialise_network(ID, X):\n",
    "    \n",
    "    #network will be a one dimensional list\n",
    "    network = nx.Graph(ID = ID)\n",
    "    \n",
    "    #initialise a network with just one neuron\n",
    "    network.add_node(1)\n",
    "    \n",
    "    #id of node\n",
    "    network.node[1][\"ID\"] = \"{}-01\".format(ID)\n",
    "    \n",
    "    #assign a random vector in X to be the weight\n",
    "    V = np.expand_dims(X[np.random.randint(len(X))])\n",
    "    \n",
    "    #return network\n",
    "    return network, V\n",
    "\n",
    "#########################################################################################################################\n",
    "\n",
    "def precompute_sigmas(sigma, num_epochs):\n",
    "    \n",
    "    return np.array([sigma * np.exp(-np.array([2]) * sigma * e / np.array([num_epochs])) \n",
    "                     for e in np.array(range(num_epochs))])\n",
    "\n",
    "##########################################################################################################################\n",
    "##TODO\n",
    "# function to train SOM on given graph\n",
    "def train_network(X, network, V, num_epochs, eta_0, pre_computed_sigmas):\n",
    "    \n",
    "    #initial learning rate\n",
    "    eta = eta_0\n",
    "    \n",
    "    #list if all patterns to visit\n",
    "    training_patterns = range(len(X))\n",
    "    \n",
    "    #shortest path matrix\n",
    "    shortest_path = nx.floyd_warshall_numpy(network)\n",
    "    \n",
    "    for e in range(num_epochs):\n",
    "        \n",
    "        #shuffle nodes\n",
    "        np.random.shuffle(training_patterns)\n",
    "        \n",
    "        # iterate through N nodes of graph\n",
    "        for i in training_patterns:\n",
    "            \n",
    "            #data point to consider\n",
    "            x = X[i]\n",
    "            \n",
    "            #determine winning neuron\n",
    "            closest_neuron = winning_neuron(x, V)\n",
    "            \n",
    "            # update weights\n",
    "            V = update_weights(x, V, closest_neuron, shortest_path, eta, pre_computed_sigmas[e])\n",
    "            \n",
    "    return V\n",
    "        \n",
    "##########################################################################################################################\n",
    "\n",
    "# winning neuron\n",
    "def winning_neuron(x, V):\n",
    "    \n",
    "    distances = np.linalg.norm(x - V, axis=1)\n",
    "    \n",
    "    return distances.argmin()\n",
    "\n",
    "##########################################################################################################################\n",
    "\n",
    "# function to update weights\n",
    "def update_weights(x, V, winning_neuron, eta, sigma):\n",
    "    \n",
    "    #weight update (vectorised)\n",
    "    V += np.dot(np.diag(eta * np.exp(- shortest_path_length[winning_neuron] ** 2 / (np.array([2]) * sigma ** 2))), \n",
    "                      (x - V))\n",
    "    \n",
    "    return V\n",
    "\n",
    "########################################################################################################################   \n",
    "\n",
    "# assign nodes into clusters\n",
    "def assign_nodes(names, X, network, V):\n",
    "    \n",
    "    #distance from each datapoint (row) to each weight vector (column)\n",
    "    distances = euclidean_distances(X, V)\n",
    "    \n",
    "    #minium distance for each datapoint\n",
    "    min_distances = np.min(distances, axis=1)\n",
    "    \n",
    "    #index of column giving minimum distance\n",
    "    arg_min_distances = np.argmin(distances, axis=1)\n",
    "    \n",
    "    #nodes corresponding to minimum index (of length len(X))\n",
    "    minimum_nodes = np.array([network.nodes()[n] for n in arg_min_distances])\n",
    "    \n",
    "    #list of neurons with no assignments\n",
    "    empty_neurons = np.array([n for n in network.nodes() if n not in minimum_nodes])\n",
    "    \n",
    "    if empty_neurons.size > 0:\n",
    "    \n",
    "        ################################################DELETION####################################################\n",
    "\n",
    "        #neighbours of deleted neurons\n",
    "        neighbour_lists = np.array([network.neighbors(n) for n in empty_neurons])\n",
    "\n",
    "        print \"DELETING: {}\".format(empty_neurons)\n",
    "        \n",
    "        #remove the nodes\n",
    "        network.remove_nodes_from(empty_neurons)\n",
    "        \n",
    "        ##remove from V\n",
    "        V = V[i in arg_min_distances for i in range(len(V))]\n",
    "        \n",
    "        #compute distances between all neurons in input space\n",
    "        computed_neuron_distances = compute_euclidean_distances(network, V)\n",
    "        \n",
    "        ##connect separated components\n",
    "        for neighbour_list in neighbour_lists:\n",
    "            connect_components(network, neighbour_list, computed_neuron_distances)\n",
    "\n",
    "        ############################################################################################################\n",
    "\n",
    "    #array of errors\n",
    "    errors = np.array([np.mean(min_distances[minimum_nodes == n]) for n in network.nodes()])\n",
    "    \n",
    "    #compute MQE\n",
    "    MQE = np.mean(errors)\n",
    "    \n",
    "    print \"MQE={}\".format(MQE)\n",
    "    \n",
    "    ##array of assignments\n",
    "    assignments = np.array([np.array([names[i] for i in np.where(minimum_nodes == n)[0]]) for n in network.nodes()])\n",
    "    \n",
    "    #zip zith nodes\n",
    "    errors = {n: e for n, e in zip(network.nodes(), errors)}\n",
    "    assignments = {n: a for n, a in zip(network.nodes(), assignments)}\n",
    "    \n",
    "    nx.set_node_attributes(network, \"e\", errors)\n",
    "    nx.set_node_attributes(network, \"ls\", assignments)\n",
    "    \n",
    "    return MQE, empty_neurons.size, V\n",
    "\n",
    "##########################################################################################################################\n",
    "\n",
    "def compute_euclidean_distances(network, V):\n",
    "    \n",
    "    distances = euclidean_distances(V)\n",
    "    \n",
    "    return {network.nodes()[i] : {network.nodes()[j] : distances[i, j] for j in range(len(distances[i]))}\n",
    "           for i in range(len(distances))}\n",
    "    \n",
    "######################################################################################################################### \n",
    "\n",
    "\n",
    "def connect_components(network, neighbour_list):\n",
    "    \n",
    "    print \"NODES DELETED CONNECTING COMPONENTS\"\n",
    "    \n",
    "    sub_network = network.subgraph(neighbour_list)\n",
    "    \n",
    "    connected_components = [sub_network.subgraph(c) for c in nx.connected_components(sub_network)]\n",
    "    number_of_connected_components = len(connected_components)\n",
    "    \n",
    "    for i in range(number_of_connected_components):\n",
    "        \n",
    "        connected_component_1 = connected_components[i].nodes()\n",
    "        \n",
    "        for j in range(i + 1, number_of_connected_components):\n",
    "            \n",
    "            connected_component_2 = connected_components[j].nodes()\n",
    "            \n",
    "            distances = np.array([[computed_neuron_distances[n1][n2] for n2 in connected_component_2]\n",
    "                                 for n1 in connected_component_1])\n",
    "            \n",
    "            min_n1, min_n2 = np.unravel_index(distances.argmin(), distances.shape)\n",
    "            \n",
    "            network.add_edge(connected_component_1[min_n1], \n",
    "                            connected_component_2[min_n2])\n",
    "            \n",
    "            print \"CONNECTED NEURONS: {} and {}\".format(connected_component_1[min_n1], \n",
    "                            connected_component_2[min_n2])\n",
    "\n",
    "##########################################################################################################################\n",
    "            \n",
    "##function to identify neuron with greatest error\n",
    "def identify_error_unit(network):\n",
    "    \n",
    "    errors = nx.get_node_attributes(network, \"e\")\n",
    "    \n",
    "    return max(errors, key=errors.get)\n",
    "\n",
    "##########################################################################################################################\n",
    "\n",
    "def expand_network(ID, named_X, network, V, computed_neuron_distances, error_unit):\n",
    "        \n",
    "    #identify neighbour pointing closet\n",
    "    error_unit_neighbours = network.subgraph(network.neighbors(error_unit))\n",
    "    \n",
    "    #id of new node\n",
    "    id = max(network) + 1\n",
    "    \n",
    "    #add new node to map\n",
    "    network.add_node(id)\n",
    "    \n",
    "    ##id\n",
    "    network.node[id][\"ID\"] = \"{}-{}\".format(ID, str(id).zfill(2))\n",
    "    \n",
    "    #v goes to random vector in range of error unit\n",
    "    ls = network.node[error_unit][\"ls\"]\n",
    "    \n",
    "    print \"EXPANDING NETWORK\"\n",
    "    print \"ERROR={}\".format(network.node[error_unit][\"e\"])\n",
    "    print \"LS={}\".format(ls)\n",
    "    \n",
    "    r = np.random.randint(len(ls))\n",
    "    v = named_X[ls[r]]\n",
    "    \n",
    "    #add edges to map\n",
    "    \n",
    "    #connect error unit and new node\n",
    "    network.add_edge(error_unit, id)\n",
    "    \n",
    "    if len(error_unit_neighbours) > 0:\n",
    "        \n",
    "        ##find closest neighbour\n",
    "        distances = np.array([computed_neuron_distances[error_unit][n] for n in error_unit_neighbours])\n",
    "        closest_neighbour = min(distances, key=distances.get)\n",
    "        \n",
    "        #connect to error unit and closest neighbour\n",
    "        network.add_edge(closest_neighbour, id)\n",
    "        \n",
    "    #add v to V\n",
    "    np.vstack([V, v])    \n",
    "    \n",
    "    return V\n",
    "        \n",
    "##########################################################################################################################\n",
    "##########################################################################################################################\n",
    "\n",
    "##GHSOM algorithm\n",
    "def ghsom(ID, named_X, lam, eta, sigma, e_0, e_sg, e_en, q):\n",
    "    \n",
    "    #separate names and matrix of node embedding\n",
    "    names, X = zip(*named_X.items())\n",
    "    names = np.array(names)\n",
    "    X = np.array(X)\n",
    "    \n",
    "    #create som for this neuron\n",
    "    network = initialise_network(ID, X)\n",
    "    \n",
    "    #train for lamda epochs\n",
    "    train_network(X, network, lam, eta, sigma)\n",
    "    \n",
    "    #classify nodes and compute error\n",
    "    MQE, num_deleted_neurons = assign_nodes(names, X, network)\n",
    "    \n",
    "    ##som growth phase\n",
    "    #repeat until error is low enough\n",
    "    while MQE > e_sg * e_0 and num_deleted_neurons < MAX_DELETED_NEURONS:\n",
    "        \n",
    "        #find neuron with greatest error\n",
    "        error_unit = identify_error_unit(network)\n",
    "        \n",
    "        #expand network\n",
    "        expand_network(ID, named_X, network, error_unit)\n",
    "        \n",
    "        #train for lam epochs\n",
    "        train_network(X, network, lam, eta, sigma)\n",
    "\n",
    "        #calculate mean network error\n",
    "        MQE, deleted_neurons = assign_nodes(names, X, network)\n",
    "        num_deleted_neurons += deleted_neurons\n",
    "        \n",
    "        \n",
    "        \n",
    "    ##neuron expansion phase\n",
    "    #iterate thorugh all neruons and find neurons with error great enough to expand\n",
    "    for i, d in network.nodes(data=True):\n",
    "        \n",
    "        #unpack\n",
    "        node_id = d[\"ID\"]\n",
    "        ls = d[\"ls\"]\n",
    "        e = d[\"e\"]\n",
    "        \n",
    "        #check error\n",
    "        if (e > e_en * e_0 and len(ls) > MIN_EXPANSION_SIZE and num_deleted_neurons < MAX_DELETED_NEURONS):\n",
    "            \n",
    "            id = \"{}-{}\".format(ID, node_id) \n",
    "                \n",
    "            sub_X = {k: named_X[k] for k in ls}\n",
    "            \n",
    "            print \"submitted job: ID={}, e={}\".format(id, e)\n",
    "            \n",
    "            #add these parameters to the queue\n",
    "            q.put((id, sub_X, lam, eta, sigma, e, e_sg, e_en))\n",
    "    \n",
    "    #return network\n",
    "    return network, MQE\n",
    "\n",
    "##########################################################################################################################\n",
    "##########################################################################################################################\n",
    "\n",
    "def label_nodes(G, networks):\n",
    "    \n",
    "    for _, network, _ in networks: \n",
    "        \n",
    "        for _, d in network.nodes(data=True):\n",
    "            \n",
    "            community = d[\"ID\"]\n",
    "            layer = community.count(\"-\")\n",
    "            assignment_string = \"assigned_community_layer_{}\".format(layer)\n",
    "            \n",
    "            for node in d[\"ls\"]:\n",
    "                \n",
    "                G.node[node][assignment_string] = community\n",
    "\n",
    "\n",
    "##########################################################################################################################\n",
    "\n",
    "def NMI_one_layer(G, label, layer):\n",
    "    \n",
    "    #actual community for this layer\n",
    "    actual_community_labels = np.array([v for k, v in nx.get_node_attributes(G, label).items()])\n",
    "    \n",
    "    #predicted communitiy for this layer\n",
    "    predicted_community_labels = np.array([v for k, v in nx.get_node_attributes(G, \n",
    "                                                                                \"assigned_community_layer_{}\".format(layer))])\n",
    "\n",
    "    return met.normalized_mutual_info_score(actual_community_labels, predicted_community_labels)\n",
    "\n",
    "def NMI_all_layers(G, labels):\n",
    "    \n",
    "    return np.array([NMI_one_layer(G, labels[i], i) for i in range(len(labels))])\n",
    "\n",
    "##########################################################################################################################\n",
    "\n",
    "## get embedding TERRIBLE but staying\n",
    "def get_embedding(G):\n",
    "    \n",
    "    #get number of niodes in the graph\n",
    "    num_nodes = nx.number_of_nodes(G)\n",
    "    \n",
    "    #dimension of embedding\n",
    "    dim = 0\n",
    "    while 'embedding'+str(dim) in G.node[G.nodes()[0]]:\n",
    "        dim += 1\n",
    "    \n",
    "    #initialise embedding\n",
    "    X = np.array([[d[\"embedding{}\".format(j)] for j in range(dim)] for n, d in G.nodes(data=True)])\n",
    "    \n",
    "    return X\n",
    "\n",
    "##########################################################################################################################\n",
    "\n",
    "def process_job(q, networks):\n",
    "    \n",
    "    #unpack first element of queue\n",
    "    #contains all the para,eters for GHSOM\n",
    "    ID, X, lam, eta, sigma, e_0, e_sg, e_en = q.get()\n",
    "\n",
    "    #run GHSOM and return a network and MQE\n",
    "    n, e = ghsom(ID, X, lam, eta, sigma, e_0, e_sg, e_en, q)\n",
    "\n",
    "    #append result to networks list\n",
    "    networks.append((ID, n, e))\n",
    "\n",
    "    #mark task as done\n",
    "    q.task_done()\n",
    "\n",
    "def worker(q, networks):\n",
    "    \n",
    "    #continually poll queue for jobs \n",
    "    while True:\n",
    "        process_job(q, networks)\n",
    "\n",
    "def main(params, gml_filename, lam=10000, num_threads=1):\n",
    "    \n",
    "    #network\n",
    "    G = nx.read_gml(gml_filename)\n",
    "    \n",
    "    #embedding matrix\n",
    "    X = get_embedding(G)\n",
    "    \n",
    "    #zip with names\n",
    "    named_X = {k: v for k, v in zip(G.nodes(), X)}\n",
    "    \n",
    "    ##list of returned networks\n",
    "    networks = []\n",
    "    \n",
    "    #initilise worker queue\n",
    "    q = Queue()\n",
    "    \n",
    "    ##initial MQE is variance of dataset\n",
    "    m = np.mean(X, axis=0)\n",
    "    MQE_0 = np.mean([np.linalg.norm(x - m) for x in X])\n",
    "    \n",
    "    #add initial layer of ghsom to queue\n",
    "    q.put((\"01\", named_X, lam, params[\"eta\"], params[\"sigma\"], MQE_0, params[\"e_sg\"], params[\"e_en\"]))\n",
    "    \n",
    "    if num_threads > 1:\n",
    "    \n",
    "        #initialise threads\n",
    "        for i in range(num_threads):\n",
    "\n",
    "            t = Thread(target=worker, args=(q, networks))\n",
    "            t.setDaemon(True)\n",
    "            t.start()\n",
    "\n",
    "        #finally wait until queue is empty and all tasks are done\n",
    "        q.join()\n",
    "        \n",
    "    else :\n",
    "        \n",
    "        #single thread\n",
    "        while not q.empty():\n",
    "            process_job(q, networks)\n",
    "    \n",
    "    print \"DONE\"\n",
    "    \n",
    "    return G, networks"
   ]
  },
  {
   "cell_type": "code",
   "execution_count": 17,
   "metadata": {
    "collapsed": true
   },
   "outputs": [],
   "source": [
    "params = {'eta': np.array([0.0001]),\n",
    "         'sigma': np.array([1]),\n",
    "          'e_sg': np.array([0.8]),\n",
    "         'e_en': np.array([0.8])}"
   ]
  },
  {
   "cell_type": "code",
   "execution_count": 18,
   "metadata": {
    "collapsed": false
   },
   "outputs": [
    {
     "name": "stdout",
     "output_type": "stream",
     "text": [
      "MQE=8.1720267696\n",
      "ERROR UNIT\n",
      "{1: 8.172026769596199}\n",
      "1\n",
      "EXPANDING NETWORK\n",
      "ERROR=8.1720267696\n",
      "LS=[  0   1   2   3   4   5   6   7   8   9  10  11  12  13  14  15  16  17\n",
      "  18  19  20  21  22  23  24  25  26  27  28  29  30  31  32  33  34  35\n",
      "  36  37  38  39  40  41  42  43  44  45  46  47  48  49  50  51  52  53\n",
      "  54  55  56  57  58  59  60  61  62  63  64  65  66  67  68  69  70  71\n",
      "  72  73  74  75  76  77  78  79  80  81  82  83  84  85  86  87  88  89\n",
      "  90  91  92  93  94  95  96  97  98  99 100 101 102 103 104 105 106 107\n",
      " 108 109 110 111 112 113 114 115 116 117 118 119 120 121 122 123 124 125\n",
      " 126 127 128 129 130 131 132 133 134 135 136 137 138 139 140 141 142 143\n",
      " 144 145 146 147 148 149 150 151 152 153 154 155 156 157 158 159 160 161\n",
      " 162 163 164 165 166 167 168 169 170 171 172 173 174 175 176 177 178 179\n",
      " 180 181 182 183 184 185 186 187 188 189 190 191 192 193 194 195 196 197\n",
      " 198 199 200 201 202 203 204 205 206 207 208 209 210 211 212 213 214 215\n",
      " 216 217 218 219 220 221 222 223 224 225 226 227 228 229 230 231 232 233\n",
      " 234 235 236 237 238 239 240 241 242 243 244 245 246 247 248 249 250 251\n",
      " 252 253 254 255 256 257 258 259 260 261 262]\n",
      "MQE=6.3183656702\n",
      "submitted job: ID=01-01-02, e=6.73275345457\n",
      "MQE=6.73272739849\n",
      "ERROR UNIT\n",
      "{1: 6.7327273984909901}\n",
      "1\n",
      "EXPANDING NETWORK\n",
      "ERROR=6.73272739849\n",
      "LS=[  0   1   2   3   5   9  12  15  17  21  22  23  25  26  30  31  33  34\n",
      "  35  36  37  42  43  44  46  47  48  49  50  51  52  54  55  58  60  61\n",
      "  62  64  65  66  68  69  70  71  72  74  75  76  77  78  80  81  83  84\n",
      "  87  88  91  92  93  94  98  99 100 101 102 104 106 107 110 112 113 114\n",
      " 115 116 120 121 122 124 125 126 128 130 132 133 136 137 138 140 142 143\n",
      " 144 146 147 149 151 152 153 155 156 158 159 160 163 164 165 166 167 168\n",
      " 169 170 172 175 176 178 179 180 181 182 184 187 188 190 191 196 197 198\n",
      " 199 200 202 203 204 205 207 208 209 210 211 212 213 215 216 218 219 220\n",
      " 221 222 223 224 226 229 231 232 234 235 236 237 238 239 242 243 244 245\n",
      " 246 247 248 249 250 252 253 254 255 256 258 259 260 261 262]\n",
      "MQE=4.94639164304\n",
      "submitted job: ID=01-01-02-01-01-02-01, e=6.50421624508\n",
      "MQE=6.50422584777\n",
      "ERROR UNIT\n",
      "{1: 6.5042258477689465}\n",
      "1\n",
      "EXPANDING NETWORK\n",
      "ERROR=6.50422584777\n",
      "LS=[  0   2   5   9  12  17  21  22  23  25  26  30  31  33  34  36  37  42\n",
      "  43  44  48  49  50  51  54  55  58  60  61  62  64  66  68  69  70  71\n",
      "  72  74  76  77  78  84  87  91  92  94  99 100 101 104 106 107 110 112\n",
      " 114 115 116 120 121 125 126 128 130 132 133 136 137 138 140 142 143 146\n",
      " 147 149 151 152 153 155 156 158 159 163 164 166 168 169 170 176 178 179\n",
      " 180 181 182 184 187 188 190 191 196 197 198 199 200 202 203 204 205 207\n",
      " 209 211 212 213 215 216 219 220 221 222 223 224 226 229 231 232 234 235\n",
      " 236 239 242 243 244 245 246 247 248 249 250 252 253 254 258 260 261 262]\n",
      "MQE=5.36083890289\n",
      "ERROR UNIT\n",
      "{1: 6.0474695344660008, 2: 4.674208271321266}\n",
      "1\n",
      "EXPANDING NETWORK\n",
      "ERROR=6.04746953447\n",
      "LS=[  0   2   5   9  12  17  22  26  30  31  33  34  36  37  43  48  50  51\n",
      "  55  58  62  64  66  69  70  72  76  84  87  92  94  99 110 112 114 115\n",
      " 116 125 128 130 137 140 142 143 147 149 151 152 153 155 156 158 163 164\n",
      " 166 168 169 170 179 181 184 187 190 191 196 197 200 202 203 204 207 211\n",
      " 212 213 215 216 222 223 224 229 231 232 234 235 236 239 242 243 244 245\n",
      " 252 253 258 262]\n",
      "MQE=4.20071846222\n",
      "DONE\n",
      " "
     ]
    }
   ],
   "source": [
    "# %%time \n",
    "%prun G, networks = main(params=params, gml_filename=\"embedded_yeast_uetz.gml\", num_threads=1)"
   ]
  },
  {
   "cell_type": "code",
   "execution_count": null,
   "metadata": {
    "collapsed": true
   },
   "outputs": [],
   "source": [
    "label_graph(G, networks)"
   ]
  },
  {
   "cell_type": "code",
   "execution_count": null,
   "metadata": {
    "collapsed": true
   },
   "outputs": [],
   "source": [
    "NMI_all_layersll_layers(G, labels=[\"communityfirstlevel\", \"communitysecondlevel\"])"
   ]
  },
  {
   "cell_type": "code",
   "execution_count": 31,
   "metadata": {
    "collapsed": false
   },
   "outputs": [
    {
     "name": "stdout",
     "output_type": "stream",
     "text": [
      "01\n",
      "{}\n",
      "[[ 0.  1.  1.]\n",
      " [ 1.  0.  1.]\n",
      " [ 1.  1.  0.]]\n",
      "\n"
     ]
    },
    {
     "ename": "KeyError",
     "evalue": "'ID'",
     "output_type": "error",
     "traceback": [
      "\u001b[0;31m---------------------------------------------------------------------------\u001b[0m",
      "\u001b[0;31mKeyError\u001b[0m                                  Traceback (most recent call last)",
      "\u001b[0;32m<ipython-input-31-29c321f3ed21>\u001b[0m in \u001b[0;36m<module>\u001b[0;34m()\u001b[0m\n\u001b[1;32m      6\u001b[0m     \u001b[0;32mprint\u001b[0m\u001b[0;34m\u001b[0m\u001b[0m\n\u001b[1;32m      7\u001b[0m     \u001b[0;32mfor\u001b[0m \u001b[0mn\u001b[0m\u001b[0;34m,\u001b[0m \u001b[0md\u001b[0m \u001b[0;32min\u001b[0m \u001b[0mnetwork\u001b[0m\u001b[0;34m.\u001b[0m\u001b[0mnodes\u001b[0m\u001b[0;34m(\u001b[0m\u001b[0mdata\u001b[0m\u001b[0;34m=\u001b[0m\u001b[0mTrue\u001b[0m\u001b[0;34m)\u001b[0m\u001b[0;34m:\u001b[0m\u001b[0;34m\u001b[0m\u001b[0m\n\u001b[0;32m----> 8\u001b[0;31m         \u001b[0;32mprint\u001b[0m \u001b[0md\u001b[0m\u001b[0;34m[\u001b[0m\u001b[0;34m\"ID\"\u001b[0m\u001b[0;34m]\u001b[0m\u001b[0;34m\u001b[0m\u001b[0m\n\u001b[0m\u001b[1;32m      9\u001b[0m \u001b[0;31m#         print str(n + 1).zfill(2)\u001b[0m\u001b[0;34m\u001b[0m\u001b[0;34m\u001b[0m\u001b[0m\n\u001b[1;32m     10\u001b[0m         \u001b[0;32mprint\u001b[0m \u001b[0mnp\u001b[0m\u001b[0;34m.\u001b[0m\u001b[0marray\u001b[0m\u001b[0;34m(\u001b[0m\u001b[0;34m[\u001b[0m\u001b[0mG\u001b[0m\u001b[0;34m.\u001b[0m\u001b[0mnode\u001b[0m\u001b[0;34m[\u001b[0m\u001b[0mnode\u001b[0m\u001b[0;34m]\u001b[0m\u001b[0;34m[\u001b[0m\u001b[0;34m\"label\"\u001b[0m\u001b[0;34m]\u001b[0m \u001b[0;32mfor\u001b[0m \u001b[0mnode\u001b[0m \u001b[0;32min\u001b[0m \u001b[0md\u001b[0m\u001b[0;34m[\u001b[0m\u001b[0;34m\"ls\"\u001b[0m\u001b[0;34m]\u001b[0m\u001b[0;34m]\u001b[0m\u001b[0;34m)\u001b[0m\u001b[0;34m\u001b[0m\u001b[0m\n",
      "\u001b[0;31mKeyError\u001b[0m: 'ID'"
     ]
    }
   ],
   "source": [
    "for id, network, e in networks:\n",
    "    \n",
    "    print id\n",
    "    print network.graph[\"ID\"]\n",
    "    print nx.floyd_warshall_numpy(network)\n",
    "    print \n",
    "    for n, d in network.nodes(data=True):\n",
    "        print d[\"ID\"]\n",
    "#         print str(n + 1).zfill(2)\n",
    "        print np.array([G.node[node][\"label\"] for node in d[\"ls\"]])\n",
    "        print"
   ]
  },
  {
   "cell_type": "code",
   "execution_count": 15,
   "metadata": {
    "collapsed": false
   },
   "outputs": [
    {
     "name": "stdout",
     "output_type": "stream",
     "text": [
      "The slowest run took 10.75 times longer than the fastest. This could mean that an intermediate result is being cached.\n",
      "100000 loops, best of 3: 2.13 µs per loop\n"
     ]
    }
   ],
   "source": [
    "%timeit np.array([3]) ** 2"
   ]
  },
  {
   "cell_type": "code",
   "execution_count": 14,
   "metadata": {
    "collapsed": false
   },
   "outputs": [
    {
     "name": "stdout",
     "output_type": "stream",
     "text": [
      "The slowest run took 242.04 times longer than the fastest. This could mean that an intermediate result is being cached.\n",
      "100000000 loops, best of 3: 15.1 ns per loop\n"
     ]
    }
   ],
   "source": [
    "%timeit 3 ** 2"
   ]
  },
  {
   "cell_type": "code",
   "execution_count": 19,
   "metadata": {
    "collapsed": true
   },
   "outputs": [],
   "source": [
    "x = np.ones(10)"
   ]
  },
  {
   "cell_type": "code",
   "execution_count": 20,
   "metadata": {
    "collapsed": false
   },
   "outputs": [
    {
     "data": {
      "text/plain": [
       "array([ 1.,  1.,  1.,  1.,  1.,  1.,  1.,  1.,  1.,  1.])"
      ]
     },
     "execution_count": 20,
     "metadata": {},
     "output_type": "execute_result"
    }
   ],
   "source": [
    "x"
   ]
  },
  {
   "cell_type": "code",
   "execution_count": 21,
   "metadata": {
    "collapsed": true
   },
   "outputs": [],
   "source": [
    "V = np.random.rand(4, 10)"
   ]
  },
  {
   "cell_type": "code",
   "execution_count": 109,
   "metadata": {
    "collapsed": false
   },
   "outputs": [
    {
     "data": {
      "text/plain": [
       "array([[ 0.49529815,  0.18757437,  0.34372296,  0.94761752,  0.01004122,\n",
       "         0.24339167,  0.76693577,  0.92906051,  0.29371815,  0.19445442],\n",
       "       [ 0.41539352,  0.10635126,  0.13549128,  0.1208399 ,  0.56317103,\n",
       "         0.56504311,  0.35461997,  0.75235715,  0.75311595,  0.90571066],\n",
       "       [ 0.26849324,  0.13887693,  0.26918758,  0.53133791,  0.83181293,\n",
       "         0.65800801,  0.19624571,  0.27947993,  0.90247327,  0.35431028],\n",
       "       [ 0.00835532,  0.21813548,  0.96096738,  0.94383539,  0.56248537,\n",
       "         0.4845722 ,  0.52816581,  0.65962402,  0.01317999,  0.78644797],\n",
       "       [ 0.51383327,  0.65470872,  0.90030044,  0.74498116,  0.12355387,\n",
       "         0.83561573,  0.47583729,  0.87859551,  0.05922463,  0.96739777],\n",
       "       [ 0.69772866,  0.42101705,  0.52387138,  0.36964618,  0.79153711,\n",
       "         0.70393338,  0.7006208 ,  0.84793905,  0.54686991,  0.33514087],\n",
       "       [ 0.70820633,  0.85819298,  0.98531544,  0.34022415,  0.57112018,\n",
       "         0.52750527,  0.9148991 ,  0.21071674,  0.74788642,  0.78194676],\n",
       "       [ 0.86230471,  0.02302082,  0.87611527,  0.22486837,  0.74763211,\n",
       "         0.59833991,  0.48354203,  0.64682249,  0.10786904,  0.82723717],\n",
       "       [ 0.62408136,  0.47407895,  0.77696888,  0.10965633,  0.80135056,\n",
       "         0.72599804,  0.38531403,  0.10451042,  0.42795757,  0.97921508],\n",
       "       [ 0.02638038,  0.12018983,  0.81990783,  0.44196119,  0.46013559,\n",
       "         0.32934647,  0.38951373,  0.87755364,  0.17871766,  0.29957977],\n",
       "       [ 0.50491065,  0.81696511,  0.93948712,  0.26831657,  0.12793646,\n",
       "         0.68237032,  0.19517461,  0.74921985,  0.33191227,  0.36167381],\n",
       "       [ 0.80098111,  0.30916371,  0.27470621,  0.18378949,  0.4346569 ,\n",
       "         0.60069588,  0.95038095,  0.5826191 ,  0.18369348,  0.88338161],\n",
       "       [ 0.92519965,  0.6706186 ,  0.08816774,  0.78059   ,  0.78936574,\n",
       "         0.66921483,  0.97714982,  0.0985822 ,  0.63304431,  0.86615519],\n",
       "       [ 0.71090914,  0.00585245,  0.29106469,  0.51393181,  0.78439585,\n",
       "         0.2891102 ,  0.20872156,  0.36711284,  0.37003525,  0.06974378],\n",
       "       [ 0.14565216,  0.84843753,  0.33122417,  0.29216733,  0.43913544,\n",
       "         0.93522885,  0.03495333,  0.51349964,  0.50701089,  0.1400445 ],\n",
       "       [ 0.26012127,  0.4771092 ,  0.43485001,  0.36810688,  0.15809549,\n",
       "         0.14532056,  0.99138783,  0.43572325,  0.3181182 ,  0.58356995],\n",
       "       [ 0.19334141,  0.80961445,  0.2160479 ,  0.3052667 ,  0.33827628,\n",
       "         0.84009212,  0.32022885,  0.4975446 ,  0.8907228 ,  0.21791894],\n",
       "       [ 0.72103465,  0.93936432,  0.56222016,  0.53138858,  0.61731387,\n",
       "         0.99769649,  0.22667457,  0.83546372,  0.88405415,  0.65806142],\n",
       "       [ 0.85399021,  0.93501928,  0.31884479,  0.81770711,  0.44740605,\n",
       "         0.91953614,  0.54111362,  0.59875346,  0.25795447,  0.11922203],\n",
       "       [ 0.66184758,  0.88327793,  0.53587225,  0.17928134,  0.68718245,\n",
       "         0.06549478,  0.7978224 ,  0.2048334 ,  0.05593585,  0.75968451],\n",
       "       [ 0.30160738,  0.67019921,  0.19707099,  0.27349824,  0.06566187,\n",
       "         0.73673713,  0.11263393,  0.63259767,  0.56147156,  0.16139273],\n",
       "       [ 0.58146088,  0.14738145,  0.08761754,  0.13593778,  0.66586861,\n",
       "         0.38600082,  0.75474561,  0.22311485,  0.68184876,  0.84642096],\n",
       "       [ 0.60286315,  0.63885775,  0.31760737,  0.84668371,  0.0161236 ,\n",
       "         0.31358378,  0.12161235,  0.88483697,  0.49867834,  0.67756395],\n",
       "       [ 0.14293041,  0.8387764 ,  0.99743892,  0.86043201,  0.63384657,\n",
       "         0.12550923,  0.55451314,  0.44596708,  0.78265565,  0.48139082],\n",
       "       [ 0.09564645,  0.86794495,  0.91570359,  0.61243179,  0.07717885,\n",
       "         0.13874022,  0.14581962,  0.40469353,  0.44624344,  0.72689299],\n",
       "       [ 0.14008709,  0.75023584,  0.26950047,  0.83378953,  0.27087675,\n",
       "         0.00662419,  0.73803306,  0.13004625,  0.3787538 ,  0.9384365 ],\n",
       "       [ 0.06247936,  0.68217723,  0.34616461,  0.62841734,  0.46124915,\n",
       "         0.52094303,  0.99618535,  0.72587023,  0.50280204,  0.03699545],\n",
       "       [ 0.26086672,  0.09536686,  0.65296924,  0.48511375,  0.68595504,\n",
       "         0.15463067,  0.76205309,  0.58799925,  0.24167959,  0.07722801],\n",
       "       [ 0.50402047,  0.11536581,  0.59028203,  0.74991753,  0.32066881,\n",
       "         0.78880761,  0.50380941,  0.51767037,  0.18721256,  0.12775742],\n",
       "       [ 0.94070853,  0.1915978 ,  0.79702862,  0.51296936,  0.429342  ,\n",
       "         0.16936998,  0.65564697,  0.94389612,  0.84432507,  0.84965035],\n",
       "       [ 0.84237568,  0.19977728,  0.87633608,  0.73771924,  0.63912892,\n",
       "         0.89054728,  0.30642494,  0.1943537 ,  0.80569009,  0.46048498],\n",
       "       [ 0.85825599,  0.82032732,  0.18983874,  0.73732938,  0.34092125,\n",
       "         0.7434185 ,  0.24319087,  0.38579611,  0.26479006,  0.97715007],\n",
       "       [ 0.95200816,  0.40030464,  0.58983948,  0.02101565,  0.09511675,\n",
       "         0.23791666,  0.82465281,  0.89916492,  0.00616377,  0.23337998],\n",
       "       [ 0.24191216,  0.00231807,  0.52410458,  0.38703147,  0.29520022,\n",
       "         0.6707667 ,  0.2405218 ,  0.35563344,  0.13645116,  0.99416392],\n",
       "       [ 0.54294206,  0.97269295,  0.41260094,  0.83844795,  0.32548828,\n",
       "         0.6100491 ,  0.208989  ,  0.95037261,  0.34516449,  0.23723415],\n",
       "       [ 0.70315268,  0.20984425,  0.57941768,  0.13308472,  0.32959072,\n",
       "         0.25836175,  0.01609498,  0.83741916,  0.59902099,  0.55111277],\n",
       "       [ 0.41462562,  0.60850978,  0.02703078,  0.18020112,  0.54178664,\n",
       "         0.15442427,  0.23734639,  0.20945022,  0.05674553,  0.42889312],\n",
       "       [ 0.14197149,  0.88337489,  0.96086241,  0.87360581,  0.0356064 ,\n",
       "         0.03448429,  0.03150495,  0.4976295 ,  0.17139301,  0.46205669],\n",
       "       [ 0.64989406,  0.97163922,  0.88960992,  0.77147719,  0.87447426,\n",
       "         0.53176291,  0.75033972,  0.90714873,  0.0286722 ,  0.61947627],\n",
       "       [ 0.91803028,  0.35199627,  0.23179263,  0.33482314,  0.96938601,\n",
       "         0.17830329,  0.9576258 ,  0.2945948 ,  0.36499105,  0.23832059],\n",
       "       [ 0.39547509,  0.68666152,  0.30379454,  0.13637236,  0.50024277,\n",
       "         0.26457705,  0.11391409,  0.38324061,  0.70350267,  0.15832895],\n",
       "       [ 0.58842481,  0.86136542,  0.91115696,  0.24765971,  0.67186976,\n",
       "         0.90856811,  0.58752911,  0.25338166,  0.05211254,  0.04728547],\n",
       "       [ 0.59938496,  0.07109635,  0.30473507,  0.20715072,  0.06455697,\n",
       "         0.53328324,  0.81698835,  0.14059503,  0.55331912,  0.85996949],\n",
       "       [ 0.64829997,  0.31012425,  0.67157294,  0.44101436,  0.66715452,\n",
       "         0.95159867,  0.33199823,  0.5575709 ,  0.7219925 ,  0.58248274],\n",
       "       [ 0.03467755,  0.40005551,  0.80553822,  0.36512102,  0.95158976,\n",
       "         0.79535633,  0.35169847,  0.6154818 ,  0.95482636,  0.12356427],\n",
       "       [ 0.66214464,  0.89142167,  0.28916062,  0.90796952,  0.41748732,\n",
       "         0.77013659,  0.62162225,  0.8934349 ,  0.24106947,  0.8920012 ],\n",
       "       [ 0.06899218,  0.31185614,  0.59474516,  0.5357747 ,  0.45608645,\n",
       "         0.08290644,  0.40238132,  0.10068375,  0.18609525,  0.02414657],\n",
       "       [ 0.80253328,  0.75873336,  0.8037679 ,  0.96456848,  0.13656785,\n",
       "         0.08094595,  0.92343317,  0.25101997,  0.81773587,  0.18891931],\n",
       "       [ 0.80461039,  0.37709645,  0.81640087,  0.95924687,  0.11097931,\n",
       "         0.49579202,  0.88742028,  0.89510021,  0.97823304,  0.92415683],\n",
       "       [ 0.22918   ,  0.03187343,  0.33214033,  0.5267352 ,  0.99957082,\n",
       "         0.09220551,  0.09114362,  0.56000267,  0.47826359,  0.94077986]])"
      ]
     },
     "execution_count": 109,
     "metadata": {},
     "output_type": "execute_result"
    }
   ],
   "source": [
    "V"
   ]
  },
  {
   "cell_type": "code",
   "execution_count": 113,
   "metadata": {
    "collapsed": false
   },
   "outputs": [
    {
     "name": "stdout",
     "output_type": "stream",
     "text": [
      "The slowest run took 29.78 times longer than the fastest. This could mean that an intermediate result is being cached.\n",
      "10000 loops, best of 3: 120 µs per loop\n"
     ]
    }
   ],
   "source": [
    "%%timeit \n",
    "euclidean_distances(V)"
   ]
  },
  {
   "cell_type": "code",
   "execution_count": 25,
   "metadata": {
    "collapsed": false
   },
   "outputs": [
    {
     "name": "stdout",
     "output_type": "stream",
     "text": [
      "The slowest run took 5.79 times longer than the fastest. This could mean that an intermediate result is being cached.\n",
      "10000 loops, best of 3: 29 µs per loop\n"
     ]
    }
   ],
   "source": [
    "%timeit d1 = np.array([np.linalg.norm(x - v) for v in V])"
   ]
  },
  {
   "cell_type": "code",
   "execution_count": 24,
   "metadata": {
    "collapsed": false
   },
   "outputs": [
    {
     "data": {
      "text/plain": [
       "array([ 1.25720888,  1.57568538,  1.82639795,  1.40716874])"
      ]
     },
     "execution_count": 24,
     "metadata": {},
     "output_type": "execute_result"
    }
   ],
   "source": [
    "d1"
   ]
  },
  {
   "cell_type": "code",
   "execution_count": 32,
   "metadata": {
    "collapsed": false
   },
   "outputs": [
    {
     "name": "stdout",
     "output_type": "stream",
     "text": [
      "The slowest run took 10.10 times longer than the fastest. This could mean that an intermediate result is being cached.\n",
      "10000 loops, best of 3: 15.3 µs per loop\n"
     ]
    }
   ],
   "source": [
    "%timeit d2 = np.linalg.norm(x - V, axis=1)"
   ]
  },
  {
   "cell_type": "code",
   "execution_count": 52,
   "metadata": {
    "collapsed": false
   },
   "outputs": [
    {
     "data": {
      "text/plain": [
       "array([ 1.25720888,  1.57568538,  1.82639795,  1.40716874])"
      ]
     },
     "execution_count": 52,
     "metadata": {},
     "output_type": "execute_result"
    }
   ],
   "source": [
    "d2"
   ]
  },
  {
   "cell_type": "code",
   "execution_count": 54,
   "metadata": {
    "collapsed": false
   },
   "outputs": [
    {
     "data": {
      "text/plain": [
       "0"
      ]
     },
     "execution_count": 54,
     "metadata": {},
     "output_type": "execute_result"
    }
   ],
   "source": [
    "d2.argmin()"
   ]
  },
  {
   "cell_type": "code",
   "execution_count": 42,
   "metadata": {
    "collapsed": false
   },
   "outputs": [
    {
     "name": "stdout",
     "output_type": "stream",
     "text": [
      "The slowest run took 5.92 times longer than the fastest. This could mean that an intermediate result is being cached.\n",
      "1000 loops, best of 3: 693 µs per loop\n"
     ]
    }
   ],
   "source": [
    "%%timeit \n",
    "np.array([np.random.shuffle(range(100)) for i in range(200)])"
   ]
  },
  {
   "cell_type": "code",
   "execution_count": 38,
   "metadata": {
    "collapsed": false
   },
   "outputs": [
    {
     "data": {
      "text/plain": [
       "(200, 100)"
      ]
     },
     "execution_count": 38,
     "metadata": {},
     "output_type": "execute_result"
    }
   ],
   "source": [
    "np.array([np.random.permutation(range(100)) for i in range(200)]).shape"
   ]
  },
  {
   "cell_type": "code",
   "execution_count": 41,
   "metadata": {
    "collapsed": false
   },
   "outputs": [
    {
     "name": "stdout",
     "output_type": "stream",
     "text": [
      "The slowest run took 4.26 times longer than the fastest. This could mean that an intermediate result is being cached.\n",
      "1000 loops, best of 3: 543 µs per loop\n"
     ]
    }
   ],
   "source": [
    "%%timeit\n",
    "patterns = range(100)\n",
    "for i in range(200):\n",
    "    np.random.shuffle(patterns)"
   ]
  },
  {
   "cell_type": "code",
   "execution_count": 40,
   "metadata": {
    "collapsed": false
   },
   "outputs": [
    {
     "name": "stdout",
     "output_type": "stream",
     "text": [
      "100 loops, best of 3: 3.98 ms per loop\n"
     ]
    }
   ],
   "source": [
    "%%timeit\n",
    "patterns = range(100)\n",
    "for i in range(200):\n",
    "    np.random.permutation(patterns)"
   ]
  },
  {
   "cell_type": "code",
   "execution_count": 43,
   "metadata": {
    "collapsed": true
   },
   "outputs": [],
   "source": [
    "import networkx as nx"
   ]
  },
  {
   "cell_type": "code",
   "execution_count": 44,
   "metadata": {
    "collapsed": true
   },
   "outputs": [],
   "source": [
    "G = nx.karate_club_graph()"
   ]
  },
  {
   "cell_type": "code",
   "execution_count": 45,
   "metadata": {
    "collapsed": false
   },
   "outputs": [
    {
     "data": {
      "text/plain": [
       "matrix([[ 0.,  1.,  1., ...,  1.,  2.,  2.],\n",
       "        [ 1.,  0.,  1., ...,  2.,  2.,  2.],\n",
       "        [ 1.,  1.,  0., ...,  2.,  1.,  2.],\n",
       "        ..., \n",
       "        [ 1.,  2.,  2., ...,  0.,  1.,  1.],\n",
       "        [ 2.,  2.,  1., ...,  1.,  0.,  1.],\n",
       "        [ 2.,  2.,  2., ...,  1.,  1.,  0.]])"
      ]
     },
     "execution_count": 45,
     "metadata": {},
     "output_type": "execute_result"
    }
   ],
   "source": [
    "nx.floyd_warshall_numpy(G)"
   ]
  },
  {
   "cell_type": "code",
   "execution_count": 51,
   "metadata": {
    "collapsed": false
   },
   "outputs": [
    {
     "name": "stdout",
     "output_type": "stream",
     "text": [
      "<type 'numpy.int64'>\n"
     ]
    }
   ],
   "source": [
    "for e in np.array(range(1)):\n",
    "    print type(e)"
   ]
  },
  {
   "cell_type": "code",
   "execution_count": 65,
   "metadata": {
    "collapsed": false
   },
   "outputs": [],
   "source": [
    "X = np.random.uniform(size=(100, 10))"
   ]
  },
  {
   "cell_type": "code",
   "execution_count": 66,
   "metadata": {
    "collapsed": false
   },
   "outputs": [
    {
     "data": {
      "text/plain": [
       "(100, 10)"
      ]
     },
     "execution_count": 66,
     "metadata": {},
     "output_type": "execute_result"
    }
   ],
   "source": [
    "X.shape"
   ]
  },
  {
   "cell_type": "code",
   "execution_count": 114,
   "metadata": {
    "collapsed": true
   },
   "outputs": [],
   "source": [
    "V = np.random.uniform(size=(50, 10))"
   ]
  },
  {
   "cell_type": "code",
   "execution_count": 115,
   "metadata": {
    "collapsed": false
   },
   "outputs": [
    {
     "data": {
      "text/plain": [
       "(50, 10)"
      ]
     },
     "execution_count": 115,
     "metadata": {},
     "output_type": "execute_result"
    }
   ],
   "source": [
    "V.shape"
   ]
  },
  {
   "cell_type": "code",
   "execution_count": 116,
   "metadata": {
    "collapsed": true
   },
   "outputs": [],
   "source": [
    "v = V[10]"
   ]
  },
  {
   "cell_type": "code",
   "execution_count": 119,
   "metadata": {
    "collapsed": false
   },
   "outputs": [
    {
     "name": "stdout",
     "output_type": "stream",
     "text": [
      "The slowest run took 9.28 times longer than the fastest. This could mean that an intermediate result is being cached.\n",
      "10000 loops, best of 3: 18.5 µs per loop\n"
     ]
    }
   ],
   "source": [
    "%%timeit\n",
    "np.linalg.norm(X - v, axis=1)"
   ]
  },
  {
   "cell_type": "code",
   "execution_count": 120,
   "metadata": {
    "collapsed": false
   },
   "outputs": [
    {
     "name": "stdout",
     "output_type": "stream",
     "text": [
      "The slowest run took 11.03 times longer than the fastest. This could mean that an intermediate result is being cached.\n",
      "10000 loops, best of 3: 124 µs per loop\n"
     ]
    }
   ],
   "source": [
    "%%timeit\n",
    "euclidean_distances(X, V)[10]"
   ]
  },
  {
   "cell_type": "code",
   "execution_count": 60,
   "metadata": {
    "collapsed": true
   },
   "outputs": [],
   "source": [
    "from sklearn.metrics.pairwise import euclidean_distances"
   ]
  },
  {
   "cell_type": "code",
   "execution_count": 72,
   "metadata": {
    "collapsed": true
   },
   "outputs": [],
   "source": [
    "v = np.random.rand(10)"
   ]
  },
  {
   "cell_type": "code",
   "execution_count": 93,
   "metadata": {
    "collapsed": false
   },
   "outputs": [
    {
     "name": "stdout",
     "output_type": "stream",
     "text": [
      "The slowest run took 6.81 times longer than the fastest. This could mean that an intermediate result is being cached.\n",
      "10000 loops, best of 3: 86.7 µs per loop\n"
     ]
    }
   ],
   "source": [
    "%%timeit\n",
    "d = euclidean_distances(X, np.expand_dims(v,axis=0))\n",
    "np.squeeze(d)"
   ]
  },
  {
   "cell_type": "code",
   "execution_count": 92,
   "metadata": {
    "collapsed": false
   },
   "outputs": [
    {
     "name": "stdout",
     "output_type": "stream",
     "text": [
      "The slowest run took 16.19 times longer than the fastest. This could mean that an intermediate result is being cached.\n",
      "10000 loops, best of 3: 18.3 µs per loop\n"
     ]
    }
   ],
   "source": [
    "%%timeit\n",
    "np.linalg.norm(X-v, axis=1)"
   ]
  },
  {
   "cell_type": "code",
   "execution_count": 87,
   "metadata": {
    "collapsed": false
   },
   "outputs": [
    {
     "data": {
      "text/plain": [
       "array([[ 0.86165423,  0.86393597,  0.54176829,  0.74506783,  0.47238384,\n",
       "         0.04732205,  0.42682069,  0.22436778,  0.09487702,  0.14713109]])"
      ]
     },
     "execution_count": 87,
     "metadata": {},
     "output_type": "execute_result"
    }
   ],
   "source": [
    "np.expand_dims(v,axis=0)"
   ]
  },
  {
   "cell_type": "code",
   "execution_count": 88,
   "metadata": {
    "collapsed": false
   },
   "outputs": [
    {
     "data": {
      "text/plain": [
       "array([ 1.12988925,  1.22482168,  1.38759476,  1.25844721,  1.20800464,\n",
       "        1.61205317,  1.18898783,  1.57134352,  1.4357881 ,  1.29428861,\n",
       "        0.76502481,  1.40508946,  1.3369364 ,  1.30399373,  1.33784348,\n",
       "        1.61825203,  1.10802022,  1.53395079,  1.68038185,  1.53273757,\n",
       "        1.48455036,  1.45308392,  1.53480268,  1.35857086,  1.03782755,\n",
       "        1.26118556,  1.40668269,  1.72257661,  1.45673875,  1.20980696,\n",
       "        1.15707178,  1.31310238,  1.21313389,  1.63797217,  1.4377278 ,\n",
       "        1.46564403,  1.156674  ,  1.11945899,  1.32434497,  1.60576223,\n",
       "        1.43649465,  1.12637451,  1.20218976,  1.01408283,  1.19630106,\n",
       "        1.14655355,  1.34197424,  1.38412298,  1.54643675,  1.1775175 ,\n",
       "        0.74262937,  1.26378427,  0.94512418,  1.31216168,  1.25016525,\n",
       "        0.86835855,  0.92839379,  1.27398001,  1.04907224,  1.41949531,\n",
       "        1.50928064,  1.60320921,  1.65079118,  1.22573845,  1.36655758,\n",
       "        1.36783467,  1.41640277,  1.30323882,  0.92059426,  1.18204668,\n",
       "        1.67469838,  1.39595657,  1.41464013,  1.47598186,  1.10905592,\n",
       "        1.20478334,  1.30121715,  1.63993684,  1.23121638,  1.25370216,\n",
       "        1.4676715 ,  1.30890627,  1.42854658,  1.60674135,  0.98251953,\n",
       "        1.28463677,  1.43586168,  1.2848713 ,  1.30074405,  1.63691267,\n",
       "        1.15374364,  1.18409123,  1.23705023,  1.49108691,  1.11454884,\n",
       "        1.23962344,  1.38773091,  1.45443992,  0.90863278,  1.79897694])"
      ]
     },
     "execution_count": 88,
     "metadata": {},
     "output_type": "execute_result"
    }
   ],
   "source": []
  },
  {
   "cell_type": "code",
   "execution_count": 79,
   "metadata": {
    "collapsed": false
   },
   "outputs": [
    {
     "ename": "AttributeError",
     "evalue": "'module' object has no attribute 'min'",
     "output_type": "error",
     "traceback": [
      "\u001b[0;31m---------------------------------------------------------------------------\u001b[0m",
      "\u001b[0;31mAttributeError\u001b[0m                            Traceback (most recent call last)",
      "\u001b[0;32m<ipython-input-79-70fd079477cb>\u001b[0m in \u001b[0;36m<module>\u001b[0;34m()\u001b[0m\n\u001b[0;32m----> 1\u001b[0;31m \u001b[0msp\u001b[0m\u001b[0;34m.\u001b[0m\u001b[0mmin\u001b[0m\u001b[0;34m(\u001b[0m\u001b[0md\u001b[0m\u001b[0;34m,\u001b[0m \u001b[0maxis\u001b[0m\u001b[0;34m=\u001b[0m\u001b[0;36m1\u001b[0m\u001b[0;34m)\u001b[0m\u001b[0;34m.\u001b[0m\u001b[0mshape\u001b[0m\u001b[0;34m\u001b[0m\u001b[0m\n\u001b[0m",
      "\u001b[0;31mAttributeError\u001b[0m: 'module' object has no attribute 'min'"
     ]
    }
   ],
   "source": [
    "sp.min(d, axis=1).shape"
   ]
  },
  {
   "cell_type": "code",
   "execution_count": 78,
   "metadata": {
    "collapsed": true
   },
   "outputs": [],
   "source": [
    "import scipy as sp"
   ]
  },
  {
   "cell_type": "code",
   "execution_count": 105,
   "metadata": {
    "collapsed": true
   },
   "outputs": [],
   "source": [
    "distances = np.random.uniform(size=(10, 10))"
   ]
  },
  {
   "cell_type": "code",
   "execution_count": 106,
   "metadata": {
    "collapsed": false
   },
   "outputs": [],
   "source": [
    "arg_min_distances = distances.argmin(axis=1)"
   ]
  },
  {
   "cell_type": "code",
   "execution_count": 107,
   "metadata": {
    "collapsed": false
   },
   "outputs": [
    {
     "data": {
      "text/plain": [
       "array([0, 8, 6, 1, 2, 6, 6, 6, 7, 0])"
      ]
     },
     "execution_count": 107,
     "metadata": {},
     "output_type": "execute_result"
    }
   ],
   "source": [
    "arg_min_distances"
   ]
  },
  {
   "cell_type": "code",
   "execution_count": 108,
   "metadata": {
    "collapsed": false
   },
   "outputs": [
    {
     "data": {
      "text/plain": [
       "[True, True, True, False, False, False, True, True, True, False]"
      ]
     },
     "execution_count": 108,
     "metadata": {},
     "output_type": "execute_result"
    }
   ],
   "source": [
    "[i in arg_min_distances for i in range(10)]"
   ]
  },
  {
   "cell_type": "code",
   "execution_count": 125,
   "metadata": {
    "collapsed": true
   },
   "outputs": [],
   "source": [
    "G = nx.karate_club_graph()"
   ]
  },
  {
   "cell_type": "code",
   "execution_count": 127,
   "metadata": {
    "collapsed": true
   },
   "outputs": [],
   "source": [
    "G.remove_node(0)"
   ]
  },
  {
   "cell_type": "code",
   "execution_count": 128,
   "metadata": {
    "collapsed": false
   },
   "outputs": [
    {
     "name": "stdout",
     "output_type": "stream",
     "text": [
      "[16, 10, 6]\n",
      "[16, 10, 6]\n",
      "[16, 10, 6]\n",
      "[16, 10, 6]\n",
      "[16, 10, 6]\n",
      "[16, 10, 6]\n",
      "[16, 10, 6]\n",
      "[16, 10, 6]\n",
      "[16, 10, 6]\n",
      "[16, 10, 6]\n"
     ]
    }
   ],
   "source": [
    "for i in range(10):\n",
    "    print G.neighbors(5)"
   ]
  },
  {
   "cell_type": "code",
   "execution_count": 129,
   "metadata": {
    "collapsed": true
   },
   "outputs": [],
   "source": [
    "V = np.random.uniform(size=(10, 2))"
   ]
  },
  {
   "cell_type": "code",
   "execution_count": 135,
   "metadata": {
    "collapsed": false
   },
   "outputs": [
    {
     "name": "stdout",
     "output_type": "stream",
     "text": [
      "The slowest run took 30.59 times longer than the fastest. This could mean that an intermediate result is being cached.\n",
      "100000 loops, best of 3: 7.88 µs per loop\n"
     ]
    }
   ],
   "source": [
    "%timeit np.vstack([V, np.random.rand(2)])"
   ]
  },
  {
   "cell_type": "code",
   "execution_count": 136,
   "metadata": {
    "collapsed": true
   },
   "outputs": [],
   "source": [
    "d = np.random.rand(4,4)"
   ]
  },
  {
   "cell_type": "code",
   "execution_count": 137,
   "metadata": {
    "collapsed": false
   },
   "outputs": [
    {
     "data": {
      "text/plain": [
       "array([[ 0.93972975,  0.65445338,  0.85797874,  0.00275317],\n",
       "       [ 0.77358549,  0.36047962,  0.76187044,  0.9796929 ],\n",
       "       [ 0.48033511,  0.74553867,  0.83923645,  0.83656042],\n",
       "       [ 0.51520627,  0.01883697,  0.81623215,  0.69278958]])"
      ]
     },
     "execution_count": 137,
     "metadata": {},
     "output_type": "execute_result"
    }
   ],
   "source": [
    "d"
   ]
  },
  {
   "cell_type": "code",
   "execution_count": 140,
   "metadata": {
    "collapsed": true
   },
   "outputs": [],
   "source": [
    "keys = [\"one\", \"two\", \"three\", \"four\"]"
   ]
  },
  {
   "cell_type": "code",
   "execution_count": 141,
   "metadata": {
    "collapsed": false
   },
   "outputs": [
    {
     "data": {
      "text/plain": [
       "{'four': {'four': 0.69278958245266331,\n",
       "  'one': 0.51520626539052738,\n",
       "  'three': 0.81623215235313107,\n",
       "  'two': 0.018836967846983632},\n",
       " 'one': {'four': 0.0027531722308948847,\n",
       "  'one': 0.93972975362457611,\n",
       "  'three': 0.85797873903584243,\n",
       "  'two': 0.65445338026773647},\n",
       " 'three': {'four': 0.83656041699512196,\n",
       "  'one': 0.48033510776842603,\n",
       "  'three': 0.83923645494436583,\n",
       "  'two': 0.74553866626637189},\n",
       " 'two': {'four': 0.97969290303959267,\n",
       "  'one': 0.77358548736724631,\n",
       "  'three': 0.76187043742294702,\n",
       "  'two': 0.3604796239127902}}"
      ]
     },
     "execution_count": 141,
     "metadata": {},
     "output_type": "execute_result"
    }
   ],
   "source": [
    "{keys[i]: {keys[j]: d[i,j] for j in range(len(d[i]))} for i in range(len(d))}"
   ]
  },
  {
   "cell_type": "code",
   "execution_count": null,
   "metadata": {
    "collapsed": true
   },
   "outputs": [],
   "source": []
  }
 ],
 "metadata": {
  "anaconda-cloud": {},
  "kernelspec": {
   "display_name": "Python [default]",
   "language": "python",
   "name": "python2"
  }
 },
 "nbformat": 4,
 "nbformat_minor": 1
}
