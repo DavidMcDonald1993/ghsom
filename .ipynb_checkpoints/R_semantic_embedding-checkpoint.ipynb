{
 "cells": [
  {
   "cell_type": "code",
   "execution_count": 3,
   "metadata": {
    "collapsed": false,
    "scrolled": true
   },
   "outputs": [
    {
     "name": "stderr",
     "output_type": "stream",
     "text": [
      "Loading required package: AnnotationDbi\n",
      "Loading required package: stats4\n",
      "Loading required package: BiocGenerics\n",
      "Loading required package: parallel\n",
      "\n",
      "Attaching package: ‘BiocGenerics’\n",
      "\n",
      "The following objects are masked from ‘package:parallel’:\n",
      "\n",
      "    clusterApply, clusterApplyLB, clusterCall, clusterEvalQ,\n",
      "    clusterExport, clusterMap, parApply, parCapply, parLapply,\n",
      "    parLapplyLB, parRapply, parSapply, parSapplyLB\n",
      "\n",
      "The following objects are masked from ‘package:stats’:\n",
      "\n",
      "    IQR, mad, xtabs\n",
      "\n",
      "The following objects are masked from ‘package:base’:\n",
      "\n",
      "    anyDuplicated, append, as.data.frame, cbind, colnames, do.call,\n",
      "    duplicated, eval, evalq, Filter, Find, get, grep, grepl, intersect,\n",
      "    is.unsorted, lapply, lengths, Map, mapply, match, mget, order,\n",
      "    paste, pmax, pmax.int, pmin, pmin.int, Position, rank, rbind,\n",
      "    Reduce, rownames, sapply, setdiff, sort, table, tapply, union,\n",
      "    unique, unsplit, which, which.max, which.min\n",
      "\n",
      "Loading required package: Biobase\n",
      "Welcome to Bioconductor\n",
      "\n",
      "    Vignettes contain introductory material; view with\n",
      "    'browseVignettes()'. To cite Bioconductor, see\n",
      "    'citation(\"Biobase\")', and for packages 'citation(\"pkgname\")'.\n",
      "\n",
      "Loading required package: IRanges\n",
      "Loading required package: S4Vectors\n",
      "\n",
      "Attaching package: ‘S4Vectors’\n",
      "\n",
      "The following objects are masked from ‘package:base’:\n",
      "\n",
      "    colMeans, colSums, expand.grid, rowMeans, rowSums\n",
      "\n",
      "\n",
      "Loading required package: graph\n",
      "Loading required package: SparseM\n",
      "\n",
      "Attaching package: ‘SparseM’\n",
      "\n",
      "The following object is masked from ‘package:base’:\n",
      "\n",
      "    backsolve\n",
      "\n",
      "\n",
      "groupGOTerms: \tGOBPTerm, GOMFTerm, GOCCTerm environments built.\n",
      "\n",
      "Attaching package: ‘topGO’\n",
      "\n",
      "The following object is masked from ‘package:IRanges’:\n",
      "\n",
      "    members\n",
      "\n",
      "\n",
      "\n",
      "GOSemSim v2.0.4  For help: https://guangchuangyu.github.io/GOSemSim\n",
      "\n",
      "If you use GOSemSim in published research, please cite:\n",
      "Guangchuang Yu, Fei Li, Yide Qin, Xiaochen Bo, Yibo Wu, Shengqi Wang. GOSemSim: an R package for measuring semantic similarity among GO terms and gene products Bioinformatics 2010, 26(7):976-978\n"
     ]
    }
   ],
   "source": [
    "#libraries\n",
    "library(GO.db)\n",
    "library(topGO)\n",
    "library(org.Hs.eg.db)\n",
    "library(org.Sc.sgd.db)\n",
    "library(GOSemSim)"
   ]
  },
  {
   "cell_type": "code",
   "execution_count": 30,
   "metadata": {
    "collapsed": false
   },
   "outputs": [],
   "source": [
    "file <- \"yeast_union\"\n",
    "\n",
    "ont=\"BP\"\n",
    "db <- org.Sc.sgd.db\n",
    "mapping <- \"org.Sc.sgd.db\"\n",
    "ID <- \"ENSEMBL\""
   ]
  },
  {
   "cell_type": "code",
   "execution_count": 31,
   "metadata": {
    "collapsed": false
   },
   "outputs": [],
   "source": [
    "##load all community gene lists\n",
    "setwd(sprintf(\"/home/david/Documents/ghsom/\"))\n",
    "\n",
    "#background gene list\n",
    "backgroundFilename <- sprintf(\"%s_all_genes.txt\", file)\n",
    "allGenes <- scan(backgroundFilename, character())"
   ]
  },
  {
   "cell_type": "code",
   "execution_count": 7,
   "metadata": {
    "collapsed": false
   },
   "outputs": [
    {
     "name": "stdout",
     "output_type": "stream",
     "text": [
      "[1] \"preparing gene to GO mapping data...\"\n",
      "[1] \"preparing IC data...\"\n"
     ]
    }
   ],
   "source": [
    "scGO <- godata(mapping, ont=ont, keytype=ID)"
   ]
  },
  {
   "cell_type": "code",
   "execution_count": 12,
   "metadata": {
    "collapsed": true
   },
   "outputs": [],
   "source": [
    "semanticDistances <- mgeneSim(allGenes, semData=scGO, measure=\"Resnik\", combine=\"BMA\", verbose=FALSE)"
   ]
  },
  {
   "cell_type": "code",
   "execution_count": 14,
   "metadata": {
    "collapsed": false
   },
   "outputs": [
    {
     "data": {
      "text/html": [
       "224"
      ],
      "text/latex": [
       "224"
      ],
      "text/markdown": [
       "224"
      ],
      "text/plain": [
       "[1] 224"
      ]
     },
     "metadata": {},
     "output_type": "display_data"
    }
   ],
   "source": [
    "ncol(semanticDistances)"
   ]
  },
  {
   "cell_type": "code",
   "execution_count": 10,
   "metadata": {
    "collapsed": true
   },
   "outputs": [],
   "source": [
    "semanticDistances <- 1 - semanticDistances"
   ]
  },
  {
   "cell_type": "code",
   "execution_count": 11,
   "metadata": {
    "collapsed": false
   },
   "outputs": [
    {
     "data": {
      "text/html": [
       "<table>\n",
       "<thead><tr><th></th><th scope=col>YGR046W</th><th scope=col>YBR057C</th><th scope=col>YJR122W</th><th scope=col>YDR503C</th><th scope=col>YGR136W</th><th scope=col>YPR048W</th><th scope=col>YGL175C</th><th scope=col>YOR262W</th><th scope=col>YDL246C</th><th scope=col>YNL122C</th><th scope=col>⋯</th><th scope=col>YGR024C</th><th scope=col>YGL116W</th><th scope=col>YJL057C</th><th scope=col>YOL082W</th><th scope=col>YJL110C</th><th scope=col>YFR002W</th><th scope=col>YGL025C</th><th scope=col>YHR129C</th><th scope=col>YOR078W</th><th scope=col>YGL153W</th></tr></thead>\n",
       "<tbody>\n",
       "\t<tr><th scope=row>YGR046W</th><td>0.000</td><td>0.704</td><td>0.814</td><td>0.367</td><td>0.949</td><td>0.769</td><td>0.751</td><td>0.882</td><td>0.786</td><td>0.672</td><td>⋯    </td><td>0.850</td><td>0.865</td><td>0.748</td><td>0.807</td><td>0.826</td><td>0.919</td><td>0.832</td><td>0.916</td><td>0.878</td><td>0.906</td></tr>\n",
       "\t<tr><th scope=row>YBR057C</th><td>0.704</td><td>0.000</td><td>0.784</td><td>0.719</td><td>0.782</td><td>0.788</td><td>0.487</td><td>0.771</td><td>0.788</td><td>0.554</td><td>⋯    </td><td>0.381</td><td>0.685</td><td>0.652</td><td>0.787</td><td>0.769</td><td>0.845</td><td>0.743</td><td>0.805</td><td>0.720</td><td>0.736</td></tr>\n",
       "\t<tr><th scope=row>YJR122W</th><td>0.814</td><td>0.784</td><td>0.000</td><td>0.809</td><td>0.845</td><td>0.000</td><td>0.784</td><td>0.809</td><td>0.845</td><td>0.754</td><td>⋯    </td><td>0.864</td><td>0.862</td><td>0.836</td><td>0.608</td><td>0.834</td><td>0.694</td><td>0.689</td><td>0.856</td><td>0.779</td><td>0.862</td></tr>\n",
       "\t<tr><th scope=row>YDR503C</th><td>0.367</td><td>0.719</td><td>0.809</td><td>0.000</td><td>0.812</td><td>0.738</td><td>0.667</td><td>0.851</td><td>0.643</td><td>0.681</td><td>⋯    </td><td>0.756</td><td>0.801</td><td>0.577</td><td>0.787</td><td>0.746</td><td>0.888</td><td>0.843</td><td>0.876</td><td>0.817</td><td>0.842</td></tr>\n",
       "\t<tr><th scope=row>YGR136W</th><td>0.949</td><td>0.782</td><td>0.845</td><td>0.812</td><td>0.000</td><td>0.845</td><td>0.795</td><td>0.847</td><td>0.960</td><td>0.843</td><td>⋯    </td><td>0.969</td><td>0.760</td><td>0.966</td><td>0.829</td><td>0.890</td><td>0.676</td><td>0.860</td><td>0.845</td><td>0.942</td><td>0.877</td></tr>\n",
       "\t<tr><th scope=row>YPR048W</th><td>0.769</td><td>0.788</td><td>0.000</td><td>0.738</td><td>0.845</td><td>0.000</td><td>0.778</td><td>0.889</td><td>0.560</td><td>0.678</td><td>⋯    </td><td>0.766</td><td>0.841</td><td>0.824</td><td>0.799</td><td>0.786</td><td>0.838</td><td>0.720</td><td>0.903</td><td>0.840</td><td>0.862</td></tr>\n",
       "</tbody>\n",
       "</table>\n"
      ],
      "text/latex": [
       "\\begin{tabular}{r|llllllllllllllllllllllllllllllllllllllllllllllllllllllllllllllllllllllllllllllllllllllllllllllllllllllllllllllllllllllllllllllllllllllllllllllllllllllllllllllllllllllllllllllllllllllllllllllllllllllllllllllllllllllllllllllllllllllllllllllllllllllllll}\n",
       "  & YGR046W & YBR057C & YJR122W & YDR503C & YGR136W & YPR048W & YGL175C & YOR262W & YDL246C & YNL122C & ⋯ & YGR024C & YGL116W & YJL057C & YOL082W & YJL110C & YFR002W & YGL025C & YHR129C & YOR078W & YGL153W\\\\\n",
       "\\hline\n",
       "\tYGR046W & 0.000 & 0.704 & 0.814 & 0.367 & 0.949 & 0.769 & 0.751 & 0.882 & 0.786 & 0.672 & ⋯     & 0.850 & 0.865 & 0.748 & 0.807 & 0.826 & 0.919 & 0.832 & 0.916 & 0.878 & 0.906\\\\\n",
       "\tYBR057C & 0.704 & 0.000 & 0.784 & 0.719 & 0.782 & 0.788 & 0.487 & 0.771 & 0.788 & 0.554 & ⋯     & 0.381 & 0.685 & 0.652 & 0.787 & 0.769 & 0.845 & 0.743 & 0.805 & 0.720 & 0.736\\\\\n",
       "\tYJR122W & 0.814 & 0.784 & 0.000 & 0.809 & 0.845 & 0.000 & 0.784 & 0.809 & 0.845 & 0.754 & ⋯     & 0.864 & 0.862 & 0.836 & 0.608 & 0.834 & 0.694 & 0.689 & 0.856 & 0.779 & 0.862\\\\\n",
       "\tYDR503C & 0.367 & 0.719 & 0.809 & 0.000 & 0.812 & 0.738 & 0.667 & 0.851 & 0.643 & 0.681 & ⋯     & 0.756 & 0.801 & 0.577 & 0.787 & 0.746 & 0.888 & 0.843 & 0.876 & 0.817 & 0.842\\\\\n",
       "\tYGR136W & 0.949 & 0.782 & 0.845 & 0.812 & 0.000 & 0.845 & 0.795 & 0.847 & 0.960 & 0.843 & ⋯     & 0.969 & 0.760 & 0.966 & 0.829 & 0.890 & 0.676 & 0.860 & 0.845 & 0.942 & 0.877\\\\\n",
       "\tYPR048W & 0.769 & 0.788 & 0.000 & 0.738 & 0.845 & 0.000 & 0.778 & 0.889 & 0.560 & 0.678 & ⋯     & 0.766 & 0.841 & 0.824 & 0.799 & 0.786 & 0.838 & 0.720 & 0.903 & 0.840 & 0.862\\\\\n",
       "\\end{tabular}\n"
      ],
      "text/markdown": [
       "\n",
       "| <!--/--> | YGR046W | YBR057C | YJR122W | YDR503C | YGR136W | YPR048W | YGL175C | YOR262W | YDL246C | YNL122C | ⋯ | YGR024C | YGL116W | YJL057C | YOL082W | YJL110C | YFR002W | YGL025C | YHR129C | YOR078W | YGL153W | \n",
       "|---|---|---|---|---|---|\n",
       "| YGR046W | 0.000 | 0.704 | 0.814 | 0.367 | 0.949 | 0.769 | 0.751 | 0.882 | 0.786 | 0.672 | ⋯     | 0.850 | 0.865 | 0.748 | 0.807 | 0.826 | 0.919 | 0.832 | 0.916 | 0.878 | 0.906 | \n",
       "| YBR057C | 0.704 | 0.000 | 0.784 | 0.719 | 0.782 | 0.788 | 0.487 | 0.771 | 0.788 | 0.554 | ⋯     | 0.381 | 0.685 | 0.652 | 0.787 | 0.769 | 0.845 | 0.743 | 0.805 | 0.720 | 0.736 | \n",
       "| YJR122W | 0.814 | 0.784 | 0.000 | 0.809 | 0.845 | 0.000 | 0.784 | 0.809 | 0.845 | 0.754 | ⋯     | 0.864 | 0.862 | 0.836 | 0.608 | 0.834 | 0.694 | 0.689 | 0.856 | 0.779 | 0.862 | \n",
       "| YDR503C | 0.367 | 0.719 | 0.809 | 0.000 | 0.812 | 0.738 | 0.667 | 0.851 | 0.643 | 0.681 | ⋯     | 0.756 | 0.801 | 0.577 | 0.787 | 0.746 | 0.888 | 0.843 | 0.876 | 0.817 | 0.842 | \n",
       "| YGR136W | 0.949 | 0.782 | 0.845 | 0.812 | 0.000 | 0.845 | 0.795 | 0.847 | 0.960 | 0.843 | ⋯     | 0.969 | 0.760 | 0.966 | 0.829 | 0.890 | 0.676 | 0.860 | 0.845 | 0.942 | 0.877 | \n",
       "| YPR048W | 0.769 | 0.788 | 0.000 | 0.738 | 0.845 | 0.000 | 0.778 | 0.889 | 0.560 | 0.678 | ⋯     | 0.766 | 0.841 | 0.824 | 0.799 | 0.786 | 0.838 | 0.720 | 0.903 | 0.840 | 0.862 | \n",
       "\n",
       "\n"
      ],
      "text/plain": [
       "        YGR046W YBR057C YJR122W YDR503C YGR136W YPR048W YGL175C YOR262W YDL246C\n",
       "YGR046W 0.000   0.704   0.814   0.367   0.949   0.769   0.751   0.882   0.786  \n",
       "YBR057C 0.704   0.000   0.784   0.719   0.782   0.788   0.487   0.771   0.788  \n",
       "YJR122W 0.814   0.784   0.000   0.809   0.845   0.000   0.784   0.809   0.845  \n",
       "YDR503C 0.367   0.719   0.809   0.000   0.812   0.738   0.667   0.851   0.643  \n",
       "YGR136W 0.949   0.782   0.845   0.812   0.000   0.845   0.795   0.847   0.960  \n",
       "YPR048W 0.769   0.788   0.000   0.738   0.845   0.000   0.778   0.889   0.560  \n",
       "        YNL122C ⋯ YGR024C YGL116W YJL057C YOL082W YJL110C YFR002W YGL025C\n",
       "YGR046W 0.672   ⋯ 0.850   0.865   0.748   0.807   0.826   0.919   0.832  \n",
       "YBR057C 0.554   ⋯ 0.381   0.685   0.652   0.787   0.769   0.845   0.743  \n",
       "YJR122W 0.754   ⋯ 0.864   0.862   0.836   0.608   0.834   0.694   0.689  \n",
       "YDR503C 0.681   ⋯ 0.756   0.801   0.577   0.787   0.746   0.888   0.843  \n",
       "YGR136W 0.843   ⋯ 0.969   0.760   0.966   0.829   0.890   0.676   0.860  \n",
       "YPR048W 0.678   ⋯ 0.766   0.841   0.824   0.799   0.786   0.838   0.720  \n",
       "        YHR129C YOR078W YGL153W\n",
       "YGR046W 0.916   0.878   0.906  \n",
       "YBR057C 0.805   0.720   0.736  \n",
       "YJR122W 0.856   0.779   0.862  \n",
       "YDR503C 0.876   0.817   0.842  \n",
       "YGR136W 0.845   0.942   0.877  \n",
       "YPR048W 0.903   0.840   0.862  "
      ]
     },
     "metadata": {},
     "output_type": "display_data"
    }
   ],
   "source": [
    "head(semanticDistances)"
   ]
  },
  {
   "cell_type": "code",
   "execution_count": null,
   "metadata": {
    "collapsed": false
   },
   "outputs": [],
   "source": [
    "semanticDistances2 <- sapply(allGenes, function(i) {\n",
    "    sapply(allGenes, function(j) {\n",
    "        geneSim(i, j, semData=scGO, measure=\"Wang\", combine=\"BMA\")[\"geneSim\"]\n",
    "    })\n",
    "})"
   ]
  },
  {
   "cell_type": "code",
   "execution_count": null,
   "metadata": {
    "collapsed": true
   },
   "outputs": [],
   "source": [
    "length(allGenes)"
   ]
  },
  {
   "cell_type": "code",
   "execution_count": null,
   "metadata": {
    "collapsed": false
   },
   "outputs": [],
   "source": [
    "nrow(semanticDistances2)"
   ]
  },
  {
   "cell_type": "code",
   "execution_count": null,
   "metadata": {
    "collapsed": true
   },
   "outputs": [],
   "source": [
    "semanticDistances2[is.na(semanticDistances2)] <- 0"
   ]
  },
  {
   "cell_type": "code",
   "execution_count": null,
   "metadata": {
    "collapsed": false
   },
   "outputs": [],
   "source": [
    "write.table(semanticDistances, sep=\",\", file = sprintf(\"%s_wang_similarity.csv\", file), row.names=FALSE, col.names=FALSE)"
   ]
  },
  {
   "cell_type": "code",
   "execution_count": 15,
   "metadata": {
    "collapsed": false
   },
   "outputs": [
    {
     "name": "stderr",
     "output_type": "stream",
     "text": [
      "Loading required package: annotate\n",
      "Loading required package: XML\n",
      "\n",
      "Attaching package: ‘XML’\n",
      "\n",
      "The following object is masked from ‘package:graph’:\n",
      "\n",
      "    addNode\n",
      "\n"
     ]
    }
   ],
   "source": [
    "library(GOSim)\n",
    "\n",
    "setOntology(ont, loadIC=FALSE)\n",
    "setEvidenceLevel(evidences=\"all\",organism=org.Sc.sgdORGANISM, gomap=org.Sc.sgdGO)\n",
    "\n",
    "head(allGenes)"
   ]
  },
  {
   "cell_type": "code",
   "execution_count": 33,
   "metadata": {
    "collapsed": false
   },
   "outputs": [
    {
     "name": "stdout",
     "output_type": "stream",
     "text": [
      "filtering out genes not mapping to the currently set GO category ... ===> list of  1647 genes reduced to  1529 \n"
     ]
    },
    {
     "name": "stderr",
     "output_type": "stream",
     "text": [
      "Warning message in getGeneSim(allGenes, similarity = \"funSimMax\", similarityTerm = \"relevance\", :\n",
      "“Similarity matrix contains values > 1! This may happen with simlarity='funSimMax', if one gene's GO annotation is a complete subset of another gene's GO annotation.”"
     ]
    }
   ],
   "source": [
    "allGeneSims <- 1 - getGeneSim(allGenes, similarity=\"funSimMax\", \n",
    "                          similarityTerm=\"relevance\", normalization = TRUE)\n",
    "\n",
    "allGeneSims[is.na(allGeneSims)] <- 1"
   ]
  },
  {
   "cell_type": "code",
   "execution_count": 36,
   "metadata": {
    "collapsed": false
   },
   "outputs": [
    {
     "data": {
      "text/html": [
       "<table>\n",
       "<thead><tr><th></th><th scope=col>YLR268W</th><th scope=col>YJL155C</th><th scope=col>YBR255W</th><th scope=col>YFR027W</th><th scope=col>YJR122W</th><th scope=col>YLR244C</th><th scope=col>YPL144W</th><th scope=col>YBR135W</th><th scope=col>YBR160W</th><th scope=col>YDL238C</th><th scope=col>⋯</th><th scope=col>YDR076W</th><th scope=col>YDR508C</th><th scope=col>YPR028W</th><th scope=col>YMR117C</th><th scope=col>YLR096W</th><th scope=col>YCR067C</th><th scope=col>YMR047C</th><th scope=col>YML055W</th><th scope=col>YGL015C</th><th scope=col>YPL013C</th></tr></thead>\n",
       "<tbody>\n",
       "\t<tr><th scope=row>YLR268W</th><td>0.0000000 </td><td>0.9938983 </td><td>1         </td><td>0.8118516 </td><td>0.7318703 </td><td>1.0000000 </td><td>0.7339676 </td><td>0.97257857</td><td>0.27822262</td><td>0.9833591 </td><td>⋯         </td><td>0.8929767 </td><td>0.175877  </td><td>0.2725629 </td><td>0.8150920 </td><td>0.32610054</td><td>0.1846623 </td><td>0.2633827 </td><td>0.5411890 </td><td>1         </td><td>0.79901481</td></tr>\n",
       "\t<tr><th scope=row>YJL155C</th><td>0.9938983 </td><td>0.0000000 </td><td>1         </td><td>0.4416787 </td><td>0.8477656 </td><td>0.1645404 </td><td>0.9849700 </td><td>0.40300985</td><td>0.40931441</td><td>0.5005958 </td><td>⋯         </td><td>0.4386883 </td><td>1.000000  </td><td>0.9874740 </td><td>0.9814483 </td><td>0.38235845</td><td>1.0000000 </td><td>0.5504462 </td><td>0.5971853 </td><td>1         </td><td>0.28307242</td></tr>\n",
       "\t<tr><th scope=row>YBR255W</th><td>1.0000000 </td><td>1.0000000 </td><td>0         </td><td>1.0000000 </td><td>1.0000000 </td><td>1.0000000 </td><td>1.0000000 </td><td>1.00000000</td><td>1.00000000</td><td>1.0000000 </td><td>⋯         </td><td>1.0000000 </td><td>1.000000  </td><td>1.0000000 </td><td>1.0000000 </td><td>1.00000000</td><td>1.0000000 </td><td>1.0000000 </td><td>1.0000000 </td><td>1         </td><td>1.00000000</td></tr>\n",
       "\t<tr><th scope=row>YFR027W</th><td>0.8118516 </td><td>0.4416787 </td><td>1         </td><td>0.0000000 </td><td>0.6558710 </td><td>0.1292241 </td><td>0.6593126 </td><td>0.15098605</td><td>0.11972270</td><td>0.3179332 </td><td>⋯         </td><td>0.2183519 </td><td>1.000000  </td><td>0.5952518 </td><td>0.3655197 </td><td>0.53420515</td><td>0.9757161 </td><td>0.5486758 </td><td>0.7136951 </td><td>1         </td><td>0.26000288</td></tr>\n",
       "\t<tr><th scope=row>YJR122W</th><td>0.7318703 </td><td>0.8477656 </td><td>1         </td><td>0.6558710 </td><td>0.0000000 </td><td>0.8896328 </td><td>0.5773167 </td><td>0.71418507</td><td>0.59620407</td><td>0.9044549 </td><td>⋯         </td><td>0.5980483 </td><td>1.000000  </td><td>0.6167872 </td><td>0.5772192 </td><td>0.85076796</td><td>1.0000000 </td><td>0.7613731 </td><td>0.8959624 </td><td>1         </td><td>0.71567447</td></tr>\n",
       "\t<tr><th scope=row>YLR244C</th><td>1.0000000 </td><td>0.1645404 </td><td>1         </td><td>0.1292241 </td><td>0.8896328 </td><td>0.0000000 </td><td>1.0000000 </td><td>0.05909364</td><td>0.06133358</td><td>0.4717284 </td><td>⋯         </td><td>0.1245602 </td><td>1.000000  </td><td>1.0000000 </td><td>1.0000000 </td><td>0.02449147</td><td>0.9400956 </td><td>0.3237669 </td><td>0.3793700 </td><td>1         </td><td>0.06517584</td></tr>\n",
       "</tbody>\n",
       "</table>\n"
      ],
      "text/latex": [
       "\\begin{tabular}{r|lllllllllllllllllllllllllllllllllllllllllllllllllllllllllllllllllllllllllllllllllllllllllllllllllllllllllllllllllllllllllllllllllllllllllllllllllllllllllllllllllllllllllllllllllllllllllllllllllllllllllllllllllllllllllllllllllllllllllllllllllllllllllllllllllllllllllllllllllllllllllllllllllllllllllllllllllllllllllllllllllllllllllllllllllllllllllllllllllllllllllllllllllllllllllllllllllllllllllllllllllllllllllllllllllllllllllllllllllllllllllllllllllllllllllllllllllllllllllllllllllllllllllllllllllllllllllllllllllllllllllllllllllllllllllllllllllllllllllllllllllllllllllllllllllllllllllllllllllllllllllllllllllllllllllllllllllllllllllllllllllllllllllllllllllllllllllllllllllllllllllllllllllllllllllllllllllllllllllllllllllllllllllllllllllllllllllllllllllllllllllllllllllllllllllllllllllllllllllllllllllllllllllllllllllllllllllllllllllllllllllllllllllllllllllllllllllllllllllllllllllllllllllllllllllllllllllllllllllllllllllllllllllllllllllllllllllllllllllllllllllllllllllllllllllllllllllllllllllllllllllllllllllllllllllllllllllllllllllllllllllllllllllllllllllllllllllllllllllllllllllllllllllllllllllllllllllllllllllllllllllllllllllllllllllllllllllllllllllllllllllllllllllllllllllllllllllllllllllllllllllllllllllllllllllllllllllllllllllllllllllllllllllllllllllllllllllllllllllllllllllllllllllllllllllllllllllllllllllllllllllllllllllllllllllllllllllllllllllllllllllllllllllllllllllllllllllllllllllllllllllllllllllllllllllllllllllllllllllllllllllllllllllllllllllllllllllllllllllllllllllllllllllllllllllllllllllllllllllllllllllllllllll}\n",
       "  & YLR268W & YJL155C & YBR255W & YFR027W & YJR122W & YLR244C & YPL144W & YBR135W & YBR160W & YDL238C & ⋯ & YDR076W & YDR508C & YPR028W & YMR117C & YLR096W & YCR067C & YMR047C & YML055W & YGL015C & YPL013C\\\\\n",
       "\\hline\n",
       "\tYLR268W & 0.0000000  & 0.9938983  & 1          & 0.8118516  & 0.7318703  & 1.0000000  & 0.7339676  & 0.97257857 & 0.27822262 & 0.9833591  & ⋯          & 0.8929767  & 0.175877   & 0.2725629  & 0.8150920  & 0.32610054 & 0.1846623  & 0.2633827  & 0.5411890  & 1          & 0.79901481\\\\\n",
       "\tYJL155C & 0.9938983  & 0.0000000  & 1          & 0.4416787  & 0.8477656  & 0.1645404  & 0.9849700  & 0.40300985 & 0.40931441 & 0.5005958  & ⋯          & 0.4386883  & 1.000000   & 0.9874740  & 0.9814483  & 0.38235845 & 1.0000000  & 0.5504462  & 0.5971853  & 1          & 0.28307242\\\\\n",
       "\tYBR255W & 1.0000000  & 1.0000000  & 0          & 1.0000000  & 1.0000000  & 1.0000000  & 1.0000000  & 1.00000000 & 1.00000000 & 1.0000000  & ⋯          & 1.0000000  & 1.000000   & 1.0000000  & 1.0000000  & 1.00000000 & 1.0000000  & 1.0000000  & 1.0000000  & 1          & 1.00000000\\\\\n",
       "\tYFR027W & 0.8118516  & 0.4416787  & 1          & 0.0000000  & 0.6558710  & 0.1292241  & 0.6593126  & 0.15098605 & 0.11972270 & 0.3179332  & ⋯          & 0.2183519  & 1.000000   & 0.5952518  & 0.3655197  & 0.53420515 & 0.9757161  & 0.5486758  & 0.7136951  & 1          & 0.26000288\\\\\n",
       "\tYJR122W & 0.7318703  & 0.8477656  & 1          & 0.6558710  & 0.0000000  & 0.8896328  & 0.5773167  & 0.71418507 & 0.59620407 & 0.9044549  & ⋯          & 0.5980483  & 1.000000   & 0.6167872  & 0.5772192  & 0.85076796 & 1.0000000  & 0.7613731  & 0.8959624  & 1          & 0.71567447\\\\\n",
       "\tYLR244C & 1.0000000  & 0.1645404  & 1          & 0.1292241  & 0.8896328  & 0.0000000  & 1.0000000  & 0.05909364 & 0.06133358 & 0.4717284  & ⋯          & 0.1245602  & 1.000000   & 1.0000000  & 1.0000000  & 0.02449147 & 0.9400956  & 0.3237669  & 0.3793700  & 1          & 0.06517584\\\\\n",
       "\\end{tabular}\n"
      ],
      "text/markdown": [
       "\n",
       "| <!--/--> | YLR268W | YJL155C | YBR255W | YFR027W | YJR122W | YLR244C | YPL144W | YBR135W | YBR160W | YDL238C | ⋯ | YDR076W | YDR508C | YPR028W | YMR117C | YLR096W | YCR067C | YMR047C | YML055W | YGL015C | YPL013C | \n",
       "|---|---|---|---|---|---|\n",
       "| YLR268W | 0.0000000  | 0.9938983  | 1          | 0.8118516  | 0.7318703  | 1.0000000  | 0.7339676  | 0.97257857 | 0.27822262 | 0.9833591  | ⋯          | 0.8929767  | 0.175877   | 0.2725629  | 0.8150920  | 0.32610054 | 0.1846623  | 0.2633827  | 0.5411890  | 1          | 0.79901481 | \n",
       "| YJL155C | 0.9938983  | 0.0000000  | 1          | 0.4416787  | 0.8477656  | 0.1645404  | 0.9849700  | 0.40300985 | 0.40931441 | 0.5005958  | ⋯          | 0.4386883  | 1.000000   | 0.9874740  | 0.9814483  | 0.38235845 | 1.0000000  | 0.5504462  | 0.5971853  | 1          | 0.28307242 | \n",
       "| YBR255W | 1.0000000  | 1.0000000  | 0          | 1.0000000  | 1.0000000  | 1.0000000  | 1.0000000  | 1.00000000 | 1.00000000 | 1.0000000  | ⋯          | 1.0000000  | 1.000000   | 1.0000000  | 1.0000000  | 1.00000000 | 1.0000000  | 1.0000000  | 1.0000000  | 1          | 1.00000000 | \n",
       "| YFR027W | 0.8118516  | 0.4416787  | 1          | 0.0000000  | 0.6558710  | 0.1292241  | 0.6593126  | 0.15098605 | 0.11972270 | 0.3179332  | ⋯          | 0.2183519  | 1.000000   | 0.5952518  | 0.3655197  | 0.53420515 | 0.9757161  | 0.5486758  | 0.7136951  | 1          | 0.26000288 | \n",
       "| YJR122W | 0.7318703  | 0.8477656  | 1          | 0.6558710  | 0.0000000  | 0.8896328  | 0.5773167  | 0.71418507 | 0.59620407 | 0.9044549  | ⋯          | 0.5980483  | 1.000000   | 0.6167872  | 0.5772192  | 0.85076796 | 1.0000000  | 0.7613731  | 0.8959624  | 1          | 0.71567447 | \n",
       "| YLR244C | 1.0000000  | 0.1645404  | 1          | 0.1292241  | 0.8896328  | 0.0000000  | 1.0000000  | 0.05909364 | 0.06133358 | 0.4717284  | ⋯          | 0.1245602  | 1.000000   | 1.0000000  | 1.0000000  | 0.02449147 | 0.9400956  | 0.3237669  | 0.3793700  | 1          | 0.06517584 | \n",
       "\n",
       "\n"
      ],
      "text/plain": [
       "        YLR268W   YJL155C   YBR255W YFR027W   YJR122W   YLR244C   YPL144W  \n",
       "YLR268W 0.0000000 0.9938983 1       0.8118516 0.7318703 1.0000000 0.7339676\n",
       "YJL155C 0.9938983 0.0000000 1       0.4416787 0.8477656 0.1645404 0.9849700\n",
       "YBR255W 1.0000000 1.0000000 0       1.0000000 1.0000000 1.0000000 1.0000000\n",
       "YFR027W 0.8118516 0.4416787 1       0.0000000 0.6558710 0.1292241 0.6593126\n",
       "YJR122W 0.7318703 0.8477656 1       0.6558710 0.0000000 0.8896328 0.5773167\n",
       "YLR244C 1.0000000 0.1645404 1       0.1292241 0.8896328 0.0000000 1.0000000\n",
       "        YBR135W    YBR160W    YDL238C   ⋯ YDR076W   YDR508C  YPR028W  \n",
       "YLR268W 0.97257857 0.27822262 0.9833591 ⋯ 0.8929767 0.175877 0.2725629\n",
       "YJL155C 0.40300985 0.40931441 0.5005958 ⋯ 0.4386883 1.000000 0.9874740\n",
       "YBR255W 1.00000000 1.00000000 1.0000000 ⋯ 1.0000000 1.000000 1.0000000\n",
       "YFR027W 0.15098605 0.11972270 0.3179332 ⋯ 0.2183519 1.000000 0.5952518\n",
       "YJR122W 0.71418507 0.59620407 0.9044549 ⋯ 0.5980483 1.000000 0.6167872\n",
       "YLR244C 0.05909364 0.06133358 0.4717284 ⋯ 0.1245602 1.000000 1.0000000\n",
       "        YMR117C   YLR096W    YCR067C   YMR047C   YML055W   YGL015C YPL013C   \n",
       "YLR268W 0.8150920 0.32610054 0.1846623 0.2633827 0.5411890 1       0.79901481\n",
       "YJL155C 0.9814483 0.38235845 1.0000000 0.5504462 0.5971853 1       0.28307242\n",
       "YBR255W 1.0000000 1.00000000 1.0000000 1.0000000 1.0000000 1       1.00000000\n",
       "YFR027W 0.3655197 0.53420515 0.9757161 0.5486758 0.7136951 1       0.26000288\n",
       "YJR122W 0.5772192 0.85076796 1.0000000 0.7613731 0.8959624 1       0.71567447\n",
       "YLR244C 1.0000000 0.02449147 0.9400956 0.3237669 0.3793700 1       0.06517584"
      ]
     },
     "metadata": {},
     "output_type": "display_data"
    }
   ],
   "source": [
    "head(allGeneSims)"
   ]
  },
  {
   "cell_type": "code",
   "execution_count": 37,
   "metadata": {
    "collapsed": true
   },
   "outputs": [],
   "source": [
    "write.table(allGeneSims, sep=\",\", file = sprintf(\"%s_rel_similarity_GOSim.csv\", file), row.names=TRUE, col.names=FALSE)"
   ]
  }
 ],
 "metadata": {
  "anaconda-cloud": {},
  "kernelspec": {
   "display_name": "R",
   "language": "R",
   "name": "ir"
  },
  "language_info": {
   "codemirror_mode": "r",
   "file_extension": ".r",
   "mimetype": "text/x-r-source",
   "name": "R",
   "pygments_lexer": "r",
   "version": "3.3.2"
  }
 },
 "nbformat": 4,
 "nbformat_minor": 2
}
