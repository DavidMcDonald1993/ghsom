{
 "cells": [
  {
   "cell_type": "code",
   "execution_count": 2,
   "metadata": {
    "collapsed": false,
    "scrolled": true
   },
   "outputs": [
    {
     "name": "stderr",
     "output_type": "stream",
     "text": [
      "Loading required package: BiocGenerics\n",
      "Loading required package: parallel\n",
      "\n",
      "Attaching package: ‘BiocGenerics’\n",
      "\n",
      "The following objects are masked from ‘package:parallel’:\n",
      "\n",
      "    clusterApply, clusterApplyLB, clusterCall, clusterEvalQ,\n",
      "    clusterExport, clusterMap, parApply, parCapply, parLapply,\n",
      "    parLapplyLB, parRapply, parSapply, parSapplyLB\n",
      "\n",
      "The following objects are masked from ‘package:stats’:\n",
      "\n",
      "    IQR, mad, xtabs\n",
      "\n",
      "The following objects are masked from ‘package:base’:\n",
      "\n",
      "    anyDuplicated, append, as.data.frame, cbind, colnames, do.call,\n",
      "    duplicated, eval, evalq, Filter, Find, get, grep, grepl, intersect,\n",
      "    is.unsorted, lapply, lengths, Map, mapply, match, mget, order,\n",
      "    paste, pmax, pmax.int, pmin, pmin.int, Position, rank, rbind,\n",
      "    Reduce, rownames, sapply, setdiff, sort, table, tapply, union,\n",
      "    unique, unsplit, which, which.max, which.min\n",
      "\n",
      "Loading required package: graph\n",
      "Loading required package: Biobase\n",
      "Welcome to Bioconductor\n",
      "\n",
      "    Vignettes contain introductory material; view with\n",
      "    'browseVignettes()'. To cite Bioconductor, see\n",
      "    'citation(\"Biobase\")', and for packages 'citation(\"pkgname\")'.\n",
      "\n",
      "Loading required package: GO.db\n",
      "Loading required package: AnnotationDbi\n",
      "Loading required package: stats4\n",
      "Loading required package: IRanges\n",
      "Loading required package: S4Vectors\n",
      "\n",
      "Attaching package: ‘S4Vectors’\n",
      "\n",
      "The following objects are masked from ‘package:base’:\n",
      "\n",
      "    colMeans, colSums, expand.grid, rowMeans, rowSums\n",
      "\n",
      "\n",
      "Loading required package: SparseM\n",
      "\n",
      "Attaching package: ‘SparseM’\n",
      "\n",
      "The following object is masked from ‘package:base’:\n",
      "\n",
      "    backsolve\n",
      "\n",
      "\n",
      "groupGOTerms: \tGOBPTerm, GOMFTerm, GOCCTerm environments built.\n",
      "\n",
      "Attaching package: ‘topGO’\n",
      "\n",
      "The following object is masked from ‘package:IRanges’:\n",
      "\n",
      "    members\n",
      "\n",
      "Loading required package: annotate\n",
      "Loading required package: XML\n",
      "\n",
      "Attaching package: ‘XML’\n",
      "\n",
      "The following object is masked from ‘package:graph’:\n",
      "\n",
      "    addNode\n",
      "\n",
      "\n",
      "\n"
     ]
    }
   ],
   "source": [
    "library(topGO)\n",
    "library(GOSim)\n",
    "library(org.Sc.sgd.db)"
   ]
  },
  {
   "cell_type": "code",
   "execution_count": 3,
   "metadata": {
    "collapsed": false
   },
   "outputs": [
    {
     "name": "stderr",
     "output_type": "stream",
     "text": [
      "initializing GOSim package ...\n",
      "-> retrieving GO information for all available genes for organism 'human' in GO database\n",
      "-> filtering GO terms according to evidence levels 'all'\n",
      "-> loading files with information content for corresponding GO category (human)\n",
      "finished.\n",
      "-> retrieving GO information for all available genes for organism 'Saccharomyces cerevisiae' in GO database\n",
      "-> filtering GO terms according to evidence levels 'all'\n"
     ]
    }
   ],
   "source": [
    "file <- \"yeast_uetz\"\n",
    "\n",
    "ont <- \"BP\"\n",
    "p <- 0.8\n",
    "init <- 1\n",
    "\n",
    "\n",
    "setOntology(ont, loadIC=FALSE)\n",
    "setEvidenceLevel(evidences=\"all\",organism=org.Sc.sgdORGANISM, gomap=org.Sc.sgdGO)\n",
    "\n",
    "db <- org.Sc.sgd.db\n",
    "mapping <- \"org.Sc.sgd.db\"\n",
    "ID <- \"ENSEMBL\"\n",
    "\n",
    "##load all community gene lists\n",
    "setwd(sprintf(\"/home/david/Documents/ghsom/%s_communities_%s_%s\", file, p, init))\n",
    "\n",
    "#background gene list\n",
    "backgroundFilename <- \"all_genes.txt\"\n",
    "allGenes <- scan(backgroundFilename, character())\n",
    "\n",
    "#load communities from file\n",
    "g <- list()\n",
    "numCom <- 0\n",
    "filename <- sprintf(\"community_%s.txt\", numCom)\n",
    "while (file.exists(filename)) {\n",
    "    numCom <- numCom + 1\n",
    "    g[[numCom]] <- scan(filename, character())\n",
    "    filename <- sprintf(\"community_%s.txt\", numCom)\n",
    "}\n",
    "\n",
    "#distances between neurons\n",
    "shortest.path <- read.csv(\"shortest_path.csv\", sep=\",\", header=FALSE)"
   ]
  },
  {
   "cell_type": "code",
   "execution_count": 4,
   "metadata": {
    "collapsed": false
   },
   "outputs": [
    {
     "data": {
      "text/html": [
       "6"
      ],
      "text/latex": [
       "6"
      ],
      "text/markdown": [
       "6"
      ],
      "text/plain": [
       "[1] 6"
      ]
     },
     "metadata": {},
     "output_type": "display_data"
    }
   ],
   "source": [
    "length(g)"
   ]
  },
  {
   "cell_type": "code",
   "execution_count": 5,
   "metadata": {
    "collapsed": false,
    "scrolled": true
   },
   "outputs": [
    {
     "name": "stderr",
     "output_type": "stream",
     "text": [
      "\n",
      "Building most specific GOs .....\n",
      "\t( 572 GO terms found. )\n",
      "\n",
      "Build GO DAG topology ..........\n",
      "\t( 1848 GO terms and 4082 relations. )\n",
      "\n",
      "Annotating nodes ...............\n",
      "\t( 252 genes annotated to the GO terms. )\n",
      "\n",
      "\t\t\t -- Elim Algorithm -- \n",
      "\n",
      "\t\t the algorithm is scoring 581 nontrivial nodes\n",
      "\t\t parameters: \n",
      "\t\t\t test statistic: fisher\n",
      "\t\t\t cutOff: 0.01\n",
      "\n",
      "\t Level 13:\t8 nodes to be scored\t(0 eliminated genes)\n",
      "\n",
      "\t Level 12:\t16 nodes to be scored\t(0 eliminated genes)\n",
      "\n",
      "\t Level 11:\t22 nodes to be scored\t(3 eliminated genes)\n",
      "\n",
      "\t Level 10:\t36 nodes to be scored\t(3 eliminated genes)\n",
      "\n",
      "\t Level 9:\t56 nodes to be scored\t(9 eliminated genes)\n",
      "\n",
      "\t Level 8:\t59 nodes to be scored\t(9 eliminated genes)\n",
      "\n",
      "\t Level 7:\t84 nodes to be scored\t(22 eliminated genes)\n",
      "\n",
      "\t Level 6:\t87 nodes to be scored\t(23 eliminated genes)\n",
      "\n",
      "\t Level 5:\t98 nodes to be scored\t(34 eliminated genes)\n",
      "\n",
      "\t Level 4:\t69 nodes to be scored\t(38 eliminated genes)\n",
      "\n",
      "\t Level 3:\t33 nodes to be scored\t(38 eliminated genes)\n",
      "\n",
      "\t Level 2:\t12 nodes to be scored\t(38 eliminated genes)\n",
      "\n",
      "\t Level 1:\t1 nodes to be scored\t(38 eliminated genes)\n",
      "\n",
      "Building most specific GOs .....\n",
      "\t( 572 GO terms found. )\n",
      "\n",
      "Build GO DAG topology ..........\n",
      "\t( 1848 GO terms and 4082 relations. )\n",
      "\n",
      "Annotating nodes ...............\n",
      "\t( 252 genes annotated to the GO terms. )\n",
      "\n",
      "\t\t\t -- Elim Algorithm -- \n",
      "\n",
      "\t\t the algorithm is scoring 888 nontrivial nodes\n",
      "\t\t parameters: \n",
      "\t\t\t test statistic: fisher\n",
      "\t\t\t cutOff: 0.01\n",
      "\n",
      "\t Level 16:\t2 nodes to be scored\t(0 eliminated genes)\n",
      "\n",
      "\t Level 15:\t6 nodes to be scored\t(0 eliminated genes)\n",
      "\n",
      "\t Level 14:\t18 nodes to be scored\t(0 eliminated genes)\n",
      "\n",
      "\t Level 13:\t26 nodes to be scored\t(0 eliminated genes)\n",
      "\n",
      "\t Level 12:\t33 nodes to be scored\t(9 eliminated genes)\n",
      "\n",
      "\t Level 11:\t41 nodes to be scored\t(9 eliminated genes)\n",
      "\n",
      "\t Level 10:\t58 nodes to be scored\t(9 eliminated genes)\n",
      "\n",
      "\t Level 9:\t98 nodes to be scored\t(9 eliminated genes)\n",
      "\n",
      "\t Level 8:\t110 nodes to be scored\t(9 eliminated genes)\n",
      "\n",
      "\t Level 7:\t113 nodes to be scored\t(9 eliminated genes)\n",
      "\n",
      "\t Level 6:\t135 nodes to be scored\t(9 eliminated genes)\n",
      "\n",
      "\t Level 5:\t126 nodes to be scored\t(9 eliminated genes)\n",
      "\n",
      "\t Level 4:\t78 nodes to be scored\t(9 eliminated genes)\n",
      "\n",
      "\t Level 3:\t32 nodes to be scored\t(9 eliminated genes)\n",
      "\n",
      "\t Level 2:\t11 nodes to be scored\t(9 eliminated genes)\n",
      "\n",
      "\t Level 1:\t1 nodes to be scored\t(9 eliminated genes)\n",
      "\n",
      "Building most specific GOs .....\n",
      "\t( 572 GO terms found. )\n",
      "\n",
      "Build GO DAG topology ..........\n",
      "\t( 1848 GO terms and 4082 relations. )\n",
      "\n",
      "Annotating nodes ...............\n",
      "\t( 252 genes annotated to the GO terms. )\n",
      "\n",
      "\t\t\t -- Elim Algorithm -- \n",
      "\n",
      "\t\t the algorithm is scoring 545 nontrivial nodes\n",
      "\t\t parameters: \n",
      "\t\t\t test statistic: fisher\n",
      "\t\t\t cutOff: 0.01\n",
      "\n",
      "\t Level 15:\t1 nodes to be scored\t(0 eliminated genes)\n",
      "\n",
      "\t Level 14:\t3 nodes to be scored\t(0 eliminated genes)\n",
      "\n",
      "\t Level 13:\t11 nodes to be scored\t(0 eliminated genes)\n",
      "\n",
      "\t Level 12:\t19 nodes to be scored\t(2 eliminated genes)\n",
      "\n",
      "\t Level 11:\t30 nodes to be scored\t(2 eliminated genes)\n",
      "\n",
      "\t Level 10:\t46 nodes to be scored\t(4 eliminated genes)\n",
      "\n",
      "\t Level 9:\t61 nodes to be scored\t(4 eliminated genes)\n",
      "\n",
      "\t Level 8:\t56 nodes to be scored\t(7 eliminated genes)\n",
      "\n",
      "\t Level 7:\t59 nodes to be scored\t(7 eliminated genes)\n",
      "\n",
      "\t Level 6:\t79 nodes to be scored\t(7 eliminated genes)\n",
      "\n",
      "\t Level 5:\t84 nodes to be scored\t(39 eliminated genes)\n",
      "\n",
      "\t Level 4:\t58 nodes to be scored\t(39 eliminated genes)\n",
      "\n",
      "\t Level 3:\t27 nodes to be scored\t(39 eliminated genes)\n",
      "\n",
      "\t Level 2:\t10 nodes to be scored\t(39 eliminated genes)\n",
      "\n",
      "\t Level 1:\t1 nodes to be scored\t(39 eliminated genes)\n",
      "\n",
      "Building most specific GOs .....\n",
      "\t( 572 GO terms found. )\n",
      "\n",
      "Build GO DAG topology ..........\n",
      "\t( 1848 GO terms and 4082 relations. )\n",
      "\n",
      "Annotating nodes ...............\n",
      "\t( 252 genes annotated to the GO terms. )\n",
      "\n",
      "\t\t\t -- Elim Algorithm -- \n",
      "\n",
      "\t\t the algorithm is scoring 557 nontrivial nodes\n",
      "\t\t parameters: \n",
      "\t\t\t test statistic: fisher\n",
      "\t\t\t cutOff: 0.01\n",
      "\n",
      "\t Level 14:\t1 nodes to be scored\t(0 eliminated genes)\n",
      "\n",
      "\t Level 13:\t10 nodes to be scored\t(0 eliminated genes)\n",
      "\n",
      "\t Level 12:\t23 nodes to be scored\t(7 eliminated genes)\n",
      "\n",
      "\t Level 11:\t33 nodes to be scored\t(7 eliminated genes)\n",
      "\n",
      "\t Level 10:\t45 nodes to be scored\t(10 eliminated genes)\n",
      "\n",
      "\t Level 9:\t52 nodes to be scored\t(10 eliminated genes)\n",
      "\n",
      "\t Level 8:\t61 nodes to be scored\t(10 eliminated genes)\n",
      "\n",
      "\t Level 7:\t63 nodes to be scored\t(10 eliminated genes)\n",
      "\n",
      "\t Level 6:\t91 nodes to be scored\t(57 eliminated genes)\n",
      "\n",
      "\t Level 5:\t86 nodes to be scored\t(57 eliminated genes)\n",
      "\n",
      "\t Level 4:\t57 nodes to be scored\t(71 eliminated genes)\n",
      "\n",
      "\t Level 3:\t26 nodes to be scored\t(71 eliminated genes)\n",
      "\n",
      "\t Level 2:\t8 nodes to be scored\t(71 eliminated genes)\n",
      "\n",
      "\t Level 1:\t1 nodes to be scored\t(71 eliminated genes)\n",
      "\n",
      "Building most specific GOs .....\n",
      "\t( 572 GO terms found. )\n",
      "\n",
      "Build GO DAG topology ..........\n",
      "\t( 1848 GO terms and 4082 relations. )\n",
      "\n",
      "Annotating nodes ...............\n",
      "\t( 252 genes annotated to the GO terms. )\n",
      "\n",
      "\t\t\t -- Elim Algorithm -- \n",
      "\n",
      "\t\t the algorithm is scoring 762 nontrivial nodes\n",
      "\t\t parameters: \n",
      "\t\t\t test statistic: fisher\n",
      "\t\t\t cutOff: 0.01\n",
      "\n",
      "\t Level 15:\t4 nodes to be scored\t(0 eliminated genes)\n",
      "\n",
      "\t Level 14:\t12 nodes to be scored\t(0 eliminated genes)\n",
      "\n",
      "\t Level 13:\t19 nodes to be scored\t(0 eliminated genes)\n",
      "\n",
      "\t Level 12:\t26 nodes to be scored\t(0 eliminated genes)\n",
      "\n",
      "\t Level 11:\t39 nodes to be scored\t(6 eliminated genes)\n",
      "\n",
      "\t Level 10:\t45 nodes to be scored\t(6 eliminated genes)\n",
      "\n",
      "\t Level 9:\t76 nodes to be scored\t(6 eliminated genes)\n",
      "\n",
      "\t Level 8:\t90 nodes to be scored\t(9 eliminated genes)\n",
      "\n",
      "\t Level 7:\t96 nodes to be scored\t(9 eliminated genes)\n",
      "\n",
      "\t Level 6:\t120 nodes to be scored\t(18 eliminated genes)\n",
      "\n",
      "\t Level 5:\t113 nodes to be scored\t(20 eliminated genes)\n",
      "\n",
      "\t Level 4:\t75 nodes to be scored\t(20 eliminated genes)\n",
      "\n",
      "\t Level 3:\t33 nodes to be scored\t(20 eliminated genes)\n",
      "\n",
      "\t Level 2:\t13 nodes to be scored\t(20 eliminated genes)\n",
      "\n",
      "\t Level 1:\t1 nodes to be scored\t(20 eliminated genes)\n",
      "\n",
      "Building most specific GOs .....\n",
      "\t( 572 GO terms found. )\n",
      "\n",
      "Build GO DAG topology ..........\n",
      "\t( 1848 GO terms and 4082 relations. )\n",
      "\n",
      "Annotating nodes ...............\n",
      "\t( 252 genes annotated to the GO terms. )\n",
      "\n",
      "\t\t\t -- Elim Algorithm -- \n",
      "\n",
      "\t\t the algorithm is scoring 821 nontrivial nodes\n",
      "\t\t parameters: \n",
      "\t\t\t test statistic: fisher\n",
      "\t\t\t cutOff: 0.01\n",
      "\n",
      "\t Level 16:\t1 nodes to be scored\t(0 eliminated genes)\n",
      "\n",
      "\t Level 15:\t4 nodes to be scored\t(0 eliminated genes)\n",
      "\n",
      "\t Level 14:\t7 nodes to be scored\t(0 eliminated genes)\n",
      "\n",
      "\t Level 13:\t12 nodes to be scored\t(0 eliminated genes)\n",
      "\n",
      "\t Level 12:\t22 nodes to be scored\t(0 eliminated genes)\n",
      "\n",
      "\t Level 11:\t39 nodes to be scored\t(0 eliminated genes)\n",
      "\n",
      "\t Level 10:\t73 nodes to be scored\t(0 eliminated genes)\n",
      "\n",
      "\t Level 9:\t92 nodes to be scored\t(0 eliminated genes)\n",
      "\n",
      "\t Level 8:\t89 nodes to be scored\t(0 eliminated genes)\n",
      "\n",
      "\t Level 7:\t105 nodes to be scored\t(0 eliminated genes)\n",
      "\n",
      "\t Level 6:\t126 nodes to be scored\t(3 eliminated genes)\n",
      "\n",
      "\t Level 5:\t123 nodes to be scored\t(3 eliminated genes)\n",
      "\n",
      "\t Level 4:\t84 nodes to be scored\t(13 eliminated genes)\n",
      "\n",
      "\t Level 3:\t31 nodes to be scored\t(13 eliminated genes)\n",
      "\n",
      "\t Level 2:\t12 nodes to be scored\t(13 eliminated genes)\n",
      "\n",
      "\t Level 1:\t1 nodes to be scored\t(13 eliminated genes)\n"
     ]
    }
   ],
   "source": [
    "enrichments <- sapply(g, function(i) GOenrichment(i, allGenes, cutoff=0.01, method=\"elim\"))"
   ]
  },
  {
   "cell_type": "code",
   "execution_count": 6,
   "metadata": {
    "collapsed": false
   },
   "outputs": [],
   "source": [
    "p.values <- enrichments[2,]"
   ]
  },
  {
   "cell_type": "code",
   "execution_count": 77,
   "metadata": {
    "collapsed": false
   },
   "outputs": [
    {
     "data": {
      "text/html": [
       "<ol class=list-inline>\n",
       "\t<li>'GO:0032258'</li>\n",
       "\t<li>'GO:0015031'</li>\n",
       "\t<li>'GO:0006605'</li>\n",
       "\t<li>'GO:0030242'</li>\n",
       "\t<li>'GO:0007033'</li>\n",
       "\t<li>'GO:0044805'</li>\n",
       "\t<li>'GO:0006999'</li>\n",
       "\t<li>'GO:0034727'</li>\n",
       "\t<li>'GO:0032147'</li>\n",
       "\t<li>'GO:0072594'</li>\n",
       "\t<li>'GO:0048193'</li>\n",
       "</ol>\n"
      ],
      "text/latex": [
       "\\begin{enumerate*}\n",
       "\\item 'GO:0032258'\n",
       "\\item 'GO:0015031'\n",
       "\\item 'GO:0006605'\n",
       "\\item 'GO:0030242'\n",
       "\\item 'GO:0007033'\n",
       "\\item 'GO:0044805'\n",
       "\\item 'GO:0006999'\n",
       "\\item 'GO:0034727'\n",
       "\\item 'GO:0032147'\n",
       "\\item 'GO:0072594'\n",
       "\\item 'GO:0048193'\n",
       "\\end{enumerate*}\n"
      ],
      "text/markdown": [
       "1. 'GO:0032258'\n",
       "2. 'GO:0015031'\n",
       "3. 'GO:0006605'\n",
       "4. 'GO:0030242'\n",
       "5. 'GO:0007033'\n",
       "6. 'GO:0044805'\n",
       "7. 'GO:0006999'\n",
       "8. 'GO:0034727'\n",
       "9. 'GO:0032147'\n",
       "10. 'GO:0072594'\n",
       "11. 'GO:0048193'\n",
       "\n",
       "\n"
      ],
      "text/plain": [
       " [1] \"GO:0032258\" \"GO:0015031\" \"GO:0006605\" \"GO:0030242\" \"GO:0007033\"\n",
       " [6] \"GO:0044805\" \"GO:0006999\" \"GO:0034727\" \"GO:0032147\" \"GO:0072594\"\n",
       "[11] \"GO:0048193\""
      ]
     },
     "metadata": {},
     "output_type": "display_data"
    }
   ],
   "source": [
    "names((p.values[[1]]))"
   ]
  },
  {
   "cell_type": "code",
   "execution_count": 7,
   "metadata": {
    "collapsed": false
   },
   "outputs": [
    {
     "data": {
      "text/html": [
       "<ol class=list-inline>\n",
       "\t<li>11</li>\n",
       "\t<li>1</li>\n",
       "\t<li>13</li>\n",
       "\t<li>8</li>\n",
       "\t<li>7</li>\n",
       "\t<li>3</li>\n",
       "</ol>\n"
      ],
      "text/latex": [
       "\\begin{enumerate*}\n",
       "\\item 11\n",
       "\\item 1\n",
       "\\item 13\n",
       "\\item 8\n",
       "\\item 7\n",
       "\\item 3\n",
       "\\end{enumerate*}\n"
      ],
      "text/markdown": [
       "1. 11\n",
       "2. 1\n",
       "3. 13\n",
       "4. 8\n",
       "5. 7\n",
       "6. 3\n",
       "\n",
       "\n"
      ],
      "text/plain": [
       "[1] 11  1 13  8  7  3"
      ]
     },
     "metadata": {},
     "output_type": "display_data"
    }
   ],
   "source": [
    "lengths(p.values)"
   ]
  },
  {
   "cell_type": "code",
   "execution_count": 6,
   "metadata": {
    "collapsed": false
   },
   "outputs": [],
   "source": [
    "clusterSimilarity <- sapply(p.values, function(i) mean(getTermSim(names(i), method=\"relevance\")))"
   ]
  },
  {
   "cell_type": "code",
   "execution_count": 7,
   "metadata": {
    "collapsed": false
   },
   "outputs": [
    {
     "data": {
      "text/html": [
       "<ol class=list-inline>\n",
       "\t<li>0.179449632499042</li>\n",
       "\t<li>0.0666585373562971</li>\n",
       "\t<li>0.297590716694758</li>\n",
       "\t<li>0.165901410552763</li>\n",
       "\t<li>0.127933436495866</li>\n",
       "\t<li>0.156096569014541</li>\n",
       "\t<li>0.0905054219535446</li>\n",
       "\t<li>0.200094250951413</li>\n",
       "\t<li>0.12928899016255</li>\n",
       "\t<li>0.17898863409417</li>\n",
       "\t<li>0.15011826353502</li>\n",
       "</ol>\n"
      ],
      "text/latex": [
       "\\begin{enumerate*}\n",
       "\\item 0.179449632499042\n",
       "\\item 0.0666585373562971\n",
       "\\item 0.297590716694758\n",
       "\\item 0.165901410552763\n",
       "\\item 0.127933436495866\n",
       "\\item 0.156096569014541\n",
       "\\item 0.0905054219535446\n",
       "\\item 0.200094250951413\n",
       "\\item 0.12928899016255\n",
       "\\item 0.17898863409417\n",
       "\\item 0.15011826353502\n",
       "\\end{enumerate*}\n"
      ],
      "text/markdown": [
       "1. 0.179449632499042\n",
       "2. 0.0666585373562971\n",
       "3. 0.297590716694758\n",
       "4. 0.165901410552763\n",
       "5. 0.127933436495866\n",
       "6. 0.156096569014541\n",
       "7. 0.0905054219535446\n",
       "8. 0.200094250951413\n",
       "9. 0.12928899016255\n",
       "10. 0.17898863409417\n",
       "11. 0.15011826353502\n",
       "\n",
       "\n"
      ],
      "text/plain": [
       " [1] 0.17944963 0.06665854 0.29759072 0.16590141 0.12793344 0.15609657\n",
       " [7] 0.09050542 0.20009425 0.12928899 0.17898863 0.15011826"
      ]
     },
     "metadata": {},
     "output_type": "display_data"
    }
   ],
   "source": [
    "clusterSimilarity"
   ]
  },
  {
   "cell_type": "code",
   "execution_count": 49,
   "metadata": {
    "collapsed": false
   },
   "outputs": [
    {
     "name": "stdout",
     "output_type": "stream",
     "text": [
      "filtering out genes not mapping to the currently set GO category ... ===> list of  46 genes reduced to  42 \n",
      "filtering out genes not mapping to the currently set GO category ... ===> list of  59 genes reduced to  57 \n"
     ]
    },
    {
     "name": "stderr",
     "output_type": "stream",
     "text": [
      "Warning message in getGeneSim(g[[1]], g[[2]], similarity = \"max\", similarityTerm = \"Resnik\", :\n",
      "“Similarity matrix contains values > 1! This may happen with simlarity='funSimMax', if one gene's GO annotation is a complete subset of another gene's GO annotation.”"
     ]
    }
   ],
   "source": [
    "geneSims12 <- getGeneSim(g[[1]], g[[2]], similarity=\"max\", similarityTerm=\"Resnik\", normalization=TRUE)"
   ]
  },
  {
   "cell_type": "code",
   "execution_count": 65,
   "metadata": {
    "collapsed": false
   },
   "outputs": [],
   "source": [
    "##remove na rows and columns\n",
    "f <- function(i) !all(is.na(i))\n",
    "geneSims12 <- geneSims12[apply(geneSims12,1,f), apply(geneSims12, 2, f)]"
   ]
  },
  {
   "cell_type": "code",
   "execution_count": 69,
   "metadata": {
    "collapsed": false,
    "scrolled": true
   },
   "outputs": [
    {
     "name": "stdout",
     "output_type": "stream",
     "text": [
      "filtering out genes not mapping to the currently set GO category ... ===> list of  46 genes reduced to  42 \n",
      "filtering out genes not mapping to the currently set GO category ... ===> list of  59 genes reduced to  57 \n"
     ]
    },
    {
     "name": "stderr",
     "output_type": "stream",
     "text": [
      "Warning message in getGeneSim(g[[i]], g[[j]], similarity = \"max\", similarityTerm = \"Resnik\", :\n",
      "“Similarity matrix contains values > 1! This may happen with simlarity='funSimMax', if one gene's GO annotation is a complete subset of another gene's GO annotation.”"
     ]
    },
    {
     "name": "stdout",
     "output_type": "stream",
     "text": [
      "filtering out genes not mapping to the currently set GO category ... ===> list of  46 genes reduced to  42 \n",
      "filtering out genes not mapping to the currently set GO category ... ===> list of  26 genes reduced to  24 \n"
     ]
    },
    {
     "name": "stderr",
     "output_type": "stream",
     "text": [
      "Warning message in getGeneSim(g[[i]], g[[j]], similarity = \"max\", similarityTerm = \"Resnik\", :\n",
      "“Similarity matrix contains values > 1! This may happen with simlarity='funSimMax', if one gene's GO annotation is a complete subset of another gene's GO annotation.”"
     ]
    },
    {
     "name": "stdout",
     "output_type": "stream",
     "text": [
      "filtering out genes not mapping to the currently set GO category ... ===> list of  46 genes reduced to  42 \n",
      "filtering out genes not mapping to the currently set GO category ... ===> list of  29 genes reduced to  27 \n"
     ]
    },
    {
     "name": "stderr",
     "output_type": "stream",
     "text": [
      "Warning message in getGeneSim(g[[i]], g[[j]], similarity = \"max\", similarityTerm = \"Resnik\", :\n",
      "“Similarity matrix contains values > 1! This may happen with simlarity='funSimMax', if one gene's GO annotation is a complete subset of another gene's GO annotation.”"
     ]
    },
    {
     "name": "stdout",
     "output_type": "stream",
     "text": [
      "filtering out genes not mapping to the currently set GO category ... ===> list of  46 genes reduced to  42 \n",
      "filtering out genes not mapping to the currently set GO category ... ===> list of  48 genes reduced to  45 \n"
     ]
    },
    {
     "name": "stderr",
     "output_type": "stream",
     "text": [
      "Warning message in getGeneSim(g[[i]], g[[j]], similarity = \"max\", similarityTerm = \"Resnik\", :\n",
      "“Similarity matrix contains values > 1! This may happen with simlarity='funSimMax', if one gene's GO annotation is a complete subset of another gene's GO annotation.”"
     ]
    },
    {
     "name": "stdout",
     "output_type": "stream",
     "text": [
      "filtering out genes not mapping to the currently set GO category ... ===> list of  46 genes reduced to  42 \n",
      "filtering out genes not mapping to the currently set GO category ... ===> list of  55 genes reduced to  51 \n"
     ]
    },
    {
     "name": "stderr",
     "output_type": "stream",
     "text": [
      "Warning message in getGeneSim(g[[i]], g[[j]], similarity = \"max\", similarityTerm = \"Resnik\", :\n",
      "“Similarity matrix contains values > 1! This may happen with simlarity='funSimMax', if one gene's GO annotation is a complete subset of another gene's GO annotation.”"
     ]
    },
    {
     "name": "stdout",
     "output_type": "stream",
     "text": [
      "filtering out genes not mapping to the currently set GO category ... ===> list of  59 genes reduced to  57 \n",
      "filtering out genes not mapping to the currently set GO category ... ===> list of  26 genes reduced to  24 \n"
     ]
    },
    {
     "name": "stderr",
     "output_type": "stream",
     "text": [
      "Warning message in getGeneSim(g[[i]], g[[j]], similarity = \"max\", similarityTerm = \"Resnik\", :\n",
      "“Similarity matrix contains values > 1! This may happen with simlarity='funSimMax', if one gene's GO annotation is a complete subset of another gene's GO annotation.”"
     ]
    },
    {
     "name": "stdout",
     "output_type": "stream",
     "text": [
      "filtering out genes not mapping to the currently set GO category ... ===> list of  59 genes reduced to  57 \n",
      "filtering out genes not mapping to the currently set GO category ... ===> list of  29 genes reduced to  27 \n"
     ]
    },
    {
     "name": "stderr",
     "output_type": "stream",
     "text": [
      "Warning message in getGeneSim(g[[i]], g[[j]], similarity = \"max\", similarityTerm = \"Resnik\", :\n",
      "“Similarity matrix contains values > 1! This may happen with simlarity='funSimMax', if one gene's GO annotation is a complete subset of another gene's GO annotation.”"
     ]
    },
    {
     "name": "stdout",
     "output_type": "stream",
     "text": [
      "filtering out genes not mapping to the currently set GO category ... ===> list of  59 genes reduced to  57 \n",
      "filtering out genes not mapping to the currently set GO category ... ===> list of  48 genes reduced to  45 \n"
     ]
    },
    {
     "name": "stderr",
     "output_type": "stream",
     "text": [
      "Warning message in getGeneSim(g[[i]], g[[j]], similarity = \"max\", similarityTerm = \"Resnik\", :\n",
      "“Similarity matrix contains values > 1! This may happen with simlarity='funSimMax', if one gene's GO annotation is a complete subset of another gene's GO annotation.”"
     ]
    },
    {
     "name": "stdout",
     "output_type": "stream",
     "text": [
      "filtering out genes not mapping to the currently set GO category ... ===> list of  59 genes reduced to  57 \n",
      "filtering out genes not mapping to the currently set GO category ... ===> list of  55 genes reduced to  51 \n"
     ]
    },
    {
     "name": "stderr",
     "output_type": "stream",
     "text": [
      "Warning message in getGeneSim(g[[i]], g[[j]], similarity = \"max\", similarityTerm = \"Resnik\", :\n",
      "“Similarity matrix contains values > 1! This may happen with simlarity='funSimMax', if one gene's GO annotation is a complete subset of another gene's GO annotation.”"
     ]
    },
    {
     "name": "stdout",
     "output_type": "stream",
     "text": [
      "filtering out genes not mapping to the currently set GO category ... ===> list of  26 genes reduced to  24 \n",
      "filtering out genes not mapping to the currently set GO category ... ===> list of  29 genes reduced to  27 \n",
      "filtering out genes not mapping to the currently set GO category ... ===> list of  26 genes reduced to  24 \n",
      "filtering out genes not mapping to the currently set GO category ... ===> list of  48 genes reduced to  45 \n"
     ]
    },
    {
     "name": "stderr",
     "output_type": "stream",
     "text": [
      "Warning message in getGeneSim(g[[i]], g[[j]], similarity = \"max\", similarityTerm = \"Resnik\", :\n",
      "“Similarity matrix contains values > 1! This may happen with simlarity='funSimMax', if one gene's GO annotation is a complete subset of another gene's GO annotation.”"
     ]
    },
    {
     "name": "stdout",
     "output_type": "stream",
     "text": [
      "filtering out genes not mapping to the currently set GO category ... ===> list of  26 genes reduced to  24 \n",
      "filtering out genes not mapping to the currently set GO category ... ===> list of  55 genes reduced to  51 \n"
     ]
    },
    {
     "name": "stderr",
     "output_type": "stream",
     "text": [
      "Warning message in getGeneSim(g[[i]], g[[j]], similarity = \"max\", similarityTerm = \"Resnik\", :\n",
      "“Similarity matrix contains values > 1! This may happen with simlarity='funSimMax', if one gene's GO annotation is a complete subset of another gene's GO annotation.”"
     ]
    },
    {
     "name": "stdout",
     "output_type": "stream",
     "text": [
      "filtering out genes not mapping to the currently set GO category ... ===> list of  29 genes reduced to  27 \n",
      "filtering out genes not mapping to the currently set GO category ... ===> list of  48 genes reduced to  45 \n"
     ]
    },
    {
     "name": "stderr",
     "output_type": "stream",
     "text": [
      "Warning message in getGeneSim(g[[i]], g[[j]], similarity = \"max\", similarityTerm = \"Resnik\", :\n",
      "“Similarity matrix contains values > 1! This may happen with simlarity='funSimMax', if one gene's GO annotation is a complete subset of another gene's GO annotation.”"
     ]
    },
    {
     "name": "stdout",
     "output_type": "stream",
     "text": [
      "filtering out genes not mapping to the currently set GO category ... ===> list of  29 genes reduced to  27 \n",
      "filtering out genes not mapping to the currently set GO category ... ===> list of  55 genes reduced to  51 \n"
     ]
    },
    {
     "name": "stderr",
     "output_type": "stream",
     "text": [
      "Warning message in getGeneSim(g[[i]], g[[j]], similarity = \"max\", similarityTerm = \"Resnik\", :\n",
      "“Similarity matrix contains values > 1! This may happen with simlarity='funSimMax', if one gene's GO annotation is a complete subset of another gene's GO annotation.”"
     ]
    },
    {
     "name": "stdout",
     "output_type": "stream",
     "text": [
      "filtering out genes not mapping to the currently set GO category ... ===> list of  48 genes reduced to  45 \n",
      "filtering out genes not mapping to the currently set GO category ... ===> list of  55 genes reduced to  51 \n"
     ]
    },
    {
     "name": "stderr",
     "output_type": "stream",
     "text": [
      "Warning message in getGeneSim(g[[i]], g[[j]], similarity = \"max\", similarityTerm = \"Resnik\", :\n",
      "“Similarity matrix contains values > 1! This may happen with simlarity='funSimMax', if one gene's GO annotation is a complete subset of another gene's GO annotation.”"
     ]
    }
   ],
   "source": [
    "fall <- function(i) !all(is.na(i))\n",
    "    \n",
    "geneSims <- sapply(1:length(g), function(i) {\n",
    "    sapply(i:length(g), function(j){\n",
    "        if (i == j){\n",
    "            return(1)\n",
    "        } else {\n",
    "            #gene sims as dataframe\n",
    "            t <- getGeneSim(g[[i]], g[[j]], similarity=\"max\", similarityTerm=\"Resnik\", normalization=TRUE)\n",
    "            ##remove na columns and rows\n",
    "            t <- t[apply(t, 1, fall), apply(t, 2, fall)]\n",
    "            ##remove any remaining rows with nan\n",
    "            t <- t[apply(t, 1, fany),]\n",
    "            return(mean(t))\n",
    "        }\n",
    "       \n",
    "    })\n",
    "})"
   ]
  },
  {
   "cell_type": "code",
   "execution_count": 70,
   "metadata": {
    "collapsed": false
   },
   "outputs": [
    {
     "data": {
      "text/html": [
       "<ol>\n",
       "\t<li><ol class=list-inline>\n",
       "\t<li>1</li>\n",
       "\t<li>0.313994817714867</li>\n",
       "\t<li>0.346605048225365</li>\n",
       "\t<li>0.372836412262413</li>\n",
       "\t<li>0.317019756836069</li>\n",
       "\t<li>0.312092910250554</li>\n",
       "</ol>\n",
       "</li>\n",
       "\t<li><ol class=list-inline>\n",
       "\t<li>1</li>\n",
       "\t<li>0.384934641606666</li>\n",
       "\t<li>0.401342211350881</li>\n",
       "\t<li>NaN</li>\n",
       "\t<li>0.36874313369435</li>\n",
       "</ol>\n",
       "</li>\n",
       "\t<li><ol class=list-inline>\n",
       "\t<li>1</li>\n",
       "\t<li>0.421183064720284</li>\n",
       "\t<li>0.379718323360952</li>\n",
       "\t<li>0.365278408497706</li>\n",
       "</ol>\n",
       "</li>\n",
       "\t<li><ol class=list-inline>\n",
       "\t<li>1</li>\n",
       "\t<li>0.397238205297445</li>\n",
       "\t<li>0.388962412295947</li>\n",
       "</ol>\n",
       "</li>\n",
       "\t<li><ol class=list-inline>\n",
       "\t<li>1</li>\n",
       "\t<li>0.360335092897731</li>\n",
       "</ol>\n",
       "</li>\n",
       "\t<li>1</li>\n",
       "</ol>\n"
      ],
      "text/latex": [
       "\\begin{enumerate}\n",
       "\\item \\begin{enumerate*}\n",
       "\\item 1\n",
       "\\item 0.313994817714867\n",
       "\\item 0.346605048225365\n",
       "\\item 0.372836412262413\n",
       "\\item 0.317019756836069\n",
       "\\item 0.312092910250554\n",
       "\\end{enumerate*}\n",
       "\n",
       "\\item \\begin{enumerate*}\n",
       "\\item 1\n",
       "\\item 0.384934641606666\n",
       "\\item 0.401342211350881\n",
       "\\item NaN\n",
       "\\item 0.36874313369435\n",
       "\\end{enumerate*}\n",
       "\n",
       "\\item \\begin{enumerate*}\n",
       "\\item 1\n",
       "\\item 0.421183064720284\n",
       "\\item 0.379718323360952\n",
       "\\item 0.365278408497706\n",
       "\\end{enumerate*}\n",
       "\n",
       "\\item \\begin{enumerate*}\n",
       "\\item 1\n",
       "\\item 0.397238205297445\n",
       "\\item 0.388962412295947\n",
       "\\end{enumerate*}\n",
       "\n",
       "\\item \\begin{enumerate*}\n",
       "\\item 1\n",
       "\\item 0.360335092897731\n",
       "\\end{enumerate*}\n",
       "\n",
       "\\item 1\n",
       "\\end{enumerate}\n"
      ],
      "text/markdown": [
       "1. 1. 1\n",
       "2. 0.313994817714867\n",
       "3. 0.346605048225365\n",
       "4. 0.372836412262413\n",
       "5. 0.317019756836069\n",
       "6. 0.312092910250554\n",
       "\n",
       "\n",
       "\n",
       "2. 1. 1\n",
       "2. 0.384934641606666\n",
       "3. 0.401342211350881\n",
       "4. NaN\n",
       "5. 0.36874313369435\n",
       "\n",
       "\n",
       "\n",
       "3. 1. 1\n",
       "2. 0.421183064720284\n",
       "3. 0.379718323360952\n",
       "4. 0.365278408497706\n",
       "\n",
       "\n",
       "\n",
       "4. 1. 1\n",
       "2. 0.397238205297445\n",
       "3. 0.388962412295947\n",
       "\n",
       "\n",
       "\n",
       "5. 1. 1\n",
       "2. 0.360335092897731\n",
       "\n",
       "\n",
       "\n",
       "6. 1\n",
       "\n",
       "\n"
      ],
      "text/plain": [
       "[[1]]\n",
       "[1] 1.0000000 0.3139948 0.3466050 0.3728364 0.3170198 0.3120929\n",
       "\n",
       "[[2]]\n",
       "[1] 1.0000000 0.3849346 0.4013422       NaN 0.3687431\n",
       "\n",
       "[[3]]\n",
       "[1] 1.0000000 0.4211831 0.3797183 0.3652784\n",
       "\n",
       "[[4]]\n",
       "[1] 1.0000000 0.3972382 0.3889624\n",
       "\n",
       "[[5]]\n",
       "[1] 1.0000000 0.3603351\n",
       "\n",
       "[[6]]\n",
       "[1] 1\n"
      ]
     },
     "metadata": {},
     "output_type": "display_data"
    }
   ],
   "source": [
    "head(geneSims)"
   ]
  },
  {
   "cell_type": "code",
   "execution_count": 72,
   "metadata": {
    "collapsed": false
   },
   "outputs": [
    {
     "data": {
      "text/html": [
       "<table>\n",
       "<thead><tr><th scope=col>V1</th><th scope=col>V2</th><th scope=col>V3</th><th scope=col>V4</th><th scope=col>V5</th><th scope=col>V6</th></tr></thead>\n",
       "<tbody>\n",
       "\t<tr><td>0</td><td>1</td><td>1</td><td>1</td><td>2</td><td>2</td></tr>\n",
       "\t<tr><td>1</td><td>0</td><td>1</td><td>1</td><td>1</td><td>1</td></tr>\n",
       "\t<tr><td>1</td><td>1</td><td>0</td><td>2</td><td>1</td><td>2</td></tr>\n",
       "\t<tr><td>1</td><td>1</td><td>2</td><td>0</td><td>2</td><td>1</td></tr>\n",
       "\t<tr><td>2</td><td>1</td><td>1</td><td>2</td><td>0</td><td>2</td></tr>\n",
       "\t<tr><td>2</td><td>1</td><td>2</td><td>1</td><td>2</td><td>0</td></tr>\n",
       "</tbody>\n",
       "</table>\n"
      ],
      "text/latex": [
       "\\begin{tabular}{r|llllll}\n",
       " V1 & V2 & V3 & V4 & V5 & V6\\\\\n",
       "\\hline\n",
       "\t 0 & 1 & 1 & 1 & 2 & 2\\\\\n",
       "\t 1 & 0 & 1 & 1 & 1 & 1\\\\\n",
       "\t 1 & 1 & 0 & 2 & 1 & 2\\\\\n",
       "\t 1 & 1 & 2 & 0 & 2 & 1\\\\\n",
       "\t 2 & 1 & 1 & 2 & 0 & 2\\\\\n",
       "\t 2 & 1 & 2 & 1 & 2 & 0\\\\\n",
       "\\end{tabular}\n"
      ],
      "text/markdown": [
       "\n",
       "V1 | V2 | V3 | V4 | V5 | V6 | \n",
       "|---|---|---|---|---|---|\n",
       "| 0 | 1 | 1 | 1 | 2 | 2 | \n",
       "| 1 | 0 | 1 | 1 | 1 | 1 | \n",
       "| 1 | 1 | 0 | 2 | 1 | 2 | \n",
       "| 1 | 1 | 2 | 0 | 2 | 1 | \n",
       "| 2 | 1 | 1 | 2 | 0 | 2 | \n",
       "| 2 | 1 | 2 | 1 | 2 | 0 | \n",
       "\n",
       "\n"
      ],
      "text/plain": [
       "  V1 V2 V3 V4 V5 V6\n",
       "1 0  1  1  1  2  2 \n",
       "2 1  0  1  1  1  1 \n",
       "3 1  1  0  2  1  2 \n",
       "4 1  1  2  0  2  1 \n",
       "5 2  1  1  2  0  2 \n",
       "6 2  1  2  1  2  0 "
      ]
     },
     "metadata": {},
     "output_type": "display_data"
    }
   ],
   "source": [
    "head(shortest.path)"
   ]
  },
  {
   "cell_type": "code",
   "execution_count": 30,
   "metadata": {
    "collapsed": true
   },
   "outputs": [],
   "source": [
    "geneSims <- sapply(geneSims, function(i){\n",
    "    sapply(i, function(j){\n",
    "        j[is.na(j)] <- 0\n",
    "    })\n",
    "})"
   ]
  },
  {
   "cell_type": "code",
   "execution_count": 31,
   "metadata": {
    "collapsed": false
   },
   "outputs": [
    {
     "ename": "ERROR",
     "evalue": "Error in geneSims[[i]][[j]]: subscript out of bounds\n",
     "output_type": "error",
     "traceback": [
      "Error in geneSims[[i]][[j]]: subscript out of bounds\nTraceback:\n",
      "1. sapply(1:length(geneSims), function(i) {\n .     sapply(1:length(geneSims), function(j) {\n .         if (j >= i) {\n .             mean(geneSims[[i]][[j]])\n .         }\n .         else {\n .             mean(geneSims[[j]][[i]])\n .         }\n .     })\n . })",
      "2. sapply(1:length(geneSims), function(i) {\n .     sapply(1:length(geneSims), function(j) {\n .         if (j >= i) {\n .             mean(geneSims[[i]][[j]])\n .         }\n .         else {\n .             mean(geneSims[[j]][[i]])\n .         }\n .     })\n . })",
      "3. lapply(X = X, FUN = FUN, ...)",
      "4. FUN(X[[i]], ...)",
      "5. sapply(1:length(geneSims), function(j) {\n .     if (j >= i) {\n .         mean(geneSims[[i]][[j]])\n .     }\n .     else {\n .         mean(geneSims[[j]][[i]])\n .     }\n . })   # at line 2-9 of file <text>",
      "6. sapply(1:length(geneSims), function(j) {\n .     if (j >= i) {\n .         mean(geneSims[[i]][[j]])\n .     }\n .     else {\n .         mean(geneSims[[j]][[i]])\n .     }\n . })",
      "7. lapply(X = X, FUN = FUN, ...)",
      "8. FUN(X[[i]], ...)",
      "9. mean(geneSims[[i]][[j]])   # at line 4 of file <text>"
     ]
    }
   ],
   "source": [
    "geneSimsDF <- sapply(1:length(geneSims), function(i) {\n",
    "    sapply(1:length(geneSims), function(j) {\n",
    "        if (j >= i){\n",
    "            mean(geneSims[[i]][[j]])\n",
    "        } else{\n",
    "            mean(geneSims[[j]][[i]])\n",
    "        }\n",
    "        \n",
    "    })\n",
    "})"
   ]
  },
  {
   "cell_type": "code",
   "execution_count": null,
   "metadata": {
    "collapsed": true
   },
   "outputs": [],
   "source": [
    "i <- 1\n",
    "j <- 3\n",
    "getGeneSim(g[[i]], g[[j]], similarity=\"max\", similarityTerm=\"relevance\")"
   ]
  },
  {
   "cell_type": "code",
   "execution_count": 8,
   "metadata": {
    "collapsed": true
   },
   "outputs": [],
   "source": [
    "maxGoSimilarity <- function(gos1, gos2) {\n",
    "    max(sapply(gos1, function(i) {\n",
    "        sapply(gos2, function(j) {\n",
    "            getTermSim(c(i, j), method=\"relevance\")[1, 2]\n",
    "        })\n",
    "    }))\n",
    "}"
   ]
  },
  {
   "cell_type": "code",
   "execution_count": 12,
   "metadata": {
    "collapsed": false
   },
   "outputs": [],
   "source": [
    "clusterGoSimilarities <- sapply(1:length(p.values), function(i) {\n",
    "    sapply(1:length(p.values), function(j){\n",
    "        maxGoSimilarity(names(p.values[[i]]), names(p.values[[j]]))\n",
    "    })\n",
    "})"
   ]
  },
  {
   "cell_type": "code",
   "execution_count": 13,
   "metadata": {
    "collapsed": false
   },
   "outputs": [
    {
     "data": {
      "text/html": [
       "<table>\n",
       "<tbody>\n",
       "\t<tr><td>1.0286923</td><td>0.6695515</td><td>1.1221979</td><td>0.8384995</td><td>1.1237218</td><td>0.8602779</td><td>0.6995178</td><td>1.2028712</td><td>0.9266010</td><td>1.1237218</td><td>0.7255790</td></tr>\n",
       "\t<tr><td>0.6695515</td><td>0.9999892</td><td>0.6625181</td><td>0.4919451</td><td>0.6630489</td><td>0.8664432</td><td>0.5593290</td><td>0.6898319</td><td>0.7281402</td><td>0.6630489</td><td>0.4735249</td></tr>\n",
       "\t<tr><td>1.1221979</td><td>0.6625181</td><td>1.0955037</td><td>0.8236205</td><td>1.1625049</td><td>0.8446231</td><td>0.7102348</td><td>1.2696533</td><td>1.3413922</td><td>1.1625049</td><td>0.7702739</td></tr>\n",
       "\t<tr><td>0.8384995</td><td>0.4919451</td><td>0.8236205</td><td>0.9999892</td><td>1.0809223</td><td>0.8578494</td><td>0.9006091</td><td>0.9912843</td><td>1.1872736</td><td>0.8247358</td><td>0.7658848</td></tr>\n",
       "\t<tr><td>1.1237218</td><td>0.6630489</td><td>1.1625049</td><td>1.0809223</td><td>0.9999892</td><td>0.9984468</td><td>0.7761950</td><td>1.1820451</td><td>1.0708959</td><td>1.0372669</td><td>0.9137335</td></tr>\n",
       "\t<tr><td>0.8602779</td><td>0.8664432</td><td>0.8446231</td><td>0.8578494</td><td>0.9984468</td><td>0.9999569</td><td>0.8098048</td><td>0.9068231</td><td>0.7818790</td><td>0.9984468</td><td>0.6960438</td></tr>\n",
       "</tbody>\n",
       "</table>\n"
      ],
      "text/latex": [
       "\\begin{tabular}{lllllllllll}\n",
       "\t 1.0286923 & 0.6695515 & 1.1221979 & 0.8384995 & 1.1237218 & 0.8602779 & 0.6995178 & 1.2028712 & 0.9266010 & 1.1237218 & 0.7255790\\\\\n",
       "\t 0.6695515 & 0.9999892 & 0.6625181 & 0.4919451 & 0.6630489 & 0.8664432 & 0.5593290 & 0.6898319 & 0.7281402 & 0.6630489 & 0.4735249\\\\\n",
       "\t 1.1221979 & 0.6625181 & 1.0955037 & 0.8236205 & 1.1625049 & 0.8446231 & 0.7102348 & 1.2696533 & 1.3413922 & 1.1625049 & 0.7702739\\\\\n",
       "\t 0.8384995 & 0.4919451 & 0.8236205 & 0.9999892 & 1.0809223 & 0.8578494 & 0.9006091 & 0.9912843 & 1.1872736 & 0.8247358 & 0.7658848\\\\\n",
       "\t 1.1237218 & 0.6630489 & 1.1625049 & 1.0809223 & 0.9999892 & 0.9984468 & 0.7761950 & 1.1820451 & 1.0708959 & 1.0372669 & 0.9137335\\\\\n",
       "\t 0.8602779 & 0.8664432 & 0.8446231 & 0.8578494 & 0.9984468 & 0.9999569 & 0.8098048 & 0.9068231 & 0.7818790 & 0.9984468 & 0.6960438\\\\\n",
       "\\end{tabular}\n"
      ],
      "text/markdown": [
       "\n",
       "| 1.0286923 | 0.6695515 | 1.1221979 | 0.8384995 | 1.1237218 | 0.8602779 | 0.6995178 | 1.2028712 | 0.9266010 | 1.1237218 | 0.7255790 | \n",
       "| 0.6695515 | 0.9999892 | 0.6625181 | 0.4919451 | 0.6630489 | 0.8664432 | 0.5593290 | 0.6898319 | 0.7281402 | 0.6630489 | 0.4735249 | \n",
       "| 1.1221979 | 0.6625181 | 1.0955037 | 0.8236205 | 1.1625049 | 0.8446231 | 0.7102348 | 1.2696533 | 1.3413922 | 1.1625049 | 0.7702739 | \n",
       "| 0.8384995 | 0.4919451 | 0.8236205 | 0.9999892 | 1.0809223 | 0.8578494 | 0.9006091 | 0.9912843 | 1.1872736 | 0.8247358 | 0.7658848 | \n",
       "| 1.1237218 | 0.6630489 | 1.1625049 | 1.0809223 | 0.9999892 | 0.9984468 | 0.7761950 | 1.1820451 | 1.0708959 | 1.0372669 | 0.9137335 | \n",
       "| 0.8602779 | 0.8664432 | 0.8446231 | 0.8578494 | 0.9984468 | 0.9999569 | 0.8098048 | 0.9068231 | 0.7818790 | 0.9984468 | 0.6960438 | \n",
       "\n",
       "\n"
      ],
      "text/plain": [
       "     [,1]      [,2]      [,3]      [,4]      [,5]      [,6]      [,7]     \n",
       "[1,] 1.0286923 0.6695515 1.1221979 0.8384995 1.1237218 0.8602779 0.6995178\n",
       "[2,] 0.6695515 0.9999892 0.6625181 0.4919451 0.6630489 0.8664432 0.5593290\n",
       "[3,] 1.1221979 0.6625181 1.0955037 0.8236205 1.1625049 0.8446231 0.7102348\n",
       "[4,] 0.8384995 0.4919451 0.8236205 0.9999892 1.0809223 0.8578494 0.9006091\n",
       "[5,] 1.1237218 0.6630489 1.1625049 1.0809223 0.9999892 0.9984468 0.7761950\n",
       "[6,] 0.8602779 0.8664432 0.8446231 0.8578494 0.9984468 0.9999569 0.8098048\n",
       "     [,8]      [,9]      [,10]     [,11]    \n",
       "[1,] 1.2028712 0.9266010 1.1237218 0.7255790\n",
       "[2,] 0.6898319 0.7281402 0.6630489 0.4735249\n",
       "[3,] 1.2696533 1.3413922 1.1625049 0.7702739\n",
       "[4,] 0.9912843 1.1872736 0.8247358 0.7658848\n",
       "[5,] 1.1820451 1.0708959 1.0372669 0.9137335\n",
       "[6,] 0.9068231 0.7818790 0.9984468 0.6960438"
      ]
     },
     "metadata": {},
     "output_type": "display_data"
    }
   ],
   "source": [
    "head(clusterGoSimilarities)"
   ]
  },
  {
   "cell_type": "code",
   "execution_count": 88,
   "metadata": {
    "collapsed": false
   },
   "outputs": [
    {
     "data": {
      "text/html": [
       "<table>\n",
       "<thead><tr><th scope=col>V1</th><th scope=col>V2</th><th scope=col>V3</th><th scope=col>V4</th><th scope=col>V5</th><th scope=col>V6</th><th scope=col>V7</th><th scope=col>V8</th><th scope=col>V9</th><th scope=col>V10</th><th scope=col>V11</th><th scope=col>V12</th><th scope=col>V13</th><th scope=col>V14</th><th scope=col>V15</th><th scope=col>V16</th><th scope=col>V17</th><th scope=col>V18</th><th scope=col>V19</th><th scope=col>V20</th></tr></thead>\n",
       "<tbody>\n",
       "\t<tr><td>0</td><td>1</td><td>1</td><td>1</td><td>1</td><td>1</td><td>2</td><td>1</td><td>2</td><td>2</td><td>2</td><td>2</td><td>3</td><td>3</td><td>2</td><td>3</td><td>2</td><td>3</td><td>3</td><td>4</td></tr>\n",
       "\t<tr><td>1</td><td>0</td><td>1</td><td>1</td><td>2</td><td>2</td><td>1</td><td>1</td><td>1</td><td>1</td><td>1</td><td>1</td><td>2</td><td>2</td><td>1</td><td>2</td><td>1</td><td>2</td><td>2</td><td>3</td></tr>\n",
       "\t<tr><td>1</td><td>1</td><td>0</td><td>2</td><td>2</td><td>1</td><td>1</td><td>2</td><td>2</td><td>2</td><td>2</td><td>2</td><td>3</td><td>3</td><td>2</td><td>2</td><td>2</td><td>3</td><td>3</td><td>4</td></tr>\n",
       "\t<tr><td>1</td><td>1</td><td>2</td><td>0</td><td>1</td><td>2</td><td>2</td><td>2</td><td>2</td><td>2</td><td>2</td><td>2</td><td>3</td><td>3</td><td>2</td><td>3</td><td>2</td><td>3</td><td>3</td><td>4</td></tr>\n",
       "\t<tr><td>1</td><td>2</td><td>2</td><td>1</td><td>0</td><td>2</td><td>3</td><td>2</td><td>3</td><td>3</td><td>3</td><td>3</td><td>4</td><td>4</td><td>3</td><td>4</td><td>3</td><td>4</td><td>4</td><td>5</td></tr>\n",
       "\t<tr><td>1</td><td>2</td><td>1</td><td>2</td><td>2</td><td>0</td><td>2</td><td>2</td><td>3</td><td>3</td><td>3</td><td>3</td><td>4</td><td>4</td><td>3</td><td>3</td><td>3</td><td>4</td><td>4</td><td>5</td></tr>\n",
       "</tbody>\n",
       "</table>\n"
      ],
      "text/latex": [
       "\\begin{tabular}{r|llllllllllllllllllll}\n",
       " V1 & V2 & V3 & V4 & V5 & V6 & V7 & V8 & V9 & V10 & V11 & V12 & V13 & V14 & V15 & V16 & V17 & V18 & V19 & V20\\\\\n",
       "\\hline\n",
       "\t 0 & 1 & 1 & 1 & 1 & 1 & 2 & 1 & 2 & 2 & 2 & 2 & 3 & 3 & 2 & 3 & 2 & 3 & 3 & 4\\\\\n",
       "\t 1 & 0 & 1 & 1 & 2 & 2 & 1 & 1 & 1 & 1 & 1 & 1 & 2 & 2 & 1 & 2 & 1 & 2 & 2 & 3\\\\\n",
       "\t 1 & 1 & 0 & 2 & 2 & 1 & 1 & 2 & 2 & 2 & 2 & 2 & 3 & 3 & 2 & 2 & 2 & 3 & 3 & 4\\\\\n",
       "\t 1 & 1 & 2 & 0 & 1 & 2 & 2 & 2 & 2 & 2 & 2 & 2 & 3 & 3 & 2 & 3 & 2 & 3 & 3 & 4\\\\\n",
       "\t 1 & 2 & 2 & 1 & 0 & 2 & 3 & 2 & 3 & 3 & 3 & 3 & 4 & 4 & 3 & 4 & 3 & 4 & 4 & 5\\\\\n",
       "\t 1 & 2 & 1 & 2 & 2 & 0 & 2 & 2 & 3 & 3 & 3 & 3 & 4 & 4 & 3 & 3 & 3 & 4 & 4 & 5\\\\\n",
       "\\end{tabular}\n"
      ],
      "text/markdown": [
       "\n",
       "V1 | V2 | V3 | V4 | V5 | V6 | V7 | V8 | V9 | V10 | V11 | V12 | V13 | V14 | V15 | V16 | V17 | V18 | V19 | V20 | \n",
       "|---|---|---|---|---|---|\n",
       "| 0 | 1 | 1 | 1 | 1 | 1 | 2 | 1 | 2 | 2 | 2 | 2 | 3 | 3 | 2 | 3 | 2 | 3 | 3 | 4 | \n",
       "| 1 | 0 | 1 | 1 | 2 | 2 | 1 | 1 | 1 | 1 | 1 | 1 | 2 | 2 | 1 | 2 | 1 | 2 | 2 | 3 | \n",
       "| 1 | 1 | 0 | 2 | 2 | 1 | 1 | 2 | 2 | 2 | 2 | 2 | 3 | 3 | 2 | 2 | 2 | 3 | 3 | 4 | \n",
       "| 1 | 1 | 2 | 0 | 1 | 2 | 2 | 2 | 2 | 2 | 2 | 2 | 3 | 3 | 2 | 3 | 2 | 3 | 3 | 4 | \n",
       "| 1 | 2 | 2 | 1 | 0 | 2 | 3 | 2 | 3 | 3 | 3 | 3 | 4 | 4 | 3 | 4 | 3 | 4 | 4 | 5 | \n",
       "| 1 | 2 | 1 | 2 | 2 | 0 | 2 | 2 | 3 | 3 | 3 | 3 | 4 | 4 | 3 | 3 | 3 | 4 | 4 | 5 | \n",
       "\n",
       "\n"
      ],
      "text/plain": [
       "  V1 V2 V3 V4 V5 V6 V7 V8 V9 V10 V11 V12 V13 V14 V15 V16 V17 V18 V19 V20\n",
       "1 0  1  1  1  1  1  2  1  2  2   2   2   3   3   2   3   2   3   3   4  \n",
       "2 1  0  1  1  2  2  1  1  1  1   1   1   2   2   1   2   1   2   2   3  \n",
       "3 1  1  0  2  2  1  1  2  2  2   2   2   3   3   2   2   2   3   3   4  \n",
       "4 1  1  2  0  1  2  2  2  2  2   2   2   3   3   2   3   2   3   3   4  \n",
       "5 1  2  2  1  0  2  3  2  3  3   3   3   4   4   3   4   3   4   4   5  \n",
       "6 1  2  1  2  2  0  2  2  3  3   3   3   4   4   3   3   3   4   4   5  "
      ]
     },
     "metadata": {},
     "output_type": "display_data"
    }
   ],
   "source": [
    "head(shortest.path)"
   ]
  },
  {
   "cell_type": "code",
   "execution_count": 14,
   "metadata": {
    "collapsed": false
   },
   "outputs": [
    {
     "name": "stdout",
     "output_type": "stream",
     "text": [
      "[1] \"Completed: 1\"\n",
      "[1] \"Completed: 2\"\n",
      "[1] \"Completed: 3\"\n",
      "[1] \"Completed: 4\"\n",
      "[1] \"Completed: 5\"\n",
      "[1] \"Completed: 6\"\n",
      "[1] \"Completed: 7\"\n",
      "[1] \"Completed: 8\"\n",
      "[1] \"Completed: 9\"\n",
      "[1] \"Completed: 10\"\n",
      "[1] \"Completed: 11\"\n",
      "[1] \"Completed: 12\"\n",
      "[1] \"Completed: 13\"\n",
      "[1] \"Completed: 14\"\n",
      "[1] \"Completed: 15\"\n",
      "[1] \"Completed: 16\"\n",
      "[1] \"Completed: 17\"\n",
      "[1] \"Completed: 18\"\n",
      "[1] \"Completed: 19\"\n",
      "[1] \"Completed: 20\"\n",
      "[1] \"Completed: 21\"\n",
      "[1] \"Completed: 22\"\n",
      "[1] \"Completed: 23\"\n",
      "[1] \"Completed: 24\"\n",
      "[1] \"Completed: 25\"\n",
      "[1] \"Completed: 26\"\n",
      "[1] \"Completed: 27\"\n",
      "[1] \"Completed: 28\"\n",
      "[1] \"Completed: 29\"\n",
      "[1] \"Completed: 30\"\n",
      "[1] \"Completed: 31\"\n",
      "[1] \"Completed: 32\"\n",
      "[1] \"Completed: 33\"\n",
      "[1] \"Completed: 34\"\n",
      "[1] \"Completed: 35\"\n",
      "[1] \"Completed: 36\"\n",
      "[1] \"Completed: 37\"\n",
      "[1] \"Completed: 38\"\n",
      "[1] \"Completed: 39\"\n",
      "[1] \"Completed: 40\"\n",
      "[1] \"Completed: 41\"\n",
      "[1] \"Completed: 42\"\n",
      "[1] \"Completed: 43\"\n",
      "[1] \"Completed: 44\"\n",
      "[1] \"Completed: 45\"\n",
      "[1] \"Completed: 46\"\n",
      "[1] \"Completed: 47\"\n",
      "[1] \"Completed: 48\"\n",
      "[1] \"Completed: 49\"\n",
      "[1] \"Completed: 50\"\n",
      "[1] \"Completed: 51\"\n",
      "[1] \"Completed: 52\"\n",
      "[1] \"Completed: 53\"\n",
      "[1] \"Completed: 54\"\n",
      "[1] \"Completed: 55\"\n"
     ]
    }
   ],
   "source": [
    "distances <- numeric(length = (numCom * (numCom - 1)) / 2)\n",
    "semSims <- numeric(length = (numCom * (numCom - 1)) / 2)\n",
    "\n",
    "completed <- 0\n",
    "\n",
    "for (c1 in 1:length(g)) {\n",
    "    \n",
    "    for (c2 in c1:length(g)) {\n",
    "        \n",
    "        if (c1 == c2) next   \n",
    "        \n",
    "        completed <- completed + 1  \n",
    "        semSims[completed] <- clusterGoSimilarities[c1, c2]\n",
    "            \n",
    "        distances[completed] <- shortest.path[c1, c2]\n",
    "        \n",
    "        print(sprintf(\"Completed: %s\", completed))\n",
    "    }\n",
    "}"
   ]
  },
  {
   "cell_type": "code",
   "execution_count": 15,
   "metadata": {
    "collapsed": false
   },
   "outputs": [
    {
     "data": {
      "image/png": "[encoded data removed]",
      "text/plain": [
       "plot without title"
      ]
     },
     "metadata": {},
     "output_type": "display_data"
    }
   ],
   "source": [
    "plot(distances, semSims, xlab=\"Distance on Map\", ylab=\"GO similairties\")"
   ]
  },
  {
   "cell_type": "code",
   "execution_count": null,
   "metadata": {
    "collapsed": true
   },
   "outputs": [],
   "source": []
  }
 ],
 "metadata": {
  "anaconda-cloud": {},
  "kernelspec": {
   "display_name": "R",
   "language": "R",
   "name": "ir"
  },
  "language_info": {
   "codemirror_mode": "r",
   "file_extension": ".r",
   "mimetype": "text/x-r-source",
   "name": "R",
   "pygments_lexer": "r",
   "version": "3.3.2"
  }
 },
 "nbformat": 4,
 "nbformat_minor": 2
}
