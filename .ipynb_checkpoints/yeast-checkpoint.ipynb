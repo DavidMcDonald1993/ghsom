{
 "cells": [
  {
   "cell_type": "code",
   "execution_count": 15,
   "metadata": {
    "collapsed": false
   },
   "outputs": [],
   "source": [
    "import numpy as np\n",
    "\n",
    "os.chdir(\"/home/david/Documents/ghsom\")\n",
    "\n",
    "filename = \"HI-II-14.tsv\"\n",
    "\n",
    "lines = []\n",
    "\n",
    "for line in open(filename):\n",
    "    lines.append(line.rstrip().split(\"\\t\"))\n",
    "\n",
    "with open(\"HI-II-14.txt\", \"w\") as f:\n",
    "    first = True\n",
    "    for line in lines:\n",
    "        if first:\n",
    "            first=False\n",
    "            continue\n",
    "        f.write(\"{} {}\\n\".format(line[0], line[2]))"
   ]
  },
  {
   "cell_type": "code",
   "execution_count": 1,
   "metadata": {
    "collapsed": false
   },
   "outputs": [
    {
     "name": "stdout",
     "output_type": "stream",
     "text": [
      "806\n"
     ]
    }
   ],
   "source": [
    "import networkx as nx\n",
    "G = nx.read_edgelist(\"Uetz_screen.txt\")\n",
    "\n",
    "print len(G.nodes())"
   ]
  },
  {
   "cell_type": "code",
   "execution_count": 1,
   "metadata": {
    "collapsed": false
   },
   "outputs": [],
   "source": [
    "from save_embedded_graph27 import main as embed_main\n",
    "\n",
    "embed_main('HI-II-14.txt', 'embedded_hi_ii_14.gml')"
   ]
  },
  {
   "cell_type": "code",
   "execution_count": 1,
   "metadata": {
    "collapsed": false
   },
   "outputs": [],
   "source": [
    "from spearmint_ghsom import main_no_labels as ghsom_main\n",
    "import pickle\n",
    "import os\n",
    "\n",
    "def save_obj(obj, name):\n",
    "    with open(name + '.pkl', 'wb') as f:\n",
    "        pickle.dump(obj, f, pickle.HIGHEST_PROTOCOL)\n",
    "\n",
    "def load_obj(name):\n",
    "    with open(name + '.pkl', 'rb') as f:\n",
    "        return pickle.load(f)\n",
    "\n",
    "    \n",
    "os.chdir(\"/home/david/Documents/ghsom\")\n",
    "\n",
    "init = 1\n",
    "p = 0.7\n",
    "\n",
    "#ghsom parameters\n",
    "params = {'w': 0.0001,\n",
    "         'eta': 0.001,\n",
    "         'sigma': 1,\n",
    "          'e_sg': p,\n",
    "         'e_en': 10}\n",
    "\n"
   ]
  },
  {
   "cell_type": "code",
   "execution_count": null,
   "metadata": {
    "collapsed": true
   },
   "outputs": [],
   "source": [
    "# G, map = ghsom_main(params, 'embedded_hi_ii_14.gml')\n",
    "G, map = ghsom_main(params, 'embedded_yeast_union.gml', init=init, lam=1000)\n",
    "# G, map = ghsom_main(params, 'embedded_yeast_uetz.gml', init=init, lam=1000)\n",
    "\n",
    "print '\\nnumber of communities detected: {}'.format(len(map))\n",
    "# save_obj((G, map), 'HI_II_communities_{}'.format(p))\n",
    "# save_obj((G, map), 'yeast_union_communities_{}'.format(p))\n",
    "save_obj((G, map), 'yeast_uetz_communities_{}_{}'.format(p, init))\n",
    "\n",
    "print 'done'"
   ]
  },
  {
   "cell_type": "code",
   "execution_count": 5,
   "metadata": {
    "collapsed": false
   },
   "outputs": [
    {
     "name": "stdout",
     "output_type": "stream",
     "text": [
      "number of communities detected: 20\n"
     ]
    }
   ],
   "source": [
    "import os\n",
    "\n",
    "os.chdir(\"/home/david/Documents/ghsom\")\n",
    "\n",
    "# G, map = load_obj('HI_II_communities_{}'.format(p))\n",
    "# G, map = load_obj('yeast_union_communities_{}'.format(p))\n",
    "G, map = load_obj('yeast_union_communities_{}'.format(p))\n",
    "print 'number of communities detected: {}'.format(len(map))"
   ]
  },
  {
   "cell_type": "code",
   "execution_count": 7,
   "metadata": {
    "collapsed": false
   },
   "outputs": [
    {
     "name": "stdout",
     "output_type": "stream",
     "text": [
      "34\n",
      "False\n",
      "58\n",
      "False\n",
      "146\n",
      "False\n",
      "88\n",
      "True\n",
      "146\n",
      "False\n",
      "72\n",
      "True\n",
      "188\n",
      "True\n",
      "102\n",
      "False\n",
      "194\n",
      "True\n",
      "27\n",
      "False\n",
      "65\n",
      "False\n",
      "75\n",
      "True\n",
      "103\n",
      "True\n",
      "51\n",
      "True\n",
      "50\n",
      "True\n",
      "67\n",
      "True\n",
      "43\n",
      "True\n",
      "37\n",
      "True\n",
      "52\n",
      "True\n",
      "49\n",
      "True\n"
     ]
    }
   ],
   "source": [
    "import networkx as nx\n",
    "\n",
    "for n, d in map.nodes(data=True):\n",
    "    \n",
    "    H = G.subgraph(d['ls'])\n",
    "    print len(H)\n",
    "    print nx.is_connected(H)"
   ]
  },
  {
   "cell_type": "code",
   "execution_count": 12,
   "metadata": {
    "collapsed": false,
    "scrolled": true
   },
   "outputs": [],
   "source": [
    "min_nodes = 10\n",
    "\n",
    "##remove neurons with no assigned nodes\n",
    "for n, d in map.nodes(data=True):\n",
    "    if len(d['ls']) < min_nodes:\n",
    "        map.remove_node(n)\n",
    "        print 'removed node {}'.format(n)"
   ]
  },
  {
   "cell_type": "code",
   "execution_count": 5,
   "metadata": {
    "collapsed": false,
    "scrolled": true
   },
   "outputs": [
    {
     "name": "stdout",
     "output_type": "stream",
     "text": [
      "written shortest path matrix\n",
      "written community_0.txt\n",
      "written community_1.txt\n",
      "written community_2.txt\n",
      "written community_3.txt\n",
      "written community_4.txt\n",
      "written community_5.txt\n",
      "written community_6.txt\n",
      "written community_7.txt\n",
      "written community_8.txt\n",
      "written community_9.txt\n",
      "written community_10.txt\n",
      "written community_11.txt\n",
      "written community_12.txt\n",
      "written community_13.txt\n",
      "written community_14.txt\n",
      "written community_15.txt\n",
      "written community_16.txt\n",
      "written community_17.txt\n",
      "written community_18.txt\n",
      "written community_19.txt\n",
      "written community_20.txt\n",
      "written community_21.txt\n",
      "written community_22.txt\n",
      "written community_23.txt\n",
      "written community_24.txt\n"
     ]
    }
   ],
   "source": [
    "import os\n",
    "import networkx as nx\n",
    "import numpy as np\n",
    "##save to communities directory\n",
    "os.chdir(\"/home/david/Documents/ghsom\")\n",
    "\n",
    "# dir_name = \"union_communities_08\"\n",
    "dir_name = \"uetz_communities_{}_{}\".format(p, init)\n",
    "\n",
    "if not os.path.isdir(dir_name):\n",
    "    os.mkdir(dir_name)\n",
    "    print 'made directory {}'.format(dir_name)\n",
    "    \n",
    "os.chdir(dir_name)\n",
    "\n",
    "shortest_path = nx.floyd_warshall_numpy(map).astype(np.int)\n",
    "np.savetxt(\"shortest_path.csv\", shortest_path, fmt='%i', delimiter=\",\")\n",
    "print 'written shortest path matrix'\n",
    "\n",
    "c = 0\n",
    "for n, d in map.nodes(data=True):\n",
    "    ls = d['ls']\n",
    "    with open('community_{}.txt'.format(c),'w') as f:\n",
    "        for l in ls:\n",
    "            f.write('{}\\n'.format(l))\n",
    "    print 'written community_{}.txt'.format(c)\n",
    "    c += 1"
   ]
  },
  {
   "cell_type": "code",
   "execution_count": 10,
   "metadata": {
    "collapsed": false
   },
   "outputs": [
    {
     "name": "stdout",
     "output_type": "stream",
     "text": [
      "p=0.9\n",
      "yeast_uetz_wang_communities_0.9_1.pkl already exists, loading map\n",
      "made directory yeast_uetz_wang_communities_0.9_1\n",
      "moved to yeast_uetz_wang_communities_0.9_1\n",
      "written all_genes.txt\n",
      "written shortest path matrix\n",
      "written community_0.txt\n",
      "written community_1.txt\n",
      "written community_2.txt\n",
      "\n",
      "p=0.8\n",
      "yeast_uetz_wang_communities_0.8_1.pkl already exists, loading map\n",
      "made directory yeast_uetz_wang_communities_0.8_1\n",
      "moved to yeast_uetz_wang_communities_0.8_1\n",
      "written all_genes.txt\n",
      "written shortest path matrix\n",
      "written community_0.txt\n",
      "written community_1.txt\n",
      "written community_2.txt\n",
      "\n",
      "p=0.7\n",
      "yeast_uetz_wang_communities_0.7_1.pkl already exists, loading map\n",
      "made directory yeast_uetz_wang_communities_0.7_1\n",
      "moved to yeast_uetz_wang_communities_0.7_1\n",
      "written all_genes.txt\n",
      "written shortest path matrix\n",
      "written community_0.txt\n",
      "written community_1.txt\n",
      "written community_2.txt\n",
      "written community_3.txt\n",
      "written community_4.txt\n",
      "written community_5.txt\n",
      "\n",
      "p=0.6\n",
      "yeast_uetz_wang_communities_0.6_1.pkl already exists, loading map\n",
      "made directory yeast_uetz_wang_communities_0.6_1\n",
      "moved to yeast_uetz_wang_communities_0.6_1\n",
      "written all_genes.txt\n",
      "written shortest path matrix\n",
      "written community_0.txt\n",
      "written community_1.txt\n",
      "written community_2.txt\n",
      "written community_3.txt\n",
      "written community_4.txt\n",
      "written community_5.txt\n",
      "written community_6.txt\n",
      "written community_7.txt\n",
      "written community_8.txt\n",
      "written community_9.txt\n",
      "written community_10.txt\n",
      "written community_11.txt\n",
      "written community_12.txt\n",
      "written community_13.txt\n",
      "\n",
      "p=0.5\n",
      "running GHSOM and saving to yeast_uetz_wang_communities_0.5_1.pkl\n",
      "Layer: 1, training epoch: 999/1000, size of map: 23, MQE: 0.41459098388, target: 0.373564209747, sigma: 0.135606224654           deleted node 10\n",
      "Layer: 1, training epoch: 999/1000, size of map: 23, MQE: 0.41424894098, target: 0.373564209747, sigma: 0.135606224654          deleted node 1\n",
      "Layer: 1, training epoch: 999/1000, size of map: 34, MQE: 0.375817943012, target: 0.373564209747, sigma: 0.135606224654          \n",
      "number of communities detected: 34, saved map to yeast_uetz_wang_communities_0.5_1\n",
      "made directory yeast_uetz_wang_communities_0.5_1\n",
      "moved to yeast_uetz_wang_communities_0.5_1\n",
      "written all_genes.txt\n",
      "written shortest path matrix\n",
      "written community_0.txt\n",
      "written community_1.txt\n",
      "written community_2.txt\n",
      "written community_3.txt\n",
      "written community_4.txt\n",
      "written community_5.txt\n",
      "written community_6.txt\n",
      "written community_7.txt\n",
      "written community_8.txt\n",
      "written community_9.txt\n",
      "written community_10.txt\n",
      "written community_11.txt\n",
      "written community_12.txt\n",
      "written community_13.txt\n",
      "written community_14.txt\n",
      "written community_15.txt\n",
      "written community_16.txt\n",
      "written community_17.txt\n",
      "written community_18.txt\n",
      "written community_19.txt\n",
      "written community_20.txt\n",
      "written community_21.txt\n",
      "written community_22.txt\n",
      "written community_23.txt\n",
      "written community_24.txt\n",
      "written community_25.txt\n",
      "written community_26.txt\n",
      "written community_27.txt\n",
      "written community_28.txt\n",
      "written community_29.txt\n",
      "written community_30.txt\n",
      "written community_31.txt\n",
      "written community_32.txt\n",
      "written community_33.txt\n",
      "\n",
      "p=0.4\n",
      "running GHSOM and saving to yeast_uetz_wang_communities_0.4_1.pkl\n",
      "Layer: 1, training epoch: 455/1000, size of map: 10, MQE: 0.457907225485, target: 0.298812958612, sigma: 0.402524224034          "
     ]
    },
    {
     "ename": "KeyboardInterrupt",
     "evalue": "",
     "output_type": "error",
     "traceback": [
      "\u001b[0;31m---------------------------------------------------------------------------\u001b[0m",
      "\u001b[0;31mKeyboardInterrupt\u001b[0m                         Traceback (most recent call last)",
      "\u001b[0;32m<ipython-input-10-14f985db026f>\u001b[0m in \u001b[0;36m<module>\u001b[0;34m()\u001b[0m\n\u001b[1;32m     38\u001b[0m         \u001b[0;31m#run ghsom and save output\u001b[0m\u001b[0;34m\u001b[0m\u001b[0;34m\u001b[0m\u001b[0m\n\u001b[1;32m     39\u001b[0m         \u001b[0;32mprint\u001b[0m \u001b[0;34m\"running GHSOM and saving to {}.pkl\"\u001b[0m\u001b[0;34m.\u001b[0m\u001b[0mformat\u001b[0m\u001b[0;34m(\u001b[0m\u001b[0mmap_file\u001b[0m\u001b[0;34m)\u001b[0m\u001b[0;34m\u001b[0m\u001b[0m\n\u001b[0;32m---> 40\u001b[0;31m         \u001b[0mG\u001b[0m\u001b[0;34m,\u001b[0m \u001b[0mmap\u001b[0m \u001b[0;34m=\u001b[0m \u001b[0mghsom_main\u001b[0m\u001b[0;34m(\u001b[0m\u001b[0mparams\u001b[0m\u001b[0;34m,\u001b[0m \u001b[0;34m'embedded_{}.gml'\u001b[0m\u001b[0;34m.\u001b[0m\u001b[0mformat\u001b[0m\u001b[0;34m(\u001b[0m\u001b[0mdata\u001b[0m\u001b[0;34m)\u001b[0m\u001b[0;34m,\u001b[0m \u001b[0minit\u001b[0m\u001b[0;34m=\u001b[0m\u001b[0minit\u001b[0m\u001b[0;34m,\u001b[0m \u001b[0mlam\u001b[0m\u001b[0;34m=\u001b[0m\u001b[0;36m1000\u001b[0m\u001b[0;34m)\u001b[0m\u001b[0;34m\u001b[0m\u001b[0m\n\u001b[0m\u001b[1;32m     41\u001b[0m         \u001b[0;32mprint\u001b[0m \u001b[0;34m'\\nnumber of communities detected: {}, saved map to {}'\u001b[0m\u001b[0;34m.\u001b[0m\u001b[0mformat\u001b[0m\u001b[0;34m(\u001b[0m\u001b[0mlen\u001b[0m\u001b[0;34m(\u001b[0m\u001b[0mmap\u001b[0m\u001b[0;34m)\u001b[0m\u001b[0;34m,\u001b[0m \u001b[0mmap_file\u001b[0m\u001b[0;34m)\u001b[0m\u001b[0;34m\u001b[0m\u001b[0m\n\u001b[1;32m     42\u001b[0m         \u001b[0msave_obj\u001b[0m\u001b[0;34m(\u001b[0m\u001b[0;34m(\u001b[0m\u001b[0mG\u001b[0m\u001b[0;34m,\u001b[0m \u001b[0mmap\u001b[0m\u001b[0;34m)\u001b[0m\u001b[0;34m,\u001b[0m \u001b[0mmap_file\u001b[0m\u001b[0;34m)\u001b[0m\u001b[0;34m\u001b[0m\u001b[0m\n",
      "\u001b[0;32m/home/david/Documents/ghsom/spearmint_ghsom.py\u001b[0m in \u001b[0;36mmain_no_labels\u001b[0;34m(params, gml_filename, init, lam)\u001b[0m\n\u001b[1;32m    787\u001b[0m     \u001b[0;31m#run ghsom algorithm\u001b[0m\u001b[0;34m\u001b[0m\u001b[0;34m\u001b[0m\u001b[0m\n\u001b[1;32m    788\u001b[0m     network, MQE = ghsom(G, lam, params['w'], params['eta'],\n\u001b[0;32m--> 789\u001b[0;31m                          params['sigma'], np.inf, params['e_sg'], params['e_en'], init, layer)\n\u001b[0m\u001b[1;32m    790\u001b[0m \u001b[0;34m\u001b[0m\u001b[0m\n\u001b[1;32m    791\u001b[0m     \u001b[0mn\u001b[0m\u001b[0;34m,\u001b[0m \u001b[0md\u001b[0m \u001b[0;34m=\u001b[0m \u001b[0mnetwork\u001b[0m\u001b[0;34m.\u001b[0m\u001b[0mnodes\u001b[0m\u001b[0;34m(\u001b[0m\u001b[0mdata\u001b[0m\u001b[0;34m=\u001b[0m\u001b[0mTrue\u001b[0m\u001b[0;34m)\u001b[0m\u001b[0;34m[\u001b[0m\u001b[0;36m0\u001b[0m\u001b[0;34m]\u001b[0m\u001b[0;34m\u001b[0m\u001b[0m\n",
      "\u001b[0;32m/home/david/Documents/ghsom/spearmint_ghsom.py\u001b[0m in \u001b[0;36mghsom\u001b[0;34m(G, lam, w, eta, sigma, e_0, e_sg, e_en, init, layer)\u001b[0m\n\u001b[1;32m    630\u001b[0m \u001b[0;34m\u001b[0m\u001b[0m\n\u001b[1;32m    631\u001b[0m             \u001b[0;31m#recursively run algorithm to create new network for subgraph of this neurons nodes\u001b[0m\u001b[0;34m\u001b[0m\u001b[0;34m\u001b[0m\u001b[0m\n\u001b[0;32m--> 632\u001b[0;31m             \u001b[0mn\u001b[0m\u001b[0;34m,\u001b[0m \u001b[0me\u001b[0m \u001b[0;34m=\u001b[0m \u001b[0mghsom\u001b[0m\u001b[0;34m(\u001b[0m\u001b[0mH\u001b[0m\u001b[0;34m,\u001b[0m \u001b[0mlam\u001b[0m\u001b[0;34m,\u001b[0m \u001b[0mw\u001b[0m\u001b[0;34m,\u001b[0m \u001b[0meta\u001b[0m\u001b[0;34m,\u001b[0m \u001b[0msigma\u001b[0m\u001b[0;34m,\u001b[0m \u001b[0me_0\u001b[0m\u001b[0;34m,\u001b[0m \u001b[0me_sg\u001b[0m\u001b[0;34m,\u001b[0m \u001b[0me_en\u001b[0m\u001b[0;34m,\u001b[0m \u001b[0minit\u001b[0m\u001b[0;34m,\u001b[0m \u001b[0mlayer\u001b[0m \u001b[0;34m+\u001b[0m \u001b[0;36m1\u001b[0m\u001b[0;34m)\u001b[0m\u001b[0;34m\u001b[0m\u001b[0m\n\u001b[0m\u001b[1;32m    633\u001b[0m \u001b[0;34m\u001b[0m\u001b[0m\n\u001b[1;32m    634\u001b[0m             \u001b[0;31m#repack\u001b[0m\u001b[0;34m\u001b[0m\u001b[0;34m\u001b[0m\u001b[0m\n",
      "\u001b[0;32m/home/david/Documents/ghsom/spearmint_ghsom.py\u001b[0m in \u001b[0;36mghsom\u001b[0;34m(G, lam, w, eta, sigma, e_0, e_sg, e_en, init, layer)\u001b[0m\n\u001b[1;32m    601\u001b[0m \u001b[0;34m\u001b[0m\u001b[0m\n\u001b[1;32m    602\u001b[0m         \u001b[0;31m#train for l epochs\u001b[0m\u001b[0;34m\u001b[0m\u001b[0;34m\u001b[0m\u001b[0m\n\u001b[0;32m--> 603\u001b[0;31m         \u001b[0mtrain_network\u001b[0m\u001b[0;34m(\u001b[0m\u001b[0mX\u001b[0m\u001b[0;34m,\u001b[0m \u001b[0mnetwork\u001b[0m\u001b[0;34m,\u001b[0m \u001b[0mlam\u001b[0m\u001b[0;34m,\u001b[0m \u001b[0meta\u001b[0m\u001b[0;34m,\u001b[0m \u001b[0msigma\u001b[0m\u001b[0;34m,\u001b[0m \u001b[0mN\u001b[0m\u001b[0;34m,\u001b[0m \u001b[0mlayer\u001b[0m\u001b[0;34m,\u001b[0m \u001b[0mMQE\u001b[0m\u001b[0;34m,\u001b[0m \u001b[0me_sg\u001b[0m \u001b[0;34m*\u001b[0m \u001b[0me_0\u001b[0m\u001b[0;34m)\u001b[0m\u001b[0;34m\u001b[0m\u001b[0m\n\u001b[0m\u001b[1;32m    604\u001b[0m \u001b[0;34m\u001b[0m\u001b[0m\n\u001b[1;32m    605\u001b[0m         \u001b[0;31m#classify nodes\u001b[0m\u001b[0;34m\u001b[0m\u001b[0;34m\u001b[0m\u001b[0m\n",
      "\u001b[0;32m/home/david/Documents/ghsom/spearmint_ghsom.py\u001b[0m in \u001b[0;36mtrain_network\u001b[0;34m(X, network, num_epochs, eta_0, sigma_0, N, layer, MQE, target)\u001b[0m\n\u001b[1;32m    102\u001b[0m \u001b[0;34m\u001b[0m\u001b[0m\n\u001b[1;32m    103\u001b[0m             \u001b[0;31m# update weights\u001b[0m\u001b[0;34m\u001b[0m\u001b[0;34m\u001b[0m\u001b[0m\n\u001b[0;32m--> 104\u001b[0;31m             \u001b[0mupdate_weights\u001b[0m\u001b[0;34m(\u001b[0m\u001b[0mx\u001b[0m\u001b[0;34m,\u001b[0m \u001b[0mnetwork\u001b[0m\u001b[0;34m,\u001b[0m \u001b[0mwin_neuron\u001b[0m\u001b[0;34m,\u001b[0m \u001b[0meta\u001b[0m\u001b[0;34m,\u001b[0m \u001b[0msigma\u001b[0m\u001b[0;34m)\u001b[0m\u001b[0;34m\u001b[0m\u001b[0m\n\u001b[0m\u001b[1;32m    105\u001b[0m \u001b[0;34m\u001b[0m\u001b[0m\n\u001b[1;32m    106\u001b[0m         \u001b[0;31m# drop neighbourhood\u001b[0m\u001b[0;34m\u001b[0m\u001b[0;34m\u001b[0m\u001b[0m\n",
      "\u001b[0;32m/home/david/Documents/ghsom/spearmint_ghsom.py\u001b[0m in \u001b[0;36mupdate_weights\u001b[0;34m(x, network, win_neuron, eta, sigma)\u001b[0m\n\u001b[1;32m    145\u001b[0m \u001b[0;34m\u001b[0m\u001b[0m\n\u001b[1;32m    146\u001b[0m         \u001b[0;31m#new v -- move along shortest path by move distance\u001b[0m\u001b[0;34m\u001b[0m\u001b[0;34m\u001b[0m\u001b[0m\n\u001b[0;32m--> 147\u001b[0;31m         \u001b[0mv\u001b[0m \u001b[0;34m+=\u001b[0m \u001b[0meta\u001b[0m \u001b[0;34m*\u001b[0m \u001b[0mneighbourhood\u001b[0m\u001b[0;34m(\u001b[0m\u001b[0mnetwork\u001b[0m\u001b[0;34m,\u001b[0m \u001b[0mi\u001b[0m\u001b[0;34m,\u001b[0m \u001b[0mwin_neuron\u001b[0m\u001b[0;34m,\u001b[0m \u001b[0msigma\u001b[0m\u001b[0;34m)\u001b[0m \u001b[0;34m*\u001b[0m \u001b[0;34m(\u001b[0m\u001b[0mx\u001b[0m \u001b[0;34m-\u001b[0m \u001b[0mv\u001b[0m\u001b[0;34m)\u001b[0m\u001b[0;34m\u001b[0m\u001b[0m\n\u001b[0m\u001b[1;32m    148\u001b[0m \u001b[0;34m\u001b[0m\u001b[0m\n\u001b[1;32m    149\u001b[0m         \u001b[0;31m#save to network\u001b[0m\u001b[0;34m\u001b[0m\u001b[0;34m\u001b[0m\u001b[0m\n",
      "\u001b[0;32m/home/david/Documents/ghsom/spearmint_ghsom.py\u001b[0m in \u001b[0;36mneighbourhood\u001b[0;34m(network, r, win_neuron, sigma)\u001b[0m\n\u001b[1;32m    153\u001b[0m \u001b[0;32mdef\u001b[0m \u001b[0mneighbourhood\u001b[0m\u001b[0;34m(\u001b[0m\u001b[0mnetwork\u001b[0m\u001b[0;34m,\u001b[0m \u001b[0mr\u001b[0m\u001b[0;34m,\u001b[0m \u001b[0mwin_neuron\u001b[0m\u001b[0;34m,\u001b[0m \u001b[0msigma\u001b[0m\u001b[0;34m)\u001b[0m\u001b[0;34m:\u001b[0m\u001b[0;34m\u001b[0m\u001b[0m\n\u001b[1;32m    154\u001b[0m \u001b[0;34m\u001b[0m\u001b[0m\n\u001b[0;32m--> 155\u001b[0;31m     \u001b[0;32mreturn\u001b[0m \u001b[0mnp\u001b[0m\u001b[0;34m.\u001b[0m\u001b[0mexp\u001b[0m\u001b[0;34m(\u001b[0m\u001b[0;34m-\u001b[0m\u001b[0;34m(\u001b[0m\u001b[0mnx\u001b[0m\u001b[0;34m.\u001b[0m\u001b[0mshortest_path_length\u001b[0m\u001b[0;34m(\u001b[0m\u001b[0mnetwork\u001b[0m\u001b[0;34m,\u001b[0m \u001b[0mr\u001b[0m\u001b[0;34m,\u001b[0m \u001b[0mwin_neuron\u001b[0m\u001b[0;34m)\u001b[0m\u001b[0;34m)\u001b[0m \u001b[0;34m**\u001b[0m \u001b[0;36m2\u001b[0m \u001b[0;34m/\u001b[0m \u001b[0;34m(\u001b[0m\u001b[0;36m2\u001b[0m \u001b[0;34m*\u001b[0m \u001b[0msigma\u001b[0m \u001b[0;34m**\u001b[0m \u001b[0;36m2\u001b[0m\u001b[0;34m)\u001b[0m\u001b[0;34m)\u001b[0m\u001b[0;34m\u001b[0m\u001b[0m\n\u001b[0m\u001b[1;32m    156\u001b[0m \u001b[0;34m\u001b[0m\u001b[0m\n\u001b[1;32m    157\u001b[0m \u001b[0;31m# assign nodes into clusters\u001b[0m\u001b[0;34m\u001b[0m\u001b[0;34m\u001b[0m\u001b[0m\n",
      "\u001b[0;32m/home/david/miniconda2/lib/python2.7/site-packages/networkx/algorithms/shortest_paths/generic.pyc\u001b[0m in \u001b[0;36mshortest_path_length\u001b[0;34m(G, source, target, weight)\u001b[0m\n\u001b[1;32m    243\u001b[0m             \u001b[0;31m## Find shortest source-target path.\u001b[0m\u001b[0;34m\u001b[0m\u001b[0;34m\u001b[0m\u001b[0m\n\u001b[1;32m    244\u001b[0m             \u001b[0;32mif\u001b[0m \u001b[0mweight\u001b[0m \u001b[0;32mis\u001b[0m \u001b[0mNone\u001b[0m\u001b[0;34m:\u001b[0m\u001b[0;34m\u001b[0m\u001b[0m\n\u001b[0;32m--> 245\u001b[0;31m                 \u001b[0mp\u001b[0m\u001b[0;34m=\u001b[0m\u001b[0mnx\u001b[0m\u001b[0;34m.\u001b[0m\u001b[0mbidirectional_shortest_path\u001b[0m\u001b[0;34m(\u001b[0m\u001b[0mG\u001b[0m\u001b[0;34m,\u001b[0m\u001b[0msource\u001b[0m\u001b[0;34m,\u001b[0m\u001b[0mtarget\u001b[0m\u001b[0;34m)\u001b[0m\u001b[0;34m\u001b[0m\u001b[0m\n\u001b[0m\u001b[1;32m    246\u001b[0m                 \u001b[0mpaths\u001b[0m\u001b[0;34m=\u001b[0m\u001b[0mlen\u001b[0m\u001b[0;34m(\u001b[0m\u001b[0mp\u001b[0m\u001b[0;34m)\u001b[0m\u001b[0;34m-\u001b[0m\u001b[0;36m1\u001b[0m\u001b[0;34m\u001b[0m\u001b[0m\n\u001b[1;32m    247\u001b[0m             \u001b[0;32melse\u001b[0m\u001b[0;34m:\u001b[0m\u001b[0;34m\u001b[0m\u001b[0m\n",
      "\u001b[0;32m/home/david/miniconda2/lib/python2.7/site-packages/networkx/algorithms/shortest_paths/unweighted.pyc\u001b[0m in \u001b[0;36mbidirectional_shortest_path\u001b[0;34m(G, source, target)\u001b[0m\n\u001b[1;32m    136\u001b[0m     \"\"\"\n\u001b[1;32m    137\u001b[0m     \u001b[0;31m# call helper to do the real work\u001b[0m\u001b[0;34m\u001b[0m\u001b[0;34m\u001b[0m\u001b[0m\n\u001b[0;32m--> 138\u001b[0;31m     \u001b[0mresults\u001b[0m\u001b[0;34m=\u001b[0m\u001b[0m_bidirectional_pred_succ\u001b[0m\u001b[0;34m(\u001b[0m\u001b[0mG\u001b[0m\u001b[0;34m,\u001b[0m\u001b[0msource\u001b[0m\u001b[0;34m,\u001b[0m\u001b[0mtarget\u001b[0m\u001b[0;34m)\u001b[0m\u001b[0;34m\u001b[0m\u001b[0m\n\u001b[0m\u001b[1;32m    139\u001b[0m     \u001b[0mpred\u001b[0m\u001b[0;34m,\u001b[0m\u001b[0msucc\u001b[0m\u001b[0;34m,\u001b[0m\u001b[0mw\u001b[0m\u001b[0;34m=\u001b[0m\u001b[0mresults\u001b[0m\u001b[0;34m\u001b[0m\u001b[0m\n\u001b[1;32m    140\u001b[0m \u001b[0;34m\u001b[0m\u001b[0m\n",
      "\u001b[0;32m/home/david/miniconda2/lib/python2.7/site-packages/networkx/algorithms/shortest_paths/unweighted.pyc\u001b[0m in \u001b[0;36m_bidirectional_pred_succ\u001b[0;34m(G, source, target)\u001b[0m\n\u001b[1;32m    197\u001b[0m                 \u001b[0;32mfor\u001b[0m \u001b[0mw\u001b[0m \u001b[0;32min\u001b[0m \u001b[0mGpred\u001b[0m\u001b[0;34m(\u001b[0m\u001b[0mv\u001b[0m\u001b[0;34m)\u001b[0m\u001b[0;34m:\u001b[0m\u001b[0;34m\u001b[0m\u001b[0m\n\u001b[1;32m    198\u001b[0m                     \u001b[0;32mif\u001b[0m \u001b[0mw\u001b[0m \u001b[0;32mnot\u001b[0m \u001b[0;32min\u001b[0m \u001b[0msucc\u001b[0m\u001b[0;34m:\u001b[0m\u001b[0;34m\u001b[0m\u001b[0m\n\u001b[0;32m--> 199\u001b[0;31m                         \u001b[0msucc\u001b[0m\u001b[0;34m[\u001b[0m\u001b[0mw\u001b[0m\u001b[0;34m]\u001b[0m\u001b[0;34m=\u001b[0m\u001b[0mv\u001b[0m\u001b[0;34m\u001b[0m\u001b[0m\n\u001b[0m\u001b[1;32m    200\u001b[0m                         \u001b[0mreverse_fringe\u001b[0m\u001b[0;34m.\u001b[0m\u001b[0mappend\u001b[0m\u001b[0;34m(\u001b[0m\u001b[0mw\u001b[0m\u001b[0;34m)\u001b[0m\u001b[0;34m\u001b[0m\u001b[0m\n\u001b[1;32m    201\u001b[0m                     \u001b[0;32mif\u001b[0m \u001b[0mw\u001b[0m \u001b[0;32min\u001b[0m \u001b[0mpred\u001b[0m\u001b[0;34m:\u001b[0m  \u001b[0;32mreturn\u001b[0m \u001b[0mpred\u001b[0m\u001b[0;34m,\u001b[0m\u001b[0msucc\u001b[0m\u001b[0;34m,\u001b[0m\u001b[0mw\u001b[0m \u001b[0;31m# found path\u001b[0m\u001b[0;34m\u001b[0m\u001b[0m\n",
      "\u001b[0;31mKeyboardInterrupt\u001b[0m: "
     ]
    }
   ],
   "source": [
    "import os\n",
    "import networkx as nx\n",
    "import numpy as np\n",
    "from spearmint_ghsom import main_no_labels as ghsom_main\n",
    "import pickle\n",
    "import shutil\n",
    "\n",
    "def save_obj(obj, name):\n",
    "    with open(name + '.pkl', 'wb') as f:\n",
    "        pickle.dump(obj, f, pickle.HIGHEST_PROTOCOL)\n",
    "\n",
    "def load_obj(name):\n",
    "    with open(name + '.pkl', 'rb') as f:\n",
    "        return pickle.load(f)\n",
    "    \n",
    "root_dir = \"/home/david/Documents/ghsom\"\n",
    "\n",
    "data = \"yeast_uetz_wang\"\n",
    "init = 1\n",
    "\n",
    "for p in np.arange(0.1, 1, 0.1)[::-1]:\n",
    "    \n",
    "    print \"p={}\".format(p)\n",
    "    \n",
    "    os.chdir(root_dir)\n",
    "    \n",
    "    #ghsom parameters\n",
    "    params = {'w': 0.0001,\n",
    "             'eta': 0.001,\n",
    "             'sigma': 1,\n",
    "              'e_sg': p,\n",
    "             'e_en': 10}\n",
    "    \n",
    "    map_file = '{}_communities_{}_{}'.format(data, p, init)\n",
    "    \n",
    "    if not os.path.isfile(\"{}.pkl\".format(map_file)):\n",
    "    \n",
    "        #run ghsom and save output\n",
    "        print \"running GHSOM and saving to {}.pkl\".format(map_file)\n",
    "        G, map = ghsom_main(params, 'embedded_{}.gml'.format(data), init=init, lam=1000)\n",
    "        print '\\nnumber of communities detected: {}, saved map to {}'.format(len(map), map_file)\n",
    "        save_obj((G, map), map_file)\n",
    "    \n",
    "    else:\n",
    "        \n",
    "        print \"{}.pkl already exists, loading map\".format(map_file)    \n",
    "        #load output\n",
    "        G, map = load_obj(map_file)\n",
    "\n",
    "    #save results to file\n",
    "    dir_name = \"{}_communities_{}_{}\".format(data, p, init)\n",
    "    if not os.path.isdir(dir_name):\n",
    "#         shutil.rmtree(dir_name)\n",
    "#         print \"deleted directory {}\".format(dir_name)\n",
    "    \n",
    "        os.mkdir(dir_name)\n",
    "        print 'made directory {}'.format(dir_name)\n",
    "\n",
    "    os.chdir(dir_name)\n",
    "    print \"moved to {}\".format(dir_name)\n",
    "    \n",
    "    #all genes\n",
    "    all_genes_file = \"all_genes.txt\"\n",
    "    with open(all_genes_file, 'w') as f:\n",
    "        for n in G.nodes():\n",
    "            f.write(\"{}\\n\".format(n))\n",
    "    print \"written {}\".format(all_genes_file)\n",
    "    \n",
    "    #save shortest path matrix\n",
    "    shortest_path = nx.floyd_warshall_numpy(map).astype(np.int)\n",
    "    np.savetxt(\"shortest_path.csv\", shortest_path, fmt='%i', delimiter=\",\")\n",
    "    print 'written shortest path matrix'\n",
    "    \n",
    "    #save communities to file\n",
    "    c = 0\n",
    "    for n, d in map.nodes(data=True):\n",
    "        ls = d['ls']\n",
    "        with open('community_{}.txt'.format(c),'w') as f:\n",
    "            for l in ls:\n",
    "                f.write('{}\\n'.format(l))\n",
    "        print 'written community_{}.txt'.format(c)\n",
    "        c += 1\n",
    "    print"
   ]
  },
  {
   "cell_type": "code",
   "execution_count": null,
   "metadata": {
    "collapsed": true
   },
   "outputs": [],
   "source": []
  }
 ],
 "metadata": {
  "anaconda-cloud": {},
  "kernelspec": {
   "display_name": "Python [default]",
   "language": "python",
   "name": "python2"
  },
  "language_info": {
   "codemirror_mode": {
    "name": "ipython",
    "version": 2
   },
   "file_extension": ".py",
   "mimetype": "text/x-python",
   "name": "python",
   "nbconvert_exporter": "python",
   "pygments_lexer": "ipython2",
   "version": "2.7.13"
  }
 },
 "nbformat": 4,
 "nbformat_minor": 1
}
