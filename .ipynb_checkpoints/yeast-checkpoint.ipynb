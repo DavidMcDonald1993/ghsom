{
 "cells": [
  {
   "cell_type": "code",
   "execution_count": 15,
   "metadata": {
    "collapsed": false
   },
   "outputs": [],
   "source": [
    "import numpy as np\n",
    "\n",
    "os.chdir(\"/home/david/Documents/ghsom\")\n",
    "\n",
    "filename = \"HI-II-14.tsv\"\n",
    "\n",
    "lines = []\n",
    "\n",
    "for line in open(filename):\n",
    "    lines.append(line.rstrip().split(\"\\t\"))\n",
    "\n",
    "with open(\"HI-II-14.txt\", \"w\") as f:\n",
    "    first = True\n",
    "    for line in lines:\n",
    "        if first:\n",
    "            first=False\n",
    "            continue\n",
    "        f.write(\"{} {}\\n\".format(line[0], line[2]))"
   ]
  },
  {
   "cell_type": "code",
   "execution_count": 1,
   "metadata": {
    "collapsed": false
   },
   "outputs": [
    {
     "name": "stdout",
     "output_type": "stream",
     "text": [
      "806\n"
     ]
    }
   ],
   "source": [
    "import networkx as nx\n",
    "G = nx.read_edgelist(\"Uetz_screen.txt\")\n",
    "\n",
    "print len(G.nodes())"
   ]
  },
  {
   "cell_type": "code",
   "execution_count": 1,
   "metadata": {
    "collapsed": false
   },
   "outputs": [],
   "source": [
    "from save_embedded_graph27 import main as embed_main\n",
    "\n",
    "embed_main('HI-II-14.txt', 'embedded_hi_ii_14.gml')"
   ]
  },
  {
   "cell_type": "code",
   "execution_count": 6,
   "metadata": {
    "collapsed": false
   },
   "outputs": [
    {
     "name": "stdout",
     "output_type": "stream",
     "text": [
      "number of communities detected: 50\n",
      "done\n"
     ]
    }
   ],
   "source": [
    "from spearmint_ghsom import main_no_labels as ghsom_main\n",
    "import pickle\n",
    "import os\n",
    "\n",
    "def save_obj(obj, name):\n",
    "    with open(name + '.pkl', 'wb') as f:\n",
    "        pickle.dump(obj, f, pickle.HIGHEST_PROTOCOL)\n",
    "\n",
    "def load_obj(name):\n",
    "    with open(name + '.pkl', 'rb') as f:\n",
    "        return pickle.load(f)\n",
    "\n",
    "    \n",
    "os.chdir(\"/home/david/Documents/ghsom\")\n",
    "\n",
    "init = 50\n",
    "p = 0.2\n",
    "\n",
    "#ghsom parameters\n",
    "params = {'w': 0.0001,\n",
    "         'eta': 0.0001,\n",
    "         'sigma': 1,\n",
    "          'e_sg': p,\n",
    "         'e_en': 0.8}\n",
    "\n",
    "# G, map = ghsom_main(params, 'embedded_hi_ii_14.gml')\n",
    "# G, map = ghsom_main(params, 'embedded_yeast_union.gml')\n",
    "G, map = ghsom_main(params, 'embedded_yeast_uetz.gml', init=init, lam=100)\n",
    "\n",
    "print 'number of communities detected: {}'.format(len(map))\n",
    "# save_obj((G, map), 'HI_II_communities_{}'.format(p))\n",
    "# save_obj((G, map), 'yeast_union_communities_{}'.format(p))\n",
    "save_obj((G, map), 'yeast_uetz_communities_{}_{}'.format(p, init))\n",
    "\n",
    "print 'done'"
   ]
  },
  {
   "cell_type": "code",
   "execution_count": 7,
   "metadata": {
    "collapsed": false
   },
   "outputs": [
    {
     "name": "stdout",
     "output_type": "stream",
     "text": [
      "num communities: 50\n"
     ]
    }
   ],
   "source": [
    "import os\n",
    "\n",
    "os.chdir(\"/home/david/Documents/ghsom\")\n",
    "\n",
    "# G, map = load_obj('HI_II_communities_{}'.format(p))\n",
    "# G, map = load_obj('yeast_union_communities_{}'.format(p))\n",
    "G, map = load_obj('yeast_uetz_communities_{}_{}'.format(p, init))\n",
    "print 'num communities: {}'.format(len(map))"
   ]
  },
  {
   "cell_type": "code",
   "execution_count": 8,
   "metadata": {
    "collapsed": false
   },
   "outputs": [
    {
     "name": "stdout",
     "output_type": "stream",
     "text": [
      "removed node 19\n",
      "removed node 36\n",
      "removed node 45\n",
      "removed node 47\n",
      "removed node 48\n",
      "removed node 49\n"
     ]
    }
   ],
   "source": [
    "min_nodes = 1\n",
    "\n",
    "##remove neurons with no assigned nodes\n",
    "for n, d in map.nodes(data=True):\n",
    "    if len(d['ls']) < min_nodes:\n",
    "        map.remove_node(n)\n",
    "        print 'removed node {}'.format(n)"
   ]
  },
  {
   "cell_type": "code",
   "execution_count": 9,
   "metadata": {
    "collapsed": false
   },
   "outputs": [
    {
     "data": {
      "text/plain": [
       "44"
      ]
     },
     "execution_count": 9,
     "metadata": {},
     "output_type": "execute_result"
    }
   ],
   "source": [
    "len(map)"
   ]
  },
  {
   "cell_type": "code",
   "execution_count": 10,
   "metadata": {
    "collapsed": false,
    "scrolled": true
   },
   "outputs": [
    {
     "name": "stdout",
     "output_type": "stream",
     "text": [
      "made directory uetz_communities_0.2_50\n",
      "written shortest path matrix\n",
      "written community_0.txt\n",
      "written community_1.txt\n",
      "written community_2.txt\n",
      "written community_3.txt\n",
      "written community_4.txt\n",
      "written community_5.txt\n",
      "written community_6.txt\n",
      "written community_7.txt\n",
      "written community_8.txt\n",
      "written community_9.txt\n",
      "written community_10.txt\n",
      "written community_11.txt\n",
      "written community_12.txt\n",
      "written community_13.txt\n",
      "written community_14.txt\n",
      "written community_15.txt\n",
      "written community_16.txt\n",
      "written community_17.txt\n",
      "written community_18.txt\n",
      "written community_19.txt\n",
      "written community_20.txt\n",
      "written community_21.txt\n",
      "written community_22.txt\n",
      "written community_23.txt\n",
      "written community_24.txt\n",
      "written community_25.txt\n",
      "written community_26.txt\n",
      "written community_27.txt\n",
      "written community_28.txt\n",
      "written community_29.txt\n",
      "written community_30.txt\n",
      "written community_31.txt\n",
      "written community_32.txt\n",
      "written community_33.txt\n",
      "written community_34.txt\n",
      "written community_35.txt\n",
      "written community_36.txt\n",
      "written community_37.txt\n",
      "written community_38.txt\n",
      "written community_39.txt\n",
      "written community_40.txt\n",
      "written community_41.txt\n",
      "written community_42.txt\n",
      "written community_43.txt\n"
     ]
    }
   ],
   "source": [
    "import os\n",
    "import networkx as nx\n",
    "import numpy as np\n",
    "##save to communities directory\n",
    "os.chdir(\"/home/david/Documents/ghsom\")\n",
    "\n",
    "# dir_name = \"union_communities_08\"\n",
    "dir_name = \"uetz_communities_{}_{}\".format(p, init)\n",
    "\n",
    "if not os.path.isdir(dir_name):\n",
    "    os.mkdir(dir_name)\n",
    "    print 'made directory {}'.format(dir_name)\n",
    "    \n",
    "os.chdir(dir_name)\n",
    "\n",
    "shortest_path = nx.floyd_warshall_numpy(map).astype(np.int)\n",
    "np.savetxt(\"shortest_path.csv\", shortest_path, fmt='%i', delimiter=\",\")\n",
    "print 'written shortest path matrix'\n",
    "\n",
    "c = 0\n",
    "for n, d in map.nodes(data=True):\n",
    "    ls = d['ls']\n",
    "    with open('community_{}.txt'.format(c),'w') as f:\n",
    "        for l in ls:\n",
    "            f.write('{}\\n'.format(l))\n",
    "    print 'written community_{}.txt'.format(c)\n",
    "    c += 1"
   ]
  }
 ],
 "metadata": {
  "anaconda-cloud": {},
  "kernelspec": {
   "display_name": "Python 2",
   "language": "python",
   "name": "python2"
  },
  "language_info": {
   "codemirror_mode": {
    "name": "ipython",
    "version": 2
   },
   "file_extension": ".py",
   "mimetype": "text/x-python",
   "name": "python",
   "nbconvert_exporter": "python",
   "pygments_lexer": "ipython2",
   "version": "2.7.13"
  }
 },
 "nbformat": 4,
 "nbformat_minor": 1
}
