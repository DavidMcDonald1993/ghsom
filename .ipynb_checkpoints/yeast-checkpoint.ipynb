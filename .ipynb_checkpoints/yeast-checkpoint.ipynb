{
 "cells": [
  {
   "cell_type": "code",
   "execution_count": 15,
   "metadata": {
    "collapsed": false
   },
   "outputs": [],
   "source": [
    "import numpy as np\n",
    "\n",
    "os.chdir(\"/home/david/Documents/ghsom\")\n",
    "\n",
    "filename = \"HI-II-14.tsv\"\n",
    "\n",
    "lines = []\n",
    "\n",
    "for line in open(filename):\n",
    "    lines.append(line.rstrip().split(\"\\t\"))\n",
    "\n",
    "with open(\"HI-II-14.txt\", \"w\") as f:\n",
    "    first = True\n",
    "    for line in lines:\n",
    "        if first:\n",
    "            first=False\n",
    "            continue\n",
    "        f.write(\"{} {}\\n\".format(line[0], line[2]))"
   ]
  },
  {
   "cell_type": "code",
   "execution_count": 1,
   "metadata": {
    "collapsed": false
   },
   "outputs": [
    {
     "name": "stdout",
     "output_type": "stream",
     "text": [
      "806\n"
     ]
    }
   ],
   "source": [
    "import networkx as nx\n",
    "G = nx.read_edgelist(\"Uetz_screen.txt\")\n",
    "\n",
    "print len(G.nodes())"
   ]
  },
  {
   "cell_type": "code",
   "execution_count": 1,
   "metadata": {
    "collapsed": false
   },
   "outputs": [],
   "source": [
    "from save_embedded_graph27 import main as embed_main\n",
    "\n",
    "embed_main('HI-II-14.txt', 'embedded_hi_ii_14.gml')"
   ]
  },
  {
   "cell_type": "code",
   "execution_count": 2,
   "metadata": {
    "collapsed": true
   },
   "outputs": [],
   "source": [
    "from spearmint_ghsom import main_no_labels as ghsom_main\n",
    "import pickle\n",
    "import os\n",
    "\n",
    "def save_obj(obj, name):\n",
    "    with open(name + '.pkl', 'wb') as f:\n",
    "        pickle.dump(obj, f, pickle.HIGHEST_PROTOCOL)\n",
    "\n",
    "def load_obj(name):\n",
    "    with open(name + '.pkl', 'rb') as f:\n",
    "        return pickle.load(f)\n",
    "\n",
    "    \n",
    "os.chdir(\"/home/david/Documents/ghsom\")\n",
    "\n",
    "p = 0.2\n",
    "\n",
    "#ghsom parameters\n",
    "params = {'w': 0.0001,\n",
    "         'eta': 0.0001,\n",
    "         'sigma': 1,\n",
    "          'e_sg': p,\n",
    "         'e_en': 0.8}"
   ]
  },
  {
   "cell_type": "code",
   "execution_count": 3,
   "metadata": {
    "collapsed": false,
    "scrolled": true
   },
   "outputs": [
    {
     "ename": "KeyboardInterrupt",
     "evalue": "",
     "output_type": "error",
     "traceback": [
      "\u001b[0;31m---------------------------------------------------------------------------\u001b[0m",
      "\u001b[0;31mKeyboardInterrupt\u001b[0m                         Traceback (most recent call last)",
      "\u001b[0;32m<ipython-input-3-2f2f8308775d>\u001b[0m in \u001b[0;36m<module>\u001b[0;34m()\u001b[0m\n\u001b[1;32m      1\u001b[0m \u001b[0;31m# G, map = ghsom_main(params, 'embedded_hi_ii_14.gml')\u001b[0m\u001b[0;34m\u001b[0m\u001b[0;34m\u001b[0m\u001b[0m\n\u001b[1;32m      2\u001b[0m \u001b[0;31m# G, map = ghsom_main(params, 'embedded_yeast_union.gml')\u001b[0m\u001b[0;34m\u001b[0m\u001b[0;34m\u001b[0m\u001b[0m\n\u001b[0;32m----> 3\u001b[0;31m \u001b[0mG\u001b[0m\u001b[0;34m,\u001b[0m \u001b[0mmap\u001b[0m \u001b[0;34m=\u001b[0m \u001b[0mghsom_main\u001b[0m\u001b[0;34m(\u001b[0m\u001b[0mparams\u001b[0m\u001b[0;34m,\u001b[0m \u001b[0;34m'embedded_yeast_uetz.gml'\u001b[0m\u001b[0;34m)\u001b[0m\u001b[0;34m\u001b[0m\u001b[0m\n\u001b[0m\u001b[1;32m      4\u001b[0m \u001b[0;34m\u001b[0m\u001b[0m\n\u001b[1;32m      5\u001b[0m \u001b[0;32mprint\u001b[0m \u001b[0;34m'number of communities detected: {}'\u001b[0m\u001b[0;34m.\u001b[0m\u001b[0mformat\u001b[0m\u001b[0;34m(\u001b[0m\u001b[0mlen\u001b[0m\u001b[0;34m(\u001b[0m\u001b[0mmap\u001b[0m\u001b[0;34m)\u001b[0m\u001b[0;34m)\u001b[0m\u001b[0;34m\u001b[0m\u001b[0m\n",
      "\u001b[0;32m/home/david/Documents/ghsom/spearmint_ghsom.pyc\u001b[0m in \u001b[0;36mmain_no_labels\u001b[0;34m(params, gml_filename, lam)\u001b[0m\n\u001b[1;32m    613\u001b[0m     \u001b[0;31m#run ghsom algorithm\u001b[0m\u001b[0;34m\u001b[0m\u001b[0;34m\u001b[0m\u001b[0m\n\u001b[1;32m    614\u001b[0m     network, MQE = ghsom(G, lam, params['w'], params['eta'],\n\u001b[0;32m--> 615\u001b[0;31m                          params['sigma'], float(\"inf\"), params['e_sg'], params['e_en'], layer)\n\u001b[0m\u001b[1;32m    616\u001b[0m \u001b[0;34m\u001b[0m\u001b[0m\n\u001b[1;32m    617\u001b[0m     \u001b[0mn\u001b[0m\u001b[0;34m,\u001b[0m \u001b[0md\u001b[0m \u001b[0;34m=\u001b[0m \u001b[0mnetwork\u001b[0m\u001b[0;34m.\u001b[0m\u001b[0mnodes\u001b[0m\u001b[0;34m(\u001b[0m\u001b[0mdata\u001b[0m\u001b[0;34m=\u001b[0m\u001b[0mTrue\u001b[0m\u001b[0;34m)\u001b[0m\u001b[0;34m[\u001b[0m\u001b[0;36m0\u001b[0m\u001b[0;34m]\u001b[0m\u001b[0;34m\u001b[0m\u001b[0m\n",
      "\u001b[0;32m/home/david/Documents/ghsom/spearmint_ghsom.pyc\u001b[0m in \u001b[0;36mghsom\u001b[0;34m(G, lam, w, eta, sigma, e_0, e_sg, e_en, layer)\u001b[0m\n\u001b[1;32m    456\u001b[0m \u001b[0;34m\u001b[0m\u001b[0m\n\u001b[1;32m    457\u001b[0m             \u001b[0;31m#recursively run algorithm to create new network for subgraph of this neurons nodes\u001b[0m\u001b[0;34m\u001b[0m\u001b[0;34m\u001b[0m\u001b[0m\n\u001b[0;32m--> 458\u001b[0;31m             \u001b[0mn\u001b[0m\u001b[0;34m,\u001b[0m \u001b[0me\u001b[0m \u001b[0;34m=\u001b[0m \u001b[0mghsom\u001b[0m\u001b[0;34m(\u001b[0m\u001b[0mH\u001b[0m\u001b[0;34m,\u001b[0m \u001b[0mlam\u001b[0m\u001b[0;34m,\u001b[0m \u001b[0mw\u001b[0m\u001b[0;34m,\u001b[0m \u001b[0meta\u001b[0m\u001b[0;34m,\u001b[0m \u001b[0msigma\u001b[0m\u001b[0;34m,\u001b[0m \u001b[0me_0\u001b[0m\u001b[0;34m,\u001b[0m \u001b[0me_sg\u001b[0m\u001b[0;34m,\u001b[0m \u001b[0me_en\u001b[0m\u001b[0;34m,\u001b[0m \u001b[0mlayer\u001b[0m \u001b[0;34m+\u001b[0m \u001b[0;36m1\u001b[0m\u001b[0;34m)\u001b[0m\u001b[0;34m\u001b[0m\u001b[0m\n\u001b[0m\u001b[1;32m    459\u001b[0m \u001b[0;34m\u001b[0m\u001b[0m\n\u001b[1;32m    460\u001b[0m             \u001b[0;31m#repack\u001b[0m\u001b[0;34m\u001b[0m\u001b[0;34m\u001b[0m\u001b[0m\n",
      "\u001b[0;32m/home/david/Documents/ghsom/spearmint_ghsom.pyc\u001b[0m in \u001b[0;36mghsom\u001b[0;34m(G, lam, w, eta, sigma, e_0, e_sg, e_en, layer)\u001b[0m\n\u001b[1;32m    456\u001b[0m \u001b[0;34m\u001b[0m\u001b[0m\n\u001b[1;32m    457\u001b[0m             \u001b[0;31m#recursively run algorithm to create new network for subgraph of this neurons nodes\u001b[0m\u001b[0;34m\u001b[0m\u001b[0;34m\u001b[0m\u001b[0m\n\u001b[0;32m--> 458\u001b[0;31m             \u001b[0mn\u001b[0m\u001b[0;34m,\u001b[0m \u001b[0me\u001b[0m \u001b[0;34m=\u001b[0m \u001b[0mghsom\u001b[0m\u001b[0;34m(\u001b[0m\u001b[0mH\u001b[0m\u001b[0;34m,\u001b[0m \u001b[0mlam\u001b[0m\u001b[0;34m,\u001b[0m \u001b[0mw\u001b[0m\u001b[0;34m,\u001b[0m \u001b[0meta\u001b[0m\u001b[0;34m,\u001b[0m \u001b[0msigma\u001b[0m\u001b[0;34m,\u001b[0m \u001b[0me_0\u001b[0m\u001b[0;34m,\u001b[0m \u001b[0me_sg\u001b[0m\u001b[0;34m,\u001b[0m \u001b[0me_en\u001b[0m\u001b[0;34m,\u001b[0m \u001b[0mlayer\u001b[0m \u001b[0;34m+\u001b[0m \u001b[0;36m1\u001b[0m\u001b[0;34m)\u001b[0m\u001b[0;34m\u001b[0m\u001b[0m\n\u001b[0m\u001b[1;32m    459\u001b[0m \u001b[0;34m\u001b[0m\u001b[0m\n\u001b[1;32m    460\u001b[0m             \u001b[0;31m#repack\u001b[0m\u001b[0;34m\u001b[0m\u001b[0;34m\u001b[0m\u001b[0m\n",
      "\u001b[0;32m/home/david/Documents/ghsom/spearmint_ghsom.pyc\u001b[0m in \u001b[0;36mghsom\u001b[0;34m(G, lam, w, eta, sigma, e_0, e_sg, e_en, layer)\u001b[0m\n\u001b[1;32m    427\u001b[0m \u001b[0;34m\u001b[0m\u001b[0m\n\u001b[1;32m    428\u001b[0m         \u001b[0;31m#train for l epochs\u001b[0m\u001b[0;34m\u001b[0m\u001b[0;34m\u001b[0m\u001b[0m\n\u001b[0;32m--> 429\u001b[0;31m         \u001b[0mtrain_network\u001b[0m\u001b[0;34m(\u001b[0m\u001b[0mX\u001b[0m\u001b[0;34m,\u001b[0m \u001b[0mnetwork\u001b[0m\u001b[0;34m,\u001b[0m \u001b[0mlam\u001b[0m\u001b[0;34m,\u001b[0m \u001b[0meta\u001b[0m\u001b[0;34m,\u001b[0m \u001b[0msigma\u001b[0m\u001b[0;34m,\u001b[0m \u001b[0mN\u001b[0m\u001b[0;34m)\u001b[0m\u001b[0;34m\u001b[0m\u001b[0m\n\u001b[0m\u001b[1;32m    430\u001b[0m \u001b[0;34m\u001b[0m\u001b[0m\n\u001b[1;32m    431\u001b[0m         \u001b[0;31m#classify nodes\u001b[0m\u001b[0;34m\u001b[0m\u001b[0;34m\u001b[0m\u001b[0m\n",
      "\u001b[0;32m/home/david/Documents/ghsom/spearmint_ghsom.pyc\u001b[0m in \u001b[0;36mtrain_network\u001b[0;34m(X, network, num_epochs, eta_0, sigma_0, N)\u001b[0m\n\u001b[1;32m     79\u001b[0m \u001b[0;34m\u001b[0m\u001b[0m\n\u001b[1;32m     80\u001b[0m             \u001b[0;31m#determine winning neuron\u001b[0m\u001b[0;34m\u001b[0m\u001b[0;34m\u001b[0m\u001b[0m\n\u001b[0;32m---> 81\u001b[0;31m             \u001b[0mwin_neuron\u001b[0m \u001b[0;34m=\u001b[0m \u001b[0mwinning_neuron\u001b[0m\u001b[0;34m(\u001b[0m\u001b[0mx\u001b[0m\u001b[0;34m,\u001b[0m \u001b[0mnetwork\u001b[0m\u001b[0;34m)\u001b[0m\u001b[0;34m\u001b[0m\u001b[0m\n\u001b[0m\u001b[1;32m     82\u001b[0m \u001b[0;34m\u001b[0m\u001b[0m\n\u001b[1;32m     83\u001b[0m             \u001b[0;31m# update weights\u001b[0m\u001b[0;34m\u001b[0m\u001b[0;34m\u001b[0m\u001b[0m\n",
      "\u001b[0;32m/home/david/Documents/ghsom/spearmint_ghsom.pyc\u001b[0m in \u001b[0;36mwinning_neuron\u001b[0;34m(x, network)\u001b[0m\n\u001b[1;32m    101\u001b[0m \u001b[0;34m\u001b[0m\u001b[0m\n\u001b[1;32m    102\u001b[0m         \u001b[0;31m#distance between input vector and neuron weight\u001b[0m\u001b[0;34m\u001b[0m\u001b[0;34m\u001b[0m\u001b[0m\n\u001b[0;32m--> 103\u001b[0;31m         \u001b[0mdistance\u001b[0m \u001b[0;34m=\u001b[0m \u001b[0mnp\u001b[0m\u001b[0;34m.\u001b[0m\u001b[0mlinalg\u001b[0m\u001b[0;34m.\u001b[0m\u001b[0mnorm\u001b[0m\u001b[0;34m(\u001b[0m\u001b[0mx\u001b[0m \u001b[0;34m-\u001b[0m \u001b[0mv\u001b[0m\u001b[0;34m)\u001b[0m\u001b[0;34m\u001b[0m\u001b[0m\n\u001b[0m\u001b[1;32m    104\u001b[0m \u001b[0;34m\u001b[0m\u001b[0m\n\u001b[1;32m    105\u001b[0m         \u001b[0;31m# if we have a new closest neuron\u001b[0m\u001b[0;34m\u001b[0m\u001b[0;34m\u001b[0m\u001b[0m\n",
      "\u001b[0;31mKeyboardInterrupt\u001b[0m: "
     ]
    }
   ],
   "source": [
    "# G, map = ghsom_main(params, 'embedded_hi_ii_14.gml')\n",
    "# G, map = ghsom_main(params, 'embedded_yeast_union.gml')\n",
    "G, map = ghsom_main(params, 'embedded_yeast_uetz.gml')\n",
    "\n",
    "print 'number of communities detected: {}'.format(len(map))\n",
    "# save_obj((G, map), 'HI_II_communities_{}'.format(p))\n",
    "# save_obj((G, map), 'yeast_union_communities_{}'.format(p))\n",
    "save_obj((G, map), 'yeast_uetz_communities_{}'.format(p))\n",
    "\n",
    "print 'done'"
   ]
  },
  {
   "cell_type": "code",
   "execution_count": 24,
   "metadata": {
    "collapsed": false
   },
   "outputs": [
    {
     "name": "stdout",
     "output_type": "stream",
     "text": [
      "num communities: 21\n"
     ]
    }
   ],
   "source": [
    "import os\n",
    "\n",
    "os.chdir(\"/home/david/Documents/ghsom\")\n",
    "\n",
    "# G, map = load_obj('HI_II_communities_{}'.format(p))\n",
    "# G, map = load_obj('yeast_union_communities_{}'.format(p))\n",
    "G, map = load_obj('yeast_uetz_communities_{}'.format(p))\n",
    "print 'num communities: {}'.format(len(map))"
   ]
  },
  {
   "cell_type": "code",
   "execution_count": 26,
   "metadata": {
    "collapsed": false
   },
   "outputs": [],
   "source": [
    "min_nodes = 10\n",
    "\n",
    "##remove neurons with no assigned nodes\n",
    "for n, d in map.nodes(data=True):\n",
    "    if len(d['ls']) < min_nodes:\n",
    "        map.remove_node(n)\n",
    "        print 'removed node {}'.format(n)"
   ]
  },
  {
   "cell_type": "code",
   "execution_count": 28,
   "metadata": {
    "collapsed": false
   },
   "outputs": [
    {
     "name": "stdout",
     "output_type": "stream",
     "text": [
      "written shortest path matrix\n",
      "written community_0.txt\n",
      "written community_1.txt\n",
      "written community_2.txt\n",
      "written community_3.txt\n",
      "written community_4.txt\n",
      "written community_5.txt\n",
      "written community_6.txt\n",
      "written community_7.txt\n"
     ]
    }
   ],
   "source": [
    "import os\n",
    "import networkx as nx\n",
    "import numpy as np\n",
    "##save to communities directory\n",
    "os.chdir(\"/home/david/Documents/ghsom\")\n",
    "\n",
    "# dir_name = \"union_communities_08\"\n",
    "dir_name = \"uetz_communities_04\"\n",
    "\n",
    "if not os.path.isdir(dir_name):\n",
    "    os.mkdir(dir_name)\n",
    "    print 'made directory {}'.format(dir_name)\n",
    "    \n",
    "os.chdir(dir_name)\n",
    "\n",
    "shortest_path = nx.floyd_warshall_numpy(map).astype(np.int)\n",
    "np.savetxt(\"shortest_path.csv\", shortest_path, fmt='%i', delimiter=\",\")\n",
    "print 'written shortest path matrix'\n",
    "\n",
    "c = 0\n",
    "for n, d in map.nodes(data=True):\n",
    "    ls = d['ls']\n",
    "    with open('community_{}.txt'.format(c),'w') as f:\n",
    "        for l in ls:\n",
    "            f.write('{}\\n'.format(l))\n",
    "    print 'written community_{}.txt'.format(c)\n",
    "    c += 1"
   ]
  },
  {
   "cell_type": "code",
   "execution_count": null,
   "metadata": {
    "collapsed": true
   },
   "outputs": [],
   "source": []
  }
 ],
 "metadata": {
  "anaconda-cloud": {},
  "kernelspec": {
   "display_name": "Python 2",
   "language": "python",
   "name": "python2"
  },
  "language_info": {
   "codemirror_mode": {
    "name": "ipython",
    "version": 2
   },
   "file_extension": ".py",
   "mimetype": "text/x-python",
   "name": "python",
   "nbconvert_exporter": "python",
   "pygments_lexer": "ipython2",
   "version": "2.7.13"
  }
 },
 "nbformat": 4,
 "nbformat_minor": 1
}
