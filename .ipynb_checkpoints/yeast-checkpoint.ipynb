{
 "cells": [
  {
   "cell_type": "code",
   "execution_count": 15,
   "metadata": {
    "collapsed": false
   },
   "outputs": [],
   "source": [
    "import numpy as np\n",
    "\n",
    "os.chdir(\"/home/david/Documents/ghsom\")\n",
    "\n",
    "filename = \"HI-II-14.tsv\"\n",
    "\n",
    "lines = []\n",
    "\n",
    "for line in open(filename):\n",
    "    lines.append(line.rstrip().split(\"\\t\"))\n",
    "\n",
    "with open(\"HI-II-14.txt\", \"w\") as f:\n",
    "    first = True\n",
    "    for line in lines:\n",
    "        if first:\n",
    "            first=False\n",
    "            continue\n",
    "        f.write(\"{} {}\\n\".format(line[0], line[2]))"
   ]
  },
  {
   "cell_type": "code",
   "execution_count": 1,
   "metadata": {
    "collapsed": false
   },
   "outputs": [
    {
     "name": "stdout",
     "output_type": "stream",
     "text": [
      "806\n"
     ]
    }
   ],
   "source": [
    "import networkx as nx\n",
    "G = nx.read_edgelist(\"Uetz_screen.txt\")\n",
    "\n",
    "print len(G.nodes())"
   ]
  },
  {
   "cell_type": "code",
   "execution_count": 1,
   "metadata": {
    "collapsed": false
   },
   "outputs": [],
   "source": [
    "from save_embedded_graph27 import main as embed_main\n",
    "\n",
    "embed_main('HI-II-14.txt', 'embedded_hi_ii_14.gml')"
   ]
  },
  {
   "cell_type": "code",
   "execution_count": null,
   "metadata": {
    "collapsed": false
   },
   "outputs": [
    {
     "name": "stdout",
     "output_type": "stream",
     "text": [
      "Layer: 1, training epoch: 56/1000, size of map: 17, MQE: 2.04717910262, target: 0.815569144912           "
     ]
    }
   ],
   "source": [
    "from spearmint_ghsom import main_no_labels as ghsom_main\n",
    "import pickle\n",
    "import os\n",
    "\n",
    "def save_obj(obj, name):\n",
    "    with open(name + '.pkl', 'wb') as f:\n",
    "        pickle.dump(obj, f, pickle.HIGHEST_PROTOCOL)\n",
    "\n",
    "def load_obj(name):\n",
    "    with open(name + '.pkl', 'rb') as f:\n",
    "        return pickle.load(f)\n",
    "\n",
    "    \n",
    "os.chdir(\"/home/david/Documents/ghsom\")\n",
    "\n",
    "init = 1\n",
    "p = 0.1\n",
    "\n",
    "#ghsom parameters\n",
    "params = {'w': 0.0001,\n",
    "         'eta': 0.001,\n",
    "         'sigma': 1,\n",
    "          'e_sg': p,\n",
    "         'e_en': 10}\n",
    "\n",
    "# G, map = ghsom_main(params, 'embedded_hi_ii_14.gml')\n",
    "# G, map = ghsom_main(params, 'embedded_yeast_union.gml')\n",
    "G, map = ghsom_main(params, 'embedded_yeast_uetz.gml', init=init, lam=1000)\n",
    "\n",
    "print '\\nnumber of communities detected: {}'.format(len(map))\n",
    "# save_obj((G, map), 'HI_II_communities_{}'.format(p))\n",
    "# save_obj((G, map), 'yeast_union_communities_{}'.format(p))\n",
    "save_obj((G, map), 'yeast_uetz_communities_{}_{}'.format(p, init))\n",
    "\n",
    "print 'done'"
   ]
  },
  {
   "cell_type": "code",
   "execution_count": 7,
   "metadata": {
    "collapsed": false
   },
   "outputs": [
    {
     "name": "stdout",
     "output_type": "stream",
     "text": [
      "num communities: 13\n"
     ]
    }
   ],
   "source": [
    "import os\n",
    "\n",
    "os.chdir(\"/home/david/Documents/ghsom\")\n",
    "\n",
    "# G, map = load_obj('HI_II_communities_{}'.format(p))\n",
    "# G, map = load_obj('yeast_union_communities_{}'.format(p))\n",
    "G, map = load_obj('yeast_uetz_communities_{}_{}'.format(p, init))\n",
    "print 'num communities: {}'.format(len(map))"
   ]
  },
  {
   "cell_type": "code",
   "execution_count": 11,
   "metadata": {
    "collapsed": false
   },
   "outputs": [
    {
     "name": "stdout",
     "output_type": "stream",
     "text": [
      "14\n",
      "19\n",
      "53\n",
      "22\n",
      "11\n",
      "24\n",
      "24\n",
      "13\n",
      "15\n",
      "30\n",
      "11\n",
      "14\n",
      "13\n"
     ]
    }
   ],
   "source": [
    "for n, d in map.nodes(data=True):\n",
    "    print len(d['ls'])"
   ]
  },
  {
   "cell_type": "code",
   "execution_count": 12,
   "metadata": {
    "collapsed": false,
    "scrolled": true
   },
   "outputs": [],
   "source": [
    "min_nodes = 10\n",
    "\n",
    "##remove neurons with no assigned nodes\n",
    "for n, d in map.nodes(data=True):\n",
    "    if len(d['ls']) < min_nodes:\n",
    "        map.remove_node(n)\n",
    "        print 'removed node {}'.format(n)"
   ]
  },
  {
   "cell_type": "code",
   "execution_count": 13,
   "metadata": {
    "collapsed": false
   },
   "outputs": [
    {
     "data": {
      "text/plain": [
       "13"
      ]
     },
     "execution_count": 13,
     "metadata": {},
     "output_type": "execute_result"
    }
   ],
   "source": [
    "len(map)"
   ]
  },
  {
   "cell_type": "code",
   "execution_count": 14,
   "metadata": {
    "collapsed": false,
    "scrolled": true
   },
   "outputs": [
    {
     "name": "stdout",
     "output_type": "stream",
     "text": [
      "made directory uetz_communities_0.3_1\n",
      "written shortest path matrix\n",
      "written community_0.txt\n",
      "written community_1.txt\n",
      "written community_2.txt\n",
      "written community_3.txt\n",
      "written community_4.txt\n",
      "written community_5.txt\n",
      "written community_6.txt\n",
      "written community_7.txt\n",
      "written community_8.txt\n",
      "written community_9.txt\n",
      "written community_10.txt\n",
      "written community_11.txt\n",
      "written community_12.txt\n"
     ]
    }
   ],
   "source": [
    "import os\n",
    "import networkx as nx\n",
    "import numpy as np\n",
    "##save to communities directory\n",
    "os.chdir(\"/home/david/Documents/ghsom\")\n",
    "\n",
    "# dir_name = \"union_communities_08\"\n",
    "dir_name = \"uetz_communities_{}_{}\".format(p, init)\n",
    "\n",
    "if not os.path.isdir(dir_name):\n",
    "    os.mkdir(dir_name)\n",
    "    print 'made directory {}'.format(dir_name)\n",
    "    \n",
    "os.chdir(dir_name)\n",
    "\n",
    "shortest_path = nx.floyd_warshall_numpy(map).astype(np.int)\n",
    "np.savetxt(\"shortest_path.csv\", shortest_path, fmt='%i', delimiter=\",\")\n",
    "print 'written shortest path matrix'\n",
    "\n",
    "c = 0\n",
    "for n, d in map.nodes(data=True):\n",
    "    ls = d['ls']\n",
    "    with open('community_{}.txt'.format(c),'w') as f:\n",
    "        for l in ls:\n",
    "            f.write('{}\\n'.format(l))\n",
    "    print 'written community_{}.txt'.format(c)\n",
    "    c += 1"
   ]
  },
  {
   "cell_type": "code",
   "execution_count": null,
   "metadata": {
    "collapsed": true
   },
   "outputs": [],
   "source": []
  }
 ],
 "metadata": {
  "anaconda-cloud": {},
  "kernelspec": {
   "display_name": "Python 2",
   "language": "python",
   "name": "python2"
  },
  "language_info": {
   "codemirror_mode": {
    "name": "ipython",
    "version": 2
   },
   "file_extension": ".py",
   "mimetype": "text/x-python",
   "name": "python",
   "nbconvert_exporter": "python",
   "pygments_lexer": "ipython2",
   "version": "2.7.13"
  }
 },
 "nbformat": 4,
 "nbformat_minor": 1
}
