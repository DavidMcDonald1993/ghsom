{
 "cells": [
  {
   "cell_type": "code",
   "execution_count": 17,
   "metadata": {
    "collapsed": false
   },
   "outputs": [
    {
     "name": "stderr",
     "output_type": "stream",
     "text": [
      "Bioconductor version 3.4 (BiocInstaller 1.24.0), ?biocLite for help\n",
      "BioC_mirror: https://bioconductor.org\n",
      "Using Bioconductor 3.4 (BiocInstaller 1.24.0), R 3.3.2 (2016-10-31).\n",
      "Installing package(s) ‘org.Hs.eg.db’\n",
      "Updating HTML index of packages in '.Library'\n",
      "Making 'packages.html' ... done\n",
      "Old packages: 'backports', 'broom', 'colorspace', 'data.table', 'DBI',\n",
      "  'digest', 'forcats', 'ggplot2', 'jsonlite', 'Matrix', 'mgcv', 'nlme',\n",
      "  'openssl', 'pbdZMQ', 'pbkrtest', 'psych', 'Rcpp', 'RcppEigen', 'rprojroot',\n",
      "  'selectr', 'shiny', 'SparseM', 'stringr', 'tidyr', 'tidyverse', 'xml2', 'zoo'\n"
     ]
    }
   ],
   "source": [
    "source(\"https://bioconductor.org/biocLite.R\")\n",
    "biocLite(\"org.Hs.eg.db\")"
   ]
  },
  {
   "cell_type": "code",
   "execution_count": 1,
   "metadata": {
    "collapsed": false,
    "scrolled": true
   },
   "outputs": [
    {
     "name": "stderr",
     "output_type": "stream",
     "text": [
      "Loading required package: AnnotationDbi\n",
      "Loading required package: stats4\n",
      "Loading required package: BiocGenerics\n",
      "Loading required package: parallel\n",
      "\n",
      "Attaching package: ‘BiocGenerics’\n",
      "\n",
      "The following objects are masked from ‘package:parallel’:\n",
      "\n",
      "    clusterApply, clusterApplyLB, clusterCall, clusterEvalQ,\n",
      "    clusterExport, clusterMap, parApply, parCapply, parLapply,\n",
      "    parLapplyLB, parRapply, parSapply, parSapplyLB\n",
      "\n",
      "The following objects are masked from ‘package:stats’:\n",
      "\n",
      "    IQR, mad, xtabs\n",
      "\n",
      "The following objects are masked from ‘package:base’:\n",
      "\n",
      "    anyDuplicated, append, as.data.frame, cbind, colnames, do.call,\n",
      "    duplicated, eval, evalq, Filter, Find, get, grep, grepl, intersect,\n",
      "    is.unsorted, lapply, lengths, Map, mapply, match, mget, order,\n",
      "    paste, pmax, pmax.int, pmin, pmin.int, Position, rank, rbind,\n",
      "    Reduce, rownames, sapply, setdiff, sort, table, tapply, union,\n",
      "    unique, unsplit, which, which.max, which.min\n",
      "\n",
      "Loading required package: Biobase\n",
      "Welcome to Bioconductor\n",
      "\n",
      "    Vignettes contain introductory material; view with\n",
      "    'browseVignettes()'. To cite Bioconductor, see\n",
      "    'citation(\"Biobase\")', and for packages 'citation(\"pkgname\")'.\n",
      "\n",
      "Loading required package: IRanges\n",
      "Loading required package: S4Vectors\n",
      "\n",
      "Attaching package: ‘S4Vectors’\n",
      "\n",
      "The following objects are masked from ‘package:base’:\n",
      "\n",
      "    colMeans, colSums, expand.grid, rowMeans, rowSums\n",
      "\n",
      "\n",
      "Loading required package: graph\n",
      "Loading required package: SparseM\n",
      "\n",
      "Attaching package: ‘SparseM’\n",
      "\n",
      "The following object is masked from ‘package:base’:\n",
      "\n",
      "    backsolve\n",
      "\n",
      "\n",
      "groupGOTerms: \tGOBPTerm, GOMFTerm, GOCCTerm environments built.\n",
      "\n",
      "Attaching package: ‘topGO’\n",
      "\n",
      "The following object is masked from ‘package:IRanges’:\n",
      "\n",
      "    members\n",
      "\n",
      "\n",
      "\n",
      "GOSemSim v2.0.4  For help: https://guangchuangyu.github.io/GOSemSim\n",
      "\n",
      "If you use GOSemSim in published research, please cite:\n",
      "Guangchuang Yu, Fei Li, Yide Qin, Xiaochen Bo, Yibo Wu, Shengqi Wang. GOSemSim: an R package for measuring semantic similarity among GO terms and gene products Bioinformatics 2010, 26(7):976-978\n"
     ]
    }
   ],
   "source": [
    "#libraries\n",
    "library(GO.db)\n",
    "library(topGO)\n",
    "library(org.Hs.eg.db)\n",
    "library(org.Sc.sgd.db)\n",
    "library(GOSemSim)"
   ]
  },
  {
   "cell_type": "code",
   "execution_count": 8,
   "metadata": {
    "collapsed": true
   },
   "outputs": [],
   "source": [
    "# db <- org.Sc.sgd.db\n",
    "# mapping <- \"org.Sc.sgd.db\"\n",
    "# ID <- \"ENSEMBL\"\n",
    "db <- org.Hs.eg.db\n",
    "mapping <- \"org.Hs.eg.db\"\n",
    "ID <- \"ENTREZ\""
   ]
  },
  {
   "cell_type": "code",
   "execution_count": 2,
   "metadata": {
    "collapsed": false
   },
   "outputs": [],
   "source": [
    "#background gene list\n",
    "setwd('/home/david/Documents/ghsom')\n",
    "# allGenes <- scan(\"Y2H_union.txt\", character())\n",
    "allGenes <- scan(\"HI-II-14.txt\", character())\n",
    "allGenes <- unique(allGenes) "
   ]
  },
  {
   "cell_type": "code",
   "execution_count": 3,
   "metadata": {
    "collapsed": false
   },
   "outputs": [
    {
     "data": {
      "text/html": [
       "4303"
      ],
      "text/latex": [
       "4303"
      ],
      "text/markdown": [
       "4303"
      ],
      "text/plain": [
       "[1] 4303"
      ]
     },
     "metadata": {},
     "output_type": "display_data"
    }
   ],
   "source": [
    "length(allGenes)"
   ]
  },
  {
   "cell_type": "code",
   "execution_count": 4,
   "metadata": {
    "collapsed": false
   },
   "outputs": [
    {
     "data": {
      "text/html": [
       "27"
      ],
      "text/latex": [
       "27"
      ],
      "text/markdown": [
       "27"
      ],
      "text/plain": [
       "[1] 27"
      ]
     },
     "metadata": {},
     "output_type": "display_data"
    }
   ],
   "source": [
    "##load all community gene lists\n",
    "# setwd(\"/home/david/Documents/ghsom/union_communities_08\")\n",
    "setwd(\"/home/david/Documents/ghsom/hi_communities_08\")\n",
    "\n",
    "g <- list()\n",
    "numCom <- 0\n",
    "filename <- sprintf(\"community_%s.txt\", numCom)\n",
    "while (file.exists(filename)) {\n",
    "    numCom <- numCom + 1\n",
    "    g[[numCom]] <- scan(filename, character())\n",
    "    filename <- sprintf(\"community_%s.txt\", numCom)\n",
    "}\n",
    "numCom"
   ]
  },
  {
   "cell_type": "code",
   "execution_count": 5,
   "metadata": {
    "collapsed": false
   },
   "outputs": [],
   "source": [
    "#distances between neurons\n",
    "shortest.path <- read.csv(\"shortest_path.csv\", sep=\",\", header=FALSE)"
   ]
  },
  {
   "cell_type": "code",
   "execution_count": 6,
   "metadata": {
    "collapsed": false
   },
   "outputs": [],
   "source": [
    "find_representative_term <- function(terms){\n",
    "    \n",
    "    counts <- numeric(length(terms))\n",
    "    names(counts) <- terms\n",
    "\n",
    "    for (term in terms) {\n",
    "        ancestors <- as.list(GOBPANCESTOR[term])\n",
    "        for (ancestor in ancestors[[term]]) {\n",
    "            if (ancestor %in% names(counts)) {\n",
    "                counts[ancestor] <- counts[ancestor] + 1\n",
    "            }\n",
    "        }\n",
    "\n",
    "    }\n",
    "#     return (sort(names(counts), decreasing=TRUE)[1])\n",
    "    return (sort(counts, decreasing=TRUE))\n",
    "}"
   ]
  },
  {
   "cell_type": "code",
   "execution_count": null,
   "metadata": {
    "collapsed": false,
    "scrolled": true
   },
   "outputs": [
    {
     "name": "stderr",
     "output_type": "stream",
     "text": [
      "\n",
      "Building most specific GOs .....\n",
      "\t( 6179 GO terms found. )\n",
      "\n",
      "Build GO DAG topology ..........\n",
      "\t( 10201 GO terms and 24102 relations. )\n",
      "\n",
      "Annotating nodes ...............\n",
      "\t( 3674 genes annotated to the GO terms. )\n",
      "\n",
      "\t\t\t -- Classic Algorithm -- \n",
      "\n",
      "\t\t the algorithm is scoring 1109 nontrivial nodes\n",
      "\t\t parameters: \n",
      "\t\t\t test statistic: fisher\n",
      "\n",
      "\t\t\t -- Elim Algorithm -- \n",
      "\n",
      "\t\t the algorithm is scoring 1109 nontrivial nodes\n",
      "\t\t parameters: \n",
      "\t\t\t test statistic: fisher\n",
      "\t\t\t cutOff: 0.01\n",
      "\n",
      "\t Level 14:\t2 nodes to be scored\t(0 eliminated genes)\n",
      "\n",
      "\t Level 13:\t16 nodes to be scored\t(0 eliminated genes)\n",
      "\n",
      "\t Level 12:\t29 nodes to be scored\t(0 eliminated genes)\n",
      "\n",
      "\t Level 11:\t39 nodes to be scored\t(0 eliminated genes)\n",
      "\n",
      "\t Level 10:\t67 nodes to be scored\t(0 eliminated genes)\n",
      "\n",
      "\t Level 9:\t100 nodes to be scored\t(0 eliminated genes)\n",
      "\n",
      "\t Level 8:\t134 nodes to be scored\t(30 eliminated genes)\n",
      "\n",
      "\t Level 7:\t175 nodes to be scored\t(354 eliminated genes)\n",
      "\n",
      "\t Level 6:\t194 nodes to be scored\t(354 eliminated genes)\n",
      "\n",
      "\t Level 5:\t180 nodes to be scored\t(1449 eliminated genes)\n",
      "\n",
      "\t Level 4:\t110 nodes to be scored\t(1449 eliminated genes)\n",
      "\n",
      "\t Level 3:\t45 nodes to be scored\t(1449 eliminated genes)\n",
      "\n",
      "\t Level 2:\t17 nodes to be scored\t(1449 eliminated genes)\n",
      "\n",
      "\t Level 1:\t1 nodes to be scored\t(1449 eliminated genes)\n"
     ]
    },
    {
     "name": "stdout",
     "output_type": "stream",
     "text": [
      "[1] \"community 1 complete\"\n"
     ]
    },
    {
     "name": "stderr",
     "output_type": "stream",
     "text": [
      "\n",
      "Building most specific GOs .....\n",
      "\t( 6179 GO terms found. )\n",
      "\n",
      "Build GO DAG topology ..........\n",
      "\t( 10201 GO terms and 24102 relations. )\n",
      "\n",
      "Annotating nodes ...............\n",
      "\t( 3674 genes annotated to the GO terms. )\n",
      "\n",
      "\t\t\t -- Classic Algorithm -- \n",
      "\n",
      "\t\t the algorithm is scoring 1580 nontrivial nodes\n",
      "\t\t parameters: \n",
      "\t\t\t test statistic: fisher\n",
      "\n",
      "\t\t\t -- Elim Algorithm -- \n",
      "\n",
      "\t\t the algorithm is scoring 1580 nontrivial nodes\n",
      "\t\t parameters: \n",
      "\t\t\t test statistic: fisher\n",
      "\t\t\t cutOff: 0.01\n",
      "\n",
      "\t Level 15:\t4 nodes to be scored\t(0 eliminated genes)\n",
      "\n",
      "\t Level 14:\t7 nodes to be scored\t(0 eliminated genes)\n",
      "\n",
      "\t Level 13:\t18 nodes to be scored\t(0 eliminated genes)\n",
      "\n",
      "\t Level 12:\t32 nodes to be scored\t(0 eliminated genes)\n",
      "\n",
      "\t Level 11:\t68 nodes to be scored\t(320 eliminated genes)\n",
      "\n",
      "\t Level 10:\t117 nodes to be scored\t(977 eliminated genes)\n",
      "\n",
      "\t Level 9:\t158 nodes to be scored\t(980 eliminated genes)\n",
      "\n",
      "\t Level 8:\t188 nodes to be scored\t(980 eliminated genes)\n",
      "\n",
      "\t Level 7:\t252 nodes to be scored\t(980 eliminated genes)\n",
      "\n",
      "\t Level 6:\t280 nodes to be scored\t(997 eliminated genes)\n",
      "\n",
      "\t Level 5:\t237 nodes to be scored\t(997 eliminated genes)\n",
      "\n",
      "\t Level 4:\t147 nodes to be scored\t(1034 eliminated genes)\n",
      "\n",
      "\t Level 3:\t53 nodes to be scored\t(1038 eliminated genes)\n",
      "\n",
      "\t Level 2:\t18 nodes to be scored\t(1038 eliminated genes)\n",
      "\n",
      "\t Level 1:\t1 nodes to be scored\t(1082 eliminated genes)\n"
     ]
    },
    {
     "name": "stdout",
     "output_type": "stream",
     "text": [
      "[1] \"community 2 complete\"\n"
     ]
    },
    {
     "name": "stderr",
     "output_type": "stream",
     "text": [
      "\n",
      "Building most specific GOs .....\n",
      "\t( 6179 GO terms found. )\n",
      "\n",
      "Build GO DAG topology ..........\n",
      "\t( 10201 GO terms and 24102 relations. )\n",
      "\n",
      "Annotating nodes ...............\n"
     ]
    }
   ],
   "source": [
    "cutOff <- 0.05\n",
    "\n",
    "geneLists <- vector(\"list\", numCom) \n",
    "GOdataObjects <- vector(\"list\", numCom) \n",
    "resultFishers <- vector(\"list\", numCom) \n",
    "resultFisher.elims <- vector(\"list\", numCom) \n",
    "results <- vector(\"list\", numCom) \n",
    "topResults <- vector(\"list\", numCom) \n",
    "gos <- vector(\"list\", numCom) \n",
    "representativeTerms <- character(length = numCom)\n",
    "\n",
    "#perform enrichment analyses\n",
    "for (c in 1:numCom){\n",
    "    \n",
    "    #factor of interesting genes\n",
    "    geneList <- factor(as.integer(allGenes %in% g[[c]]))\n",
    "    names(geneList) <- allGenes\n",
    "    geneLists[[c]] <- geneList\n",
    "    \n",
    "    #construct topGO object\n",
    "    #yeast\n",
    "#     GOdata <- new(\"topGOdata\", description=sprintf(\"topGO object for community %s\", c),\n",
    "#                   ontology = \"BP\", allGenes = geneList,\n",
    "#                   annotationFun = annFUN.org, mapping = \"org.Sc.sgd.db\", \n",
    "#                   ID = \"ENSEMBL\", nodeSize = 10)\n",
    "    ##human\n",
    "    GOdata <- new(\"topGOdata\", description=sprintf(\"topGO object for community %s\", c),\n",
    "                  ontology = \"BP\", allGenes = geneList,\n",
    "                  annotationFun = annFUN.org, mapping = mapping, \n",
    "                  ID = ID, nodeSize = 10)\n",
    "    GOdataObjects[[c]] <- GOdata\n",
    "    \n",
    "    #fishers exact test classic\n",
    "    resultFisher <- runTest(GOdata, algorithm = \"classic\", statistic = \"fisher\")\n",
    "    resultFishers[[c]] <- resultFisher\n",
    "    \n",
    "    #fishers exact test elimination\n",
    "    resultFisher.elim <- runTest(GOdata, algorithm = \"elim\", statistic = \"fisher\")\n",
    "    resultFisher.elims[[c]] <- resultFisher.elim\n",
    "    \n",
    "    #tabulate results\n",
    "    allRes <- GenTable(GOdata, classicFisher = resultFisher,\n",
    "                  elimFisher = resultFisher.elim,\n",
    "                  orderBy = \"classicFisher\", topNodes = 500)\n",
    "    results[[c]] <- allRes\n",
    "    \n",
    "    #go terms <0.01 on both tests\n",
    "    topResults[[c]] <- subset(allRes, classicFisher < cutOff & elimFisher < cutOff)\n",
    "    gos[[c]] <- subset(allRes, classicFisher < cutOff & elimFisher < cutOff)$GO.ID\n",
    "    \n",
    "    #term that is ancestor of most terms\n",
    "    representativeTerms[c] <- names(find_representative_term(gos[[c]])[1])\n",
    "#     representativeTerms[c] <- gos[[c]][1]\n",
    "    \n",
    "    print(sprintf(\"community %s complete\", c))\n",
    "}"
   ]
  },
  {
   "cell_type": "code",
   "execution_count": 31,
   "metadata": {
    "collapsed": false
   },
   "outputs": [
    {
     "data": {
      "text/html": [
       "<ol class=list-inline>\n",
       "\t<li>'GO:0006412'</li>\n",
       "\t<li>'GO:0008643'</li>\n",
       "\t<li>'GO:0006896'</li>\n",
       "\t<li>'NA'</li>\n",
       "\t<li>'GO:0000398'</li>\n",
       "\t<li>'GO:0006897'</li>\n",
       "\t<li>'GO:0071428'</li>\n",
       "\t<li>'GO:0001403'</li>\n",
       "\t<li>'GO:0006338'</li>\n",
       "\t<li>'GO:0032940'</li>\n",
       "\t<li>'GO:0006576'</li>\n",
       "\t<li>'GO:0042364'</li>\n",
       "\t<li>'GO:0044774'</li>\n",
       "\t<li>'GO:0009205'</li>\n",
       "\t<li>'GO:0030435'</li>\n",
       "\t<li>'GO:0044281'</li>\n",
       "\t<li>'GO:0006399'</li>\n",
       "\t<li>'GO:0006270'</li>\n",
       "\t<li>'GO:0043162'</li>\n",
       "\t<li>'GO:0008033'</li>\n",
       "\t<li>'GO:0030258'</li>\n",
       "</ol>\n"
      ],
      "text/latex": [
       "\\begin{enumerate*}\n",
       "\\item 'GO:0006412'\n",
       "\\item 'GO:0008643'\n",
       "\\item 'GO:0006896'\n",
       "\\item 'NA'\n",
       "\\item 'GO:0000398'\n",
       "\\item 'GO:0006897'\n",
       "\\item 'GO:0071428'\n",
       "\\item 'GO:0001403'\n",
       "\\item 'GO:0006338'\n",
       "\\item 'GO:0032940'\n",
       "\\item 'GO:0006576'\n",
       "\\item 'GO:0042364'\n",
       "\\item 'GO:0044774'\n",
       "\\item 'GO:0009205'\n",
       "\\item 'GO:0030435'\n",
       "\\item 'GO:0044281'\n",
       "\\item 'GO:0006399'\n",
       "\\item 'GO:0006270'\n",
       "\\item 'GO:0043162'\n",
       "\\item 'GO:0008033'\n",
       "\\item 'GO:0030258'\n",
       "\\end{enumerate*}\n"
      ],
      "text/markdown": [
       "1. 'GO:0006412'\n",
       "2. 'GO:0008643'\n",
       "3. 'GO:0006896'\n",
       "4. 'NA'\n",
       "5. 'GO:0000398'\n",
       "6. 'GO:0006897'\n",
       "7. 'GO:0071428'\n",
       "8. 'GO:0001403'\n",
       "9. 'GO:0006338'\n",
       "10. 'GO:0032940'\n",
       "11. 'GO:0006576'\n",
       "12. 'GO:0042364'\n",
       "13. 'GO:0044774'\n",
       "14. 'GO:0009205'\n",
       "15. 'GO:0030435'\n",
       "16. 'GO:0044281'\n",
       "17. 'GO:0006399'\n",
       "18. 'GO:0006270'\n",
       "19. 'GO:0043162'\n",
       "20. 'GO:0008033'\n",
       "21. 'GO:0030258'\n",
       "\n",
       "\n"
      ],
      "text/plain": [
       " [1] \"GO:0006412\" \"GO:0008643\" \"GO:0006896\" NA           \"GO:0000398\"\n",
       " [6] \"GO:0006897\" \"GO:0071428\" \"GO:0001403\" \"GO:0006338\" \"GO:0032940\"\n",
       "[11] \"GO:0006576\" \"GO:0042364\" \"GO:0044774\" \"GO:0009205\" \"GO:0030435\"\n",
       "[16] \"GO:0044281\" \"GO:0006399\" \"GO:0006270\" \"GO:0043162\" \"GO:0008033\"\n",
       "[21] \"GO:0030258\""
      ]
     },
     "metadata": {},
     "output_type": "display_data"
    }
   ],
   "source": [
    "representativeTerms"
   ]
  },
  {
   "cell_type": "code",
   "execution_count": 8,
   "metadata": {
    "collapsed": false
   },
   "outputs": [
    {
     "name": "stdout",
     "output_type": "stream",
     "text": [
      "[1] \"saved terms 1\"\n",
      "[1] \"saved terms 2\"\n",
      "[1] \"saved terms 3\"\n",
      "[1] \"saved terms 4\"\n",
      "[1] \"saved terms 5\"\n",
      "[1] \"saved terms 6\"\n",
      "[1] \"saved terms 7\"\n",
      "[1] \"saved terms 8\"\n",
      "[1] \"saved terms 9\"\n"
     ]
    }
   ],
   "source": [
    "dir.create(\"/home/david/Documents/ghsom/uetz_go_terms\")\n",
    "setwd(\"/home/david/Documents/ghsom/uetz_go_terms\")\n",
    "for (c in 1:numCom){\n",
    "    write.csv(topResults[[c]], sprintf(\"go_terms_%s\", c))\n",
    "    print(sprintf(\"saved terms %s\", c))\n",
    "} "
   ]
  },
  {
   "cell_type": "code",
   "execution_count": 25,
   "metadata": {
    "collapsed": false
   },
   "outputs": [
    {
     "name": "stdout",
     "output_type": "stream",
     "text": [
      "[1] \"preparing gene to GO mapping data...\"\n",
      "[1] \"preparing IC data...\"\n"
     ]
    }
   ],
   "source": [
    "##SEMATIC SIMILARITY\n",
    "#construct gosemsim object\n",
    "hsGO <- godata(mapping, ont=\"BP\")"
   ]
  },
  {
   "cell_type": "code",
   "execution_count": 33,
   "metadata": {
    "collapsed": false
   },
   "outputs": [],
   "source": [
    "semSimTable <- mgoSim(representativeTerms, representativeTerms, semData=hsGO, measure=\"Wang\", combine=NULL)"
   ]
  },
  {
   "cell_type": "code",
   "execution_count": 35,
   "metadata": {
    "collapsed": false
   },
   "outputs": [
    {
     "data": {
      "text/html": [
       "<table>\n",
       "<thead><tr><th></th><th scope=col>GO:0006412</th><th scope=col>GO:0008643</th><th scope=col>GO:0006896</th><th scope=col>GO:0000398</th><th scope=col>GO:0006897</th><th scope=col>GO:0071428</th><th scope=col>GO:0001403</th><th scope=col>GO:0006338</th><th scope=col>GO:0032940</th><th scope=col>GO:0006576</th><th scope=col>GO:0042364</th><th scope=col>GO:0044774</th><th scope=col>GO:0009205</th><th scope=col>GO:0030435</th><th scope=col>GO:0044281</th><th scope=col>GO:0006399</th><th scope=col>GO:0006270</th><th scope=col>GO:0043162</th><th scope=col>GO:0008033</th><th scope=col>GO:0030258</th></tr></thead>\n",
       "<tbody>\n",
       "\t<tr><th scope=row>GO:0006412</th><td>1.000</td><td>0.036</td><td>0.024</td><td>0.328</td><td>0.035</td><td>0.024</td><td>0.031</td><td>0.067</td><td>0.081</td><td>0.337</td><td>0.238</td><td>0.051</td><td>0.221</td><td>0.072</td><td>0.102</td><td>0.351</td><td>0.517</td><td>0.325</td><td>0.344</td><td>0.256</td></tr>\n",
       "\t<tr><th scope=row>GO:0008643</th><td>0.036</td><td>1.000</td><td>0.445</td><td>0.039</td><td>0.416</td><td>0.451</td><td>0.150</td><td>0.062</td><td>0.558</td><td>0.061</td><td>0.121</td><td>0.091</td><td>0.090</td><td>0.140</td><td>0.220</td><td>0.049</td><td>0.044</td><td>0.040</td><td>0.042</td><td>0.141</td></tr>\n",
       "\t<tr><th scope=row>GO:0006896</th><td>0.024</td><td>0.445</td><td>1.000</td><td>0.024</td><td>0.360</td><td>0.582</td><td>0.086</td><td>0.036</td><td>0.493</td><td>0.038</td><td>0.080</td><td>0.058</td><td>0.056</td><td>0.093</td><td>0.134</td><td>0.030</td><td>0.029</td><td>0.024</td><td>0.026</td><td>0.091</td></tr>\n",
       "\t<tr><th scope=row>GO:0000398</th><td>0.328</td><td>0.039</td><td>0.024</td><td>1.000</td><td>0.039</td><td>0.024</td><td>0.033</td><td>0.070</td><td>0.087</td><td>0.305</td><td>0.148</td><td>0.050</td><td>0.318</td><td>0.076</td><td>0.118</td><td>0.600</td><td>0.517</td><td>0.224</td><td>0.604</td><td>0.268</td></tr>\n",
       "\t<tr><th scope=row>GO:0006897</th><td>0.035</td><td>0.416</td><td>0.360</td><td>0.039</td><td>1.000</td><td>0.256</td><td>0.074</td><td>0.068</td><td>0.334</td><td>0.066</td><td>0.056</td><td>0.041</td><td>0.040</td><td>0.072</td><td>0.115</td><td>0.051</td><td>0.044</td><td>0.041</td><td>0.042</td><td>0.068</td></tr>\n",
       "\t<tr><th scope=row>GO:0071428</th><td>0.024</td><td>0.451</td><td>0.582</td><td>0.024</td><td>0.256</td><td>1.000</td><td>0.089</td><td>0.037</td><td>0.498</td><td>0.038</td><td>0.082</td><td>0.059</td><td>0.057</td><td>0.095</td><td>0.140</td><td>0.031</td><td>0.029</td><td>0.024</td><td>0.026</td><td>0.094</td></tr>\n",
       "\t<tr><th scope=row>GO:0001403</th><td>0.031</td><td>0.150</td><td>0.086</td><td>0.033</td><td>0.074</td><td>0.089</td><td>1.000</td><td>0.057</td><td>0.136</td><td>0.056</td><td>0.110</td><td>0.078</td><td>0.076</td><td>0.131</td><td>0.221</td><td>0.043</td><td>0.038</td><td>0.034</td><td>0.035</td><td>0.132</td></tr>\n",
       "\t<tr><th scope=row>GO:0006338</th><td>0.067</td><td>0.062</td><td>0.036</td><td>0.070</td><td>0.068</td><td>0.037</td><td>0.057</td><td>1.000</td><td>0.129</td><td>0.119</td><td>0.105</td><td>0.075</td><td>0.073</td><td>0.116</td><td>0.090</td><td>0.092</td><td>0.082</td><td>0.072</td><td>0.076</td><td>0.124</td></tr>\n",
       "\t<tr><th scope=row>GO:0032940</th><td>0.081</td><td>0.558</td><td>0.493</td><td>0.087</td><td>0.334</td><td>0.498</td><td>0.136</td><td>0.129</td><td>1.000</td><td>0.129</td><td>0.260</td><td>0.204</td><td>0.201</td><td>0.275</td><td>0.191</td><td>0.107</td><td>0.096</td><td>0.090</td><td>0.093</td><td>0.297</td></tr>\n",
       "\t<tr><th scope=row>GO:0006576</th><td>0.337</td><td>0.061</td><td>0.038</td><td>0.305</td><td>0.066</td><td>0.038</td><td>0.056</td><td>0.119</td><td>0.129</td><td>1.000</td><td>0.224</td><td>0.078</td><td>0.317</td><td>0.117</td><td>0.193</td><td>0.390</td><td>0.349</td><td>0.213</td><td>0.328</td><td>0.348</td></tr>\n",
       "\t<tr><th scope=row>GO:0042364</th><td>0.238</td><td>0.121</td><td>0.080</td><td>0.148</td><td>0.056</td><td>0.082</td><td>0.110</td><td>0.105</td><td>0.260</td><td>0.224</td><td>1.000</td><td>0.168</td><td>0.319</td><td>0.230</td><td>0.448</td><td>0.183</td><td>0.253</td><td>0.150</td><td>0.157</td><td>0.429</td></tr>\n",
       "\t<tr><th scope=row>GO:0044774</th><td>0.051</td><td>0.091</td><td>0.058</td><td>0.050</td><td>0.041</td><td>0.059</td><td>0.078</td><td>0.075</td><td>0.204</td><td>0.078</td><td>0.168</td><td>1.000</td><td>0.115</td><td>0.174</td><td>0.122</td><td>0.063</td><td>0.060</td><td>0.049</td><td>0.053</td><td>0.189</td></tr>\n",
       "\t<tr><th scope=row>GO:0009205</th><td>0.221</td><td>0.090</td><td>0.056</td><td>0.318</td><td>0.040</td><td>0.057</td><td>0.076</td><td>0.073</td><td>0.201</td><td>0.317</td><td>0.319</td><td>0.115</td><td>1.000</td><td>0.170</td><td>0.371</td><td>0.408</td><td>0.391</td><td>0.160</td><td>0.338</td><td>0.427</td></tr>\n",
       "\t<tr><th scope=row>GO:0030435</th><td>0.072</td><td>0.140</td><td>0.093</td><td>0.076</td><td>0.072</td><td>0.095</td><td>0.131</td><td>0.116</td><td>0.275</td><td>0.117</td><td>0.230</td><td>0.174</td><td>0.170</td><td>1.000</td><td>0.187</td><td>0.095</td><td>0.087</td><td>0.079</td><td>0.082</td><td>0.264</td></tr>\n",
       "\t<tr><th scope=row>GO:0044281</th><td>0.102</td><td>0.220</td><td>0.134</td><td>0.118</td><td>0.115</td><td>0.140</td><td>0.221</td><td>0.090</td><td>0.191</td><td>0.193</td><td>0.448</td><td>0.122</td><td>0.371</td><td>0.187</td><td>1.000</td><td>0.152</td><td>0.128</td><td>0.126</td><td>0.128</td><td>0.420</td></tr>\n",
       "\t<tr><th scope=row>GO:0006399</th><td>0.351</td><td>0.049</td><td>0.030</td><td>0.600</td><td>0.051</td><td>0.031</td><td>0.043</td><td>0.092</td><td>0.107</td><td>0.390</td><td>0.183</td><td>0.063</td><td>0.408</td><td>0.095</td><td>0.152</td><td>1.000</td><td>0.641</td><td>0.295</td><td>0.833</td><td>0.338</td></tr>\n",
       "\t<tr><th scope=row>GO:0006270</th><td>0.517</td><td>0.044</td><td>0.029</td><td>0.517</td><td>0.044</td><td>0.029</td><td>0.038</td><td>0.082</td><td>0.096</td><td>0.349</td><td>0.253</td><td>0.060</td><td>0.391</td><td>0.087</td><td>0.128</td><td>0.641</td><td>1.000</td><td>0.282</td><td>0.547</td><td>0.304</td></tr>\n",
       "\t<tr><th scope=row>GO:0043162</th><td>0.325</td><td>0.040</td><td>0.024</td><td>0.224</td><td>0.041</td><td>0.024</td><td>0.034</td><td>0.072</td><td>0.090</td><td>0.213</td><td>0.150</td><td>0.049</td><td>0.160</td><td>0.079</td><td>0.126</td><td>0.295</td><td>0.282</td><td>1.000</td><td>0.239</td><td>0.281</td></tr>\n",
       "\t<tr><th scope=row>GO:0008033</th><td>0.344</td><td>0.042</td><td>0.026</td><td>0.604</td><td>0.042</td><td>0.026</td><td>0.035</td><td>0.076</td><td>0.093</td><td>0.328</td><td>0.157</td><td>0.053</td><td>0.338</td><td>0.082</td><td>0.128</td><td>0.833</td><td>0.547</td><td>0.239</td><td>1.000</td><td>0.287</td></tr>\n",
       "\t<tr><th scope=row>GO:0030258</th><td>0.256</td><td>0.141</td><td>0.091</td><td>0.268</td><td>0.068</td><td>0.094</td><td>0.132</td><td>0.124</td><td>0.297</td><td>0.348</td><td>0.429</td><td>0.189</td><td>0.427</td><td>0.264</td><td>0.420</td><td>0.338</td><td>0.304</td><td>0.281</td><td>0.287</td><td>1.000</td></tr>\n",
       "</tbody>\n",
       "</table>\n"
      ],
      "text/latex": [
       "\\begin{tabular}{r|llllllllllllllllllll}\n",
       "  & GO:0006412 & GO:0008643 & GO:0006896 & GO:0000398 & GO:0006897 & GO:0071428 & GO:0001403 & GO:0006338 & GO:0032940 & GO:0006576 & GO:0042364 & GO:0044774 & GO:0009205 & GO:0030435 & GO:0044281 & GO:0006399 & GO:0006270 & GO:0043162 & GO:0008033 & GO:0030258\\\\\n",
       "\\hline\n",
       "\tGO:0006412 & 1.000 & 0.036 & 0.024 & 0.328 & 0.035 & 0.024 & 0.031 & 0.067 & 0.081 & 0.337 & 0.238 & 0.051 & 0.221 & 0.072 & 0.102 & 0.351 & 0.517 & 0.325 & 0.344 & 0.256\\\\\n",
       "\tGO:0008643 & 0.036 & 1.000 & 0.445 & 0.039 & 0.416 & 0.451 & 0.150 & 0.062 & 0.558 & 0.061 & 0.121 & 0.091 & 0.090 & 0.140 & 0.220 & 0.049 & 0.044 & 0.040 & 0.042 & 0.141\\\\\n",
       "\tGO:0006896 & 0.024 & 0.445 & 1.000 & 0.024 & 0.360 & 0.582 & 0.086 & 0.036 & 0.493 & 0.038 & 0.080 & 0.058 & 0.056 & 0.093 & 0.134 & 0.030 & 0.029 & 0.024 & 0.026 & 0.091\\\\\n",
       "\tGO:0000398 & 0.328 & 0.039 & 0.024 & 1.000 & 0.039 & 0.024 & 0.033 & 0.070 & 0.087 & 0.305 & 0.148 & 0.050 & 0.318 & 0.076 & 0.118 & 0.600 & 0.517 & 0.224 & 0.604 & 0.268\\\\\n",
       "\tGO:0006897 & 0.035 & 0.416 & 0.360 & 0.039 & 1.000 & 0.256 & 0.074 & 0.068 & 0.334 & 0.066 & 0.056 & 0.041 & 0.040 & 0.072 & 0.115 & 0.051 & 0.044 & 0.041 & 0.042 & 0.068\\\\\n",
       "\tGO:0071428 & 0.024 & 0.451 & 0.582 & 0.024 & 0.256 & 1.000 & 0.089 & 0.037 & 0.498 & 0.038 & 0.082 & 0.059 & 0.057 & 0.095 & 0.140 & 0.031 & 0.029 & 0.024 & 0.026 & 0.094\\\\\n",
       "\tGO:0001403 & 0.031 & 0.150 & 0.086 & 0.033 & 0.074 & 0.089 & 1.000 & 0.057 & 0.136 & 0.056 & 0.110 & 0.078 & 0.076 & 0.131 & 0.221 & 0.043 & 0.038 & 0.034 & 0.035 & 0.132\\\\\n",
       "\tGO:0006338 & 0.067 & 0.062 & 0.036 & 0.070 & 0.068 & 0.037 & 0.057 & 1.000 & 0.129 & 0.119 & 0.105 & 0.075 & 0.073 & 0.116 & 0.090 & 0.092 & 0.082 & 0.072 & 0.076 & 0.124\\\\\n",
       "\tGO:0032940 & 0.081 & 0.558 & 0.493 & 0.087 & 0.334 & 0.498 & 0.136 & 0.129 & 1.000 & 0.129 & 0.260 & 0.204 & 0.201 & 0.275 & 0.191 & 0.107 & 0.096 & 0.090 & 0.093 & 0.297\\\\\n",
       "\tGO:0006576 & 0.337 & 0.061 & 0.038 & 0.305 & 0.066 & 0.038 & 0.056 & 0.119 & 0.129 & 1.000 & 0.224 & 0.078 & 0.317 & 0.117 & 0.193 & 0.390 & 0.349 & 0.213 & 0.328 & 0.348\\\\\n",
       "\tGO:0042364 & 0.238 & 0.121 & 0.080 & 0.148 & 0.056 & 0.082 & 0.110 & 0.105 & 0.260 & 0.224 & 1.000 & 0.168 & 0.319 & 0.230 & 0.448 & 0.183 & 0.253 & 0.150 & 0.157 & 0.429\\\\\n",
       "\tGO:0044774 & 0.051 & 0.091 & 0.058 & 0.050 & 0.041 & 0.059 & 0.078 & 0.075 & 0.204 & 0.078 & 0.168 & 1.000 & 0.115 & 0.174 & 0.122 & 0.063 & 0.060 & 0.049 & 0.053 & 0.189\\\\\n",
       "\tGO:0009205 & 0.221 & 0.090 & 0.056 & 0.318 & 0.040 & 0.057 & 0.076 & 0.073 & 0.201 & 0.317 & 0.319 & 0.115 & 1.000 & 0.170 & 0.371 & 0.408 & 0.391 & 0.160 & 0.338 & 0.427\\\\\n",
       "\tGO:0030435 & 0.072 & 0.140 & 0.093 & 0.076 & 0.072 & 0.095 & 0.131 & 0.116 & 0.275 & 0.117 & 0.230 & 0.174 & 0.170 & 1.000 & 0.187 & 0.095 & 0.087 & 0.079 & 0.082 & 0.264\\\\\n",
       "\tGO:0044281 & 0.102 & 0.220 & 0.134 & 0.118 & 0.115 & 0.140 & 0.221 & 0.090 & 0.191 & 0.193 & 0.448 & 0.122 & 0.371 & 0.187 & 1.000 & 0.152 & 0.128 & 0.126 & 0.128 & 0.420\\\\\n",
       "\tGO:0006399 & 0.351 & 0.049 & 0.030 & 0.600 & 0.051 & 0.031 & 0.043 & 0.092 & 0.107 & 0.390 & 0.183 & 0.063 & 0.408 & 0.095 & 0.152 & 1.000 & 0.641 & 0.295 & 0.833 & 0.338\\\\\n",
       "\tGO:0006270 & 0.517 & 0.044 & 0.029 & 0.517 & 0.044 & 0.029 & 0.038 & 0.082 & 0.096 & 0.349 & 0.253 & 0.060 & 0.391 & 0.087 & 0.128 & 0.641 & 1.000 & 0.282 & 0.547 & 0.304\\\\\n",
       "\tGO:0043162 & 0.325 & 0.040 & 0.024 & 0.224 & 0.041 & 0.024 & 0.034 & 0.072 & 0.090 & 0.213 & 0.150 & 0.049 & 0.160 & 0.079 & 0.126 & 0.295 & 0.282 & 1.000 & 0.239 & 0.281\\\\\n",
       "\tGO:0008033 & 0.344 & 0.042 & 0.026 & 0.604 & 0.042 & 0.026 & 0.035 & 0.076 & 0.093 & 0.328 & 0.157 & 0.053 & 0.338 & 0.082 & 0.128 & 0.833 & 0.547 & 0.239 & 1.000 & 0.287\\\\\n",
       "\tGO:0030258 & 0.256 & 0.141 & 0.091 & 0.268 & 0.068 & 0.094 & 0.132 & 0.124 & 0.297 & 0.348 & 0.429 & 0.189 & 0.427 & 0.264 & 0.420 & 0.338 & 0.304 & 0.281 & 0.287 & 1.000\\\\\n",
       "\\end{tabular}\n"
      ],
      "text/markdown": [
       "\n",
       "| <!--/--> | GO:0006412 | GO:0008643 | GO:0006896 | GO:0000398 | GO:0006897 | GO:0071428 | GO:0001403 | GO:0006338 | GO:0032940 | GO:0006576 | GO:0042364 | GO:0044774 | GO:0009205 | GO:0030435 | GO:0044281 | GO:0006399 | GO:0006270 | GO:0043162 | GO:0008033 | GO:0030258 | \n",
       "|---|---|---|---|---|---|---|---|---|---|---|---|---|---|---|---|---|---|---|---|\n",
       "| GO:0006412 | 1.000 | 0.036 | 0.024 | 0.328 | 0.035 | 0.024 | 0.031 | 0.067 | 0.081 | 0.337 | 0.238 | 0.051 | 0.221 | 0.072 | 0.102 | 0.351 | 0.517 | 0.325 | 0.344 | 0.256 | \n",
       "| GO:0008643 | 0.036 | 1.000 | 0.445 | 0.039 | 0.416 | 0.451 | 0.150 | 0.062 | 0.558 | 0.061 | 0.121 | 0.091 | 0.090 | 0.140 | 0.220 | 0.049 | 0.044 | 0.040 | 0.042 | 0.141 | \n",
       "| GO:0006896 | 0.024 | 0.445 | 1.000 | 0.024 | 0.360 | 0.582 | 0.086 | 0.036 | 0.493 | 0.038 | 0.080 | 0.058 | 0.056 | 0.093 | 0.134 | 0.030 | 0.029 | 0.024 | 0.026 | 0.091 | \n",
       "| GO:0000398 | 0.328 | 0.039 | 0.024 | 1.000 | 0.039 | 0.024 | 0.033 | 0.070 | 0.087 | 0.305 | 0.148 | 0.050 | 0.318 | 0.076 | 0.118 | 0.600 | 0.517 | 0.224 | 0.604 | 0.268 | \n",
       "| GO:0006897 | 0.035 | 0.416 | 0.360 | 0.039 | 1.000 | 0.256 | 0.074 | 0.068 | 0.334 | 0.066 | 0.056 | 0.041 | 0.040 | 0.072 | 0.115 | 0.051 | 0.044 | 0.041 | 0.042 | 0.068 | \n",
       "| GO:0071428 | 0.024 | 0.451 | 0.582 | 0.024 | 0.256 | 1.000 | 0.089 | 0.037 | 0.498 | 0.038 | 0.082 | 0.059 | 0.057 | 0.095 | 0.140 | 0.031 | 0.029 | 0.024 | 0.026 | 0.094 | \n",
       "| GO:0001403 | 0.031 | 0.150 | 0.086 | 0.033 | 0.074 | 0.089 | 1.000 | 0.057 | 0.136 | 0.056 | 0.110 | 0.078 | 0.076 | 0.131 | 0.221 | 0.043 | 0.038 | 0.034 | 0.035 | 0.132 | \n",
       "| GO:0006338 | 0.067 | 0.062 | 0.036 | 0.070 | 0.068 | 0.037 | 0.057 | 1.000 | 0.129 | 0.119 | 0.105 | 0.075 | 0.073 | 0.116 | 0.090 | 0.092 | 0.082 | 0.072 | 0.076 | 0.124 | \n",
       "| GO:0032940 | 0.081 | 0.558 | 0.493 | 0.087 | 0.334 | 0.498 | 0.136 | 0.129 | 1.000 | 0.129 | 0.260 | 0.204 | 0.201 | 0.275 | 0.191 | 0.107 | 0.096 | 0.090 | 0.093 | 0.297 | \n",
       "| GO:0006576 | 0.337 | 0.061 | 0.038 | 0.305 | 0.066 | 0.038 | 0.056 | 0.119 | 0.129 | 1.000 | 0.224 | 0.078 | 0.317 | 0.117 | 0.193 | 0.390 | 0.349 | 0.213 | 0.328 | 0.348 | \n",
       "| GO:0042364 | 0.238 | 0.121 | 0.080 | 0.148 | 0.056 | 0.082 | 0.110 | 0.105 | 0.260 | 0.224 | 1.000 | 0.168 | 0.319 | 0.230 | 0.448 | 0.183 | 0.253 | 0.150 | 0.157 | 0.429 | \n",
       "| GO:0044774 | 0.051 | 0.091 | 0.058 | 0.050 | 0.041 | 0.059 | 0.078 | 0.075 | 0.204 | 0.078 | 0.168 | 1.000 | 0.115 | 0.174 | 0.122 | 0.063 | 0.060 | 0.049 | 0.053 | 0.189 | \n",
       "| GO:0009205 | 0.221 | 0.090 | 0.056 | 0.318 | 0.040 | 0.057 | 0.076 | 0.073 | 0.201 | 0.317 | 0.319 | 0.115 | 1.000 | 0.170 | 0.371 | 0.408 | 0.391 | 0.160 | 0.338 | 0.427 | \n",
       "| GO:0030435 | 0.072 | 0.140 | 0.093 | 0.076 | 0.072 | 0.095 | 0.131 | 0.116 | 0.275 | 0.117 | 0.230 | 0.174 | 0.170 | 1.000 | 0.187 | 0.095 | 0.087 | 0.079 | 0.082 | 0.264 | \n",
       "| GO:0044281 | 0.102 | 0.220 | 0.134 | 0.118 | 0.115 | 0.140 | 0.221 | 0.090 | 0.191 | 0.193 | 0.448 | 0.122 | 0.371 | 0.187 | 1.000 | 0.152 | 0.128 | 0.126 | 0.128 | 0.420 | \n",
       "| GO:0006399 | 0.351 | 0.049 | 0.030 | 0.600 | 0.051 | 0.031 | 0.043 | 0.092 | 0.107 | 0.390 | 0.183 | 0.063 | 0.408 | 0.095 | 0.152 | 1.000 | 0.641 | 0.295 | 0.833 | 0.338 | \n",
       "| GO:0006270 | 0.517 | 0.044 | 0.029 | 0.517 | 0.044 | 0.029 | 0.038 | 0.082 | 0.096 | 0.349 | 0.253 | 0.060 | 0.391 | 0.087 | 0.128 | 0.641 | 1.000 | 0.282 | 0.547 | 0.304 | \n",
       "| GO:0043162 | 0.325 | 0.040 | 0.024 | 0.224 | 0.041 | 0.024 | 0.034 | 0.072 | 0.090 | 0.213 | 0.150 | 0.049 | 0.160 | 0.079 | 0.126 | 0.295 | 0.282 | 1.000 | 0.239 | 0.281 | \n",
       "| GO:0008033 | 0.344 | 0.042 | 0.026 | 0.604 | 0.042 | 0.026 | 0.035 | 0.076 | 0.093 | 0.328 | 0.157 | 0.053 | 0.338 | 0.082 | 0.128 | 0.833 | 0.547 | 0.239 | 1.000 | 0.287 | \n",
       "| GO:0030258 | 0.256 | 0.141 | 0.091 | 0.268 | 0.068 | 0.094 | 0.132 | 0.124 | 0.297 | 0.348 | 0.429 | 0.189 | 0.427 | 0.264 | 0.420 | 0.338 | 0.304 | 0.281 | 0.287 | 1.000 | \n",
       "\n",
       "\n"
      ],
      "text/plain": [
       "           GO:0006412 GO:0008643 GO:0006896 GO:0000398 GO:0006897 GO:0071428\n",
       "GO:0006412 1.000      0.036      0.024      0.328      0.035      0.024     \n",
       "GO:0008643 0.036      1.000      0.445      0.039      0.416      0.451     \n",
       "GO:0006896 0.024      0.445      1.000      0.024      0.360      0.582     \n",
       "GO:0000398 0.328      0.039      0.024      1.000      0.039      0.024     \n",
       "GO:0006897 0.035      0.416      0.360      0.039      1.000      0.256     \n",
       "GO:0071428 0.024      0.451      0.582      0.024      0.256      1.000     \n",
       "GO:0001403 0.031      0.150      0.086      0.033      0.074      0.089     \n",
       "GO:0006338 0.067      0.062      0.036      0.070      0.068      0.037     \n",
       "GO:0032940 0.081      0.558      0.493      0.087      0.334      0.498     \n",
       "GO:0006576 0.337      0.061      0.038      0.305      0.066      0.038     \n",
       "GO:0042364 0.238      0.121      0.080      0.148      0.056      0.082     \n",
       "GO:0044774 0.051      0.091      0.058      0.050      0.041      0.059     \n",
       "GO:0009205 0.221      0.090      0.056      0.318      0.040      0.057     \n",
       "GO:0030435 0.072      0.140      0.093      0.076      0.072      0.095     \n",
       "GO:0044281 0.102      0.220      0.134      0.118      0.115      0.140     \n",
       "GO:0006399 0.351      0.049      0.030      0.600      0.051      0.031     \n",
       "GO:0006270 0.517      0.044      0.029      0.517      0.044      0.029     \n",
       "GO:0043162 0.325      0.040      0.024      0.224      0.041      0.024     \n",
       "GO:0008033 0.344      0.042      0.026      0.604      0.042      0.026     \n",
       "GO:0030258 0.256      0.141      0.091      0.268      0.068      0.094     \n",
       "           GO:0001403 GO:0006338 GO:0032940 GO:0006576 GO:0042364 GO:0044774\n",
       "GO:0006412 0.031      0.067      0.081      0.337      0.238      0.051     \n",
       "GO:0008643 0.150      0.062      0.558      0.061      0.121      0.091     \n",
       "GO:0006896 0.086      0.036      0.493      0.038      0.080      0.058     \n",
       "GO:0000398 0.033      0.070      0.087      0.305      0.148      0.050     \n",
       "GO:0006897 0.074      0.068      0.334      0.066      0.056      0.041     \n",
       "GO:0071428 0.089      0.037      0.498      0.038      0.082      0.059     \n",
       "GO:0001403 1.000      0.057      0.136      0.056      0.110      0.078     \n",
       "GO:0006338 0.057      1.000      0.129      0.119      0.105      0.075     \n",
       "GO:0032940 0.136      0.129      1.000      0.129      0.260      0.204     \n",
       "GO:0006576 0.056      0.119      0.129      1.000      0.224      0.078     \n",
       "GO:0042364 0.110      0.105      0.260      0.224      1.000      0.168     \n",
       "GO:0044774 0.078      0.075      0.204      0.078      0.168      1.000     \n",
       "GO:0009205 0.076      0.073      0.201      0.317      0.319      0.115     \n",
       "GO:0030435 0.131      0.116      0.275      0.117      0.230      0.174     \n",
       "GO:0044281 0.221      0.090      0.191      0.193      0.448      0.122     \n",
       "GO:0006399 0.043      0.092      0.107      0.390      0.183      0.063     \n",
       "GO:0006270 0.038      0.082      0.096      0.349      0.253      0.060     \n",
       "GO:0043162 0.034      0.072      0.090      0.213      0.150      0.049     \n",
       "GO:0008033 0.035      0.076      0.093      0.328      0.157      0.053     \n",
       "GO:0030258 0.132      0.124      0.297      0.348      0.429      0.189     \n",
       "           GO:0009205 GO:0030435 GO:0044281 GO:0006399 GO:0006270 GO:0043162\n",
       "GO:0006412 0.221      0.072      0.102      0.351      0.517      0.325     \n",
       "GO:0008643 0.090      0.140      0.220      0.049      0.044      0.040     \n",
       "GO:0006896 0.056      0.093      0.134      0.030      0.029      0.024     \n",
       "GO:0000398 0.318      0.076      0.118      0.600      0.517      0.224     \n",
       "GO:0006897 0.040      0.072      0.115      0.051      0.044      0.041     \n",
       "GO:0071428 0.057      0.095      0.140      0.031      0.029      0.024     \n",
       "GO:0001403 0.076      0.131      0.221      0.043      0.038      0.034     \n",
       "GO:0006338 0.073      0.116      0.090      0.092      0.082      0.072     \n",
       "GO:0032940 0.201      0.275      0.191      0.107      0.096      0.090     \n",
       "GO:0006576 0.317      0.117      0.193      0.390      0.349      0.213     \n",
       "GO:0042364 0.319      0.230      0.448      0.183      0.253      0.150     \n",
       "GO:0044774 0.115      0.174      0.122      0.063      0.060      0.049     \n",
       "GO:0009205 1.000      0.170      0.371      0.408      0.391      0.160     \n",
       "GO:0030435 0.170      1.000      0.187      0.095      0.087      0.079     \n",
       "GO:0044281 0.371      0.187      1.000      0.152      0.128      0.126     \n",
       "GO:0006399 0.408      0.095      0.152      1.000      0.641      0.295     \n",
       "GO:0006270 0.391      0.087      0.128      0.641      1.000      0.282     \n",
       "GO:0043162 0.160      0.079      0.126      0.295      0.282      1.000     \n",
       "GO:0008033 0.338      0.082      0.128      0.833      0.547      0.239     \n",
       "GO:0030258 0.427      0.264      0.420      0.338      0.304      0.281     \n",
       "           GO:0008033 GO:0030258\n",
       "GO:0006412 0.344      0.256     \n",
       "GO:0008643 0.042      0.141     \n",
       "GO:0006896 0.026      0.091     \n",
       "GO:0000398 0.604      0.268     \n",
       "GO:0006897 0.042      0.068     \n",
       "GO:0071428 0.026      0.094     \n",
       "GO:0001403 0.035      0.132     \n",
       "GO:0006338 0.076      0.124     \n",
       "GO:0032940 0.093      0.297     \n",
       "GO:0006576 0.328      0.348     \n",
       "GO:0042364 0.157      0.429     \n",
       "GO:0044774 0.053      0.189     \n",
       "GO:0009205 0.338      0.427     \n",
       "GO:0030435 0.082      0.264     \n",
       "GO:0044281 0.128      0.420     \n",
       "GO:0006399 0.833      0.338     \n",
       "GO:0006270 0.547      0.304     \n",
       "GO:0043162 0.239      0.281     \n",
       "GO:0008033 1.000      0.287     \n",
       "GO:0030258 0.287      1.000     "
      ]
     },
     "metadata": {},
     "output_type": "display_data"
    }
   ],
   "source": [
    "semSimTable"
   ]
  },
  {
   "cell_type": "code",
   "execution_count": 34,
   "metadata": {
    "collapsed": false
   },
   "outputs": [
    {
     "ename": "ERROR",
     "evalue": "Error in semSimTable[term1, term2]: subscript out of bounds\n",
     "output_type": "error",
     "traceback": [
      "Error in semSimTable[term1, term2]: subscript out of bounds\nTraceback:\n"
     ]
    }
   ],
   "source": [
    "t <- matrix(numeric(), nrow=numCom, ncol=numCom)\n",
    "for (t1 in 1:numCom) {\n",
    "    term1 <- representativeTerms[t1]\n",
    "    for (t2 in 1:numCom) {\n",
    "        term2 <- representativeTerms[t2]\n",
    "        t[[t1, t2]] <- semSimTable[term1, term2]\n",
    "    }\n",
    "}\n",
    "rownames(t) <- representativeTerms\n",
    "colnames(t) <- representativeTerms\n",
    "head(t)"
   ]
  },
  {
   "cell_type": "code",
   "execution_count": 13,
   "metadata": {
    "collapsed": false
   },
   "outputs": [
    {
     "data": {
      "text/html": [
       "<table>\n",
       "<thead><tr><th scope=col>V1</th><th scope=col>V2</th><th scope=col>V3</th><th scope=col>V4</th><th scope=col>V5</th><th scope=col>V6</th><th scope=col>V7</th><th scope=col>V8</th><th scope=col>V9</th></tr></thead>\n",
       "<tbody>\n",
       "\t<tr><td>0</td><td>3</td><td>1</td><td>2</td><td>2</td><td>1</td><td>2</td><td>1</td><td>1</td></tr>\n",
       "\t<tr><td>3</td><td>0</td><td>2</td><td>1</td><td>1</td><td>2</td><td>1</td><td>2</td><td>2</td></tr>\n",
       "\t<tr><td>1</td><td>2</td><td>0</td><td>1</td><td>3</td><td>1</td><td>2</td><td>2</td><td>2</td></tr>\n",
       "\t<tr><td>2</td><td>1</td><td>1</td><td>0</td><td>2</td><td>1</td><td>1</td><td>2</td><td>3</td></tr>\n",
       "\t<tr><td>2</td><td>1</td><td>3</td><td>2</td><td>0</td><td>2</td><td>1</td><td>1</td><td>1</td></tr>\n",
       "\t<tr><td>1</td><td>2</td><td>1</td><td>1</td><td>2</td><td>0</td><td>1</td><td>1</td><td>2</td></tr>\n",
       "</tbody>\n",
       "</table>\n"
      ],
      "text/latex": [
       "\\begin{tabular}{r|lllllllll}\n",
       " V1 & V2 & V3 & V4 & V5 & V6 & V7 & V8 & V9\\\\\n",
       "\\hline\n",
       "\t 0 & 3 & 1 & 2 & 2 & 1 & 2 & 1 & 1\\\\\n",
       "\t 3 & 0 & 2 & 1 & 1 & 2 & 1 & 2 & 2\\\\\n",
       "\t 1 & 2 & 0 & 1 & 3 & 1 & 2 & 2 & 2\\\\\n",
       "\t 2 & 1 & 1 & 0 & 2 & 1 & 1 & 2 & 3\\\\\n",
       "\t 2 & 1 & 3 & 2 & 0 & 2 & 1 & 1 & 1\\\\\n",
       "\t 1 & 2 & 1 & 1 & 2 & 0 & 1 & 1 & 2\\\\\n",
       "\\end{tabular}\n"
      ],
      "text/markdown": [
       "\n",
       "V1 | V2 | V3 | V4 | V5 | V6 | V7 | V8 | V9 | \n",
       "|---|---|---|---|---|---|\n",
       "| 0 | 3 | 1 | 2 | 2 | 1 | 2 | 1 | 1 | \n",
       "| 3 | 0 | 2 | 1 | 1 | 2 | 1 | 2 | 2 | \n",
       "| 1 | 2 | 0 | 1 | 3 | 1 | 2 | 2 | 2 | \n",
       "| 2 | 1 | 1 | 0 | 2 | 1 | 1 | 2 | 3 | \n",
       "| 2 | 1 | 3 | 2 | 0 | 2 | 1 | 1 | 1 | \n",
       "| 1 | 2 | 1 | 1 | 2 | 0 | 1 | 1 | 2 | \n",
       "\n",
       "\n"
      ],
      "text/plain": [
       "  V1 V2 V3 V4 V5 V6 V7 V8 V9\n",
       "1 0  3  1  2  2  1  2  1  1 \n",
       "2 3  0  2  1  1  2  1  2  2 \n",
       "3 1  2  0  1  3  1  2  2  2 \n",
       "4 2  1  1  0  2  1  1  2  3 \n",
       "5 2  1  3  2  0  2  1  1  1 \n",
       "6 1  2  1  1  2  0  1  1  2 "
      ]
     },
     "metadata": {},
     "output_type": "display_data"
    }
   ],
   "source": [
    "head(shortest.path)"
   ]
  },
  {
   "cell_type": "code",
   "execution_count": 28,
   "metadata": {
    "collapsed": false,
    "scrolled": true
   },
   "outputs": [
    {
     "name": "stdout",
     "output_type": "stream",
     "text": [
      "[1] \"Completed: 1\"\n",
      "[1] \"Completed: 2\"\n",
      "[1] \"Completed: 3\"\n",
      "[1] \"Completed: 4\"\n",
      "[1] \"Completed: 5\"\n",
      "[1] \"Completed: 6\"\n",
      "[1] \"Completed: 7\"\n",
      "[1] \"Completed: 8\"\n",
      "[1] \"Completed: 9\"\n",
      "[1] \"Completed: 10\"\n",
      "[1] \"Completed: 11\"\n",
      "[1] \"Completed: 12\"\n",
      "[1] \"Completed: 13\"\n",
      "[1] \"Completed: 14\"\n",
      "[1] \"Completed: 15\"\n",
      "[1] \"Completed: 16\"\n",
      "[1] \"Completed: 17\"\n",
      "[1] \"Completed: 18\"\n",
      "[1] \"Completed: 19\"\n",
      "[1] \"Completed: 20\"\n",
      "[1] \"Completed: 21\"\n",
      "[1] \"Completed: 22\"\n",
      "[1] \"Completed: 23\"\n",
      "[1] \"Completed: 24\"\n",
      "[1] \"Completed: 25\"\n",
      "[1] \"Completed: 26\"\n",
      "[1] \"Completed: 27\"\n",
      "[1] \"Completed: 28\"\n",
      "[1] \"Completed: 29\"\n",
      "[1] \"Completed: 30\"\n",
      "[1] \"Completed: 31\"\n",
      "[1] \"Completed: 32\"\n",
      "[1] \"Completed: 33\"\n",
      "[1] \"Completed: 34\"\n",
      "[1] \"Completed: 35\"\n",
      "[1] \"Completed: 36\"\n",
      "[1] \"Completed: 37\"\n",
      "[1] \"Completed: 38\"\n",
      "[1] \"Completed: 39\"\n",
      "[1] \"Completed: 40\"\n",
      "[1] \"Completed: 41\"\n",
      "[1] \"Completed: 42\"\n",
      "[1] \"Completed: 43\"\n",
      "[1] \"Completed: 44\"\n",
      "[1] \"Completed: 45\"\n",
      "[1] \"Completed: 46\"\n",
      "[1] \"Completed: 47\"\n",
      "[1] \"Completed: 48\"\n",
      "[1] \"Completed: 49\"\n",
      "[1] \"Completed: 50\"\n",
      "[1] \"Completed: 51\"\n",
      "[1] \"Completed: 52\"\n",
      "[1] \"Completed: 53\"\n",
      "[1] \"Completed: 54\"\n",
      "[1] \"Completed: 55\"\n",
      "[1] \"Completed: 56\"\n",
      "[1] \"Completed: 57\"\n",
      "[1] \"Completed: 58\"\n",
      "[1] \"Completed: 59\"\n",
      "[1] \"Completed: 60\"\n",
      "[1] \"Completed: 61\"\n",
      "[1] \"Completed: 62\"\n",
      "[1] \"Completed: 63\"\n",
      "[1] \"Completed: 64\"\n",
      "[1] \"Completed: 65\"\n",
      "[1] \"Completed: 66\"\n",
      "[1] \"Completed: 67\"\n",
      "[1] \"Completed: 68\"\n",
      "[1] \"Completed: 69\"\n",
      "[1] \"Completed: 70\"\n",
      "[1] \"Completed: 71\"\n",
      "[1] \"Completed: 72\"\n",
      "[1] \"Completed: 73\"\n",
      "[1] \"Completed: 74\"\n",
      "[1] \"Completed: 75\"\n",
      "[1] \"Completed: 76\"\n",
      "[1] \"Completed: 77\"\n",
      "[1] \"Completed: 78\"\n",
      "[1] \"Completed: 79\"\n",
      "[1] \"Completed: 80\"\n",
      "[1] \"Completed: 81\"\n",
      "[1] \"Completed: 82\"\n",
      "[1] \"Completed: 83\"\n",
      "[1] \"Completed: 84\"\n",
      "[1] \"Completed: 85\"\n",
      "[1] \"Completed: 86\"\n",
      "[1] \"Completed: 87\"\n",
      "[1] \"Completed: 88\"\n",
      "[1] \"Completed: 89\"\n",
      "[1] \"Completed: 90\"\n",
      "[1] \"Completed: 91\"\n",
      "[1] \"Completed: 92\"\n",
      "[1] \"Completed: 93\"\n",
      "[1] \"Completed: 94\"\n",
      "[1] \"Completed: 95\"\n",
      "[1] \"Completed: 96\"\n",
      "[1] \"Completed: 97\"\n",
      "[1] \"Completed: 98\"\n",
      "[1] \"Completed: 99\"\n",
      "[1] \"Completed: 100\"\n",
      "[1] \"Completed: 101\"\n",
      "[1] \"Completed: 102\"\n",
      "[1] \"Completed: 103\"\n",
      "[1] \"Completed: 104\"\n",
      "[1] \"Completed: 105\"\n",
      "[1] \"Completed: 106\"\n",
      "[1] \"Completed: 107\"\n",
      "[1] \"Completed: 108\"\n",
      "[1] \"Completed: 109\"\n",
      "[1] \"Completed: 110\"\n",
      "[1] \"Completed: 111\"\n",
      "[1] \"Completed: 112\"\n",
      "[1] \"Completed: 113\"\n",
      "[1] \"Completed: 114\"\n",
      "[1] \"Completed: 115\"\n",
      "[1] \"Completed: 116\"\n",
      "[1] \"Completed: 117\"\n",
      "[1] \"Completed: 118\"\n",
      "[1] \"Completed: 119\"\n",
      "[1] \"Completed: 120\"\n",
      "[1] \"Completed: 121\"\n",
      "[1] \"Completed: 122\"\n",
      "[1] \"Completed: 123\"\n",
      "[1] \"Completed: 124\"\n",
      "[1] \"Completed: 125\"\n",
      "[1] \"Completed: 126\"\n",
      "[1] \"Completed: 127\"\n",
      "[1] \"Completed: 128\"\n",
      "[1] \"Completed: 129\"\n",
      "[1] \"Completed: 130\"\n",
      "[1] \"Completed: 131\"\n",
      "[1] \"Completed: 132\"\n",
      "[1] \"Completed: 133\"\n",
      "[1] \"Completed: 134\"\n",
      "[1] \"Completed: 135\"\n",
      "[1] \"Completed: 136\"\n",
      "[1] \"Completed: 137\"\n",
      "[1] \"Completed: 138\"\n",
      "[1] \"Completed: 139\"\n",
      "[1] \"Completed: 140\"\n",
      "[1] \"Completed: 141\"\n",
      "[1] \"Completed: 142\"\n",
      "[1] \"Completed: 143\"\n",
      "[1] \"Completed: 144\"\n",
      "[1] \"Completed: 145\"\n",
      "[1] \"Completed: 146\"\n",
      "[1] \"Completed: 147\"\n",
      "[1] \"Completed: 148\"\n",
      "[1] \"Completed: 149\"\n",
      "[1] \"Completed: 150\"\n",
      "[1] \"Completed: 151\"\n",
      "[1] \"Completed: 152\"\n",
      "[1] \"Completed: 153\"\n",
      "[1] \"Completed: 154\"\n",
      "[1] \"Completed: 155\"\n",
      "[1] \"Completed: 156\"\n",
      "[1] \"Completed: 157\"\n",
      "[1] \"Completed: 158\"\n",
      "[1] \"Completed: 159\"\n",
      "[1] \"Completed: 160\"\n",
      "[1] \"Completed: 161\"\n",
      "[1] \"Completed: 162\"\n",
      "[1] \"Completed: 163\"\n",
      "[1] \"Completed: 164\"\n",
      "[1] \"Completed: 165\"\n",
      "[1] \"Completed: 166\"\n",
      "[1] \"Completed: 167\"\n",
      "[1] \"Completed: 168\"\n",
      "[1] \"Completed: 169\"\n",
      "[1] \"Completed: 170\"\n",
      "[1] \"Completed: 171\"\n",
      "[1] \"Completed: 172\"\n",
      "[1] \"Completed: 173\"\n",
      "[1] \"Completed: 174\"\n",
      "[1] \"Completed: 175\"\n",
      "[1] \"Completed: 176\"\n",
      "[1] \"Completed: 177\"\n",
      "[1] \"Completed: 178\"\n",
      "[1] \"Completed: 179\"\n",
      "[1] \"Completed: 180\"\n",
      "[1] \"Completed: 181\"\n",
      "[1] \"Completed: 182\"\n",
      "[1] \"Completed: 183\"\n",
      "[1] \"Completed: 184\"\n",
      "[1] \"Completed: 185\"\n",
      "[1] \"Completed: 186\"\n",
      "[1] \"Completed: 187\"\n",
      "[1] \"Completed: 188\"\n",
      "[1] \"Completed: 189\"\n",
      "[1] \"Completed: 190\"\n",
      "[1] \"Completed: 191\"\n",
      "[1] \"Completed: 192\"\n",
      "[1] \"Completed: 193\"\n",
      "[1] \"Completed: 194\"\n",
      "[1] \"Completed: 195\"\n",
      "[1] \"Completed: 196\"\n",
      "[1] \"Completed: 197\"\n",
      "[1] \"Completed: 198\"\n",
      "[1] \"Completed: 199\"\n",
      "[1] \"Completed: 200\"\n",
      "[1] \"Completed: 201\"\n",
      "[1] \"Completed: 202\"\n",
      "[1] \"Completed: 203\"\n",
      "[1] \"Completed: 204\"\n",
      "[1] \"Completed: 205\"\n",
      "[1] \"Completed: 206\"\n",
      "[1] \"Completed: 207\"\n",
      "[1] \"Completed: 208\"\n",
      "[1] \"Completed: 209\"\n",
      "[1] \"Completed: 210\"\n"
     ]
    }
   ],
   "source": [
    "distances <- numeric(length = (numCom * (numCom - 1)) / 2)\n",
    "semSims <- numeric(length = (numCom * (numCom - 1)) / 2)\n",
    "\n",
    "completed <- 0\n",
    "\n",
    "for (c1 in 1:numCom) {\n",
    "    \n",
    "    t1 <- representativeTerms[c1]\n",
    "#     gs1 <- g[[c1]]\n",
    "#     if (length(gos[[c1]]) == 0) next\n",
    "    \n",
    "    for (c2 in c1:numCom) {\n",
    "        \n",
    "        if (c1 == c2) next\n",
    "            \n",
    "            t2 <- representativeTerms[c2]\n",
    "            \n",
    "#         if (length(gos[[c2]]) == 0) next\n",
    "            \n",
    "#         gs2 <- g[[c2]]    \n",
    "        \n",
    "        completed <- completed + 1  \n",
    "        \n",
    "        #compute semantic similarity of two protein clusters\n",
    "#         semSims[completed] <- clusterSim(gs1, gs2, semData=scGO, measure=\"Wang\", combine=\"BMA\")\n",
    "#         semSims[completed] <- mgoSim(gos[[c1]], gos[[c2]], semData=scGO, measure=\"Wang\", combine=\"BMA\")\n",
    "        semSims[completed] <- semSimTable[t1, t2]\n",
    "            \n",
    "        distances[completed] <- shortest.path[c1, c2]\n",
    "        \n",
    "        print(sprintf(\"Completed: %s\", completed))\n",
    "    }\n",
    "}\n",
    "# distances <- distances[distances > 0]\n",
    "# semSims <- semSims[semSims > 0]"
   ]
  },
  {
   "cell_type": "code",
   "execution_count": 29,
   "metadata": {
    "collapsed": false
   },
   "outputs": [
    {
     "data": {
      "image/png": "[encoded data removed]",
      "text/plain": [
       "plot without title"
      ]
     },
     "metadata": {},
     "output_type": "display_data"
    }
   ],
   "source": [
    "plot(distances, semSims, xlab=\"Distance on Map\", ylab=\"Semantic Similarity\")"
   ]
  },
  {
   "cell_type": "code",
   "execution_count": 31,
   "metadata": {
    "collapsed": false
   },
   "outputs": [
    {
     "data": {
      "text/html": [
       "0.0584975885074983"
      ],
      "text/latex": [
       "0.0584975885074983"
      ],
      "text/markdown": [
       "0.0584975885074983"
      ],
      "text/plain": [
       "[1] 0.05849759"
      ]
     },
     "metadata": {},
     "output_type": "display_data"
    }
   ],
   "source": [
    "cor(distances, semSims)"
   ]
  },
  {
   "cell_type": "code",
   "execution_count": null,
   "metadata": {
    "collapsed": true
   },
   "outputs": [],
   "source": []
  }
 ],
 "metadata": {
  "kernelspec": {
   "display_name": "R",
   "language": "R",
   "name": "ir"
  },
  "language_info": {
   "codemirror_mode": "r",
   "file_extension": ".r",
   "mimetype": "text/x-r-source",
   "name": "R",
   "pygments_lexer": "r",
   "version": "3.3.2"
  }
 },
 "nbformat": 4,
 "nbformat_minor": 2
}
