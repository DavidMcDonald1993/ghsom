{
 "cells": [
  {
   "cell_type": "code",
   "execution_count": 15,
   "metadata": {
    "collapsed": false
   },
   "outputs": [],
   "source": [
    "import numpy as np\n",
    "\n",
    "os.chdir(\"/home/david/Documents/ghsom\")\n",
    "\n",
    "filename = \"HI-II-14.tsv\"\n",
    "\n",
    "lines = []\n",
    "\n",
    "for line in open(filename):\n",
    "    lines.append(line.rstrip().split(\"\\t\"))\n",
    "\n",
    "with open(\"HI-II-14.txt\", \"w\") as f:\n",
    "    first = True\n",
    "    for line in lines:\n",
    "        if first:\n",
    "            first=False\n",
    "            continue\n",
    "        f.write(\"{} {}\\n\".format(line[0], line[2]))"
   ]
  },
  {
   "cell_type": "code",
   "execution_count": 1,
   "metadata": {
    "collapsed": false
   },
   "outputs": [
    {
     "name": "stdout",
     "output_type": "stream",
     "text": [
      "806\n"
     ]
    }
   ],
   "source": [
    "import networkx as nx\n",
    "G = nx.read_edgelist(\"Uetz_screen.txt\")\n",
    "\n",
    "print len(G.nodes())"
   ]
  },
  {
   "cell_type": "code",
   "execution_count": 1,
   "metadata": {
    "collapsed": false
   },
   "outputs": [],
   "source": [
    "from save_embedded_graph27 import main as embed_main\n",
    "\n",
    "embed_main('HI-II-14.txt', 'embedded_hi_ii_14.gml')"
   ]
  },
  {
   "cell_type": "code",
   "execution_count": null,
   "metadata": {
    "collapsed": false
   },
   "outputs": [
    {
     "name": "stdout",
     "output_type": "stream",
     "text": [
      "Layer: 1, training epoch: 580/1000, size of map: 39, MQE: 3.05634077101, target: 1.61932738237          "
     ]
    }
   ],
   "source": [
    "from spearmint_ghsom import main_no_labels as ghsom_main\n",
    "import pickle\n",
    "import os\n",
    "\n",
    "def save_obj(obj, name):\n",
    "    with open(name + '.pkl', 'wb') as f:\n",
    "        pickle.dump(obj, f, pickle.HIGHEST_PROTOCOL)\n",
    "\n",
    "def load_obj(name):\n",
    "    with open(name + '.pkl', 'rb') as f:\n",
    "        return pickle.load(f)\n",
    "\n",
    "    \n",
    "os.chdir(\"/home/david/Documents/ghsom\")\n",
    "\n",
    "init = 1\n",
    "p = 0.3\n",
    "\n",
    "#ghsom parameters\n",
    "params = {'w': 0.0001,\n",
    "         'eta': 0.001,\n",
    "         'sigma': 1,\n",
    "          'e_sg': p,\n",
    "         'e_en': 10}\n",
    "\n",
    "# G, map = ghsom_main(params, 'embedded_hi_ii_14.gml')\n",
    "G, map = ghsom_main(params, 'embedded_yeast_union.gml', init=init, lam=1000)\n",
    "# G, map = ghsom_main(params, 'embedded_yeast_uetz.gml', init=init, lam=1000)\n",
    "\n",
    "print '\\nnumber of communities detected: {}'.format(len(map))\n",
    "# save_obj((G, map), 'HI_II_communities_{}'.format(p))\n",
    "# save_obj((G, map), 'yeast_union_communities_{}'.format(p))\n",
    "save_obj((G, map), 'yeast_uetz_communities_{}_{}'.format(p, init))\n",
    "\n",
    "print 'done'"
   ]
  },
  {
   "cell_type": "code",
   "execution_count": 2,
   "metadata": {
    "collapsed": false
   },
   "outputs": [
    {
     "name": "stdout",
     "output_type": "stream",
     "text": [
      "number of communities detected: 25\n"
     ]
    }
   ],
   "source": [
    "import os\n",
    "\n",
    "os.chdir(\"/home/david/Documents/ghsom\")\n",
    "\n",
    "# G, map = load_obj('HI_II_communities_{}'.format(p))\n",
    "# G, map = load_obj('yeast_union_communities_{}'.format(p))\n",
    "G, map = load_obj('yeast_uetz_communities_{}_{}'.format(p, init))\n",
    "print 'number of communities detected: {}'.format(len(map))"
   ]
  },
  {
   "cell_type": "code",
   "execution_count": 12,
   "metadata": {
    "collapsed": false,
    "scrolled": true
   },
   "outputs": [],
   "source": [
    "min_nodes = 10\n",
    "\n",
    "##remove neurons with no assigned nodes\n",
    "for n, d in map.nodes(data=True):\n",
    "    if len(d['ls']) < min_nodes:\n",
    "        map.remove_node(n)\n",
    "        print 'removed node {}'.format(n)"
   ]
  },
  {
   "cell_type": "code",
   "execution_count": 5,
   "metadata": {
    "collapsed": false,
    "scrolled": true
   },
   "outputs": [
    {
     "name": "stdout",
     "output_type": "stream",
     "text": [
      "written shortest path matrix\n",
      "written community_0.txt\n",
      "written community_1.txt\n",
      "written community_2.txt\n",
      "written community_3.txt\n",
      "written community_4.txt\n",
      "written community_5.txt\n",
      "written community_6.txt\n",
      "written community_7.txt\n",
      "written community_8.txt\n",
      "written community_9.txt\n",
      "written community_10.txt\n",
      "written community_11.txt\n",
      "written community_12.txt\n",
      "written community_13.txt\n",
      "written community_14.txt\n",
      "written community_15.txt\n",
      "written community_16.txt\n",
      "written community_17.txt\n",
      "written community_18.txt\n",
      "written community_19.txt\n",
      "written community_20.txt\n",
      "written community_21.txt\n",
      "written community_22.txt\n",
      "written community_23.txt\n",
      "written community_24.txt\n"
     ]
    }
   ],
   "source": [
    "import os\n",
    "import networkx as nx\n",
    "import numpy as np\n",
    "##save to communities directory\n",
    "os.chdir(\"/home/david/Documents/ghsom\")\n",
    "\n",
    "# dir_name = \"union_communities_08\"\n",
    "dir_name = \"uetz_communities_{}_{}\".format(p, init)\n",
    "\n",
    "if not os.path.isdir(dir_name):\n",
    "    os.mkdir(dir_name)\n",
    "    print 'made directory {}'.format(dir_name)\n",
    "    \n",
    "os.chdir(dir_name)\n",
    "\n",
    "shortest_path = nx.floyd_warshall_numpy(map).astype(np.int)\n",
    "np.savetxt(\"shortest_path.csv\", shortest_path, fmt='%i', delimiter=\",\")\n",
    "print 'written shortest path matrix'\n",
    "\n",
    "c = 0\n",
    "for n, d in map.nodes(data=True):\n",
    "    ls = d['ls']\n",
    "    with open('community_{}.txt'.format(c),'w') as f:\n",
    "        for l in ls:\n",
    "            f.write('{}\\n'.format(l))\n",
    "    print 'written community_{}.txt'.format(c)\n",
    "    c += 1"
   ]
  },
  {
   "cell_type": "code",
   "execution_count": null,
   "metadata": {
    "collapsed": false
   },
   "outputs": [
    {
     "name": "stdout",
     "output_type": "stream",
     "text": [
      "p=0.9\n",
      "running GHSOM and saving to hi_ii_14_communities_0.9\n",
      "Layer: 1, training epoch: 597/1000, size of map: 4, MQE: 3.70621088357, target: 3.59092416934          "
     ]
    }
   ],
   "source": [
    "import os\n",
    "import networkx as nx\n",
    "import numpy as np\n",
    "from spearmint_ghsom import main_no_labels as ghsom_main\n",
    "import pickle\n",
    "import shutil\n",
    "\n",
    "def save_obj(obj, name):\n",
    "    with open(name + '.pkl', 'wb') as f:\n",
    "        pickle.dump(obj, f, pickle.HIGHEST_PROTOCOL)\n",
    "\n",
    "def load_obj(name):\n",
    "    with open(name + '.pkl', 'rb') as f:\n",
    "        return pickle.load(f)\n",
    "    \n",
    "root_dir = \"/home/david/Documents/ghsom\"\n",
    "\n",
    "data = \"hi_ii_14\"\n",
    "init = 1\n",
    "\n",
    "for p in np.arange(0.1, 1, 0.1)[::-1]:\n",
    "    \n",
    "    print \"p={}\".format(p)\n",
    "    \n",
    "    os.chdir(root_dir)\n",
    "    \n",
    "    #ghsom parameters\n",
    "    params = {'w': 0.0001,\n",
    "             'eta': 0.001,\n",
    "             'sigma': 1,\n",
    "              'e_sg': p,\n",
    "             'e_en': 10}\n",
    "    \n",
    "    map_file = '{}_communities_{}'.format(data, p, init)\n",
    "    \n",
    "    if not os.path.isfile(\"{}.pkl\".format(map_file)):\n",
    "    \n",
    "        #run ghsom and save output\n",
    "        print \"running GHSOM and saving to {}.pkl\".format(map_file)\n",
    "        G, map = ghsom_main(params, 'embedded_{}.gml'.format(data), init=init, lam=1000)\n",
    "        print '\\nnumber of communities detected: {}, saved map to {}'.format(len(map), map_file)\n",
    "        save_obj((G, map), map_file)\n",
    "    \n",
    "    else:\n",
    "        \n",
    "        print \"{}.pkl already exists, loading map\".format(map_file)    \n",
    "        #load output\n",
    "        G, map = load_obj(map_file)\n",
    "\n",
    "    #save results to file\n",
    "    dir_name = \"{}_communities_{}_{}\".format(data, p, init)\n",
    "    if os.path.isdir(dir_name):\n",
    "        shutil.rmtree(dir_name)\n",
    "        print \"deleted directory {}\".format(dir_name)\n",
    "    \n",
    "    os.mkdir(dir_name)\n",
    "    print 'made directory {}'.format(dir_name)\n",
    "\n",
    "    os.chdir(dir_name)\n",
    "    print \"moved to {}\".format(dir_name)\n",
    "    \n",
    "    #all genes\n",
    "    all_genes_file = \"all_genes.txt\"\n",
    "    with open(all_genes_file, 'w') as f:\n",
    "        for n in G.nodes():\n",
    "            f.write(\"{}\\n\".format(n))\n",
    "    print \"written {}\".format(all_genes_file)\n",
    "    \n",
    "    #save shortest path matrix\n",
    "    shortest_path = nx.floyd_warshall_numpy(map).astype(np.int)\n",
    "    np.savetxt(\"shortest_path.csv\", shortest_path, fmt='%i', delimiter=\",\")\n",
    "    print 'written shortest path matrix'\n",
    "    \n",
    "    #save communities to file\n",
    "    c = 0\n",
    "    for n, d in map.nodes(data=True):\n",
    "        ls = d['ls']\n",
    "        with open('community_{}.txt'.format(c),'w') as f:\n",
    "            for l in ls:\n",
    "                f.write('{}\\n'.format(l))\n",
    "        print 'written community_{}.txt'.format(c)\n",
    "        c += 1\n",
    "    print"
   ]
  },
  {
   "cell_type": "code",
   "execution_count": null,
   "metadata": {
    "collapsed": true
   },
   "outputs": [],
   "source": []
  }
 ],
 "metadata": {
  "anaconda-cloud": {},
  "kernelspec": {
   "display_name": "Python 2",
   "language": "python",
   "name": "python2"
  },
  "language_info": {
   "codemirror_mode": {
    "name": "ipython",
    "version": 2
   },
   "file_extension": ".py",
   "mimetype": "text/x-python",
   "name": "python",
   "nbconvert_exporter": "python",
   "pygments_lexer": "ipython2",
   "version": "2.7.13"
  }
 },
 "nbformat": 4,
 "nbformat_minor": 1
}
