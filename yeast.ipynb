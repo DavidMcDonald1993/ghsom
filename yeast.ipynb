{
 "cells": [
  {
   "cell_type": "code",
   "execution_count": null,
   "metadata": {
    "collapsed": false
   },
   "outputs": [
    {
     "name": "stdout",
     "output_type": "stream",
     "text": [
      "data=yeast_reactome\n",
      "p=0.4\n",
      "yeast_reactome_hierarchy_communities_0.4.pkl already exists, loading map\n",
      "made directory yeast_reactome_hierarchy_communities_0.4\n",
      "moved to yeast_reactome_hierarchy_communities_0.4\n",
      "wrote all_genes.txt\n",
      "wrote shortest path matrix and saved as 1_shortest_path.csv\n",
      "wrote shortest path matrix and saved as 1-4_shortest_path.csv\n",
      "wrote shortest path matrix and saved as 1-4-4_shortest_path.csv\n",
      "wrote assignment matrix and saved it as assignment_matrix.csv\n",
      "\n",
      "p=0.3\n",
      "yeast_reactome_hierarchy_communities_0.3.pkl already exists, loading map\n",
      "made directory yeast_reactome_hierarchy_communities_0.3\n",
      "moved to yeast_reactome_hierarchy_communities_0.3\n",
      "wrote all_genes.txt\n",
      "wrote shortest path matrix and saved as 1_shortest_path.csv\n",
      "wrote shortest path matrix and saved as 1-4_shortest_path.csv\n",
      "wrote shortest path matrix and saved as 1-5_shortest_path.csv\n",
      "wrote assignment matrix and saved it as assignment_matrix.csv\n",
      "\n",
      "p=0.2\n",
      "yeast_reactome_hierarchy_communities_0.2.pkl already exists, loading map\n",
      "made directory yeast_reactome_hierarchy_communities_0.2\n",
      "moved to yeast_reactome_hierarchy_communities_0.2\n",
      "wrote all_genes.txt\n",
      "wrote shortest path matrix and saved as 1_shortest_path.csv\n",
      "wrote shortest path matrix and saved as 1-2_shortest_path.csv\n",
      "wrote shortest path matrix and saved as 1-9_shortest_path.csv\n",
      "wrote shortest path matrix and saved as 1-10_shortest_path.csv\n",
      "wrote shortest path matrix and saved as 1-9-5_shortest_path.csv\n",
      "wrote assignment matrix and saved it as assignment_matrix.csv\n",
      "\n",
      "p=0.1\n",
      "running GHSOM and saving to yeast_reactome_hierarchy_communities_0.1.pkl\n",
      "Layer: 1, training epoch: 8657/10000, size of map: 5, network size: 1137, MQE: 0.878653594867, target: 0.740568592714                    "
     ]
    }
   ],
   "source": [
    "import os\n",
    "import pickle\n",
    "import shutil\n",
    "import Queue\n",
    "\n",
    "import networkx as nx\n",
    "import numpy as np\n",
    "import pandas as pd\n",
    "\n",
    "from ghsom import main_no_labels as ghsom_main\n",
    "\n",
    "def save_obj(obj, name):\n",
    "    with open(name + '.pkl', 'wb') as f:\n",
    "        pickle.dump(obj, f, pickle.HIGHEST_PROTOCOL)\n",
    "\n",
    "def load_obj(name):\n",
    "    with open(name + '.pkl', 'rb') as f:\n",
    "        return pickle.load(f)\n",
    "    \n",
    "def add(d, key, value):\n",
    "    if key in d:\n",
    "        d[key].append(value)\n",
    "    else:\n",
    "        d.update({key : [value]})\n",
    "    \n",
    "root_dir = \"/home/david/Documents/ghsom\"\n",
    "\n",
    "# data = \"yeast_uetz\"\n",
    "\n",
    "# for data in [\"yeast_reactome\", \"yeast_uetz\", \"collins\", \"ccsb\", \"ito_core\", \"lc_multiple\"]:\n",
    "for data in [\"yeast_reactome\"]:\n",
    "    \n",
    "    print \"data={}\".format(data)\n",
    "\n",
    "    for p in np.arange(0.1, 0.4, 0.1)[::-1]:\n",
    "\n",
    "        print \"p={}\".format(p)\n",
    "\n",
    "        os.chdir(root_dir)\n",
    "\n",
    "        #ghsom parameters\n",
    "        params = {'w': 0.0001,\n",
    "                 'eta': 0.0001,\n",
    "                 'sigma': 1,\n",
    "                  'e_sg': 0.3,\n",
    "                 'e_en': p}\n",
    "\n",
    "        map_file = '{}_hierarchy_communities_{}'.format(data, p)\n",
    "\n",
    "        if not os.path.isfile(\"{}.pkl\".format(map_file)):\n",
    "\n",
    "            #run ghsom and save output\n",
    "            print \"running GHSOM and saving to {}.pkl\".format(map_file)\n",
    "            G, map = ghsom_main(params, 'embedded_{}.gml'.format(data), init=1, lam=10000)\n",
    "            print '\\nnumber of communities detected: {}, saved map to {}'.format(len(map), map_file)\n",
    "            save_obj((G, map), map_file)\n",
    "\n",
    "        else:\n",
    "\n",
    "            print \"{}.pkl already exists, loading map\".format(map_file)    \n",
    "            #load output\n",
    "            G, map = load_obj(map_file)\n",
    "\n",
    "        #save results to file\n",
    "        dir_name = \"{}_hierarchy_communities_{}\".format(data, p)\n",
    "        if os.path.isdir(dir_name):\n",
    "            shutil.rmtree(dir_name)\n",
    "\n",
    "        os.mkdir(dir_name)\n",
    "        print 'made directory {}'.format(dir_name)\n",
    "\n",
    "        os.chdir(dir_name)\n",
    "        print \"moved to {}\".format(dir_name)\n",
    "\n",
    "        #all genes\n",
    "        all_genes_file = \"all_genes.txt\"\n",
    "        with open(all_genes_file, 'w') as f:\n",
    "            for n, d in G.nodes(data=True):\n",
    "                f.write(\"{}\\n\".format(d['label']))\n",
    "        print \"wrote {}\".format(all_genes_file)\n",
    "\n",
    "        #map queue\n",
    "        q = Queue.Queue()\n",
    "\n",
    "        c = 1\n",
    "        depth = 0\n",
    "        q.put((c, depth, map))\n",
    "\n",
    "        genes = G.nodes()\n",
    "        gene_assignments = {k: v for k, v in zip(genes, \n",
    "            np.array([[\"\" for j in range(10)] for i in range(len(genes))], dtype=\"S20\"))}\n",
    "\n",
    "        while not q.empty():\n",
    "\n",
    "            map_id, depth, map = q.get()\n",
    "            c = 1\n",
    "            \n",
    "            #shortest path matrix\n",
    "            communities_in_this_map = np.array([\"{}-{}\".format(map_id, i) for i in range(c, c + len(map))])\n",
    "            \n",
    "            shortest_path = nx.floyd_warshall_numpy(map).astype(np.int)\n",
    "#             shortest_path = np.insert(shortest_path, 0, communities_in_this_map, axis=1)\n",
    "            shortest_path_df = pd.DataFrame(shortest_path, index=communities_in_this_map)\n",
    "            shortest_path_file = \"{}_shortest_path.csv\".format(map_id)\n",
    "#             np.savetxt(shortest_path_file, shortest_path, fmt='%i', delimiter=\",\")\n",
    "            shortest_path_df.to_csv(shortest_path_file, index=True, header=False, sep=',')\n",
    "            print 'wrote shortest path matrix and saved as {}'.format(shortest_path_file)\n",
    "            \n",
    "            \n",
    "\n",
    "            #gene community assignments\n",
    "            for n, d in map.nodes(data=True):\n",
    "                \n",
    "                community = \"{}-{}\".format(map_id, c)\n",
    "\n",
    "                for node in d['ls']:\n",
    "                    gene_assignments[node][depth] = community\n",
    "\n",
    "                #add map to queue\n",
    "                m = d['n']\n",
    "\n",
    "                if not m == []:\n",
    "\n",
    "                    q.put((community, depth + 1, m))   \n",
    "                    \n",
    "                c += 1\n",
    "                    \n",
    "\n",
    "#         print gene_assignments\n",
    "                    \n",
    "        #back to matrix\n",
    "        assignment_matrix = np.array([v for k, v in gene_assignments.items()])\n",
    "        #remove unnecessary columns\n",
    "        mask = assignment_matrix != \"\"\n",
    "        idx = mask.any(axis = 0)\n",
    "        assignment_matrix = assignment_matrix[:,idx]\n",
    "        assignment_matrix = np.insert(assignment_matrix, 0, \"1\", axis=1)\n",
    "\n",
    "        assignment_matrix_file = \"assignment_matrix.csv\"\n",
    "        np.savetxt(assignment_matrix_file, assignment_matrix, delimiter=\",\", fmt=\"%s\")\n",
    "        print \"wrote assignment matrix and saved it as {}\".format(assignment_matrix_file)\n",
    "        print"
   ]
  },
  {
   "cell_type": "code",
   "execution_count": 50,
   "metadata": {
    "collapsed": true
   },
   "outputs": [],
   "source": [
    "import numpy as np"
   ]
  },
  {
   "cell_type": "code",
   "execution_count": 51,
   "metadata": {
    "collapsed": false
   },
   "outputs": [],
   "source": [
    "A = np.empty([2,3], dtype=object)"
   ]
  },
  {
   "cell_type": "code",
   "execution_count": 52,
   "metadata": {
    "collapsed": false
   },
   "outputs": [
    {
     "data": {
      "text/plain": [
       "array([[None, None, None],\n",
       "       [None, None, None]], dtype=object)"
      ]
     },
     "execution_count": 52,
     "metadata": {},
     "output_type": "execute_result"
    }
   ],
   "source": [
    "A"
   ]
  },
  {
   "cell_type": "code",
   "execution_count": 57,
   "metadata": {
    "collapsed": true
   },
   "outputs": [],
   "source": [
    "A[1, :2] = \"h\""
   ]
  },
  {
   "cell_type": "code",
   "execution_count": 79,
   "metadata": {
    "collapsed": true
   },
   "outputs": [],
   "source": [
    "B = np.array([[\"\" for j in range(2)] for i in range(5)])"
   ]
  },
  {
   "cell_type": "code",
   "execution_count": 80,
   "metadata": {
    "collapsed": false
   },
   "outputs": [
    {
     "data": {
      "text/plain": [
       "(5, 2)"
      ]
     },
     "execution_count": 80,
     "metadata": {},
     "output_type": "execute_result"
    }
   ],
   "source": [
    "B.shape"
   ]
  },
  {
   "cell_type": "code",
   "execution_count": 82,
   "metadata": {
    "collapsed": false
   },
   "outputs": [
    {
     "data": {
      "text/plain": [
       "array([[ True,  True],\n",
       "       [ True,  True],\n",
       "       [ True,  True],\n",
       "       [ True,  True],\n",
       "       [ True,  True]], dtype=bool)"
      ]
     },
     "execution_count": 82,
     "metadata": {},
     "output_type": "execute_result"
    }
   ],
   "source": [
    "B==\"\""
   ]
  },
  {
   "cell_type": "code",
   "execution_count": 61,
   "metadata": {
    "collapsed": false
   },
   "outputs": [
    {
     "data": {
      "text/plain": [
       "(2, 3)"
      ]
     },
     "execution_count": 61,
     "metadata": {},
     "output_type": "execute_result"
    }
   ],
   "source": [
    "A.shape"
   ]
  },
  {
   "cell_type": "code",
   "execution_count": 72,
   "metadata": {
    "collapsed": false
   },
   "outputs": [
    {
     "data": {
      "text/plain": [
       "dtype('O')"
      ]
     },
     "execution_count": 72,
     "metadata": {},
     "output_type": "execute_result"
    }
   ],
   "source": [
    "A.dtype"
   ]
  },
  {
   "cell_type": "code",
   "execution_count": 78,
   "metadata": {
    "collapsed": false
   },
   "outputs": [
    {
     "data": {
      "text/plain": [
       "True"
      ]
     },
     "execution_count": 78,
     "metadata": {},
     "output_type": "execute_result"
    }
   ],
   "source": [
    "A[:,0].all() is None"
   ]
  },
  {
   "cell_type": "code",
   "execution_count": 60,
   "metadata": {
    "collapsed": false
   },
   "outputs": [
    {
     "name": "stderr",
     "output_type": "stream",
     "text": [
      "/home/david/miniconda2/lib/python2.7/site-packages/ipykernel/__main__.py:1: FutureWarning: comparison to `None` will result in an elementwise object comparison in the future.\n",
      "  if __name__ == '__main__':\n"
     ]
    },
    {
     "ename": "ValueError",
     "evalue": "'axis' entry is out of bounds",
     "output_type": "error",
     "traceback": [
      "\u001b[0;31m---------------------------------------------------------------------------\u001b[0m",
      "\u001b[0;31mValueError\u001b[0m                                Traceback (most recent call last)",
      "\u001b[0;32m<ipython-input-60-1ac7fe35a6c4>\u001b[0m in \u001b[0;36m<module>\u001b[0;34m()\u001b[0m\n\u001b[0;32m----> 1\u001b[0;31m \u001b[0mnp\u001b[0m\u001b[0;34m.\u001b[0m\u001b[0many\u001b[0m\u001b[0;34m(\u001b[0m\u001b[0mA\u001b[0m\u001b[0;34m==\u001b[0m\u001b[0mNone\u001b[0m\u001b[0;34m,\u001b[0m \u001b[0maxis\u001b[0m\u001b[0;34m=\u001b[0m\u001b[0;36m1\u001b[0m\u001b[0;34m)\u001b[0m\u001b[0;34m\u001b[0m\u001b[0m\n\u001b[0m",
      "\u001b[0;32m/home/david/miniconda2/lib/python2.7/site-packages/numpy/core/fromnumeric.pyc\u001b[0m in \u001b[0;36many\u001b[0;34m(a, axis, out, keepdims)\u001b[0m\n\u001b[1;32m   1948\u001b[0m     \u001b[0;32mif\u001b[0m \u001b[0mkeepdims\u001b[0m \u001b[0;32mis\u001b[0m \u001b[0;32mnot\u001b[0m \u001b[0mnp\u001b[0m\u001b[0;34m.\u001b[0m\u001b[0m_NoValue\u001b[0m\u001b[0;34m:\u001b[0m\u001b[0;34m\u001b[0m\u001b[0m\n\u001b[1;32m   1949\u001b[0m         \u001b[0mkwargs\u001b[0m\u001b[0;34m[\u001b[0m\u001b[0;34m'keepdims'\u001b[0m\u001b[0;34m]\u001b[0m \u001b[0;34m=\u001b[0m \u001b[0mkeepdims\u001b[0m\u001b[0;34m\u001b[0m\u001b[0m\n\u001b[0;32m-> 1950\u001b[0;31m     \u001b[0;32mreturn\u001b[0m \u001b[0marr\u001b[0m\u001b[0;34m.\u001b[0m\u001b[0many\u001b[0m\u001b[0;34m(\u001b[0m\u001b[0maxis\u001b[0m\u001b[0;34m=\u001b[0m\u001b[0maxis\u001b[0m\u001b[0;34m,\u001b[0m \u001b[0mout\u001b[0m\u001b[0;34m=\u001b[0m\u001b[0mout\u001b[0m\u001b[0;34m,\u001b[0m \u001b[0;34m**\u001b[0m\u001b[0mkwargs\u001b[0m\u001b[0;34m)\u001b[0m\u001b[0;34m\u001b[0m\u001b[0m\n\u001b[0m\u001b[1;32m   1951\u001b[0m \u001b[0;34m\u001b[0m\u001b[0m\n\u001b[1;32m   1952\u001b[0m \u001b[0;34m\u001b[0m\u001b[0m\n",
      "\u001b[0;32m/home/david/miniconda2/lib/python2.7/site-packages/numpy/core/_methods.pyc\u001b[0m in \u001b[0;36m_any\u001b[0;34m(a, axis, dtype, out, keepdims)\u001b[0m\n\u001b[1;32m     36\u001b[0m \u001b[0;34m\u001b[0m\u001b[0m\n\u001b[1;32m     37\u001b[0m \u001b[0;32mdef\u001b[0m \u001b[0m_any\u001b[0m\u001b[0;34m(\u001b[0m\u001b[0ma\u001b[0m\u001b[0;34m,\u001b[0m \u001b[0maxis\u001b[0m\u001b[0;34m=\u001b[0m\u001b[0mNone\u001b[0m\u001b[0;34m,\u001b[0m \u001b[0mdtype\u001b[0m\u001b[0;34m=\u001b[0m\u001b[0mNone\u001b[0m\u001b[0;34m,\u001b[0m \u001b[0mout\u001b[0m\u001b[0;34m=\u001b[0m\u001b[0mNone\u001b[0m\u001b[0;34m,\u001b[0m \u001b[0mkeepdims\u001b[0m\u001b[0;34m=\u001b[0m\u001b[0mFalse\u001b[0m\u001b[0;34m)\u001b[0m\u001b[0;34m:\u001b[0m\u001b[0;34m\u001b[0m\u001b[0m\n\u001b[0;32m---> 38\u001b[0;31m     \u001b[0;32mreturn\u001b[0m \u001b[0mumr_any\u001b[0m\u001b[0;34m(\u001b[0m\u001b[0ma\u001b[0m\u001b[0;34m,\u001b[0m \u001b[0maxis\u001b[0m\u001b[0;34m,\u001b[0m \u001b[0mdtype\u001b[0m\u001b[0;34m,\u001b[0m \u001b[0mout\u001b[0m\u001b[0;34m,\u001b[0m \u001b[0mkeepdims\u001b[0m\u001b[0;34m)\u001b[0m\u001b[0;34m\u001b[0m\u001b[0m\n\u001b[0m\u001b[1;32m     39\u001b[0m \u001b[0;34m\u001b[0m\u001b[0m\n\u001b[1;32m     40\u001b[0m \u001b[0;32mdef\u001b[0m \u001b[0m_all\u001b[0m\u001b[0;34m(\u001b[0m\u001b[0ma\u001b[0m\u001b[0;34m,\u001b[0m \u001b[0maxis\u001b[0m\u001b[0;34m=\u001b[0m\u001b[0mNone\u001b[0m\u001b[0;34m,\u001b[0m \u001b[0mdtype\u001b[0m\u001b[0;34m=\u001b[0m\u001b[0mNone\u001b[0m\u001b[0;34m,\u001b[0m \u001b[0mout\u001b[0m\u001b[0;34m=\u001b[0m\u001b[0mNone\u001b[0m\u001b[0;34m,\u001b[0m \u001b[0mkeepdims\u001b[0m\u001b[0;34m=\u001b[0m\u001b[0mFalse\u001b[0m\u001b[0;34m)\u001b[0m\u001b[0;34m:\u001b[0m\u001b[0;34m\u001b[0m\u001b[0m\n",
      "\u001b[0;31mValueError\u001b[0m: 'axis' entry is out of bounds"
     ]
    }
   ],
   "source": [
    "np.any(A==None, axis=1)"
   ]
  },
  {
   "cell_type": "code",
   "execution_count": null,
   "metadata": {
    "collapsed": true
   },
   "outputs": [],
   "source": []
  }
 ],
 "metadata": {
  "anaconda-cloud": {},
  "kernelspec": {
   "display_name": "Python [default]",
   "language": "python",
   "name": "python2"
  },
  "language_info": {
   "codemirror_mode": {
    "name": "ipython",
    "version": 2
   },
   "file_extension": ".py",
   "mimetype": "text/x-python",
   "name": "python",
   "nbconvert_exporter": "python",
   "pygments_lexer": "ipython2",
   "version": "2.7.13"
  }
 },
 "nbformat": 4,
 "nbformat_minor": 1
}
